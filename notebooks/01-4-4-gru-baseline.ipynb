{
 "cells": [
  {
   "cell_type": "code",
   "execution_count": 1,
   "metadata": {},
   "outputs": [
    {
     "name": "stdout",
     "output_type": "stream",
     "text": [
      "/mnt/SSD_Data/active_projects/transformer_to_lstm\n"
     ]
    }
   ],
   "source": [
    "%cd .."
   ]
  },
  {
   "cell_type": "code",
   "execution_count": 2,
   "metadata": {},
   "outputs": [],
   "source": [
    "import dataclasses\n",
    "from pathlib import Path\n",
    "import warnings\n",
    "\n",
    "import nlp\n",
    "import torch\n",
    "import numpy as np\n",
    "import torch.nn.functional as F\n",
    "from transformers import BertForSequenceClassification\n",
    "from torch.optim.lr_scheduler import CosineAnnealingLR\n",
    "from sklearn.model_selection import train_test_split\n",
    "\n",
    "from pytorch_helper_bot import (\n",
    "    BaseBot, MovingAverageStatsTrackerCallback,  CheckpointCallback,\n",
    "    LearningRateSchedulerCallback, MultiStageScheduler, Top1Accuracy,\n",
    "    LinearLR, Callback\n",
    ")\n",
    "\n",
    "from nobita.models import get_sequence_model\n",
    "\n",
    "\n",
    "try:\n",
    "    from apex import amp\n",
    "    APEX_AVAILABLE = True\n",
    "except ModuleNotFoundError:\n",
    "    APEX_AVAILABLE = False\n",
    "# APEX_AVAILABLE = False"
   ]
  },
  {
   "cell_type": "code",
   "execution_count": 3,
   "metadata": {},
   "outputs": [],
   "source": [
    "CACHE_DIR = Path(\"cache/\")\n",
    "CACHE_DIR.mkdir(exist_ok=True)"
   ]
  },
  {
   "cell_type": "markdown",
   "metadata": {},
   "source": [
    "Reference:\n",
    "\n",
    "    * https://github.com/huggingface/nlp/blob/master/notebooks/Overview.ipynb"
   ]
  },
  {
   "cell_type": "code",
   "execution_count": 4,
   "metadata": {},
   "outputs": [],
   "source": [
    "class SST2Dataset(torch.utils.data.Dataset):\n",
    "    def __init__(self, entries_dict):\n",
    "        super().__init__()\n",
    "        self.entries_dict = entries_dict\n",
    "    \n",
    "    def __len__(self):\n",
    "        return len(self.entries_dict[\"label\"])\n",
    "    \n",
    "    def __getitem__(self, idx):\n",
    "        return (\n",
    "            self.entries_dict[\"input_ids\"][idx],\n",
    "            self.entries_dict[\"attention_mask\"][idx].sum(), #input_lengths\n",
    "            {\n",
    "                \"label\": self.entries_dict[\"label\"][idx], \n",
    "                \"logits\": self.entries_dict[\"logits\"][idx]\n",
    "            }\n",
    "        )"
   ]
  },
  {
   "cell_type": "code",
   "execution_count": 5,
   "metadata": {},
   "outputs": [],
   "source": [
    "train_dict, valid_dict, test_dict = torch.load(str(CACHE_DIR / \"distill-dicts.jbl\"))"
   ]
  },
  {
   "cell_type": "code",
   "execution_count": 6,
   "metadata": {},
   "outputs": [],
   "source": [
    "# Instantiate a PyTorch Dataloader around our dataset\n",
    "train_loader = torch.utils.data.DataLoader(SST2Dataset(train_dict), batch_size=64, shuffle=True)\n",
    "valid_loader = torch.utils.data.DataLoader(SST2Dataset(valid_dict), batch_size=64, drop_last=False)\n",
    "test_loader = torch.utils.data.DataLoader(SST2Dataset(test_dict), batch_size=64, drop_last=False)"
   ]
  },
  {
   "cell_type": "code",
   "execution_count": 7,
   "metadata": {},
   "outputs": [],
   "source": [
    "ALPHA = 1.\n",
    "DISTILL_OBJECTIVE = torch.nn.MSELoss()\n",
    "\n",
    "def distill_loss(logits, targets):\n",
    "    distill_part = DISTILL_OBJECTIVE(\n",
    "        logits.reshape(-1), targets[\"logits\"].reshape(-1)\n",
    "    ) / 2\n",
    "    classification_part = F.cross_entropy(\n",
    "        logits, targets[\"label\"]\n",
    "    )\n",
    "    return ALPHA * classification_part + (1-ALPHA) * distill_part"
   ]
  },
  {
   "cell_type": "code",
   "execution_count": 8,
   "metadata": {},
   "outputs": [],
   "source": [
    "bert_model = BertForSequenceClassification.from_pretrained(str(CACHE_DIR / \"sst2_bert_uncased\")).cpu()"
   ]
  },
  {
   "cell_type": "code",
   "execution_count": 9,
   "metadata": {},
   "outputs": [
    {
     "data": {
      "text/plain": [
       "torch.Size([30522, 768])"
      ]
     },
     "execution_count": 9,
     "metadata": {},
     "output_type": "execute_result"
    }
   ],
   "source": [
    "bert_model.bert.embeddings.word_embeddings.weight.shape"
   ]
  },
  {
   "cell_type": "code",
   "execution_count": 10,
   "metadata": {},
   "outputs": [],
   "source": [
    "# Note: apex does not support weight dropping\n",
    "model = get_sequence_model(\n",
    "    voc_size=bert_model.bert.embeddings.word_embeddings.weight.shape[0],\n",
    "    emb_size=bert_model.bert.embeddings.word_embeddings.weight.shape[1],\n",
    "    pad_idx = 0,\n",
    "    dropoute = 0,\n",
    "    rnn_hid = 768,\n",
    "    rnn_layers = 2,\n",
    "    bidir = True,\n",
    "    dropouth = 0.25,\n",
    "    dropouti = 0.25,\n",
    "    wdrop = 0,\n",
    "    unit_type = \"gru\",\n",
    "    fcn_layers = [512, 2],\n",
    "    fcn_dropouts = [0.25, 0.25],\n",
    "    use_attention = True\n",
    ")"
   ]
  },
  {
   "cell_type": "code",
   "execution_count": 11,
   "metadata": {},
   "outputs": [
    {
     "data": {
      "text/plain": [
       "SequenceModel(\n",
       "  (embeddings): BasicEmbeddings(\n",
       "    (encoder): Embedding(30522, 768, padding_idx=0)\n",
       "  )\n",
       "  (encoder): RNNStack(\n",
       "    (rnns): ModuleList(\n",
       "      (0): GRU(768, 384, bidirectional=True)\n",
       "      (1): GRU(768, 384, bidirectional=True)\n",
       "    )\n",
       "    (dropouti): LockedDropout()\n",
       "    (dropouths): ModuleList(\n",
       "      (0): LockedDropout()\n",
       "      (1): LockedDropout()\n",
       "    )\n",
       "  )\n",
       "  (fcn): AttentionFCN(\n",
       "    (attention): Attention(768, return attention=False)\n",
       "    (layers): ModuleList(\n",
       "      (0): LinearBlock(\n",
       "        (lin): Linear(in_features=768, out_features=512, bias=True)\n",
       "        (drop): Dropout(p=0.25, inplace=False)\n",
       "        (bn): BatchNorm1d(768, eps=1e-05, momentum=0.1, affine=True, track_running_stats=True)\n",
       "      )\n",
       "      (1): LinearBlock(\n",
       "        (lin): Linear(in_features=512, out_features=2, bias=True)\n",
       "        (drop): Dropout(p=0.25, inplace=False)\n",
       "        (bn): BatchNorm1d(512, eps=1e-05, momentum=0.1, affine=True, track_running_stats=True)\n",
       "      )\n",
       "    )\n",
       "  )\n",
       ")"
      ]
     },
     "execution_count": 11,
     "metadata": {},
     "output_type": "execute_result"
    }
   ],
   "source": [
    "model"
   ]
  },
  {
   "cell_type": "code",
   "execution_count": 12,
   "metadata": {},
   "outputs": [],
   "source": [
    "# Copy the embedding weights to the LSTM model\n",
    "try:\n",
    "    model.embeddings.encoder.emb.weight.data = bert_model.bert.embeddings.word_embeddings.weight.data\n",
    "except:\n",
    "    model.embeddings.encoder.weight.data = bert_model.bert.embeddings.word_embeddings.weight.data"
   ]
  },
  {
   "cell_type": "code",
   "execution_count": 13,
   "metadata": {},
   "outputs": [],
   "source": [
    "# Freeze the embedding layer\n",
    "for param in model.embeddings.encoder.parameters():\n",
    "    param.requires_grad = False"
   ]
  },
  {
   "cell_type": "code",
   "execution_count": 14,
   "metadata": {},
   "outputs": [],
   "source": [
    "model = model.cuda()"
   ]
  },
  {
   "cell_type": "code",
   "execution_count": 15,
   "metadata": {},
   "outputs": [],
   "source": [
    "# Use only leaf tensors\n",
    "parameters = [x for x in model.parameters() if x.is_leaf and x.requires_grad]"
   ]
  },
  {
   "cell_type": "code",
   "execution_count": 16,
   "metadata": {},
   "outputs": [],
   "source": [
    "del bert_model"
   ]
  },
  {
   "cell_type": "code",
   "execution_count": 17,
   "metadata": {},
   "outputs": [],
   "source": [
    "optimizer = torch.optim.Adam(parameters, lr=1e-3, betas=(0.8, 0.99))\n",
    "# optimizer = torch.optim.RMSprop(parameters, lr=0.01)"
   ]
  },
  {
   "cell_type": "code",
   "execution_count": 18,
   "metadata": {},
   "outputs": [
    {
     "name": "stdout",
     "output_type": "stream",
     "text": [
      "Selected optimization level O1:  Insert automatic casts around Pytorch functions and Tensor methods.\n",
      "\n",
      "Defaults for this optimization level are:\n",
      "enabled                : True\n",
      "opt_level              : O1\n",
      "cast_model_type        : None\n",
      "patch_torch_functions  : True\n",
      "keep_batchnorm_fp32    : None\n",
      "master_weights         : None\n",
      "loss_scale             : dynamic\n",
      "Processing user overrides (additional kwargs that are not None)...\n",
      "After processing overrides, optimization options are:\n",
      "enabled                : True\n",
      "opt_level              : O1\n",
      "cast_model_type        : None\n",
      "patch_torch_functions  : True\n",
      "keep_batchnorm_fp32    : None\n",
      "master_weights         : None\n",
      "loss_scale             : dynamic\n"
     ]
    }
   ],
   "source": [
    "if APEX_AVAILABLE:\n",
    "    model, optimizer = amp.initialize(\n",
    "        model, optimizer, opt_level=\"O1\"\n",
    "    )"
   ]
  },
  {
   "cell_type": "code",
   "execution_count": 19,
   "metadata": {},
   "outputs": [],
   "source": [
    "class TransposeCallback(Callback):\n",
    "    def on_batch_inputs(self, bot, input_tensors, targets):\n",
    "        input_tensors = [input_tensors[0].transpose(1, 0), input_tensors[1]]\n",
    "        return input_tensors, targets"
   ]
  },
  {
   "cell_type": "code",
   "execution_count": 20,
   "metadata": {},
   "outputs": [],
   "source": [
    "class DistillTop1Accuracy(Top1Accuracy):\n",
    "    def __call__(self, truth, pred):\n",
    "        truth = truth[\"label\"]\n",
    "        return super().__call__(truth, pred)"
   ]
  },
  {
   "cell_type": "code",
   "execution_count": 21,
   "metadata": {},
   "outputs": [
    {
     "name": "stderr",
     "output_type": "stream",
     "text": [
      "[INFO][06/15/2020 21:01:38] SEED: 9293\n",
      "[INFO][06/15/2020 21:01:38] # of parameters: 29,156,610\n",
      "[INFO][06/15/2020 21:01:38] # of trainable parameters: 5,715,714\n"
     ]
    }
   ],
   "source": [
    "total_steps = len(train_loader) * 10\n",
    "\n",
    "checkpoints = CheckpointCallback(\n",
    "    keep_n_checkpoints=1,\n",
    "    checkpoint_dir=CACHE_DIR / \"distill_model_cache/\",\n",
    "    monitor_metric=\"loss\"\n",
    ")\n",
    "lr_durations = [\n",
    "    int(total_steps*0.2),\n",
    "    int(np.ceil(total_steps*0.8))\n",
    "]\n",
    "break_points = [0] + list(np.cumsum(lr_durations))[:-1]\n",
    "callbacks = [\n",
    "    MovingAverageStatsTrackerCallback(\n",
    "        avg_window=len(train_loader) // 8,\n",
    "        log_interval=len(train_loader) // 10\n",
    "    ),\n",
    "    LearningRateSchedulerCallback(\n",
    "        MultiStageScheduler(\n",
    "            [\n",
    "                LinearLR(optimizer, 0.01, lr_durations[0]),\n",
    "                CosineAnnealingLR(optimizer, lr_durations[1])\n",
    "            ],\n",
    "            start_at_epochs=break_points\n",
    "        )\n",
    "    ),\n",
    "    checkpoints,\n",
    "    TransposeCallback()\n",
    "]\n",
    "    \n",
    "bot = BaseBot(\n",
    "    log_dir = CACHE_DIR / \"distill_logs\",\n",
    "    model=model, \n",
    "    train_loader=train_loader,\n",
    "    valid_loader=valid_loader, \n",
    "    clip_grad=10.,\n",
    "    optimizer=optimizer, echo=True,\n",
    "    criterion=distill_loss,\n",
    "    callbacks=callbacks,\n",
    "    pbar=False, use_tensorboard=False,\n",
    "    use_amp=APEX_AVAILABLE,\n",
    "    metrics=(DistillTop1Accuracy(),)\n",
    ")"
   ]
  },
  {
   "cell_type": "code",
   "execution_count": 22,
   "metadata": {},
   "outputs": [
    {
     "name": "stderr",
     "output_type": "stream",
     "text": [
      "[INFO][06/15/2020 21:01:38] Optimizer Adam (\n",
      "Parameter Group 0\n",
      "    amsgrad: False\n",
      "    betas: (0.8, 0.99)\n",
      "    eps: 1e-08\n",
      "    initial_lr: 0.001\n",
      "    lr: 0.001\n",
      "    weight_decay: 0\n",
      ")\n",
      "[INFO][06/15/2020 21:01:38] Batches per epoch: 1053\n",
      "[INFO][06/15/2020 21:01:38] ====================Epoch 1====================\n"
     ]
    },
    {
     "name": "stdout",
     "output_type": "stream",
     "text": [
      "10530\n"
     ]
    },
    {
     "name": "stderr",
     "output_type": "stream",
     "text": [
      "[INFO][06/15/2020 21:01:40] Step   105 | loss 1.03384137 | lr: 5.94e-05 | 0.019s per step\n",
      "[INFO][06/15/2020 21:01:42] Step   210 | loss 0.85595699 | lr: 1.09e-04 | 0.018s per step\n",
      "[INFO][06/15/2020 21:01:44] Step   315 | loss 0.73923854 | lr: 1.58e-04 | 0.018s per step\n",
      "[INFO][06/15/2020 21:01:46] Step   420 | loss 0.67060309 | lr: 2.08e-04 | 0.019s per step\n",
      "[INFO][06/15/2020 21:01:47] Step   525 | loss 0.59762839 | lr: 2.57e-04 | 0.018s per step\n",
      "[INFO][06/15/2020 21:01:48] Metrics at step 526:\n",
      "[INFO][06/15/2020 21:01:48] loss: 0.44859088\n",
      "[INFO][06/15/2020 21:01:48] accuracy: 80.50%\n",
      "[INFO][06/15/2020 21:01:50] Step   630 | loss 0.57235740 | lr: 3.06e-04 | 0.021s per step\n",
      "[INFO][06/15/2020 21:01:52] Step   735 | loss 0.54173837 | lr: 3.56e-04 | 0.019s per step\n",
      "[INFO][06/15/2020 21:01:54] Step   840 | loss 0.52237535 | lr: 4.05e-04 | 0.019s per step\n",
      "[INFO][06/15/2020 21:01:56] Step   945 | loss 0.48057210 | lr: 4.54e-04 | 0.019s per step\n",
      "[INFO][06/15/2020 21:01:58] Step  1050 | loss 0.45313048 | lr: 5.04e-04 | 0.019s per step\n",
      "[INFO][06/15/2020 21:01:58] Metrics at step 1052:\n",
      "[INFO][06/15/2020 21:01:58] loss: 0.47805969\n",
      "[INFO][06/15/2020 21:01:58] accuracy: 76.15%\n",
      "[INFO][06/15/2020 21:01:58] ====================Epoch 2====================\n",
      "[INFO][06/15/2020 21:02:00] Step  1155 | loss 0.44386967 | lr: 5.53e-04 | 0.020s per step\n",
      "[INFO][06/15/2020 21:02:02] Step  1260 | loss 0.42308038 | lr: 6.03e-04 | 0.018s per step\n",
      "[INFO][06/15/2020 21:02:04] Step  1365 | loss 0.40615045 | lr: 6.52e-04 | 0.018s per step\n",
      "[INFO][06/15/2020 21:02:06] Step  1470 | loss 0.40015835 | lr: 7.01e-04 | 0.020s per step\n",
      "[INFO][06/15/2020 21:02:08] Step  1575 | loss 0.37174156 | lr: 7.51e-04 | 0.020s per step\n",
      "[INFO][06/15/2020 21:02:08] Metrics at step 1578:\n",
      "[INFO][06/15/2020 21:02:08] loss: 0.34196457\n",
      "[INFO][06/15/2020 21:02:08] accuracy: 85.09%\n",
      "[INFO][06/15/2020 21:02:10] Step  1680 | loss 0.35831135 | lr: 8.00e-04 | 0.020s per step\n",
      "[INFO][06/15/2020 21:02:12] Step  1785 | loss 0.34222204 | lr: 8.50e-04 | 0.018s per step\n",
      "[INFO][06/15/2020 21:02:14] Step  1890 | loss 0.33552668 | lr: 8.99e-04 | 0.018s per step\n",
      "[INFO][06/15/2020 21:02:16] Step  1995 | loss 0.34796606 | lr: 9.48e-04 | 0.019s per step\n",
      "[INFO][06/15/2020 21:02:18] Step  2100 | loss 0.34696796 | lr: 9.98e-04 | 0.020s per step\n",
      "[INFO][06/15/2020 21:02:18] Metrics at step 2104:\n",
      "[INFO][06/15/2020 21:02:18] loss: 0.32445722\n",
      "[INFO][06/15/2020 21:02:18] accuracy: 84.40%\n",
      "[INFO][06/15/2020 21:02:18] ====================Epoch 3====================\n",
      "[INFO][06/15/2020 21:02:20] Step  2205 | loss 0.34534391 | lr: 1.00e-03 | 0.021s per step\n",
      "[INFO][06/15/2020 21:02:22] Step  2310 | loss 0.32901506 | lr: 1.00e-03 | 0.018s per step\n",
      "[INFO][06/15/2020 21:02:24] Step  2415 | loss 0.32243793 | lr: 9.98e-04 | 0.019s per step\n",
      "[INFO][06/15/2020 21:02:26] Step  2520 | loss 0.32382619 | lr: 9.95e-04 | 0.019s per step\n",
      "[INFO][06/15/2020 21:02:28] Step  2625 | loss 0.31884778 | lr: 9.92e-04 | 0.019s per step\n",
      "[INFO][06/15/2020 21:02:28] Metrics at step 2630:\n",
      "[INFO][06/15/2020 21:02:28] loss: 0.34267670\n",
      "[INFO][06/15/2020 21:02:28] accuracy: 85.55%\n",
      "[INFO][06/15/2020 21:02:30] Step  2730 | loss 0.31659450 | lr: 9.87e-04 | 0.020s per step\n",
      "[INFO][06/15/2020 21:02:32] Step  2835 | loss 0.31678884 | lr: 9.83e-04 | 0.020s per step\n",
      "[INFO][06/15/2020 21:02:34] Step  2940 | loss 0.29543365 | lr: 9.77e-04 | 0.018s per step\n",
      "[INFO][06/15/2020 21:02:36] Step  3045 | loss 0.30421341 | lr: 9.71e-04 | 0.018s per step\n",
      "[INFO][06/15/2020 21:02:38] Step  3150 | loss 0.29534819 | lr: 9.64e-04 | 0.018s per step\n",
      "[INFO][06/15/2020 21:02:38] Metrics at step 3156:\n",
      "[INFO][06/15/2020 21:02:38] loss: 0.31728602\n",
      "[INFO][06/15/2020 21:02:38] accuracy: 83.94%\n",
      "[INFO][06/15/2020 21:02:38] ====================Epoch 4====================\n",
      "[INFO][06/15/2020 21:02:40] Step  3255 | loss 0.28192201 | lr: 9.56e-04 | 0.021s per step\n",
      "[INFO][06/15/2020 21:02:42] Step  3360 | loss 0.27744036 | lr: 9.47e-04 | 0.019s per step\n",
      "[INFO][06/15/2020 21:02:44] Step  3465 | loss 0.27717015 | lr: 9.38e-04 | 0.018s per step\n",
      "[INFO][06/15/2020 21:02:46] Step  3570 | loss 0.25970035 | lr: 9.28e-04 | 0.019s per step\n",
      "[INFO][06/15/2020 21:02:48] Step  3675 | loss 0.26790244 | lr: 9.18e-04 | 0.019s per step\n",
      "[INFO][06/15/2020 21:02:48] Metrics at step 3682:\n",
      "[INFO][06/15/2020 21:02:48] loss: 0.31180282\n",
      "[INFO][06/15/2020 21:02:48] accuracy: 86.93%\n",
      "[INFO][06/15/2020 21:02:50] Step  3780 | loss 0.27370442 | lr: 9.07e-04 | 0.021s per step\n",
      "[INFO][06/15/2020 21:02:52] Step  3885 | loss 0.26162443 | lr: 8.95e-04 | 0.018s per step\n",
      "[INFO][06/15/2020 21:02:54] Step  3990 | loss 0.26049628 | lr: 8.83e-04 | 0.018s per step\n",
      "[INFO][06/15/2020 21:02:56] Step  4095 | loss 0.26789364 | lr: 8.70e-04 | 0.019s per step\n",
      "[INFO][06/15/2020 21:02:58] Step  4200 | loss 0.26466270 | lr: 8.56e-04 | 0.019s per step\n",
      "[INFO][06/15/2020 21:02:58] Metrics at step 4208:\n",
      "[INFO][06/15/2020 21:02:58] loss: 0.36088426\n",
      "[INFO][06/15/2020 21:02:58] accuracy: 84.86%\n",
      "[INFO][06/15/2020 21:02:59] ====================Epoch 5====================\n",
      "[INFO][06/15/2020 21:03:00] Step  4305 | loss 0.25532219 | lr: 8.42e-04 | 0.020s per step\n",
      "[INFO][06/15/2020 21:03:02] Step  4410 | loss 0.24194524 | lr: 8.27e-04 | 0.019s per step\n",
      "[INFO][06/15/2020 21:03:04] Step  4515 | loss 0.22519185 | lr: 8.12e-04 | 0.019s per step\n",
      "[INFO][06/15/2020 21:03:06] Step  4620 | loss 0.23716863 | lr: 7.97e-04 | 0.019s per step\n",
      "[INFO][06/15/2020 21:03:08] Step  4725 | loss 0.23087912 | lr: 7.81e-04 | 0.019s per step\n",
      "[INFO][06/15/2020 21:03:08] Metrics at step 4734:\n",
      "[INFO][06/15/2020 21:03:08] loss: 0.31670418\n",
      "[INFO][06/15/2020 21:03:08] accuracy: 86.24%\n",
      "[INFO][06/15/2020 21:03:10] Step  4830 | loss 0.23374081 | lr: 7.64e-04 | 0.020s per step\n",
      "[INFO][06/15/2020 21:03:12] Step  4935 | loss 0.22931366 | lr: 7.47e-04 | 0.019s per step\n",
      "[INFO][06/15/2020 21:03:14] Step  5040 | loss 0.23236302 | lr: 7.30e-04 | 0.019s per step\n",
      "[INFO][06/15/2020 21:03:16] Step  5145 | loss 0.23699427 | lr: 7.13e-04 | 0.018s per step\n",
      "[INFO][06/15/2020 21:03:18] Step  5250 | loss 0.22455928 | lr: 6.95e-04 | 0.019s per step\n",
      "[INFO][06/15/2020 21:03:18] Metrics at step 5260:\n",
      "[INFO][06/15/2020 21:03:18] loss: 0.31179095\n",
      "[INFO][06/15/2020 21:03:18] accuracy: 88.07%\n",
      "[INFO][06/15/2020 21:03:19] ====================Epoch 6====================\n",
      "[INFO][06/15/2020 21:03:20] Step  5355 | loss 0.19876908 | lr: 6.77e-04 | 0.020s per step\n",
      "[INFO][06/15/2020 21:03:22] Step  5460 | loss 0.20540423 | lr: 6.58e-04 | 0.019s per step\n",
      "[INFO][06/15/2020 21:03:24] Step  5565 | loss 0.21464054 | lr: 6.39e-04 | 0.018s per step\n",
      "[INFO][06/15/2020 21:03:26] Step  5670 | loss 0.20418265 | lr: 6.20e-04 | 0.018s per step\n",
      "[INFO][06/15/2020 21:03:28] Step  5775 | loss 0.21697055 | lr: 6.01e-04 | 0.019s per step\n",
      "[INFO][06/15/2020 21:03:28] Metrics at step 5786:\n",
      "[INFO][06/15/2020 21:03:28] loss: 0.29763517\n",
      "[INFO][06/15/2020 21:03:28] accuracy: 88.30%\n",
      "[INFO][06/15/2020 21:03:30] Step  5880 | loss 0.20937879 | lr: 5.82e-04 | 0.021s per step\n",
      "[INFO][06/15/2020 21:03:32] Step  5985 | loss 0.19774902 | lr: 5.63e-04 | 0.020s per step\n"
     ]
    },
    {
     "name": "stdout",
     "output_type": "stream",
     "text": [
      "Gradient overflow.  Skipping step, loss scaler 0 reducing loss scale to 262144.0\n"
     ]
    },
    {
     "name": "stderr",
     "output_type": "stream",
     "text": [
      "[INFO][06/15/2020 21:03:34] Step  6090 | loss 0.20136125 | lr: 5.43e-04 | 0.019s per step\n"
     ]
    },
    {
     "name": "stdout",
     "output_type": "stream",
     "text": [
      "Gradient overflow.  Skipping step, loss scaler 0 reducing loss scale to 131072.0\n"
     ]
    },
    {
     "name": "stderr",
     "output_type": "stream",
     "text": [
      "[INFO][06/15/2020 21:03:36] Step  6195 | loss 0.20547779 | lr: 5.24e-04 | 0.019s per step\n",
      "[INFO][06/15/2020 21:03:38] Step  6300 | loss 0.19286398 | lr: 5.04e-04 | 0.018s per step\n",
      "[INFO][06/15/2020 21:03:39] Metrics at step 6312:\n",
      "[INFO][06/15/2020 21:03:39] loss: 0.36581496\n",
      "[INFO][06/15/2020 21:03:39] accuracy: 85.32%\n",
      "[INFO][06/15/2020 21:03:39] ====================Epoch 7====================\n",
      "[INFO][06/15/2020 21:03:40] Step  6405 | loss 0.18320435 | lr: 4.84e-04 | 0.019s per step\n",
      "[INFO][06/15/2020 21:03:42] Step  6510 | loss 0.18189077 | lr: 4.65e-04 | 0.019s per step\n",
      "[INFO][06/15/2020 21:03:44] Step  6615 | loss 0.17367351 | lr: 4.45e-04 | 0.018s per step\n",
      "[INFO][06/15/2020 21:03:46] Step  6720 | loss 0.17666738 | lr: 4.26e-04 | 0.018s per step\n",
      "[INFO][06/15/2020 21:03:48] Step  6825 | loss 0.17735529 | lr: 4.07e-04 | 0.018s per step\n",
      "[INFO][06/15/2020 21:03:48] Metrics at step 6838:\n",
      "[INFO][06/15/2020 21:03:48] loss: 0.34449610\n",
      "[INFO][06/15/2020 21:03:48] accuracy: 87.84%\n",
      "[INFO][06/15/2020 21:03:50] Step  6930 | loss 0.18939436 | lr: 3.87e-04 | 0.019s per step\n",
      "[INFO][06/15/2020 21:03:52] Step  7035 | loss 0.19011044 | lr: 3.68e-04 | 0.018s per step\n",
      "[INFO][06/15/2020 21:03:54] Step  7140 | loss 0.18898490 | lr: 3.50e-04 | 0.018s per step\n",
      "[INFO][06/15/2020 21:03:56] Step  7245 | loss 0.18020686 | lr: 3.31e-04 | 0.020s per step\n",
      "[INFO][06/15/2020 21:03:58] Step  7350 | loss 0.18142193 | lr: 3.13e-04 | 0.019s per step\n",
      "[INFO][06/15/2020 21:03:58] Metrics at step 7364:\n",
      "[INFO][06/15/2020 21:03:58] loss: 0.31814903\n",
      "[INFO][06/15/2020 21:03:58] accuracy: 87.61%\n",
      "[INFO][06/15/2020 21:03:58] ====================Epoch 8====================\n",
      "[INFO][06/15/2020 21:04:00] Step  7455 | loss 0.17040336 | lr: 2.95e-04 | 0.020s per step\n",
      "[INFO][06/15/2020 21:04:02] Step  7560 | loss 0.16873890 | lr: 2.77e-04 | 0.020s per step\n",
      "[INFO][06/15/2020 21:04:04] Step  7665 | loss 0.15729519 | lr: 2.60e-04 | 0.018s per step\n",
      "[INFO][06/15/2020 21:04:06] Step  7770 | loss 0.16487654 | lr: 2.43e-04 | 0.020s per step\n",
      "[INFO][06/15/2020 21:04:08] Step  7875 | loss 0.16854128 | lr: 2.26e-04 | 0.019s per step\n",
      "[INFO][06/15/2020 21:04:08] Metrics at step 7890:\n",
      "[INFO][06/15/2020 21:04:08] loss: 0.30789939\n",
      "[INFO][06/15/2020 21:04:08] accuracy: 89.91%\n",
      "[INFO][06/15/2020 21:04:10] Step  7980 | loss 0.16456785 | lr: 2.10e-04 | 0.019s per step\n",
      "[INFO][06/15/2020 21:04:12] Step  8085 | loss 0.16047398 | lr: 1.94e-04 | 0.019s per step\n"
     ]
    },
    {
     "name": "stdout",
     "output_type": "stream",
     "text": [
      "Gradient overflow.  Skipping step, loss scaler 0 reducing loss scale to 131072.0\n"
     ]
    },
    {
     "name": "stderr",
     "output_type": "stream",
     "text": [
      "[INFO][06/15/2020 21:04:14] Step  8190 | loss 0.15647669 | lr: 1.79e-04 | 0.020s per step\n",
      "[INFO][06/15/2020 21:04:16] Step  8295 | loss 0.15544379 | lr: 1.64e-04 | 0.020s per step\n",
      "[INFO][06/15/2020 21:04:18] Step  8400 | loss 0.15439361 | lr: 1.50e-04 | 0.019s per step\n",
      "[INFO][06/15/2020 21:04:19] Metrics at step 8416:\n",
      "[INFO][06/15/2020 21:04:19] loss: 0.32783247\n",
      "[INFO][06/15/2020 21:04:19] accuracy: 87.16%\n",
      "[INFO][06/15/2020 21:04:19] ====================Epoch 9====================\n"
     ]
    },
    {
     "name": "stdout",
     "output_type": "stream",
     "text": [
      "Gradient overflow.  Skipping step, loss scaler 0 reducing loss scale to 65536.0\n"
     ]
    },
    {
     "name": "stderr",
     "output_type": "stream",
     "text": [
      "[INFO][06/15/2020 21:04:20] Step  8505 | loss 0.15097086 | lr: 1.36e-04 | 0.020s per step\n",
      "[INFO][06/15/2020 21:04:22] Step  8610 | loss 0.14910909 | lr: 1.23e-04 | 0.019s per step\n",
      "[INFO][06/15/2020 21:04:24] Step  8715 | loss 0.14713163 | lr: 1.10e-04 | 0.018s per step\n",
      "[INFO][06/15/2020 21:04:26] Step  8820 | loss 0.14970109 | lr: 9.85e-05 | 0.018s per step\n",
      "[INFO][06/15/2020 21:04:28] Step  8925 | loss 0.14161665 | lr: 8.71e-05 | 0.019s per step\n",
      "[INFO][06/15/2020 21:04:28] Metrics at step 8942:\n",
      "[INFO][06/15/2020 21:04:28] loss: 0.32466900\n",
      "[INFO][06/15/2020 21:04:28] accuracy: 88.07%\n",
      "[INFO][06/15/2020 21:04:30] Step  9030 | loss 0.15042173 | lr: 7.64e-05 | 0.019s per step\n",
      "[INFO][06/15/2020 21:04:32] Step  9135 | loss 0.14744298 | lr: 6.63e-05 | 0.019s per step\n",
      "[INFO][06/15/2020 21:04:34] Step  9240 | loss 0.14847580 | lr: 5.69e-05 | 0.018s per step\n",
      "[INFO][06/15/2020 21:04:36] Step  9345 | loss 0.14032037 | lr: 4.82e-05 | 0.018s per step\n",
      "[INFO][06/15/2020 21:04:38] Step  9450 | loss 0.14651593 | lr: 4.01e-05 | 0.018s per step\n",
      "[INFO][06/15/2020 21:04:38] Metrics at step 9468:\n",
      "[INFO][06/15/2020 21:04:38] loss: 0.32092562\n",
      "[INFO][06/15/2020 21:04:38] accuracy: 88.30%\n",
      "[INFO][06/15/2020 21:04:38] ====================Epoch 10====================\n",
      "[INFO][06/15/2020 21:04:40] Step  9555 | loss 0.14927330 | lr: 3.28e-05 | 0.019s per step\n",
      "[INFO][06/15/2020 21:04:42] Step  9660 | loss 0.14960816 | lr: 2.62e-05 | 0.018s per step\n",
      "[INFO][06/15/2020 21:04:44] Step  9765 | loss 0.14851115 | lr: 2.03e-05 | 0.018s per step\n",
      "[INFO][06/15/2020 21:04:45] Step  9870 | loss 0.14257876 | lr: 1.51e-05 | 0.018s per step\n",
      "[INFO][06/15/2020 21:04:47] Step  9975 | loss 0.13465118 | lr: 1.07e-05 | 0.018s per step\n",
      "[INFO][06/15/2020 21:04:48] Metrics at step 9994:\n",
      "[INFO][06/15/2020 21:04:48] loss: 0.33739009\n",
      "[INFO][06/15/2020 21:04:48] accuracy: 88.07%\n",
      "[INFO][06/15/2020 21:04:49] Step 10080 | loss 0.13515065 | lr: 7.06e-06 | 0.019s per step\n",
      "[INFO][06/15/2020 21:04:51] Step 10185 | loss 0.13765784 | lr: 4.16e-06 | 0.018s per step\n",
      "[INFO][06/15/2020 21:04:53] Step 10290 | loss 0.14245537 | lr: 2.02e-06 | 0.018s per step\n",
      "[INFO][06/15/2020 21:04:55] Step 10395 | loss 0.14735685 | lr: 6.44e-07 | 0.018s per step\n",
      "[INFO][06/15/2020 21:04:57] Step 10500 | loss 0.14214845 | lr: 3.34e-08 | 0.018s per step\n",
      "[INFO][06/15/2020 21:04:57] Metrics at step 10520:\n",
      "[INFO][06/15/2020 21:04:57] loss: 0.33651274\n",
      "[INFO][06/15/2020 21:04:57] accuracy: 88.30%\n",
      "[INFO][06/15/2020 21:04:58] Training finished. Best step(s):\n",
      "[INFO][06/15/2020 21:04:58] loss: 0.29763517 @ step 5786\n",
      "[INFO][06/15/2020 21:04:58] accuracy: 89.91% @ step 7890\n"
     ]
    }
   ],
   "source": [
    "print(total_steps)\n",
    "\n",
    "bot.train(\n",
    "    total_steps=total_steps,\n",
    "    checkpoint_interval=len(train_loader) // 2\n",
    ")\n",
    "bot.load_model(checkpoints.best_performers[0][1])\n",
    "checkpoints.remove_checkpoints(keep=0)"
   ]
  },
  {
   "cell_type": "code",
   "execution_count": 23,
   "metadata": {},
   "outputs": [],
   "source": [
    "# TARGET_DIR = CACHE_DIR / \"sst2_bert_uncased\"\n",
    "# TARGET_DIR.mkdir(exist_ok=True)\n",
    "# bot.model.save_pretrained(TARGET_DIR)"
   ]
  },
  {
   "cell_type": "code",
   "execution_count": 24,
   "metadata": {},
   "outputs": [
    {
     "data": {
      "text/plain": [
       "{'loss': (0.29762899930324027, '0.29762900'),\n",
       " 'accuracy': (-0.8830275229357798, '88.30%')}"
      ]
     },
     "execution_count": 24,
     "metadata": {},
     "output_type": "execute_result"
    }
   ],
   "source": [
    "bot.eval(valid_loader)"
   ]
  },
  {
   "cell_type": "code",
   "execution_count": 25,
   "metadata": {},
   "outputs": [
    {
     "data": {
      "text/plain": [
       "{'loss': (0.32853356796667116, '0.32853357'),\n",
       " 'accuracy': (-0.8646788990825688, '86.47%')}"
      ]
     },
     "execution_count": 25,
     "metadata": {},
     "output_type": "execute_result"
    }
   ],
   "source": [
    "bot.eval(test_loader)"
   ]
  },
  {
   "cell_type": "code",
   "execution_count": 26,
   "metadata": {},
   "outputs": [],
   "source": [
    "# tokenizer.pad_token_id"
   ]
  }
 ],
 "metadata": {
  "kernelspec": {
   "display_name": "Python 3.7.6 64-bit ('rapids': conda)",
   "language": "python",
   "name": "python37664bitrapidsconda05ea436670824d2ebed703c8c53b011e"
  },
  "language_info": {
   "codemirror_mode": {
    "name": "ipython",
    "version": 3
   },
   "file_extension": ".py",
   "mimetype": "text/x-python",
   "name": "python",
   "nbconvert_exporter": "python",
   "pygments_lexer": "ipython3",
   "version": "3.7.6"
  }
 },
 "nbformat": 4,
 "nbformat_minor": 4
}
