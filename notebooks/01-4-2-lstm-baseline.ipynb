{
 "cells": [
  {
   "cell_type": "code",
   "execution_count": 1,
   "metadata": {},
   "outputs": [
    {
     "name": "stdout",
     "output_type": "stream",
     "text": [
      "/mnt/SSD_Data/active_projects/transformer_to_lstm\n"
     ]
    }
   ],
   "source": [
    "%cd .."
   ]
  },
  {
   "cell_type": "code",
   "execution_count": 2,
   "metadata": {},
   "outputs": [],
   "source": [
    "import dataclasses\n",
    "from pathlib import Path\n",
    "import warnings\n",
    "\n",
    "import nlp\n",
    "import torch\n",
    "import numpy as np\n",
    "import torch.nn.functional as F\n",
    "from transformers import BertForSequenceClassification\n",
    "from torch.optim.lr_scheduler import CosineAnnealingLR\n",
    "from sklearn.model_selection import train_test_split\n",
    "\n",
    "from pytorch_helper_bot import (\n",
    "    BaseBot, MovingAverageStatsTrackerCallback,  CheckpointCallback,\n",
    "    LearningRateSchedulerCallback, MultiStageScheduler, Top1Accuracy,\n",
    "    LinearLR, Callback\n",
    ")\n",
    "\n",
    "from nobita.models import get_sequence_model\n",
    "\n",
    "\n",
    "try:\n",
    "    from apex import amp\n",
    "    APEX_AVAILABLE = True\n",
    "except ModuleNotFoundError:\n",
    "    APEX_AVAILABLE = False\n",
    "# APEX_AVAILABLE = False"
   ]
  },
  {
   "cell_type": "code",
   "execution_count": 3,
   "metadata": {},
   "outputs": [],
   "source": [
    "CACHE_DIR = Path(\"cache/\")\n",
    "CACHE_DIR.mkdir(exist_ok=True)"
   ]
  },
  {
   "cell_type": "markdown",
   "metadata": {},
   "source": [
    "Reference:\n",
    "\n",
    "    * https://github.com/huggingface/nlp/blob/master/notebooks/Overview.ipynb"
   ]
  },
  {
   "cell_type": "code",
   "execution_count": 4,
   "metadata": {},
   "outputs": [],
   "source": [
    "class SST2Dataset(torch.utils.data.Dataset):\n",
    "    def __init__(self, entries_dict):\n",
    "        super().__init__()\n",
    "        self.entries_dict = entries_dict\n",
    "    \n",
    "    def __len__(self):\n",
    "        return len(self.entries_dict[\"label\"])\n",
    "    \n",
    "    def __getitem__(self, idx):\n",
    "        return (\n",
    "            self.entries_dict[\"input_ids\"][idx],\n",
    "            self.entries_dict[\"attention_mask\"][idx].sum(), #input_lengths\n",
    "            {\n",
    "                \"label\": self.entries_dict[\"label\"][idx], \n",
    "                \"logits\": self.entries_dict[\"logits\"][idx]\n",
    "            }\n",
    "        )"
   ]
  },
  {
   "cell_type": "code",
   "execution_count": 5,
   "metadata": {},
   "outputs": [],
   "source": [
    "train_dict, valid_dict, test_dict = torch.load(str(CACHE_DIR / \"distill-dicts.jbl\"))"
   ]
  },
  {
   "cell_type": "code",
   "execution_count": 6,
   "metadata": {},
   "outputs": [],
   "source": [
    "# Instantiate a PyTorch Dataloader around our dataset\n",
    "train_loader = torch.utils.data.DataLoader(SST2Dataset(train_dict), batch_size=64, shuffle=True)\n",
    "valid_loader = torch.utils.data.DataLoader(SST2Dataset(valid_dict), batch_size=64, drop_last=False)\n",
    "test_loader = torch.utils.data.DataLoader(SST2Dataset(test_dict), batch_size=64, drop_last=False)"
   ]
  },
  {
   "cell_type": "code",
   "execution_count": 7,
   "metadata": {},
   "outputs": [],
   "source": [
    "ALPHA = 1.\n",
    "DISTILL_OBJECTIVE = torch.nn.MSELoss()\n",
    "\n",
    "def distill_loss(logits, targets):\n",
    "    distill_part = DISTILL_OBJECTIVE(\n",
    "        logits.reshape(-1), targets[\"logits\"].reshape(-1)\n",
    "    ) / 2\n",
    "    classification_part = F.cross_entropy(\n",
    "        logits, targets[\"label\"]\n",
    "    )\n",
    "    return ALPHA * classification_part + (1-ALPHA) * distill_part"
   ]
  },
  {
   "cell_type": "code",
   "execution_count": 8,
   "metadata": {},
   "outputs": [],
   "source": [
    "bert_model = BertForSequenceClassification.from_pretrained(str(CACHE_DIR / \"sst2_bert_uncased\")).cpu()"
   ]
  },
  {
   "cell_type": "code",
   "execution_count": 9,
   "metadata": {},
   "outputs": [
    {
     "data": {
      "text/plain": [
       "torch.Size([30522, 768])"
      ]
     },
     "execution_count": 9,
     "metadata": {},
     "output_type": "execute_result"
    }
   ],
   "source": [
    "bert_model.bert.embeddings.word_embeddings.weight.shape"
   ]
  },
  {
   "cell_type": "code",
   "execution_count": 10,
   "metadata": {},
   "outputs": [],
   "source": [
    "# Note: apex does not support weight dropping\n",
    "model = get_sequence_model(\n",
    "    voc_size=bert_model.bert.embeddings.word_embeddings.weight.shape[0],\n",
    "    emb_size=bert_model.bert.embeddings.word_embeddings.weight.shape[1],\n",
    "    pad_idx = 0,\n",
    "    dropoute = 0,\n",
    "    rnn_hid = 768,\n",
    "    rnn_layers = 3,\n",
    "    bidir = True,\n",
    "    dropouth = 0.25,\n",
    "    dropouti = 0.25,\n",
    "    wdrop = 0,\n",
    "    unit_type = \"lstm\",\n",
    "    fcn_layers = [512, 2],\n",
    "    fcn_dropouts = [0.25, 0.25],\n",
    "    use_attention = True\n",
    ")"
   ]
  },
  {
   "cell_type": "code",
   "execution_count": 11,
   "metadata": {},
   "outputs": [
    {
     "data": {
      "text/plain": [
       "SequenceModel(\n",
       "  (embeddings): BasicEmbeddings(\n",
       "    (encoder): Embedding(30522, 768, padding_idx=0)\n",
       "  )\n",
       "  (encoder): RNNStack(\n",
       "    (rnns): ModuleList(\n",
       "      (0): LSTM(768, 384, bidirectional=True)\n",
       "      (1): LSTM(768, 384, bidirectional=True)\n",
       "      (2): LSTM(768, 384, bidirectional=True)\n",
       "    )\n",
       "    (dropouti): LockedDropout()\n",
       "    (dropouths): ModuleList(\n",
       "      (0): LockedDropout()\n",
       "      (1): LockedDropout()\n",
       "      (2): LockedDropout()\n",
       "    )\n",
       "  )\n",
       "  (fcn): AttentionFCN(\n",
       "    (attention): Attention(768, return attention=False)\n",
       "    (layers): ModuleList(\n",
       "      (0): LinearBlock(\n",
       "        (lin): Linear(in_features=768, out_features=512, bias=True)\n",
       "        (drop): Dropout(p=0.25, inplace=False)\n",
       "        (bn): BatchNorm1d(768, eps=1e-05, momentum=0.1, affine=True, track_running_stats=True)\n",
       "      )\n",
       "      (1): LinearBlock(\n",
       "        (lin): Linear(in_features=512, out_features=2, bias=True)\n",
       "        (drop): Dropout(p=0.25, inplace=False)\n",
       "        (bn): BatchNorm1d(512, eps=1e-05, momentum=0.1, affine=True, track_running_stats=True)\n",
       "      )\n",
       "    )\n",
       "  )\n",
       ")"
      ]
     },
     "execution_count": 11,
     "metadata": {},
     "output_type": "execute_result"
    }
   ],
   "source": [
    "model"
   ]
  },
  {
   "cell_type": "code",
   "execution_count": 12,
   "metadata": {},
   "outputs": [],
   "source": [
    "# Copy the embedding weights to the LSTM model\n",
    "try:\n",
    "    model.embeddings.encoder.emb.weight.data = bert_model.bert.embeddings.word_embeddings.weight.data\n",
    "except:\n",
    "    model.embeddings.encoder.weight.data = bert_model.bert.embeddings.word_embeddings.weight.data"
   ]
  },
  {
   "cell_type": "code",
   "execution_count": 13,
   "metadata": {},
   "outputs": [],
   "source": [
    "# Freeze the embedding layer\n",
    "for param in model.embeddings.encoder.parameters():\n",
    "    param.requires_grad = False"
   ]
  },
  {
   "cell_type": "code",
   "execution_count": 14,
   "metadata": {},
   "outputs": [],
   "source": [
    "model = model.cuda()"
   ]
  },
  {
   "cell_type": "code",
   "execution_count": 15,
   "metadata": {},
   "outputs": [],
   "source": [
    "# Use only leaf tensors\n",
    "parameters = [x for x in model.parameters() if x.is_leaf and x.requires_grad]"
   ]
  },
  {
   "cell_type": "code",
   "execution_count": 16,
   "metadata": {},
   "outputs": [],
   "source": [
    "del bert_model"
   ]
  },
  {
   "cell_type": "code",
   "execution_count": 17,
   "metadata": {},
   "outputs": [],
   "source": [
    "optimizer = torch.optim.Adam(parameters, lr=1e-3, betas=(0.8, 0.99))\n",
    "# optimizer = torch.optim.RMSprop(parameters, lr=0.01)"
   ]
  },
  {
   "cell_type": "code",
   "execution_count": 18,
   "metadata": {},
   "outputs": [
    {
     "name": "stdout",
     "output_type": "stream",
     "text": [
      "Selected optimization level O1:  Insert automatic casts around Pytorch functions and Tensor methods.\n",
      "\n",
      "Defaults for this optimization level are:\n",
      "enabled                : True\n",
      "opt_level              : O1\n",
      "cast_model_type        : None\n",
      "patch_torch_functions  : True\n",
      "keep_batchnorm_fp32    : None\n",
      "master_weights         : None\n",
      "loss_scale             : dynamic\n",
      "Processing user overrides (additional kwargs that are not None)...\n",
      "After processing overrides, optimization options are:\n",
      "enabled                : True\n",
      "opt_level              : O1\n",
      "cast_model_type        : None\n",
      "patch_torch_functions  : True\n",
      "keep_batchnorm_fp32    : None\n",
      "master_weights         : None\n",
      "loss_scale             : dynamic\n"
     ]
    }
   ],
   "source": [
    "if APEX_AVAILABLE:\n",
    "    model, optimizer = amp.initialize(\n",
    "        model, optimizer, opt_level=\"O1\"\n",
    "    )"
   ]
  },
  {
   "cell_type": "code",
   "execution_count": 19,
   "metadata": {},
   "outputs": [],
   "source": [
    "class TransposeCallback(Callback):\n",
    "    def on_batch_inputs(self, bot, input_tensors, targets):\n",
    "        input_tensors = [input_tensors[0].transpose(1, 0), input_tensors[1]]\n",
    "        return input_tensors, targets"
   ]
  },
  {
   "cell_type": "code",
   "execution_count": 20,
   "metadata": {},
   "outputs": [],
   "source": [
    "class DistillTop1Accuracy(Top1Accuracy):\n",
    "    def __call__(self, truth, pred):\n",
    "        truth = truth[\"label\"]\n",
    "        return super().__call__(truth, pred)"
   ]
  },
  {
   "cell_type": "code",
   "execution_count": 21,
   "metadata": {},
   "outputs": [
    {
     "name": "stderr",
     "output_type": "stream",
     "text": [
      "[INFO][06/15/2020 21:12:21] SEED: 9293\n",
      "[INFO][06/15/2020 21:12:21] # of parameters: 34,474,242\n",
      "[INFO][06/15/2020 21:12:21] # of trainable parameters: 11,033,346\n"
     ]
    }
   ],
   "source": [
    "total_steps = len(train_loader) * 10\n",
    "\n",
    "checkpoints = CheckpointCallback(\n",
    "    keep_n_checkpoints=1,\n",
    "    checkpoint_dir=CACHE_DIR / \"distill_model_cache/\",\n",
    "    monitor_metric=\"loss\"\n",
    ")\n",
    "lr_durations = [\n",
    "    int(total_steps*0.2),\n",
    "    int(np.ceil(total_steps*0.8))\n",
    "]\n",
    "break_points = [0] + list(np.cumsum(lr_durations))[:-1]\n",
    "callbacks = [\n",
    "    MovingAverageStatsTrackerCallback(\n",
    "        avg_window=len(train_loader) // 8,\n",
    "        log_interval=len(train_loader) // 10\n",
    "    ),\n",
    "    LearningRateSchedulerCallback(\n",
    "        MultiStageScheduler(\n",
    "            [\n",
    "                LinearLR(optimizer, 0.01, lr_durations[0]),\n",
    "                CosineAnnealingLR(optimizer, lr_durations[1])\n",
    "            ],\n",
    "            start_at_epochs=break_points\n",
    "        )\n",
    "    ),\n",
    "    checkpoints,\n",
    "    TransposeCallback()\n",
    "]\n",
    "    \n",
    "bot = BaseBot(\n",
    "    log_dir = CACHE_DIR / \"distill_logs\",\n",
    "    model=model, \n",
    "    train_loader=train_loader,\n",
    "    valid_loader=valid_loader, \n",
    "    clip_grad=10.,\n",
    "    optimizer=optimizer, echo=True,\n",
    "    criterion=distill_loss,\n",
    "    callbacks=callbacks,\n",
    "    pbar=False, use_tensorboard=False,\n",
    "    use_amp=APEX_AVAILABLE,\n",
    "    metrics=(DistillTop1Accuracy(),)\n",
    ")"
   ]
  },
  {
   "cell_type": "code",
   "execution_count": 22,
   "metadata": {},
   "outputs": [
    {
     "name": "stderr",
     "output_type": "stream",
     "text": [
      "[INFO][06/15/2020 21:12:21] Optimizer Adam (\n",
      "Parameter Group 0\n",
      "    amsgrad: False\n",
      "    betas: (0.8, 0.99)\n",
      "    eps: 1e-08\n",
      "    initial_lr: 0.001\n",
      "    lr: 0.001\n",
      "    weight_decay: 0\n",
      ")\n",
      "[INFO][06/15/2020 21:12:21] Batches per epoch: 1053\n",
      "[INFO][06/15/2020 21:12:21] ====================Epoch 1====================\n"
     ]
    },
    {
     "name": "stdout",
     "output_type": "stream",
     "text": [
      "10530\n"
     ]
    },
    {
     "name": "stderr",
     "output_type": "stream",
     "text": [
      "[INFO][06/15/2020 21:12:24] Step   105 | loss 1.17822204 | lr: 5.94e-05 | 0.029s per step\n",
      "[INFO][06/15/2020 21:12:27] Step   210 | loss 0.98571526 | lr: 1.09e-04 | 0.028s per step\n",
      "[INFO][06/15/2020 21:12:29] Step   315 | loss 0.84693433 | lr: 1.58e-04 | 0.027s per step\n",
      "[INFO][06/15/2020 21:12:32] Step   420 | loss 0.71049504 | lr: 2.08e-04 | 0.028s per step\n",
      "[INFO][06/15/2020 21:12:35] Step   525 | loss 0.62278121 | lr: 2.57e-04 | 0.027s per step\n",
      "[INFO][06/15/2020 21:12:35] Metrics at step 526:\n",
      "[INFO][06/15/2020 21:12:35] loss: 0.73929630\n",
      "[INFO][06/15/2020 21:12:35] accuracy: 56.19%\n",
      "[INFO][06/15/2020 21:12:38] Step   630 | loss 0.57960875 | lr: 3.06e-04 | 0.030s per step\n",
      "[INFO][06/15/2020 21:12:41] Step   735 | loss 0.53256572 | lr: 3.56e-04 | 0.027s per step\n",
      "[INFO][06/15/2020 21:12:44] Step   840 | loss 0.49936575 | lr: 4.05e-04 | 0.027s per step\n",
      "[INFO][06/15/2020 21:12:47] Step   945 | loss 0.48621889 | lr: 4.54e-04 | 0.027s per step\n",
      "[INFO][06/15/2020 21:12:50] Step  1050 | loss 0.45448504 | lr: 5.04e-04 | 0.028s per step\n",
      "[INFO][06/15/2020 21:12:50] Metrics at step 1052:\n",
      "[INFO][06/15/2020 21:12:50] loss: 0.48022422\n",
      "[INFO][06/15/2020 21:12:50] accuracy: 77.52%\n",
      "[INFO][06/15/2020 21:12:50] ====================Epoch 2====================\n",
      "[INFO][06/15/2020 21:12:53] Step  1155 | loss 0.45892742 | lr: 5.53e-04 | 0.030s per step\n"
     ]
    },
    {
     "name": "stdout",
     "output_type": "stream",
     "text": [
      "Gradient overflow.  Skipping step, loss scaler 0 reducing loss scale to 32768.0\n",
      "Gradient overflow.  Skipping step, loss scaler 0 reducing loss scale to 16384.0\n"
     ]
    },
    {
     "name": "stderr",
     "output_type": "stream",
     "text": [
      "[INFO][06/15/2020 21:12:56] Step  1260 | loss 0.50986822 | lr: 6.03e-04 | 0.027s per step\n",
      "[INFO][06/15/2020 21:12:59] Step  1365 | loss 0.49882624 | lr: 6.52e-04 | 0.027s per step\n",
      "[INFO][06/15/2020 21:13:01] Step  1470 | loss 0.43877402 | lr: 7.01e-04 | 0.027s per step\n",
      "[INFO][06/15/2020 21:13:04] Step  1575 | loss 0.42520519 | lr: 7.51e-04 | 0.027s per step\n",
      "[INFO][06/15/2020 21:13:05] Metrics at step 1578:\n",
      "[INFO][06/15/2020 21:13:05] loss: 0.47600311\n",
      "[INFO][06/15/2020 21:13:05] accuracy: 81.42%\n",
      "[INFO][06/15/2020 21:13:08] Step  1680 | loss 0.42487729 | lr: 8.00e-04 | 0.031s per step\n",
      "[INFO][06/15/2020 21:13:10] Step  1785 | loss 0.42041942 | lr: 8.50e-04 | 0.027s per step\n",
      "[INFO][06/15/2020 21:13:13] Step  1890 | loss 0.39767750 | lr: 8.99e-04 | 0.027s per step\n",
      "[INFO][06/15/2020 21:13:16] Step  1995 | loss 0.38604234 | lr: 9.48e-04 | 0.027s per step\n",
      "[INFO][06/15/2020 21:13:19] Step  2100 | loss 0.37510548 | lr: 9.98e-04 | 0.027s per step\n",
      "[INFO][06/15/2020 21:13:19] Metrics at step 2104:\n",
      "[INFO][06/15/2020 21:13:19] loss: 0.47924485\n",
      "[INFO][06/15/2020 21:13:19] accuracy: 76.38%\n",
      "[INFO][06/15/2020 21:13:19] ====================Epoch 3====================\n",
      "[INFO][06/15/2020 21:13:22] Step  2205 | loss 0.36032235 | lr: 1.00e-03 | 0.029s per step\n",
      "[INFO][06/15/2020 21:13:25] Step  2310 | loss 0.36156979 | lr: 1.00e-03 | 0.028s per step\n",
      "[INFO][06/15/2020 21:13:28] Step  2415 | loss 0.35333295 | lr: 9.98e-04 | 0.027s per step\n",
      "[INFO][06/15/2020 21:13:31] Step  2520 | loss 0.34759404 | lr: 9.95e-04 | 0.027s per step\n",
      "[INFO][06/15/2020 21:13:34] Step  2625 | loss 0.32813366 | lr: 9.92e-04 | 0.027s per step\n",
      "[INFO][06/15/2020 21:13:34] Metrics at step 2630:\n",
      "[INFO][06/15/2020 21:13:34] loss: 0.32949557\n",
      "[INFO][06/15/2020 21:13:34] accuracy: 84.63%\n",
      "[INFO][06/15/2020 21:13:37] Step  2730 | loss 0.33728538 | lr: 9.87e-04 | 0.030s per step\n",
      "[INFO][06/15/2020 21:13:40] Step  2835 | loss 0.32417834 | lr: 9.83e-04 | 0.027s per step\n",
      "[INFO][06/15/2020 21:13:43] Step  2940 | loss 0.32272998 | lr: 9.77e-04 | 0.028s per step\n",
      "[INFO][06/15/2020 21:13:45] Step  3045 | loss 0.31834602 | lr: 9.71e-04 | 0.027s per step\n",
      "[INFO][06/15/2020 21:13:48] Step  3150 | loss 0.30718797 | lr: 9.64e-04 | 0.027s per step\n",
      "[INFO][06/15/2020 21:13:48] Metrics at step 3156:\n",
      "[INFO][06/15/2020 21:13:48] loss: 0.43366187\n",
      "[INFO][06/15/2020 21:13:48] accuracy: 78.90%\n",
      "[INFO][06/15/2020 21:13:49] ====================Epoch 4====================\n",
      "[INFO][06/15/2020 21:13:51] Step  3255 | loss 0.29892431 | lr: 9.56e-04 | 0.028s per step\n",
      "[INFO][06/15/2020 21:13:54] Step  3360 | loss 0.29298772 | lr: 9.47e-04 | 0.027s per step\n",
      "[INFO][06/15/2020 21:13:57] Step  3465 | loss 0.28647379 | lr: 9.38e-04 | 0.029s per step\n",
      "[INFO][06/15/2020 21:14:00] Step  3570 | loss 0.28728878 | lr: 9.28e-04 | 0.028s per step\n",
      "[INFO][06/15/2020 21:14:03] Step  3675 | loss 0.28367039 | lr: 9.18e-04 | 0.027s per step\n",
      "[INFO][06/15/2020 21:14:03] Metrics at step 3682:\n",
      "[INFO][06/15/2020 21:14:03] loss: 0.30120533\n",
      "[INFO][06/15/2020 21:14:03] accuracy: 86.93%\n",
      "[INFO][06/15/2020 21:14:06] Step  3780 | loss 0.28995215 | lr: 9.07e-04 | 0.030s per step\n",
      "[INFO][06/15/2020 21:14:09] Step  3885 | loss 0.28240385 | lr: 8.95e-04 | 0.028s per step\n",
      "[INFO][06/15/2020 21:14:12] Step  3990 | loss 0.27406458 | lr: 8.83e-04 | 0.027s per step\n",
      "[INFO][06/15/2020 21:14:15] Step  4095 | loss 0.28517388 | lr: 8.70e-04 | 0.027s per step\n",
      "[INFO][06/15/2020 21:14:18] Step  4200 | loss 0.26004999 | lr: 8.56e-04 | 0.027s per step\n",
      "[INFO][06/15/2020 21:14:18] Metrics at step 4208:\n",
      "[INFO][06/15/2020 21:14:18] loss: 0.30151994\n",
      "[INFO][06/15/2020 21:14:18] accuracy: 86.70%\n",
      "[INFO][06/15/2020 21:14:18] ====================Epoch 5====================\n",
      "[INFO][06/15/2020 21:14:21] Step  4305 | loss 0.26186875 | lr: 8.42e-04 | 0.029s per step\n",
      "[INFO][06/15/2020 21:14:24] Step  4410 | loss 0.26015022 | lr: 8.27e-04 | 0.028s per step\n",
      "[INFO][06/15/2020 21:14:27] Step  4515 | loss 0.25827661 | lr: 8.12e-04 | 0.027s per step\n",
      "[INFO][06/15/2020 21:14:30] Step  4620 | loss 0.24919783 | lr: 7.97e-04 | 0.030s per step\n",
      "[INFO][06/15/2020 21:14:33] Step  4725 | loss 0.23983455 | lr: 7.81e-04 | 0.028s per step\n",
      "[INFO][06/15/2020 21:14:33] Metrics at step 4734:\n",
      "[INFO][06/15/2020 21:14:33] loss: 0.32036073\n",
      "[INFO][06/15/2020 21:14:33] accuracy: 85.78%\n",
      "[INFO][06/15/2020 21:14:36] Step  4830 | loss 0.24831864 | lr: 7.64e-04 | 0.030s per step\n",
      "[INFO][06/15/2020 21:14:39] Step  4935 | loss 0.24964329 | lr: 7.47e-04 | 0.028s per step\n",
      "[INFO][06/15/2020 21:14:42] Step  5040 | loss 0.23852781 | lr: 7.30e-04 | 0.029s per step\n",
      "[INFO][06/15/2020 21:14:45] Step  5145 | loss 0.25173436 | lr: 7.13e-04 | 0.029s per step\n",
      "[INFO][06/15/2020 21:14:48] Step  5250 | loss 0.23633767 | lr: 6.95e-04 | 0.030s per step\n",
      "[INFO][06/15/2020 21:14:49] Metrics at step 5260:\n",
      "[INFO][06/15/2020 21:14:49] loss: 0.32134414\n",
      "[INFO][06/15/2020 21:14:49] accuracy: 86.93%\n",
      "[INFO][06/15/2020 21:14:49] ====================Epoch 6====================\n",
      "[INFO][06/15/2020 21:14:51] Step  5355 | loss 0.21772214 | lr: 6.77e-04 | 0.030s per step\n",
      "[INFO][06/15/2020 21:14:54] Step  5460 | loss 0.22250509 | lr: 6.58e-04 | 0.029s per step\n",
      "[INFO][06/15/2020 21:14:57] Step  5565 | loss 0.22511588 | lr: 6.39e-04 | 0.029s per step\n",
      "[INFO][06/15/2020 21:15:00] Step  5670 | loss 0.22227691 | lr: 6.20e-04 | 0.028s per step\n",
      "[INFO][06/15/2020 21:15:03] Step  5775 | loss 0.22024986 | lr: 6.01e-04 | 0.029s per step\n",
      "[INFO][06/15/2020 21:15:04] Metrics at step 5786:\n",
      "[INFO][06/15/2020 21:15:04] loss: 0.29697493\n",
      "[INFO][06/15/2020 21:15:04] accuracy: 88.07%\n",
      "[INFO][06/15/2020 21:15:07] Step  5880 | loss 0.22546425 | lr: 5.82e-04 | 0.031s per step\n",
      "[INFO][06/15/2020 21:15:10] Step  5985 | loss 0.20841240 | lr: 5.63e-04 | 0.028s per step\n",
      "[INFO][06/15/2020 21:15:12] Step  6090 | loss 0.21180347 | lr: 5.43e-04 | 0.027s per step\n",
      "[INFO][06/15/2020 21:15:15] Step  6195 | loss 0.20574907 | lr: 5.24e-04 | 0.029s per step\n",
      "[INFO][06/15/2020 21:15:18] Step  6300 | loss 0.21028063 | lr: 5.04e-04 | 0.027s per step\n",
      "[INFO][06/15/2020 21:15:19] Metrics at step 6312:\n",
      "[INFO][06/15/2020 21:15:19] loss: 0.30868703\n",
      "[INFO][06/15/2020 21:15:19] accuracy: 85.55%\n",
      "[INFO][06/15/2020 21:15:19] ====================Epoch 7====================\n",
      "[INFO][06/15/2020 21:15:21] Step  6405 | loss 0.18714708 | lr: 4.84e-04 | 0.028s per step\n",
      "[INFO][06/15/2020 21:15:24] Step  6510 | loss 0.19288213 | lr: 4.65e-04 | 0.027s per step\n",
      "[INFO][06/15/2020 21:15:27] Step  6615 | loss 0.19849630 | lr: 4.45e-04 | 0.027s per step\n",
      "[INFO][06/15/2020 21:15:30] Step  6720 | loss 0.18818896 | lr: 4.26e-04 | 0.028s per step\n",
      "[INFO][06/15/2020 21:15:33] Step  6825 | loss 0.19699847 | lr: 4.07e-04 | 0.027s per step\n",
      "[INFO][06/15/2020 21:15:33] Metrics at step 6838:\n",
      "[INFO][06/15/2020 21:15:33] loss: 0.31870050\n",
      "[INFO][06/15/2020 21:15:33] accuracy: 87.16%\n",
      "[INFO][06/15/2020 21:15:36] Step  6930 | loss 0.19939647 | lr: 3.87e-04 | 0.028s per step\n",
      "[INFO][06/15/2020 21:15:39] Step  7035 | loss 0.18905428 | lr: 3.68e-04 | 0.029s per step\n",
      "[INFO][06/15/2020 21:15:42] Step  7140 | loss 0.19107357 | lr: 3.50e-04 | 0.029s per step\n",
      "[INFO][06/15/2020 21:15:45] Step  7245 | loss 0.18925786 | lr: 3.31e-04 | 0.030s per step\n",
      "[INFO][06/15/2020 21:15:48] Step  7350 | loss 0.17769652 | lr: 3.13e-04 | 0.030s per step\n",
      "[INFO][06/15/2020 21:15:49] Metrics at step 7364:\n",
      "[INFO][06/15/2020 21:15:49] loss: 0.31701957\n",
      "[INFO][06/15/2020 21:15:49] accuracy: 86.93%\n",
      "[INFO][06/15/2020 21:15:49] ====================Epoch 8====================\n",
      "[INFO][06/15/2020 21:15:51] Step  7455 | loss 0.17306357 | lr: 2.95e-04 | 0.028s per step\n",
      "[INFO][06/15/2020 21:15:54] Step  7560 | loss 0.15858793 | lr: 2.77e-04 | 0.030s per step\n",
      "[INFO][06/15/2020 21:15:57] Step  7665 | loss 0.16598185 | lr: 2.60e-04 | 0.029s per step\n",
      "[INFO][06/15/2020 21:16:00] Step  7770 | loss 0.17621192 | lr: 2.43e-04 | 0.029s per step\n",
      "[INFO][06/15/2020 21:16:03] Step  7875 | loss 0.17354902 | lr: 2.26e-04 | 0.029s per step\n",
      "[INFO][06/15/2020 21:16:04] Metrics at step 7890:\n",
      "[INFO][06/15/2020 21:16:04] loss: 0.32887552\n",
      "[INFO][06/15/2020 21:16:04] accuracy: 85.78%\n",
      "[INFO][06/15/2020 21:16:07] Step  7980 | loss 0.17763378 | lr: 2.10e-04 | 0.030s per step\n",
      "[INFO][06/15/2020 21:16:10] Step  8085 | loss 0.17157167 | lr: 1.94e-04 | 0.030s per step\n",
      "[INFO][06/15/2020 21:16:13] Step  8190 | loss 0.17267631 | lr: 1.79e-04 | 0.029s per step\n",
      "[INFO][06/15/2020 21:16:16] Step  8295 | loss 0.16992144 | lr: 1.64e-04 | 0.028s per step\n",
      "[INFO][06/15/2020 21:16:19] Step  8400 | loss 0.16900318 | lr: 1.50e-04 | 0.029s per step\n",
      "[INFO][06/15/2020 21:16:19] Metrics at step 8416:\n",
      "[INFO][06/15/2020 21:16:19] loss: 0.35068323\n",
      "[INFO][06/15/2020 21:16:19] accuracy: 86.47%\n",
      "[INFO][06/15/2020 21:16:20] ====================Epoch 9====================\n",
      "[INFO][06/15/2020 21:16:22] Step  8505 | loss 0.15367807 | lr: 1.36e-04 | 0.030s per step\n",
      "[INFO][06/15/2020 21:16:25] Step  8610 | loss 0.15907331 | lr: 1.23e-04 | 0.030s per step\n",
      "[INFO][06/15/2020 21:16:28] Step  8715 | loss 0.15661313 | lr: 1.10e-04 | 0.029s per step\n",
      "[INFO][06/15/2020 21:16:31] Step  8820 | loss 0.16406358 | lr: 9.85e-05 | 0.029s per step\n",
      "[INFO][06/15/2020 21:16:34] Step  8925 | loss 0.16120162 | lr: 8.71e-05 | 0.029s per step\n",
      "[INFO][06/15/2020 21:16:35] Metrics at step 8942:\n",
      "[INFO][06/15/2020 21:16:35] loss: 0.34386287\n",
      "[INFO][06/15/2020 21:16:35] accuracy: 86.01%\n",
      "[INFO][06/15/2020 21:16:37] Step  9030 | loss 0.16306868 | lr: 7.64e-05 | 0.029s per step\n",
      "[INFO][06/15/2020 21:16:40] Step  9135 | loss 0.15653122 | lr: 6.63e-05 | 0.029s per step\n"
     ]
    },
    {
     "name": "stdout",
     "output_type": "stream",
     "text": [
      "Gradient overflow.  Skipping step, loss scaler 0 reducing loss scale to 131072.0\n"
     ]
    },
    {
     "name": "stderr",
     "output_type": "stream",
     "text": [
      "[INFO][06/15/2020 21:16:43] Step  9240 | loss 0.14902027 | lr: 5.69e-05 | 0.029s per step\n",
      "[INFO][06/15/2020 21:16:47] Step  9345 | loss 0.15236143 | lr: 4.82e-05 | 0.030s per step\n",
      "[INFO][06/15/2020 21:16:50] Step  9450 | loss 0.15284705 | lr: 4.01e-05 | 0.030s per step\n",
      "[INFO][06/15/2020 21:16:50] Metrics at step 9468:\n",
      "[INFO][06/15/2020 21:16:50] loss: 0.34211946\n",
      "[INFO][06/15/2020 21:16:50] accuracy: 86.93%\n",
      "[INFO][06/15/2020 21:16:51] ====================Epoch 10====================\n",
      "[INFO][06/15/2020 21:16:53] Step  9555 | loss 0.16034573 | lr: 3.28e-05 | 0.030s per step\n",
      "[INFO][06/15/2020 21:16:56] Step  9660 | loss 0.14514064 | lr: 2.62e-05 | 0.030s per step\n",
      "[INFO][06/15/2020 21:16:59] Step  9765 | loss 0.14388169 | lr: 2.03e-05 | 0.029s per step\n",
      "[INFO][06/15/2020 21:17:02] Step  9870 | loss 0.14752400 | lr: 1.51e-05 | 0.028s per step\n",
      "[INFO][06/15/2020 21:17:05] Step  9975 | loss 0.14684270 | lr: 1.07e-05 | 0.028s per step\n",
      "[INFO][06/15/2020 21:17:05] Metrics at step 9994:\n",
      "[INFO][06/15/2020 21:17:05] loss: 0.35130118\n",
      "[INFO][06/15/2020 21:17:05] accuracy: 86.70%\n",
      "[INFO][06/15/2020 21:17:08] Step 10080 | loss 0.13311143 | lr: 7.06e-06 | 0.028s per step\n",
      "[INFO][06/15/2020 21:17:11] Step 10185 | loss 0.13985487 | lr: 4.16e-06 | 0.028s per step\n",
      "[INFO][06/15/2020 21:17:14] Step 10290 | loss 0.15461507 | lr: 2.02e-06 | 0.029s per step\n",
      "[INFO][06/15/2020 21:17:17] Step 10395 | loss 0.15748323 | lr: 6.44e-07 | 0.028s per step\n",
      "[INFO][06/15/2020 21:17:20] Step 10500 | loss 0.15153563 | lr: 3.34e-08 | 0.028s per step\n",
      "[INFO][06/15/2020 21:17:20] Metrics at step 10520:\n",
      "[INFO][06/15/2020 21:17:20] loss: 0.34001524\n",
      "[INFO][06/15/2020 21:17:20] accuracy: 86.93%\n",
      "[INFO][06/15/2020 21:17:21] Training finished. Best step(s):\n",
      "[INFO][06/15/2020 21:17:21] loss: 0.29697493 @ step 5786\n",
      "[INFO][06/15/2020 21:17:21] accuracy: 88.07% @ step 5786\n"
     ]
    }
   ],
   "source": [
    "print(total_steps)\n",
    "\n",
    "bot.train(\n",
    "    total_steps=total_steps,\n",
    "    checkpoint_interval=len(train_loader) // 2\n",
    ")\n",
    "bot.load_model(checkpoints.best_performers[0][1])\n",
    "checkpoints.remove_checkpoints(keep=0)"
   ]
  },
  {
   "cell_type": "code",
   "execution_count": 23,
   "metadata": {},
   "outputs": [],
   "source": [
    "# TARGET_DIR = CACHE_DIR / \"sst2_bert_uncased\"\n",
    "# TARGET_DIR.mkdir(exist_ok=True)\n",
    "# bot.model.save_pretrained(TARGET_DIR)"
   ]
  },
  {
   "cell_type": "code",
   "execution_count": 24,
   "metadata": {},
   "outputs": [
    {
     "data": {
      "text/plain": [
       "{'loss': (0.29697493019453974, '0.29697493'),\n",
       " 'accuracy': (-0.8807339449541285, '88.07%')}"
      ]
     },
     "execution_count": 24,
     "metadata": {},
     "output_type": "execute_result"
    }
   ],
   "source": [
    "bot.eval(valid_loader)"
   ]
  },
  {
   "cell_type": "code",
   "execution_count": 25,
   "metadata": {},
   "outputs": [
    {
     "data": {
      "text/plain": [
       "{'loss': (0.3411313125846583, '0.34113131'),\n",
       " 'accuracy': (-0.8577981651376146, '85.78%')}"
      ]
     },
     "execution_count": 25,
     "metadata": {},
     "output_type": "execute_result"
    }
   ],
   "source": [
    "bot.eval(test_loader)"
   ]
  },
  {
   "cell_type": "code",
   "execution_count": 26,
   "metadata": {},
   "outputs": [],
   "source": [
    "# tokenizer.pad_token_id"
   ]
  }
 ],
 "metadata": {
  "kernelspec": {
   "display_name": "Python 3.7.6 64-bit ('rapids': conda)",
   "language": "python",
   "name": "python37664bitrapidsconda05ea436670824d2ebed703c8c53b011e"
  },
  "language_info": {
   "codemirror_mode": {
    "name": "ipython",
    "version": 3
   },
   "file_extension": ".py",
   "mimetype": "text/x-python",
   "name": "python",
   "nbconvert_exporter": "python",
   "pygments_lexer": "ipython3",
   "version": "3.7.6"
  }
 },
 "nbformat": 4,
 "nbformat_minor": 4
}
