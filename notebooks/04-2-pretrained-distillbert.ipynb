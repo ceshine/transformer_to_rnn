{
 "cells": [
  {
   "cell_type": "code",
   "execution_count": 1,
   "metadata": {},
   "outputs": [
    {
     "name": "stdout",
     "output_type": "stream",
     "text": [
      "/mnt/SSD_Data/active_projects/transformer_to_lstm\n"
     ]
    }
   ],
   "source": [
    "%cd .."
   ]
  },
  {
   "cell_type": "code",
   "execution_count": 2,
   "metadata": {},
   "outputs": [],
   "source": [
    "import os\n",
    "\n",
    "os.environ['SEED'] = \"42\"\n",
    "\n",
    "import dataclasses\n",
    "from pathlib import Path\n",
    "import warnings\n",
    "\n",
    "import nlp\n",
    "import torch\n",
    "import numpy as np\n",
    "import torch.nn.functional as F\n",
    "from transformers import (\n",
    "    BertForSequenceClassification,\n",
    "    DistilBertForSequenceClassification\n",
    ")\n",
    "from torch.optim.lr_scheduler import CosineAnnealingLR\n",
    "from sklearn.model_selection import train_test_split\n",
    "\n",
    "from pytorch_helper_bot import (\n",
    "    BaseBot, MovingAverageStatsTrackerCallback,  CheckpointCallback,\n",
    "    LearningRateSchedulerCallback, MultiStageScheduler, Top1Accuracy,\n",
    "    LinearLR, Callback\n",
    ")\n",
    "\n",
    "try:\n",
    "    from apex import amp\n",
    "    APEX_AVAILABLE = True\n",
    "except ModuleNotFoundError:\n",
    "    APEX_AVAILABLE = False\n"
   ]
  },
  {
   "cell_type": "code",
   "execution_count": 3,
   "metadata": {},
   "outputs": [],
   "source": [
    "CACHE_DIR = Path(\"cache/\")\n",
    "CACHE_DIR.mkdir(exist_ok=True)"
   ]
  },
  {
   "cell_type": "code",
   "execution_count": 4,
   "metadata": {},
   "outputs": [],
   "source": [
    "class SST2Dataset(torch.utils.data.Dataset):\n",
    "    def __init__(self, entries_dict, temperature=1):\n",
    "        super().__init__()\n",
    "        self.entries_dict = entries_dict\n",
    "        self.temperature = temperature\n",
    "    \n",
    "    def __len__(self):\n",
    "        return len(self.entries_dict[\"label\"])\n",
    "    \n",
    "    def __getitem__(self, idx):\n",
    "        return (\n",
    "            self.entries_dict[\"input_ids\"][idx],\n",
    "            self.entries_dict[\"attention_mask\"][idx],\n",
    "            {\n",
    "                \"label\": self.entries_dict[\"label\"][idx], \n",
    "                \"logits\": self.entries_dict[\"logits\"][idx] / self.temperature\n",
    "            }\n",
    "        )"
   ]
  },
  {
   "cell_type": "code",
   "execution_count": 5,
   "metadata": {},
   "outputs": [],
   "source": [
    "train_dict, valid_dict, test_dict = torch.load(str(CACHE_DIR / \"distill-dicts-augmented.jbl\"))"
   ]
  },
  {
   "cell_type": "code",
   "execution_count": 6,
   "metadata": {},
   "outputs": [],
   "source": [
    "# Instantiate a PyTorch Dataloader around our dataset\n",
    "TEMPERATURE = 2.\n",
    "train_loader = torch.utils.data.DataLoader(SST2Dataset(train_dict, temperature=TEMPERATURE), batch_size=64, shuffle=True)\n",
    "valid_loader = torch.utils.data.DataLoader(SST2Dataset(valid_dict, temperature=TEMPERATURE), batch_size=64, drop_last=False)\n",
    "test_loader = torch.utils.data.DataLoader(SST2Dataset(test_dict, temperature=1.), batch_size=64, drop_last=False)"
   ]
  },
  {
   "cell_type": "code",
   "execution_count": 7,
   "metadata": {},
   "outputs": [],
   "source": [
    "ALPHA = 0\n",
    "DISTILL_OBJECTIVE = torch.nn.MSELoss()\n",
    "\n",
    "def cross_entropy(logits, targets):\n",
    "    targets = F.softmax(targets, dim=-1)\n",
    "    return -(targets * F.log_softmax(logits, dim=-1)).sum(dim=1).mean()\n",
    "\n",
    "def distill_loss(logits, targets):\n",
    "#     distill_part = F.binary_cross_entropy_with_logits(\n",
    "#         logits[:, 1], targets[\"logits\"][:, 1]\n",
    "#     )\n",
    "    distill_part = cross_entropy(\n",
    "        logits, targets[\"logits\"]\n",
    "    )\n",
    "    classification_part = F.cross_entropy(\n",
    "        logits, targets[\"label\"]\n",
    "    )\n",
    "    return ALPHA * classification_part + (1-ALPHA) * distill_part"
   ]
  },
  {
   "cell_type": "code",
   "execution_count": 8,
   "metadata": {},
   "outputs": [],
   "source": [
    "bert_model = BertForSequenceClassification.from_pretrained(str(CACHE_DIR / \"sst2_bert_uncased\")).cpu()"
   ]
  },
  {
   "cell_type": "code",
   "execution_count": 9,
   "metadata": {},
   "outputs": [
    {
     "data": {
      "text/plain": [
       "torch.Size([30522, 768])"
      ]
     },
     "execution_count": 9,
     "metadata": {},
     "output_type": "execute_result"
    }
   ],
   "source": [
    "bert_model.bert.embeddings.word_embeddings.weight.shape"
   ]
  },
  {
   "cell_type": "code",
   "execution_count": 10,
   "metadata": {},
   "outputs": [],
   "source": [
    "distill_bert_model = DistilBertForSequenceClassification.from_pretrained(\"distilbert-base-uncased\")"
   ]
  },
  {
   "cell_type": "code",
   "execution_count": 11,
   "metadata": {},
   "outputs": [
    {
     "data": {
      "text/plain": [
       "torch.Size([512, 768])"
      ]
     },
     "execution_count": 11,
     "metadata": {},
     "output_type": "execute_result"
    }
   ],
   "source": [
    "bert_model.bert.embeddings.position_embeddings.weight.data.shape"
   ]
  },
  {
   "cell_type": "code",
   "execution_count": 12,
   "metadata": {},
   "outputs": [],
   "source": [
    "# distill_bert_model.distilbert.embeddings.word_embeddings.weight.data = bert_model.bert.embeddings.word_embeddings.weight.data\n",
    "# distill_bert_model.distilbert.embeddings.position_embeddings.weight.data = bert_model.bert.embeddings.position_embeddings.weight.data[:128]"
   ]
  },
  {
   "cell_type": "code",
   "execution_count": 13,
   "metadata": {},
   "outputs": [],
   "source": [
    "# Freeze the embedding layer\n",
    "# for param in distill_bert_model.distilbert.embeddings.parameters():\n",
    "#     param.requires_grad = False"
   ]
  },
  {
   "cell_type": "code",
   "execution_count": 14,
   "metadata": {},
   "outputs": [],
   "source": [
    "distill_bert_model =distill_bert_model.cuda()"
   ]
  },
  {
   "cell_type": "code",
   "execution_count": 15,
   "metadata": {},
   "outputs": [],
   "source": [
    "del bert_model"
   ]
  },
  {
   "cell_type": "code",
   "execution_count": 16,
   "metadata": {},
   "outputs": [],
   "source": [
    "optimizer = torch.optim.Adam(distill_bert_model.parameters(), lr=2e-5, betas=(0.9, 0.99))"
   ]
  },
  {
   "cell_type": "code",
   "execution_count": 17,
   "metadata": {},
   "outputs": [
    {
     "name": "stdout",
     "output_type": "stream",
     "text": [
      "Selected optimization level O1:  Insert automatic casts around Pytorch functions and Tensor methods.\n",
      "\n",
      "Defaults for this optimization level are:\n",
      "enabled                : True\n",
      "opt_level              : O1\n",
      "cast_model_type        : None\n",
      "patch_torch_functions  : True\n",
      "keep_batchnorm_fp32    : None\n",
      "master_weights         : None\n",
      "loss_scale             : dynamic\n",
      "Processing user overrides (additional kwargs that are not None)...\n",
      "After processing overrides, optimization options are:\n",
      "enabled                : True\n",
      "opt_level              : O1\n",
      "cast_model_type        : None\n",
      "patch_torch_functions  : True\n",
      "keep_batchnorm_fp32    : None\n",
      "master_weights         : None\n",
      "loss_scale             : dynamic\n"
     ]
    }
   ],
   "source": [
    "if APEX_AVAILABLE:\n",
    "    distill_bert_model, optimizer = amp.initialize(\n",
    "        distill_bert_model, optimizer, opt_level=\"O1\"\n",
    "    )"
   ]
  },
  {
   "cell_type": "code",
   "execution_count": 18,
   "metadata": {},
   "outputs": [],
   "source": [
    "class DistillTop1Accuracy(Top1Accuracy):\n",
    "    def __call__(self, truth, pred):\n",
    "        truth = truth[\"label\"]\n",
    "        return super().__call__(truth, pred)"
   ]
  },
  {
   "cell_type": "code",
   "execution_count": 19,
   "metadata": {},
   "outputs": [],
   "source": [
    "@dataclasses.dataclass\n",
    "class SST2Bot(BaseBot):\n",
    "    log_dir = CACHE_DIR / \"logs\"\n",
    "    \n",
    "    def __post_init__(self):\n",
    "        super().__post_init__()\n",
    "        self.loss_format = \"%.6f\"\n",
    "\n",
    "    @staticmethod\n",
    "    def extract_prediction(output):\n",
    "        return output[0]"
   ]
  },
  {
   "cell_type": "code",
   "execution_count": 20,
   "metadata": {},
   "outputs": [
    {
     "name": "stderr",
     "output_type": "stream",
     "text": [
      "[INFO][07/01/2020 21:13:08] SEED: 42\n",
      "[INFO][07/01/2020 21:13:08] # of parameters: 66,955,010\n",
      "[INFO][07/01/2020 21:13:08] # of trainable parameters: 66,955,010\n"
     ]
    }
   ],
   "source": [
    "total_steps = len(train_loader) * 5\n",
    "\n",
    "checkpoints = CheckpointCallback(\n",
    "    keep_n_checkpoints=1,\n",
    "    checkpoint_dir=CACHE_DIR / \"distill_model_cache/\",\n",
    "    monitor_metric=\"loss\"\n",
    ")\n",
    "lr_durations = [\n",
    "    int(total_steps*0.2),\n",
    "    int(np.ceil(total_steps*0.8))\n",
    "]\n",
    "break_points = [0] + list(np.cumsum(lr_durations))[:-1]\n",
    "callbacks = [\n",
    "    MovingAverageStatsTrackerCallback(\n",
    "        avg_window=len(train_loader) // 8,\n",
    "        log_interval=len(train_loader) // 10\n",
    "    ),\n",
    "    LearningRateSchedulerCallback(\n",
    "        MultiStageScheduler(\n",
    "            [\n",
    "                LinearLR(optimizer, 0.01, lr_durations[0]),\n",
    "                CosineAnnealingLR(optimizer, lr_durations[1])\n",
    "            ],\n",
    "            start_at_epochs=break_points\n",
    "        )\n",
    "    ),\n",
    "    checkpoints\n",
    "]\n",
    "    \n",
    "bot = SST2Bot(\n",
    "    log_dir = CACHE_DIR / \"distill_logs\",\n",
    "    model=distill_bert_model, \n",
    "    train_loader=train_loader,\n",
    "    valid_loader=valid_loader, \n",
    "    clip_grad=10.,\n",
    "    optimizer=optimizer, echo=True,\n",
    "    criterion=distill_loss,\n",
    "    callbacks=callbacks,\n",
    "    pbar=False, use_tensorboard=False,\n",
    "    use_amp=APEX_AVAILABLE,\n",
    "    metrics=(DistillTop1Accuracy(),)\n",
    ")"
   ]
  },
  {
   "cell_type": "code",
   "execution_count": 21,
   "metadata": {},
   "outputs": [
    {
     "name": "stderr",
     "output_type": "stream",
     "text": [
      "[INFO][07/01/2020 21:13:08] Optimizer Adam (\n",
      "Parameter Group 0\n",
      "    amsgrad: False\n",
      "    betas: (0.9, 0.99)\n",
      "    eps: 1e-08\n",
      "    initial_lr: 2e-05\n",
      "    lr: 2e-05\n",
      "    weight_decay: 0\n",
      ")\n",
      "[INFO][07/01/2020 21:13:08] Batches per epoch: 3157\n",
      "[INFO][07/01/2020 21:13:08] ====================Epoch 1====================\n"
     ]
    },
    {
     "name": "stdout",
     "output_type": "stream",
     "text": [
      "15785\n"
     ]
    },
    {
     "name": "stderr",
     "output_type": "stream",
     "text": [
      "[INFO][07/01/2020 21:13:38] Step   315 | loss 0.632218 | lr: 2.18e-06 | 0.095s per step\n"
     ]
    },
    {
     "name": "stdout",
     "output_type": "stream",
     "text": [
      "Gradient overflow.  Skipping step, loss scaler 0 reducing loss scale to 32768.0\n"
     ]
    },
    {
     "name": "stderr",
     "output_type": "stream",
     "text": [
      "[INFO][07/01/2020 21:14:07] Step   630 | loss 0.437308 | lr: 4.15e-06 | 0.093s per step\n",
      "[INFO][07/01/2020 21:14:36] Step   945 | loss 0.383704 | lr: 6.13e-06 | 0.092s per step\n",
      "[INFO][07/01/2020 21:15:05] Step  1260 | loss 0.364518 | lr: 8.10e-06 | 0.092s per step\n",
      "[INFO][07/01/2020 21:15:34] Step  1575 | loss 0.350856 | lr: 1.01e-05 | 0.092s per step\n",
      "[INFO][07/01/2020 21:15:35] Metrics at step 1578:\n",
      "[INFO][07/01/2020 21:15:35] loss: 0.306696\n",
      "[INFO][07/01/2020 21:15:35] accuracy: 88.76%\n",
      "[INFO][07/01/2020 21:16:04] Step  1890 | loss 0.333983 | lr: 1.21e-05 | 0.094s per step\n",
      "[INFO][07/01/2020 21:16:33] Step  2205 | loss 0.322254 | lr: 1.40e-05 | 0.092s per step\n",
      "[INFO][07/01/2020 21:17:01] Step  2520 | loss 0.312666 | lr: 1.60e-05 | 0.092s per step\n",
      "[INFO][07/01/2020 21:17:30] Step  2835 | loss 0.308547 | lr: 1.80e-05 | 0.092s per step\n"
     ]
    },
    {
     "name": "stdout",
     "output_type": "stream",
     "text": [
      "Gradient overflow.  Skipping step, loss scaler 0 reducing loss scale to 32768.0\n"
     ]
    },
    {
     "name": "stderr",
     "output_type": "stream",
     "text": [
      "[INFO][07/01/2020 21:17:59] Step  3150 | loss 0.303859 | lr: 2.00e-05 | 0.092s per step\n",
      "[INFO][07/01/2020 21:18:00] Metrics at step 3156:\n",
      "[INFO][07/01/2020 21:18:00] loss: 0.292737\n",
      "[INFO][07/01/2020 21:18:00] accuracy: 90.14%\n",
      "[INFO][07/01/2020 21:18:01] ====================Epoch 2====================\n",
      "[INFO][07/01/2020 21:18:29] Step  3465 | loss 0.294506 | lr: 2.00e-05 | 0.094s per step\n",
      "[INFO][07/01/2020 21:18:58] Step  3780 | loss 0.292304 | lr: 1.99e-05 | 0.092s per step\n",
      "[INFO][07/01/2020 21:19:27] Step  4095 | loss 0.291308 | lr: 1.97e-05 | 0.092s per step\n",
      "[INFO][07/01/2020 21:19:56] Step  4410 | loss 0.289131 | lr: 1.95e-05 | 0.092s per step\n",
      "[INFO][07/01/2020 21:20:24] Step  4725 | loss 0.288863 | lr: 1.93e-05 | 0.092s per step\n",
      "[INFO][07/01/2020 21:20:25] Metrics at step 4734:\n",
      "[INFO][07/01/2020 21:20:25] loss: 0.284858\n",
      "[INFO][07/01/2020 21:20:25] accuracy: 90.60%\n",
      "[INFO][07/01/2020 21:20:54] Step  5040 | loss 0.286733 | lr: 1.89e-05 | 0.094s per step\n",
      "[INFO][07/01/2020 21:21:23] Step  5355 | loss 0.283754 | lr: 1.86e-05 | 0.092s per step\n",
      "[INFO][07/01/2020 21:21:52] Step  5670 | loss 0.284100 | lr: 1.81e-05 | 0.092s per step\n",
      "[INFO][07/01/2020 21:22:21] Step  5985 | loss 0.282624 | lr: 1.76e-05 | 0.092s per step\n",
      "[INFO][07/01/2020 21:22:50] Step  6300 | loss 0.283168 | lr: 1.71e-05 | 0.092s per step\n",
      "[INFO][07/01/2020 21:22:51] Metrics at step 6312:\n",
      "[INFO][07/01/2020 21:22:51] loss: 0.284693\n",
      "[INFO][07/01/2020 21:22:51] accuracy: 91.28%\n",
      "[INFO][07/01/2020 21:22:52] ====================Epoch 3====================\n",
      "[INFO][07/01/2020 21:23:19] Step  6615 | loss 0.278762 | lr: 1.65e-05 | 0.094s per step\n",
      "[INFO][07/01/2020 21:23:48] Step  6930 | loss 0.276703 | lr: 1.59e-05 | 0.093s per step\n",
      "[INFO][07/01/2020 21:24:18] Step  7245 | loss 0.277486 | lr: 1.53e-05 | 0.095s per step\n",
      "[INFO][07/01/2020 21:24:48] Step  7560 | loss 0.277705 | lr: 1.46e-05 | 0.092s per step\n",
      "[INFO][07/01/2020 21:25:17] Step  7875 | loss 0.275658 | lr: 1.39e-05 | 0.094s per step\n",
      "[INFO][07/01/2020 21:25:19] Metrics at step 7890:\n",
      "[INFO][07/01/2020 21:25:19] loss: 0.279897\n",
      "[INFO][07/01/2020 21:25:19] accuracy: 91.28%\n",
      "[INFO][07/01/2020 21:25:48] Step  8190 | loss 0.277020 | lr: 1.31e-05 | 0.096s per step\n",
      "[INFO][07/01/2020 21:26:17] Step  8505 | loss 0.275713 | lr: 1.24e-05 | 0.093s per step\n",
      "[INFO][07/01/2020 21:26:46] Step  8820 | loss 0.274487 | lr: 1.16e-05 | 0.092s per step\n",
      "[INFO][07/01/2020 21:27:15] Step  9135 | loss 0.275507 | lr: 1.08e-05 | 0.092s per step\n",
      "[INFO][07/01/2020 21:27:44] Step  9450 | loss 0.274433 | lr: 1.01e-05 | 0.092s per step\n",
      "[INFO][07/01/2020 21:27:46] Metrics at step 9468:\n",
      "[INFO][07/01/2020 21:27:46] loss: 0.283127\n",
      "[INFO][07/01/2020 21:27:46] accuracy: 91.28%\n",
      "[INFO][07/01/2020 21:27:46] ====================Epoch 4====================\n",
      "[INFO][07/01/2020 21:28:13] Step  9765 | loss 0.272973 | lr: 9.28e-06 | 0.093s per step\n",
      "[INFO][07/01/2020 21:28:42] Step 10080 | loss 0.273205 | lr: 8.50e-06 | 0.092s per step\n",
      "[INFO][07/01/2020 21:29:11] Step 10395 | loss 0.271538 | lr: 7.73e-06 | 0.092s per step\n",
      "[INFO][07/01/2020 21:29:40] Step 10710 | loss 0.272413 | lr: 6.97e-06 | 0.092s per step\n"
     ]
    },
    {
     "name": "stdout",
     "output_type": "stream",
     "text": [
      "Gradient overflow.  Skipping step, loss scaler 0 reducing loss scale to 131072.0\n"
     ]
    },
    {
     "name": "stderr",
     "output_type": "stream",
     "text": [
      "[INFO][07/01/2020 21:30:09] Step 11025 | loss 0.272045 | lr: 6.24e-06 | 0.092s per step\n",
      "[INFO][07/01/2020 21:30:11] Metrics at step 11046:\n",
      "[INFO][07/01/2020 21:30:11] loss: 0.272128\n",
      "[INFO][07/01/2020 21:30:11] accuracy: 92.20%\n",
      "[INFO][07/01/2020 21:30:39] Step 11340 | loss 0.272244 | lr: 5.52e-06 | 0.095s per step\n",
      "[INFO][07/01/2020 21:31:08] Step 11655 | loss 0.271524 | lr: 4.84e-06 | 0.092s per step\n",
      "[INFO][07/01/2020 21:31:37] Step 11970 | loss 0.270636 | lr: 4.18e-06 | 0.092s per step\n",
      "[INFO][07/01/2020 21:32:06] Step 12285 | loss 0.271408 | lr: 3.56e-06 | 0.092s per step\n",
      "[INFO][07/01/2020 21:32:35] Step 12600 | loss 0.271894 | lr: 2.98e-06 | 0.092s per step\n",
      "[INFO][07/01/2020 21:32:37] Metrics at step 12624:\n",
      "[INFO][07/01/2020 21:32:37] loss: 0.270088\n",
      "[INFO][07/01/2020 21:32:37] accuracy: 91.97%\n",
      "[INFO][07/01/2020 21:32:38] ====================Epoch 5====================\n",
      "[INFO][07/01/2020 21:33:04] Step 12915 | loss 0.270533 | lr: 2.45e-06 | 0.095s per step\n",
      "[INFO][07/01/2020 21:33:33] Step 13230 | loss 0.270737 | lr: 1.96e-06 | 0.092s per step\n",
      "[INFO][07/01/2020 21:34:02] Step 13545 | loss 0.270650 | lr: 1.52e-06 | 0.092s per step\n",
      "[INFO][07/01/2020 21:34:31] Step 13860 | loss 0.271326 | lr: 1.13e-06 | 0.092s per step\n",
      "[INFO][07/01/2020 21:35:00] Step 14175 | loss 0.268425 | lr: 7.93e-07 | 0.092s per step\n",
      "[INFO][07/01/2020 21:35:03] Metrics at step 14202:\n",
      "[INFO][07/01/2020 21:35:03] loss: 0.270773\n",
      "[INFO][07/01/2020 21:35:03] accuracy: 91.74%\n",
      "[INFO][07/01/2020 21:35:29] Step 14490 | loss 0.271458 | lr: 5.16e-07 | 0.092s per step\n",
      "[INFO][07/01/2020 21:35:58] Step 14805 | loss 0.269481 | lr: 2.97e-07 | 0.092s per step\n"
     ]
    },
    {
     "name": "stdout",
     "output_type": "stream",
     "text": [
      "Gradient overflow.  Skipping step, loss scaler 0 reducing loss scale to 262144.0\n"
     ]
    },
    {
     "name": "stderr",
     "output_type": "stream",
     "text": [
      "[INFO][07/01/2020 21:36:27] Step 15120 | loss 0.270291 | lr: 1.37e-07 | 0.092s per step\n"
     ]
    },
    {
     "name": "stdout",
     "output_type": "stream",
     "text": [
      "Gradient overflow.  Skipping step, loss scaler 0 reducing loss scale to 131072.0\n"
     ]
    },
    {
     "name": "stderr",
     "output_type": "stream",
     "text": [
      "[INFO][07/01/2020 21:36:56] Step 15435 | loss 0.272322 | lr: 3.81e-08 | 0.092s per step\n",
      "[INFO][07/01/2020 21:37:25] Step 15750 | loss 0.269410 | lr: 4.01e-10 | 0.092s per step\n",
      "[INFO][07/01/2020 21:37:28] Metrics at step 15780:\n",
      "[INFO][07/01/2020 21:37:28] loss: 0.271371\n",
      "[INFO][07/01/2020 21:37:28] accuracy: 91.74%\n",
      "[INFO][07/01/2020 21:37:29] Training finished. Best step(s):\n",
      "[INFO][07/01/2020 21:37:29] loss: 0.270088 @ step 12624\n",
      "[INFO][07/01/2020 21:37:29] accuracy: 92.20% @ step 11046\n"
     ]
    }
   ],
   "source": [
    "print(total_steps)\n",
    "\n",
    "bot.train(\n",
    "    total_steps=total_steps,\n",
    "    checkpoint_interval=len(train_loader) // 2\n",
    ")\n",
    "bot.load_model(checkpoints.best_performers[0][1])\n",
    "checkpoints.remove_checkpoints(keep=0)"
   ]
  },
  {
   "cell_type": "code",
   "execution_count": 22,
   "metadata": {},
   "outputs": [
    {
     "data": {
      "text/plain": [
       "{'loss': (0.27008805581189077, '0.270088'),\n",
       " 'accuracy': (-0.9197247706422018, '91.97%')}"
      ]
     },
     "execution_count": 22,
     "metadata": {},
     "output_type": "execute_result"
    }
   ],
   "source": [
    "bot.eval(valid_loader)"
   ]
  },
  {
   "cell_type": "code",
   "execution_count": 23,
   "metadata": {},
   "outputs": [
    {
     "data": {
      "text/plain": [
       "{'loss': (0.1434098145830522, '0.143410'),\n",
       " 'accuracy': (-0.9105504587155964, '91.06%')}"
      ]
     },
     "execution_count": 23,
     "metadata": {},
     "output_type": "execute_result"
    }
   ],
   "source": [
    "bot.eval(test_loader)"
   ]
  },
  {
   "cell_type": "code",
   "execution_count": null,
   "metadata": {},
   "outputs": [],
   "source": []
  }
 ],
 "metadata": {
  "kernelspec": {
   "display_name": "Python 3",
   "language": "python",
   "name": "python3"
  },
  "language_info": {
   "codemirror_mode": {
    "name": "ipython",
    "version": 3
   },
   "file_extension": ".py",
   "mimetype": "text/x-python",
   "name": "python",
   "nbconvert_exporter": "python",
   "pygments_lexer": "ipython3",
   "version": "3.8.3"
  }
 },
 "nbformat": 4,
 "nbformat_minor": 4
}
