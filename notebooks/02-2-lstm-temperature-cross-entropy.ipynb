{
 "cells": [
  {
   "cell_type": "code",
   "execution_count": 1,
   "metadata": {},
   "outputs": [
    {
     "name": "stdout",
     "output_type": "stream",
     "text": [
      "/mnt/SSD_Data/active_projects/transformer_to_lstm\n"
     ]
    }
   ],
   "source": [
    "%cd .."
   ]
  },
  {
   "cell_type": "code",
   "execution_count": 2,
   "metadata": {},
   "outputs": [],
   "source": [
    "import dataclasses\n",
    "from pathlib import Path\n",
    "import warnings\n",
    "\n",
    "import nlp\n",
    "import torch\n",
    "import numpy as np\n",
    "import torch.nn.functional as F\n",
    "from transformers import BertForSequenceClassification\n",
    "from torch.optim.lr_scheduler import CosineAnnealingLR\n",
    "from sklearn.model_selection import train_test_split\n",
    "\n",
    "from pytorch_helper_bot import (\n",
    "    BaseBot, MovingAverageStatsTrackerCallback,  CheckpointCallback,\n",
    "    LearningRateSchedulerCallback, MultiStageScheduler, Top1Accuracy,\n",
    "    LinearLR, Callback\n",
    ")\n",
    "\n",
    "from nobita.models import get_sequence_model\n",
    "\n",
    "\n",
    "try:\n",
    "    from apex import amp\n",
    "    APEX_AVAILABLE = True\n",
    "except ModuleNotFoundError:\n",
    "    APEX_AVAILABLE = False\n",
    "# APEX_AVAILABLE = False"
   ]
  },
  {
   "cell_type": "code",
   "execution_count": 3,
   "metadata": {},
   "outputs": [],
   "source": [
    "CACHE_DIR = Path(\"cache/\")\n",
    "CACHE_DIR.mkdir(exist_ok=True)"
   ]
  },
  {
   "cell_type": "markdown",
   "metadata": {},
   "source": [
    "Reference:\n",
    "\n",
    "    * https://github.com/huggingface/nlp/blob/master/notebooks/Overview.ipynb"
   ]
  },
  {
   "cell_type": "code",
   "execution_count": 4,
   "metadata": {},
   "outputs": [],
   "source": [
    "class SST2Dataset(torch.utils.data.Dataset):\n",
    "    def __init__(self, entries_dict, temperature=1):\n",
    "        super().__init__()\n",
    "        self.entries_dict = entries_dict\n",
    "        self.temperature = temperature\n",
    "    \n",
    "    def __len__(self):\n",
    "        return len(self.entries_dict[\"label\"])\n",
    "    \n",
    "    def __getitem__(self, idx):\n",
    "        return (\n",
    "            self.entries_dict[\"input_ids\"][idx],\n",
    "            self.entries_dict[\"attention_mask\"][idx].sum(), #input_lengths\n",
    "            {\n",
    "                \"label\": self.entries_dict[\"label\"][idx], \n",
    "                \"logits\": self.entries_dict[\"logits\"][idx] / self.temperature\n",
    "            }\n",
    "        )"
   ]
  },
  {
   "cell_type": "code",
   "execution_count": 5,
   "metadata": {},
   "outputs": [],
   "source": [
    "train_dict, valid_dict, test_dict = torch.load(str(CACHE_DIR / \"distill-dicts.jbl\"))"
   ]
  },
  {
   "cell_type": "code",
   "execution_count": 6,
   "metadata": {},
   "outputs": [],
   "source": [
    "# Instantiate a PyTorch Dataloader around our dataset\n",
    "TEMPERATURE = 1.5\n",
    "train_loader = torch.utils.data.DataLoader(SST2Dataset(train_dict, temperature=TEMPERATURE), batch_size=64, shuffle=True)\n",
    "valid_loader = torch.utils.data.DataLoader(SST2Dataset(valid_dict, temperature=TEMPERATURE), batch_size=64, drop_last=False)\n",
    "test_loader = torch.utils.data.DataLoader(SST2Dataset(test_dict, temperature=TEMPERATURE), batch_size=64, drop_last=False)"
   ]
  },
  {
   "cell_type": "code",
   "execution_count": 7,
   "metadata": {},
   "outputs": [],
   "source": [
    "ALPHA = 0\n",
    "DISTILL_OBJECTIVE = torch.nn.MSELoss()\n",
    "\n",
    "def cross_entropy(logits, targets):\n",
    "    targets = F.softmax(targets, dim=-1)\n",
    "    return -(targets * F.log_softmax(logits, dim=-1)).sum(dim=1).mean()\n",
    "\n",
    "def distill_loss(logits, targets):\n",
    "#     distill_part = F.binary_cross_entropy_with_logits(\n",
    "#         logits[:, 1], targets[\"logits\"][:, 1]\n",
    "#     )\n",
    "    distill_part = cross_entropy(\n",
    "        logits, targets[\"logits\"]\n",
    "    )\n",
    "    classification_part = F.cross_entropy(\n",
    "        logits, targets[\"label\"]\n",
    "    )\n",
    "    return ALPHA * classification_part + (1-ALPHA) * distill_part"
   ]
  },
  {
   "cell_type": "code",
   "execution_count": 8,
   "metadata": {},
   "outputs": [],
   "source": [
    "bert_model = BertForSequenceClassification.from_pretrained(str(CACHE_DIR / \"sst2_bert_uncased\")).cpu()"
   ]
  },
  {
   "cell_type": "code",
   "execution_count": 9,
   "metadata": {},
   "outputs": [
    {
     "data": {
      "text/plain": [
       "torch.Size([30522, 768])"
      ]
     },
     "execution_count": 9,
     "metadata": {},
     "output_type": "execute_result"
    }
   ],
   "source": [
    "bert_model.bert.embeddings.word_embeddings.weight.shape"
   ]
  },
  {
   "cell_type": "code",
   "execution_count": 10,
   "metadata": {},
   "outputs": [],
   "source": [
    "# Note: apex does not support weight dropping\n",
    "model = get_sequence_model(\n",
    "    voc_size=bert_model.bert.embeddings.word_embeddings.weight.shape[0],\n",
    "    emb_size=bert_model.bert.embeddings.word_embeddings.weight.shape[1],\n",
    "    pad_idx = 0,\n",
    "    dropoute = 0,\n",
    "    rnn_hid = 768,\n",
    "    rnn_layers = 3,\n",
    "    bidir = True,\n",
    "    dropouth = 0.25,\n",
    "    dropouti = 0.25,\n",
    "    wdrop = 0,\n",
    "    unit_type = \"lstm\",\n",
    "    fcn_layers = [512, 2],\n",
    "    fcn_dropouts = [0.25, 0.25],\n",
    "    use_attention = True\n",
    ")"
   ]
  },
  {
   "cell_type": "code",
   "execution_count": 11,
   "metadata": {},
   "outputs": [
    {
     "data": {
      "text/plain": [
       "SequenceModel(\n",
       "  (embeddings): BasicEmbeddings(\n",
       "    (encoder): Embedding(30522, 768, padding_idx=0)\n",
       "  )\n",
       "  (encoder): RNNStack(\n",
       "    (rnns): ModuleList(\n",
       "      (0): LSTM(768, 384, bidirectional=True)\n",
       "      (1): LSTM(768, 384, bidirectional=True)\n",
       "      (2): LSTM(768, 384, bidirectional=True)\n",
       "    )\n",
       "    (dropouti): LockedDropout()\n",
       "    (dropouths): ModuleList(\n",
       "      (0): LockedDropout()\n",
       "      (1): LockedDropout()\n",
       "      (2): LockedDropout()\n",
       "    )\n",
       "  )\n",
       "  (fcn): AttentionFCN(\n",
       "    (attention): Attention(768, return attention=False)\n",
       "    (layers): ModuleList(\n",
       "      (0): LinearBlock(\n",
       "        (lin): Linear(in_features=768, out_features=512, bias=True)\n",
       "        (drop): Dropout(p=0.25, inplace=False)\n",
       "        (bn): BatchNorm1d(768, eps=1e-05, momentum=0.1, affine=True, track_running_stats=True)\n",
       "      )\n",
       "      (1): LinearBlock(\n",
       "        (lin): Linear(in_features=512, out_features=2, bias=True)\n",
       "        (drop): Dropout(p=0.25, inplace=False)\n",
       "        (bn): BatchNorm1d(512, eps=1e-05, momentum=0.1, affine=True, track_running_stats=True)\n",
       "      )\n",
       "    )\n",
       "  )\n",
       ")"
      ]
     },
     "execution_count": 11,
     "metadata": {},
     "output_type": "execute_result"
    }
   ],
   "source": [
    "model"
   ]
  },
  {
   "cell_type": "code",
   "execution_count": 12,
   "metadata": {},
   "outputs": [],
   "source": [
    "# Copy the embedding weights to the LSTM model\n",
    "try:\n",
    "    model.embeddings.encoder.emb.weight.data = bert_model.bert.embeddings.word_embeddings.weight.data\n",
    "except:\n",
    "    model.embeddings.encoder.weight.data = bert_model.bert.embeddings.word_embeddings.weight.data"
   ]
  },
  {
   "cell_type": "code",
   "execution_count": 13,
   "metadata": {},
   "outputs": [],
   "source": [
    "# Freeze the embedding layer\n",
    "for param in model.embeddings.encoder.parameters():\n",
    "    param.requires_grad = False"
   ]
  },
  {
   "cell_type": "code",
   "execution_count": 14,
   "metadata": {},
   "outputs": [],
   "source": [
    "model = model.cuda()"
   ]
  },
  {
   "cell_type": "code",
   "execution_count": 15,
   "metadata": {},
   "outputs": [],
   "source": [
    "# Use only leaf tensors\n",
    "parameters = [x for x in model.parameters() if x.is_leaf and x.requires_grad]"
   ]
  },
  {
   "cell_type": "code",
   "execution_count": 16,
   "metadata": {},
   "outputs": [],
   "source": [
    "del bert_model"
   ]
  },
  {
   "cell_type": "code",
   "execution_count": 17,
   "metadata": {},
   "outputs": [],
   "source": [
    "optimizer = torch.optim.Adam(parameters, lr=1e-3, betas=(0.8, 0.99))\n",
    "# optimizer = torch.optim.RMSprop(parameters, lr=0.01)"
   ]
  },
  {
   "cell_type": "code",
   "execution_count": 18,
   "metadata": {},
   "outputs": [
    {
     "name": "stdout",
     "output_type": "stream",
     "text": [
      "Selected optimization level O1:  Insert automatic casts around Pytorch functions and Tensor methods.\n",
      "\n",
      "Defaults for this optimization level are:\n",
      "enabled                : True\n",
      "opt_level              : O1\n",
      "cast_model_type        : None\n",
      "patch_torch_functions  : True\n",
      "keep_batchnorm_fp32    : None\n",
      "master_weights         : None\n",
      "loss_scale             : dynamic\n",
      "Processing user overrides (additional kwargs that are not None)...\n",
      "After processing overrides, optimization options are:\n",
      "enabled                : True\n",
      "opt_level              : O1\n",
      "cast_model_type        : None\n",
      "patch_torch_functions  : True\n",
      "keep_batchnorm_fp32    : None\n",
      "master_weights         : None\n",
      "loss_scale             : dynamic\n"
     ]
    }
   ],
   "source": [
    "if APEX_AVAILABLE:\n",
    "    model, optimizer = amp.initialize(\n",
    "        model, optimizer, opt_level=\"O1\"\n",
    "    )"
   ]
  },
  {
   "cell_type": "code",
   "execution_count": 19,
   "metadata": {},
   "outputs": [],
   "source": [
    "class TransposeCallback(Callback):\n",
    "    def on_batch_inputs(self, bot, input_tensors, targets):\n",
    "        input_tensors = [input_tensors[0].transpose(1, 0), input_tensors[1]]\n",
    "        return input_tensors, targets"
   ]
  },
  {
   "cell_type": "code",
   "execution_count": 20,
   "metadata": {},
   "outputs": [],
   "source": [
    "class DistillTop1Accuracy(Top1Accuracy):\n",
    "    def __call__(self, truth, pred):\n",
    "        truth = truth[\"label\"]\n",
    "        return super().__call__(truth, pred)"
   ]
  },
  {
   "cell_type": "code",
   "execution_count": 21,
   "metadata": {},
   "outputs": [
    {
     "name": "stderr",
     "output_type": "stream",
     "text": [
      "[INFO][06/22/2020 15:51:54] SEED: 9293\n",
      "[INFO][06/22/2020 15:51:54] # of parameters: 34,474,242\n",
      "[INFO][06/22/2020 15:51:54] # of trainable parameters: 11,033,346\n"
     ]
    }
   ],
   "source": [
    "total_steps = len(train_loader) * 10\n",
    "\n",
    "checkpoints = CheckpointCallback(\n",
    "    keep_n_checkpoints=1,\n",
    "    checkpoint_dir=CACHE_DIR / \"distill_model_cache/\",\n",
    "    monitor_metric=\"loss\"\n",
    ")\n",
    "lr_durations = [\n",
    "    int(total_steps*0.2),\n",
    "    int(np.ceil(total_steps*0.8))\n",
    "]\n",
    "break_points = [0] + list(np.cumsum(lr_durations))[:-1]\n",
    "callbacks = [\n",
    "    MovingAverageStatsTrackerCallback(\n",
    "        avg_window=len(train_loader) // 8,\n",
    "        log_interval=len(train_loader) // 10\n",
    "    ),\n",
    "    LearningRateSchedulerCallback(\n",
    "        MultiStageScheduler(\n",
    "            [\n",
    "                LinearLR(optimizer, 0.01, lr_durations[0]),\n",
    "                CosineAnnealingLR(optimizer, lr_durations[1])\n",
    "            ],\n",
    "            start_at_epochs=break_points\n",
    "        )\n",
    "    ),\n",
    "    checkpoints,\n",
    "    TransposeCallback()\n",
    "]\n",
    "    \n",
    "bot = BaseBot(\n",
    "    log_dir = CACHE_DIR / \"distill_logs\",\n",
    "    model=model, \n",
    "    train_loader=train_loader,\n",
    "    valid_loader=valid_loader, \n",
    "    clip_grad=10.,\n",
    "    optimizer=optimizer, echo=True,\n",
    "    criterion=distill_loss,\n",
    "    callbacks=callbacks,\n",
    "    pbar=False, use_tensorboard=False,\n",
    "    use_amp=APEX_AVAILABLE,\n",
    "    metrics=(DistillTop1Accuracy(),)\n",
    ")"
   ]
  },
  {
   "cell_type": "code",
   "execution_count": 22,
   "metadata": {},
   "outputs": [
    {
     "name": "stderr",
     "output_type": "stream",
     "text": [
      "[INFO][06/22/2020 15:51:54] Optimizer Adam (\n",
      "Parameter Group 0\n",
      "    amsgrad: False\n",
      "    betas: (0.8, 0.99)\n",
      "    eps: 1e-08\n",
      "    initial_lr: 0.001\n",
      "    lr: 0.001\n",
      "    weight_decay: 0\n",
      ")\n",
      "[INFO][06/22/2020 15:51:54] Batches per epoch: 1053\n",
      "[INFO][06/22/2020 15:51:54] ====================Epoch 1====================\n"
     ]
    },
    {
     "name": "stdout",
     "output_type": "stream",
     "text": [
      "10530\n"
     ]
    },
    {
     "name": "stderr",
     "output_type": "stream",
     "text": [
      "[INFO][06/22/2020 15:51:58] Step   105 | loss 1.17780637 | lr: 5.94e-05 | 0.035s per step\n",
      "[INFO][06/22/2020 15:52:01] Step   210 | loss 0.98910876 | lr: 1.09e-04 | 0.033s per step\n",
      "[INFO][06/22/2020 15:52:05] Step   315 | loss 0.85117102 | lr: 1.58e-04 | 0.032s per step\n",
      "[INFO][06/22/2020 15:52:08] Step   420 | loss 0.71959808 | lr: 2.08e-04 | 0.032s per step\n",
      "[INFO][06/22/2020 15:52:11] Step   525 | loss 0.64507825 | lr: 2.57e-04 | 0.030s per step\n",
      "[INFO][06/22/2020 15:52:11] Metrics at step 526:\n",
      "[INFO][06/22/2020 15:52:11] loss: 0.55734301\n",
      "[INFO][06/22/2020 15:52:11] accuracy: 69.72%\n",
      "[INFO][06/22/2020 15:52:15] Step   630 | loss 0.59118816 | lr: 3.06e-04 | 0.033s per step\n",
      "[INFO][06/22/2020 15:52:18] Step   735 | loss 0.54600895 | lr: 3.56e-04 | 0.030s per step\n",
      "[INFO][06/22/2020 15:52:21] Step   840 | loss 0.51472845 | lr: 4.05e-04 | 0.029s per step\n",
      "[INFO][06/22/2020 15:52:24] Step   945 | loss 0.49258369 | lr: 4.54e-04 | 0.029s per step\n",
      "[INFO][06/22/2020 15:52:27] Step  1050 | loss 0.46521792 | lr: 5.04e-04 | 0.032s per step\n",
      "[INFO][06/22/2020 15:52:28] Metrics at step 1052:\n",
      "[INFO][06/22/2020 15:52:28] loss: 0.45039619\n",
      "[INFO][06/22/2020 15:52:28] accuracy: 82.80%\n",
      "[INFO][06/22/2020 15:52:28] ====================Epoch 2====================\n"
     ]
    },
    {
     "name": "stdout",
     "output_type": "stream",
     "text": [
      "Gradient overflow.  Skipping step, loss scaler 0 reducing loss scale to 32768.0\n"
     ]
    },
    {
     "name": "stderr",
     "output_type": "stream",
     "text": [
      "[INFO][06/22/2020 15:52:31] Step  1155 | loss 0.47961069 | lr: 5.53e-04 | 0.031s per step\n",
      "[INFO][06/22/2020 15:52:34] Step  1260 | loss 0.48489525 | lr: 6.03e-04 | 0.030s per step\n",
      "[INFO][06/22/2020 15:52:37] Step  1365 | loss 0.45077294 | lr: 6.52e-04 | 0.030s per step\n",
      "[INFO][06/22/2020 15:52:40] Step  1470 | loss 0.44519388 | lr: 7.01e-04 | 0.029s per step\n"
     ]
    },
    {
     "name": "stdout",
     "output_type": "stream",
     "text": [
      "Gradient overflow.  Skipping step, loss scaler 0 reducing loss scale to 16384.0\n"
     ]
    },
    {
     "name": "stderr",
     "output_type": "stream",
     "text": [
      "[INFO][06/22/2020 15:52:43] Step  1575 | loss 0.43673676 | lr: 7.51e-04 | 0.031s per step\n",
      "[INFO][06/22/2020 15:52:43] Metrics at step 1578:\n",
      "[INFO][06/22/2020 15:52:43] loss: 0.42436438\n",
      "[INFO][06/22/2020 15:52:43] accuracy: 81.19%\n",
      "[INFO][06/22/2020 15:52:47] Step  1680 | loss 0.43699961 | lr: 8.00e-04 | 0.032s per step\n",
      "[INFO][06/22/2020 15:52:50] Step  1785 | loss 0.41511272 | lr: 8.50e-04 | 0.028s per step\n",
      "[INFO][06/22/2020 15:52:53] Step  1890 | loss 0.39809678 | lr: 8.99e-04 | 0.028s per step\n",
      "[INFO][06/22/2020 15:52:56] Step  1995 | loss 0.39500772 | lr: 9.48e-04 | 0.029s per step\n",
      "[INFO][06/22/2020 15:52:59] Step  2100 | loss 0.38631480 | lr: 9.98e-04 | 0.028s per step\n",
      "[INFO][06/22/2020 15:52:59] Metrics at step 2104:\n",
      "[INFO][06/22/2020 15:52:59] loss: 0.36437984\n",
      "[INFO][06/22/2020 15:52:59] accuracy: 84.86%\n",
      "[INFO][06/22/2020 15:52:59] ====================Epoch 3====================\n",
      "[INFO][06/22/2020 15:53:02] Step  2205 | loss 0.37151931 | lr: 1.00e-03 | 0.031s per step\n",
      "[INFO][06/22/2020 15:53:05] Step  2310 | loss 0.37586014 | lr: 1.00e-03 | 0.028s per step\n",
      "[INFO][06/22/2020 15:53:08] Step  2415 | loss 0.36159813 | lr: 9.98e-04 | 0.028s per step\n",
      "[INFO][06/22/2020 15:53:11] Step  2520 | loss 0.35233330 | lr: 9.95e-04 | 0.028s per step\n",
      "[INFO][06/22/2020 15:53:14] Step  2625 | loss 0.33771473 | lr: 9.92e-04 | 0.028s per step\n",
      "[INFO][06/22/2020 15:53:14] Metrics at step 2630:\n",
      "[INFO][06/22/2020 15:53:14] loss: 0.35968280\n",
      "[INFO][06/22/2020 15:53:14] accuracy: 86.01%\n",
      "[INFO][06/22/2020 15:53:17] Step  2730 | loss 0.34370298 | lr: 9.87e-04 | 0.031s per step\n",
      "[INFO][06/22/2020 15:53:20] Step  2835 | loss 0.33882091 | lr: 9.83e-04 | 0.029s per step\n",
      "[INFO][06/22/2020 15:53:23] Step  2940 | loss 0.33394191 | lr: 9.77e-04 | 0.029s per step\n",
      "[INFO][06/22/2020 15:53:26] Step  3045 | loss 0.32991661 | lr: 9.71e-04 | 0.028s per step\n",
      "[INFO][06/22/2020 15:53:29] Step  3150 | loss 0.32082408 | lr: 9.64e-04 | 0.029s per step\n",
      "[INFO][06/22/2020 15:53:29] Metrics at step 3156:\n",
      "[INFO][06/22/2020 15:53:29] loss: 0.38446394\n",
      "[INFO][06/22/2020 15:53:29] accuracy: 81.88%\n",
      "[INFO][06/22/2020 15:53:30] ====================Epoch 4====================\n",
      "[INFO][06/22/2020 15:53:32] Step  3255 | loss 0.31737794 | lr: 9.56e-04 | 0.029s per step\n",
      "[INFO][06/22/2020 15:53:35] Step  3360 | loss 0.30925321 | lr: 9.47e-04 | 0.028s per step\n",
      "[INFO][06/22/2020 15:53:38] Step  3465 | loss 0.30754975 | lr: 9.38e-04 | 0.028s per step\n",
      "[INFO][06/22/2020 15:53:41] Step  3570 | loss 0.30592914 | lr: 9.28e-04 | 0.028s per step\n",
      "[INFO][06/22/2020 15:53:44] Step  3675 | loss 0.30211799 | lr: 9.18e-04 | 0.030s per step\n",
      "[INFO][06/22/2020 15:53:45] Metrics at step 3682:\n",
      "[INFO][06/22/2020 15:53:45] loss: 0.36234022\n",
      "[INFO][06/22/2020 15:53:45] accuracy: 86.70%\n",
      "[INFO][06/22/2020 15:53:47] Step  3780 | loss 0.30064220 | lr: 9.07e-04 | 0.029s per step\n",
      "[INFO][06/22/2020 15:53:51] Step  3885 | loss 0.29817539 | lr: 8.95e-04 | 0.031s per step\n",
      "[INFO][06/22/2020 15:53:54] Step  3990 | loss 0.28931346 | lr: 8.83e-04 | 0.030s per step\n",
      "[INFO][06/22/2020 15:53:57] Step  4095 | loss 0.29665605 | lr: 8.70e-04 | 0.030s per step\n",
      "[INFO][06/22/2020 15:54:00] Step  4200 | loss 0.27965271 | lr: 8.56e-04 | 0.030s per step\n",
      "[INFO][06/22/2020 15:54:00] Metrics at step 4208:\n",
      "[INFO][06/22/2020 15:54:00] loss: 0.34275483\n",
      "[INFO][06/22/2020 15:54:00] accuracy: 83.49%\n",
      "[INFO][06/22/2020 15:54:01] ====================Epoch 5====================\n",
      "[INFO][06/22/2020 15:54:03] Step  4305 | loss 0.28269342 | lr: 8.42e-04 | 0.033s per step\n",
      "[INFO][06/22/2020 15:54:07] Step  4410 | loss 0.27465561 | lr: 8.27e-04 | 0.031s per step\n",
      "[INFO][06/22/2020 15:54:10] Step  4515 | loss 0.27676508 | lr: 8.12e-04 | 0.029s per step\n",
      "[INFO][06/22/2020 15:54:13] Step  4620 | loss 0.26708006 | lr: 7.97e-04 | 0.029s per step\n",
      "[INFO][06/22/2020 15:54:16] Step  4725 | loss 0.26590184 | lr: 7.81e-04 | 0.028s per step\n",
      "[INFO][06/22/2020 15:54:16] Metrics at step 4734:\n",
      "[INFO][06/22/2020 15:54:16] loss: 0.33496580\n",
      "[INFO][06/22/2020 15:54:16] accuracy: 85.09%\n",
      "[INFO][06/22/2020 15:54:19] Step  4830 | loss 0.26906789 | lr: 7.64e-04 | 0.031s per step\n",
      "[INFO][06/22/2020 15:54:22] Step  4935 | loss 0.26902937 | lr: 7.47e-04 | 0.028s per step\n",
      "[INFO][06/22/2020 15:54:25] Step  5040 | loss 0.26196184 | lr: 7.30e-04 | 0.028s per step\n",
      "[INFO][06/22/2020 15:54:28] Step  5145 | loss 0.26872586 | lr: 7.13e-04 | 0.028s per step\n",
      "[INFO][06/22/2020 15:54:31] Step  5250 | loss 0.25541306 | lr: 6.95e-04 | 0.028s per step\n",
      "[INFO][06/22/2020 15:54:31] Metrics at step 5260:\n",
      "[INFO][06/22/2020 15:54:31] loss: 0.33069150\n",
      "[INFO][06/22/2020 15:54:31] accuracy: 85.55%\n",
      "[INFO][06/22/2020 15:54:32] ====================Epoch 6====================\n",
      "[INFO][06/22/2020 15:54:34] Step  5355 | loss 0.24338491 | lr: 6.77e-04 | 0.031s per step\n",
      "[INFO][06/22/2020 15:54:37] Step  5460 | loss 0.24279296 | lr: 6.58e-04 | 0.028s per step\n",
      "[INFO][06/22/2020 15:54:40] Step  5565 | loss 0.24796378 | lr: 6.39e-04 | 0.028s per step\n",
      "[INFO][06/22/2020 15:54:43] Step  5670 | loss 0.24552403 | lr: 6.20e-04 | 0.029s per step\n",
      "[INFO][06/22/2020 15:54:46] Step  5775 | loss 0.24763140 | lr: 6.01e-04 | 0.028s per step\n",
      "[INFO][06/22/2020 15:54:47] Metrics at step 5786:\n",
      "[INFO][06/22/2020 15:54:47] loss: 0.34060431\n",
      "[INFO][06/22/2020 15:54:47] accuracy: 85.78%\n",
      "[INFO][06/22/2020 15:54:49] Step  5880 | loss 0.24478763 | lr: 5.82e-04 | 0.029s per step\n",
      "[INFO][06/22/2020 15:54:52] Step  5985 | loss 0.23683741 | lr: 5.63e-04 | 0.028s per step\n",
      "[INFO][06/22/2020 15:54:55] Step  6090 | loss 0.23660691 | lr: 5.43e-04 | 0.028s per step\n",
      "[INFO][06/22/2020 15:54:58] Step  6195 | loss 0.23465305 | lr: 5.24e-04 | 0.028s per step\n",
      "[INFO][06/22/2020 15:55:01] Step  6300 | loss 0.23850624 | lr: 5.04e-04 | 0.029s per step\n",
      "[INFO][06/22/2020 15:55:02] Metrics at step 6312:\n",
      "[INFO][06/22/2020 15:55:02] loss: 0.37001317\n",
      "[INFO][06/22/2020 15:55:02] accuracy: 85.09%\n",
      "[INFO][06/22/2020 15:55:02] ====================Epoch 7====================\n",
      "[INFO][06/22/2020 15:55:04] Step  6405 | loss 0.22033553 | lr: 4.84e-04 | 0.029s per step\n",
      "[INFO][06/22/2020 15:55:07] Step  6510 | loss 0.22340849 | lr: 4.65e-04 | 0.028s per step\n",
      "[INFO][06/22/2020 15:55:10] Step  6615 | loss 0.22603225 | lr: 4.45e-04 | 0.028s per step\n",
      "[INFO][06/22/2020 15:55:13] Step  6720 | loss 0.21988464 | lr: 4.26e-04 | 0.029s per step\n",
      "[INFO][06/22/2020 15:55:16] Step  6825 | loss 0.22201314 | lr: 4.07e-04 | 0.028s per step\n",
      "[INFO][06/22/2020 15:55:17] Metrics at step 6838:\n",
      "[INFO][06/22/2020 15:55:17] loss: 0.33418870\n",
      "[INFO][06/22/2020 15:55:17] accuracy: 88.76%\n",
      "[INFO][06/22/2020 15:55:19] Step  6930 | loss 0.22700455 | lr: 3.87e-04 | 0.029s per step\n",
      "[INFO][06/22/2020 15:55:22] Step  7035 | loss 0.21764631 | lr: 3.68e-04 | 0.028s per step\n",
      "[INFO][06/22/2020 15:55:25] Step  7140 | loss 0.21851041 | lr: 3.50e-04 | 0.028s per step\n",
      "[INFO][06/22/2020 15:55:28] Step  7245 | loss 0.21882139 | lr: 3.31e-04 | 0.028s per step\n",
      "[INFO][06/22/2020 15:55:31] Step  7350 | loss 0.21642648 | lr: 3.13e-04 | 0.028s per step\n",
      "[INFO][06/22/2020 15:55:32] Metrics at step 7364:\n",
      "[INFO][06/22/2020 15:55:32] loss: 0.32778061\n",
      "[INFO][06/22/2020 15:55:32] accuracy: 88.99%\n",
      "[INFO][06/22/2020 15:55:32] ====================Epoch 8====================\n",
      "[INFO][06/22/2020 15:55:35] Step  7455 | loss 0.20754631 | lr: 2.95e-04 | 0.031s per step\n",
      "[INFO][06/22/2020 15:55:38] Step  7560 | loss 0.20156334 | lr: 2.77e-04 | 0.028s per step\n",
      "[INFO][06/22/2020 15:55:40] Step  7665 | loss 0.20527503 | lr: 2.60e-04 | 0.028s per step\n",
      "[INFO][06/22/2020 15:55:43] Step  7770 | loss 0.20735381 | lr: 2.43e-04 | 0.028s per step\n",
      "[INFO][06/22/2020 15:55:46] Step  7875 | loss 0.20452840 | lr: 2.26e-04 | 0.028s per step\n",
      "[INFO][06/22/2020 15:55:47] Metrics at step 7890:\n",
      "[INFO][06/22/2020 15:55:47] loss: 0.33399554\n",
      "[INFO][06/22/2020 15:55:47] accuracy: 87.39%\n",
      "[INFO][06/22/2020 15:55:49] Step  7980 | loss 0.20618979 | lr: 2.10e-04 | 0.029s per step\n",
      "[INFO][06/22/2020 15:55:52] Step  8085 | loss 0.20183322 | lr: 1.94e-04 | 0.028s per step\n",
      "[INFO][06/22/2020 15:55:55] Step  8190 | loss 0.20621479 | lr: 1.79e-04 | 0.028s per step\n",
      "[INFO][06/22/2020 15:55:58] Step  8295 | loss 0.20694876 | lr: 1.64e-04 | 0.028s per step\n",
      "[INFO][06/22/2020 15:56:01] Step  8400 | loss 0.20445304 | lr: 1.50e-04 | 0.029s per step\n",
      "[INFO][06/22/2020 15:56:02] Metrics at step 8416:\n",
      "[INFO][06/22/2020 15:56:02] loss: 0.34144187\n",
      "[INFO][06/22/2020 15:56:02] accuracy: 87.39%\n",
      "[INFO][06/22/2020 15:56:02] ====================Epoch 9====================\n",
      "[INFO][06/22/2020 15:56:04] Step  8505 | loss 0.19476959 | lr: 1.36e-04 | 0.029s per step\n",
      "[INFO][06/22/2020 15:56:07] Step  8610 | loss 0.19868349 | lr: 1.23e-04 | 0.029s per step\n",
      "[INFO][06/22/2020 15:56:10] Step  8715 | loss 0.19694248 | lr: 1.10e-04 | 0.028s per step\n",
      "[INFO][06/22/2020 15:56:13] Step  8820 | loss 0.20130525 | lr: 9.85e-05 | 0.028s per step\n",
      "[INFO][06/22/2020 15:56:16] Step  8925 | loss 0.19809351 | lr: 8.71e-05 | 0.028s per step\n",
      "[INFO][06/22/2020 15:56:17] Metrics at step 8942:\n",
      "[INFO][06/22/2020 15:56:17] loss: 0.32217589\n",
      "[INFO][06/22/2020 15:56:17] accuracy: 86.93%\n",
      "[INFO][06/22/2020 15:56:20] Step  9030 | loss 0.19883790 | lr: 7.64e-05 | 0.031s per step\n",
      "[INFO][06/22/2020 15:56:23] Step  9135 | loss 0.19148399 | lr: 6.63e-05 | 0.028s per step\n",
      "[INFO][06/22/2020 15:56:26] Step  9240 | loss 0.19138490 | lr: 5.69e-05 | 0.028s per step\n",
      "[INFO][06/22/2020 15:56:29] Step  9345 | loss 0.19321241 | lr: 4.82e-05 | 0.028s per step\n",
      "[INFO][06/22/2020 15:56:32] Step  9450 | loss 0.19027049 | lr: 4.01e-05 | 0.028s per step\n",
      "[INFO][06/22/2020 15:56:32] Metrics at step 9468:\n",
      "[INFO][06/22/2020 15:56:32] loss: 0.32424379\n",
      "[INFO][06/22/2020 15:56:32] accuracy: 87.61%\n",
      "[INFO][06/22/2020 15:56:32] ====================Epoch 10====================\n",
      "[INFO][06/22/2020 15:56:35] Step  9555 | loss 0.19632857 | lr: 3.28e-05 | 0.029s per step\n",
      "[INFO][06/22/2020 15:56:38] Step  9660 | loss 0.18874255 | lr: 2.62e-05 | 0.028s per step\n",
      "[INFO][06/22/2020 15:56:41] Step  9765 | loss 0.18955317 | lr: 2.03e-05 | 0.028s per step\n",
      "[INFO][06/22/2020 15:56:44] Step  9870 | loss 0.18610951 | lr: 1.51e-05 | 0.029s per step\n",
      "[INFO][06/22/2020 15:56:47] Step  9975 | loss 0.18872348 | lr: 1.07e-05 | 0.030s per step\n",
      "[INFO][06/22/2020 15:56:48] Metrics at step 9994:\n",
      "[INFO][06/22/2020 15:56:48] loss: 0.32815740\n",
      "[INFO][06/22/2020 15:56:48] accuracy: 87.16%\n",
      "[INFO][06/22/2020 15:56:50] Step 10080 | loss 0.18978086 | lr: 7.06e-06 | 0.033s per step\n",
      "[INFO][06/22/2020 15:56:54] Step 10185 | loss 0.18734574 | lr: 4.16e-06 | 0.032s per step\n",
      "[INFO][06/22/2020 15:56:57] Step 10290 | loss 0.19027816 | lr: 2.02e-06 | 0.030s per step\n",
      "[INFO][06/22/2020 15:57:00] Step 10395 | loss 0.19001409 | lr: 6.44e-07 | 0.028s per step\n",
      "[INFO][06/22/2020 15:57:03] Step 10500 | loss 0.18977316 | lr: 3.34e-08 | 0.029s per step\n",
      "[INFO][06/22/2020 15:57:03] Metrics at step 10520:\n",
      "[INFO][06/22/2020 15:57:03] loss: 0.32615454\n",
      "[INFO][06/22/2020 15:57:03] accuracy: 87.16%\n",
      "[INFO][06/22/2020 15:57:04] Training finished. Best step(s):\n",
      "[INFO][06/22/2020 15:57:04] loss: 0.32217589 @ step 8942\n",
      "[INFO][06/22/2020 15:57:04] accuracy: 88.99% @ step 7364\n"
     ]
    }
   ],
   "source": [
    "print(total_steps)\n",
    "\n",
    "bot.train(\n",
    "    total_steps=total_steps,\n",
    "    checkpoint_interval=len(train_loader) // 2\n",
    ")\n",
    "bot.load_model(checkpoints.best_performers[0][1])\n",
    "checkpoints.remove_checkpoints(keep=0)"
   ]
  },
  {
   "cell_type": "code",
   "execution_count": 23,
   "metadata": {},
   "outputs": [
    {
     "data": {
      "text/plain": [
       "{'loss': (0.322175886926301, '0.32217589'),\n",
       " 'accuracy': (-0.8692660550458715, '86.93%')}"
      ]
     },
     "execution_count": 23,
     "metadata": {},
     "output_type": "execute_result"
    }
   ],
   "source": [
    "bot.eval(valid_loader)"
   ]
  },
  {
   "cell_type": "code",
   "execution_count": 24,
   "metadata": {},
   "outputs": [
    {
     "data": {
      "text/plain": [
       "{'loss': (0.3571393325788165, '0.35713933'),\n",
       " 'accuracy': (-0.8669724770642202, '86.70%')}"
      ]
     },
     "execution_count": 24,
     "metadata": {},
     "output_type": "execute_result"
    }
   ],
   "source": [
    "bot.eval(test_loader)"
   ]
  }
 ],
 "metadata": {
  "kernelspec": {
   "display_name": "Python 3",
   "language": "python",
   "name": "python3"
  },
  "language_info": {
   "codemirror_mode": {
    "name": "ipython",
    "version": 3
   },
   "file_extension": ".py",
   "mimetype": "text/x-python",
   "name": "python",
   "nbconvert_exporter": "python",
   "pygments_lexer": "ipython3",
   "version": "3.8.3"
  }
 },
 "nbformat": 4,
 "nbformat_minor": 4
}
