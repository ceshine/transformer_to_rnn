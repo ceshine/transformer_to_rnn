{
 "cells": [
  {
   "cell_type": "code",
   "execution_count": 1,
   "metadata": {},
   "outputs": [
    {
     "name": "stdout",
     "output_type": "stream",
     "text": [
      "/mnt/SSD_Data/active_projects/transformer_to_lstm\n"
     ]
    }
   ],
   "source": [
    "%cd .."
   ]
  },
  {
   "cell_type": "code",
   "execution_count": 2,
   "metadata": {},
   "outputs": [],
   "source": [
    "import dataclasses\n",
    "from pathlib import Path\n",
    "import warnings\n",
    "\n",
    "import nlp\n",
    "import torch\n",
    "import numpy as np\n",
    "import torch.nn.functional as F\n",
    "from transformers import BertForSequenceClassification\n",
    "from torch.optim.lr_scheduler import CosineAnnealingLR\n",
    "from sklearn.model_selection import train_test_split\n",
    "\n",
    "from pytorch_helper_bot import (\n",
    "    BaseBot, MovingAverageStatsTrackerCallback,  CheckpointCallback,\n",
    "    LearningRateSchedulerCallback, MultiStageScheduler, Top1Accuracy,\n",
    "    LinearLR, Callback\n",
    ")\n",
    "\n",
    "from nobita.models import get_sequence_model\n",
    "\n",
    "\n",
    "try:\n",
    "    from apex import amp\n",
    "    APEX_AVAILABLE = True\n",
    "except ModuleNotFoundError:\n",
    "    APEX_AVAILABLE = False\n",
    "# APEX_AVAILABLE = False"
   ]
  },
  {
   "cell_type": "code",
   "execution_count": 3,
   "metadata": {},
   "outputs": [],
   "source": [
    "CACHE_DIR = Path(\"cache/\")\n",
    "CACHE_DIR.mkdir(exist_ok=True)"
   ]
  },
  {
   "cell_type": "markdown",
   "metadata": {},
   "source": [
    "Reference:\n",
    "\n",
    "    * https://github.com/huggingface/nlp/blob/master/notebooks/Overview.ipynb"
   ]
  },
  {
   "cell_type": "code",
   "execution_count": 4,
   "metadata": {},
   "outputs": [],
   "source": [
    "class SST2Dataset(torch.utils.data.Dataset):\n",
    "    def __init__(self, entries_dict, temperature=1):\n",
    "        super().__init__()\n",
    "        self.entries_dict = entries_dict\n",
    "        self.temperature = temperature\n",
    "    \n",
    "    def __len__(self):\n",
    "        return len(self.entries_dict[\"label\"])\n",
    "    \n",
    "    def __getitem__(self, idx):\n",
    "        return (\n",
    "            self.entries_dict[\"input_ids\"][idx],\n",
    "            self.entries_dict[\"attention_mask\"][idx].sum(), #input_lengths\n",
    "            {\n",
    "                \"label\": self.entries_dict[\"label\"][idx], \n",
    "                \"logits\": self.entries_dict[\"logits\"][idx] / self.temperature\n",
    "            }\n",
    "        )"
   ]
  },
  {
   "cell_type": "code",
   "execution_count": 5,
   "metadata": {},
   "outputs": [],
   "source": [
    "train_dict, valid_dict, test_dict = torch.load(str(CACHE_DIR / \"distill-dicts.jbl\"))"
   ]
  },
  {
   "cell_type": "code",
   "execution_count": 6,
   "metadata": {},
   "outputs": [],
   "source": [
    "# Instantiate a PyTorch Dataloader around our dataset\n",
    "train_loader = torch.utils.data.DataLoader(SST2Dataset(train_dict, temperature=2), batch_size=64, shuffle=True)\n",
    "valid_loader = torch.utils.data.DataLoader(SST2Dataset(valid_dict, temperature=2), batch_size=64, drop_last=False)\n",
    "test_loader = torch.utils.data.DataLoader(SST2Dataset(test_dict, temperature=2), batch_size=64, drop_last=False)"
   ]
  },
  {
   "cell_type": "code",
   "execution_count": 7,
   "metadata": {},
   "outputs": [],
   "source": [
    "ALPHA = 0\n",
    "DISTILL_OBJECTIVE = torch.nn.MSELoss()\n",
    "\n",
    "def distill_loss(logits, targets):\n",
    "    distill_part = DISTILL_OBJECTIVE(\n",
    "        logits.reshape(-1), targets[\"logits\"].reshape(-1)\n",
    "    ) / 2\n",
    "    classification_part = F.cross_entropy(\n",
    "        logits, targets[\"label\"]\n",
    "    )\n",
    "    return ALPHA * classification_part + (1-ALPHA) * distill_part"
   ]
  },
  {
   "cell_type": "code",
   "execution_count": 8,
   "metadata": {},
   "outputs": [],
   "source": [
    "bert_model = BertForSequenceClassification.from_pretrained(str(CACHE_DIR / \"sst2_bert_uncased\")).cpu()"
   ]
  },
  {
   "cell_type": "code",
   "execution_count": 9,
   "metadata": {},
   "outputs": [
    {
     "data": {
      "text/plain": [
       "torch.Size([30522, 768])"
      ]
     },
     "execution_count": 9,
     "metadata": {},
     "output_type": "execute_result"
    }
   ],
   "source": [
    "bert_model.bert.embeddings.word_embeddings.weight.shape"
   ]
  },
  {
   "cell_type": "code",
   "execution_count": 10,
   "metadata": {},
   "outputs": [],
   "source": [
    "# Note: apex does not support weight dropping\n",
    "model = get_sequence_model(\n",
    "    voc_size=bert_model.bert.embeddings.word_embeddings.weight.shape[0],\n",
    "    emb_size=bert_model.bert.embeddings.word_embeddings.weight.shape[1],\n",
    "    pad_idx = 0,\n",
    "    dropoute = 0,\n",
    "    rnn_hid = 768,\n",
    "    rnn_layers = 3,\n",
    "    bidir = True,\n",
    "    dropouth = 0.25,\n",
    "    dropouti = 0.25,\n",
    "    wdrop = 0,\n",
    "    unit_type = \"lstm\",\n",
    "    fcn_layers = [512, 2],\n",
    "    fcn_dropouts = [0.25, 0.25],\n",
    "    use_attention = True\n",
    ")"
   ]
  },
  {
   "cell_type": "code",
   "execution_count": 11,
   "metadata": {},
   "outputs": [
    {
     "data": {
      "text/plain": [
       "SequenceModel(\n",
       "  (embeddings): BasicEmbeddings(\n",
       "    (encoder): Embedding(30522, 768, padding_idx=0)\n",
       "  )\n",
       "  (encoder): RNNStack(\n",
       "    (rnns): ModuleList(\n",
       "      (0): LSTM(768, 384, bidirectional=True)\n",
       "      (1): LSTM(768, 384, bidirectional=True)\n",
       "      (2): LSTM(768, 384, bidirectional=True)\n",
       "    )\n",
       "    (dropouti): LockedDropout()\n",
       "    (dropouths): ModuleList(\n",
       "      (0): LockedDropout()\n",
       "      (1): LockedDropout()\n",
       "      (2): LockedDropout()\n",
       "    )\n",
       "  )\n",
       "  (fcn): AttentionFCN(\n",
       "    (attention): Attention(768, return attention=False)\n",
       "    (layers): ModuleList(\n",
       "      (0): LinearBlock(\n",
       "        (lin): Linear(in_features=768, out_features=512, bias=True)\n",
       "        (drop): Dropout(p=0.25, inplace=False)\n",
       "        (bn): BatchNorm1d(768, eps=1e-05, momentum=0.1, affine=True, track_running_stats=True)\n",
       "      )\n",
       "      (1): LinearBlock(\n",
       "        (lin): Linear(in_features=512, out_features=2, bias=True)\n",
       "        (drop): Dropout(p=0.25, inplace=False)\n",
       "        (bn): BatchNorm1d(512, eps=1e-05, momentum=0.1, affine=True, track_running_stats=True)\n",
       "      )\n",
       "    )\n",
       "  )\n",
       ")"
      ]
     },
     "execution_count": 11,
     "metadata": {},
     "output_type": "execute_result"
    }
   ],
   "source": [
    "model"
   ]
  },
  {
   "cell_type": "code",
   "execution_count": 12,
   "metadata": {},
   "outputs": [],
   "source": [
    "# Copy the embedding weights to the LSTM model\n",
    "try:\n",
    "    model.embeddings.encoder.emb.weight.data = bert_model.bert.embeddings.word_embeddings.weight.data\n",
    "except:\n",
    "    model.embeddings.encoder.weight.data = bert_model.bert.embeddings.word_embeddings.weight.data"
   ]
  },
  {
   "cell_type": "code",
   "execution_count": 13,
   "metadata": {},
   "outputs": [],
   "source": [
    "# Freeze the embedding layer\n",
    "for param in model.embeddings.encoder.parameters():\n",
    "    param.requires_grad = False"
   ]
  },
  {
   "cell_type": "code",
   "execution_count": 14,
   "metadata": {},
   "outputs": [],
   "source": [
    "model = model.cuda()"
   ]
  },
  {
   "cell_type": "code",
   "execution_count": 15,
   "metadata": {},
   "outputs": [],
   "source": [
    "# Use only leaf tensors\n",
    "parameters = [x for x in model.parameters() if x.is_leaf and x.requires_grad]"
   ]
  },
  {
   "cell_type": "code",
   "execution_count": 16,
   "metadata": {},
   "outputs": [],
   "source": [
    "del bert_model"
   ]
  },
  {
   "cell_type": "code",
   "execution_count": 17,
   "metadata": {},
   "outputs": [],
   "source": [
    "optimizer = torch.optim.Adam(parameters, lr=1e-3, betas=(0.8, 0.99))\n",
    "# optimizer = torch.optim.RMSprop(parameters, lr=0.01)"
   ]
  },
  {
   "cell_type": "code",
   "execution_count": 18,
   "metadata": {},
   "outputs": [
    {
     "name": "stdout",
     "output_type": "stream",
     "text": [
      "Selected optimization level O1:  Insert automatic casts around Pytorch functions and Tensor methods.\n",
      "\n",
      "Defaults for this optimization level are:\n",
      "enabled                : True\n",
      "opt_level              : O1\n",
      "cast_model_type        : None\n",
      "patch_torch_functions  : True\n",
      "keep_batchnorm_fp32    : None\n",
      "master_weights         : None\n",
      "loss_scale             : dynamic\n",
      "Processing user overrides (additional kwargs that are not None)...\n",
      "After processing overrides, optimization options are:\n",
      "enabled                : True\n",
      "opt_level              : O1\n",
      "cast_model_type        : None\n",
      "patch_torch_functions  : True\n",
      "keep_batchnorm_fp32    : None\n",
      "master_weights         : None\n",
      "loss_scale             : dynamic\n"
     ]
    }
   ],
   "source": [
    "if APEX_AVAILABLE:\n",
    "    model, optimizer = amp.initialize(\n",
    "        model, optimizer, opt_level=\"O1\"\n",
    "    )"
   ]
  },
  {
   "cell_type": "code",
   "execution_count": 19,
   "metadata": {},
   "outputs": [],
   "source": [
    "class TransposeCallback(Callback):\n",
    "    def on_batch_inputs(self, bot, input_tensors, targets):\n",
    "        input_tensors = [input_tensors[0].transpose(1, 0), input_tensors[1]]\n",
    "        return input_tensors, targets"
   ]
  },
  {
   "cell_type": "code",
   "execution_count": 20,
   "metadata": {},
   "outputs": [],
   "source": [
    "class DistillTop1Accuracy(Top1Accuracy):\n",
    "    def __call__(self, truth, pred):\n",
    "        truth = truth[\"label\"]\n",
    "        return super().__call__(truth, pred)"
   ]
  },
  {
   "cell_type": "code",
   "execution_count": 21,
   "metadata": {},
   "outputs": [
    {
     "name": "stderr",
     "output_type": "stream",
     "text": [
      "[INFO][06/21/2020 22:33:35] SEED: 9293\n",
      "[INFO][06/21/2020 22:33:35] # of parameters: 34,474,242\n",
      "[INFO][06/21/2020 22:33:35] # of trainable parameters: 11,033,346\n"
     ]
    }
   ],
   "source": [
    "total_steps = len(train_loader) * 10\n",
    "\n",
    "checkpoints = CheckpointCallback(\n",
    "    keep_n_checkpoints=1,\n",
    "    checkpoint_dir=CACHE_DIR / \"distill_model_cache/\",\n",
    "    monitor_metric=\"loss\"\n",
    ")\n",
    "lr_durations = [\n",
    "    int(total_steps*0.2),\n",
    "    int(np.ceil(total_steps*0.8))\n",
    "]\n",
    "break_points = [0] + list(np.cumsum(lr_durations))[:-1]\n",
    "callbacks = [\n",
    "    MovingAverageStatsTrackerCallback(\n",
    "        avg_window=len(train_loader) // 8,\n",
    "        log_interval=len(train_loader) // 10\n",
    "    ),\n",
    "    LearningRateSchedulerCallback(\n",
    "        MultiStageScheduler(\n",
    "            [\n",
    "                LinearLR(optimizer, 0.01, lr_durations[0]),\n",
    "                CosineAnnealingLR(optimizer, lr_durations[1])\n",
    "            ],\n",
    "            start_at_epochs=break_points\n",
    "        )\n",
    "    ),\n",
    "    checkpoints,\n",
    "    TransposeCallback()\n",
    "]\n",
    "    \n",
    "bot = BaseBot(\n",
    "    log_dir = CACHE_DIR / \"distill_logs\",\n",
    "    model=model, \n",
    "    train_loader=train_loader,\n",
    "    valid_loader=valid_loader, \n",
    "    clip_grad=10.,\n",
    "    optimizer=optimizer, echo=True,\n",
    "    criterion=distill_loss,\n",
    "    callbacks=callbacks,\n",
    "    pbar=False, use_tensorboard=False,\n",
    "    use_amp=APEX_AVAILABLE,\n",
    "    metrics=(DistillTop1Accuracy(),)\n",
    ")"
   ]
  },
  {
   "cell_type": "code",
   "execution_count": 22,
   "metadata": {},
   "outputs": [
    {
     "name": "stderr",
     "output_type": "stream",
     "text": [
      "[INFO][06/21/2020 22:33:35] Optimizer Adam (\n",
      "Parameter Group 0\n",
      "    amsgrad: False\n",
      "    betas: (0.8, 0.99)\n",
      "    eps: 1e-08\n",
      "    initial_lr: 0.001\n",
      "    lr: 0.001\n",
      "    weight_decay: 0\n",
      ")\n",
      "[INFO][06/21/2020 22:33:35] Batches per epoch: 1053\n",
      "[INFO][06/21/2020 22:33:35] ====================Epoch 1====================\n"
     ]
    },
    {
     "name": "stdout",
     "output_type": "stream",
     "text": [
      "10530\n",
      "Gradient overflow.  Skipping step, loss scaler 0 reducing loss scale to 32768.0\n"
     ]
    },
    {
     "name": "stderr",
     "output_type": "stream",
     "text": [
      "/data/miniconda3/envs/rapids/lib/python3.8/site-packages/torch/optim/lr_scheduler.py:118: UserWarning: Detected call of `lr_scheduler.step()` before `optimizer.step()`. In PyTorch 1.1.0 and later, you should call them in the opposite order: `optimizer.step()` before `lr_scheduler.step()`.  Failure to do this will result in PyTorch skipping the first value of the learning rate schedule. See more details at https://pytorch.org/docs/stable/optim.html#how-to-adjust-learning-rate\n",
      "  warnings.warn(\"Detected call of `lr_scheduler.step()` before `optimizer.step()`. \"\n",
      "[INFO][06/21/2020 22:33:38] Step   105 | loss 2.36601565 | lr: 5.94e-05 | 0.031s per step\n",
      "[INFO][06/21/2020 22:33:41] Step   210 | loss 2.03602501 | lr: 1.09e-04 | 0.030s per step\n",
      "[INFO][06/21/2020 22:33:44] Step   315 | loss 1.73496945 | lr: 1.58e-04 | 0.029s per step\n",
      "[INFO][06/21/2020 22:33:48] Step   420 | loss 1.43175183 | lr: 2.08e-04 | 0.030s per step\n",
      "[INFO][06/21/2020 22:33:51] Step   525 | loss 1.19598607 | lr: 2.57e-04 | 0.029s per step\n",
      "[INFO][06/21/2020 22:33:51] Metrics at step 526:\n",
      "[INFO][06/21/2020 22:33:51] loss: 0.91644929\n",
      "[INFO][06/21/2020 22:33:51] accuracy: 68.35%\n",
      "[INFO][06/21/2020 22:33:54] Step   630 | loss 1.03983531 | lr: 3.06e-04 | 0.031s per step\n",
      "[INFO][06/21/2020 22:33:57] Step   735 | loss 0.92196548 | lr: 3.56e-04 | 0.029s per step\n",
      "[INFO][06/21/2020 22:34:00] Step   840 | loss 0.87557433 | lr: 4.05e-04 | 0.029s per step\n",
      "[INFO][06/21/2020 22:34:03] Step   945 | loss 0.80332150 | lr: 4.54e-04 | 0.029s per step\n",
      "[INFO][06/21/2020 22:34:06] Step  1050 | loss 0.75778009 | lr: 5.04e-04 | 0.029s per step\n",
      "[INFO][06/21/2020 22:34:06] Metrics at step 1052:\n",
      "[INFO][06/21/2020 22:34:06] loss: 0.48252261\n",
      "[INFO][06/21/2020 22:34:06] accuracy: 80.50%\n",
      "[INFO][06/21/2020 22:34:07] ====================Epoch 2====================\n",
      "[INFO][06/21/2020 22:34:09] Step  1155 | loss 0.72679569 | lr: 5.53e-04 | 0.031s per step\n",
      "[INFO][06/21/2020 22:34:13] Step  1260 | loss 0.70832114 | lr: 6.03e-04 | 0.029s per step\n",
      "[INFO][06/21/2020 22:34:16] Step  1365 | loss 0.65443451 | lr: 6.52e-04 | 0.029s per step\n",
      "[INFO][06/21/2020 22:34:19] Step  1470 | loss 0.63027877 | lr: 7.01e-04 | 0.029s per step\n",
      "[INFO][06/21/2020 22:34:22] Step  1575 | loss 0.60236705 | lr: 7.51e-04 | 0.030s per step\n",
      "[INFO][06/21/2020 22:34:22] Metrics at step 1578:\n",
      "[INFO][06/21/2020 22:34:22] loss: 0.42108735\n",
      "[INFO][06/21/2020 22:34:22] accuracy: 81.88%\n",
      "[INFO][06/21/2020 22:34:25] Step  1680 | loss 0.58146369 | lr: 8.00e-04 | 0.032s per step\n",
      "[INFO][06/21/2020 22:34:28] Step  1785 | loss 0.54823878 | lr: 8.50e-04 | 0.030s per step\n",
      "[INFO][06/21/2020 22:34:31] Step  1890 | loss 0.51441967 | lr: 8.99e-04 | 0.029s per step\n",
      "[INFO][06/21/2020 22:34:34] Step  1995 | loss 0.49524194 | lr: 9.48e-04 | 0.030s per step\n",
      "[INFO][06/21/2020 22:34:37] Step  2100 | loss 0.45754122 | lr: 9.98e-04 | 0.029s per step\n",
      "[INFO][06/21/2020 22:34:38] Metrics at step 2104:\n",
      "[INFO][06/21/2020 22:34:38] loss: 0.39796079\n",
      "[INFO][06/21/2020 22:34:38] accuracy: 83.03%\n",
      "[INFO][06/21/2020 22:34:38] ====================Epoch 3====================\n",
      "[INFO][06/21/2020 22:34:41] Step  2205 | loss 0.43477257 | lr: 1.00e-03 | 0.033s per step\n",
      "[INFO][06/21/2020 22:34:44] Step  2310 | loss 0.43153881 | lr: 1.00e-03 | 0.029s per step\n",
      "[INFO][06/21/2020 22:34:47] Step  2415 | loss 0.41407432 | lr: 9.98e-04 | 0.029s per step\n",
      "[INFO][06/21/2020 22:34:50] Step  2520 | loss 0.40252783 | lr: 9.95e-04 | 0.029s per step\n",
      "[INFO][06/21/2020 22:34:53] Step  2625 | loss 0.37756382 | lr: 9.92e-04 | 0.029s per step\n",
      "[INFO][06/21/2020 22:34:53] Metrics at step 2630:\n",
      "[INFO][06/21/2020 22:34:53] loss: 0.34526843\n",
      "[INFO][06/21/2020 22:34:53] accuracy: 84.17%\n",
      "[INFO][06/21/2020 22:34:56] Step  2730 | loss 0.38035811 | lr: 9.87e-04 | 0.032s per step\n",
      "[INFO][06/21/2020 22:35:00] Step  2835 | loss 0.37600841 | lr: 9.83e-04 | 0.030s per step\n",
      "[INFO][06/21/2020 22:35:03] Step  2940 | loss 0.36711332 | lr: 9.77e-04 | 0.029s per step\n",
      "[INFO][06/21/2020 22:35:06] Step  3045 | loss 0.35789769 | lr: 9.71e-04 | 0.029s per step\n",
      "[INFO][06/21/2020 22:35:09] Step  3150 | loss 0.34324448 | lr: 9.64e-04 | 0.030s per step\n",
      "[INFO][06/21/2020 22:35:09] Metrics at step 3156:\n",
      "[INFO][06/21/2020 22:35:09] loss: 0.30878368\n",
      "[INFO][06/21/2020 22:35:09] accuracy: 85.55%\n",
      "[INFO][06/21/2020 22:35:09] ====================Epoch 4====================\n",
      "[INFO][06/21/2020 22:35:12] Step  3255 | loss 0.32413048 | lr: 9.56e-04 | 0.031s per step\n",
      "[INFO][06/21/2020 22:35:15] Step  3360 | loss 0.31206894 | lr: 9.47e-04 | 0.029s per step\n"
     ]
    },
    {
     "name": "stdout",
     "output_type": "stream",
     "text": [
      "Gradient overflow.  Skipping step, loss scaler 0 reducing loss scale to 32768.0\n"
     ]
    },
    {
     "name": "stderr",
     "output_type": "stream",
     "text": [
      "[INFO][06/21/2020 22:35:18] Step  3465 | loss 0.32094788 | lr: 9.38e-04 | 0.029s per step\n",
      "[INFO][06/21/2020 22:35:21] Step  3570 | loss 0.30802362 | lr: 9.28e-04 | 0.029s per step\n",
      "[INFO][06/21/2020 22:35:24] Step  3675 | loss 0.30738085 | lr: 9.18e-04 | 0.029s per step\n",
      "[INFO][06/21/2020 22:35:25] Metrics at step 3682:\n",
      "[INFO][06/21/2020 22:35:25] loss: 0.30135431\n",
      "[INFO][06/21/2020 22:35:25] accuracy: 84.63%\n",
      "[INFO][06/21/2020 22:35:28] Step  3780 | loss 0.31131974 | lr: 9.07e-04 | 0.032s per step\n",
      "[INFO][06/21/2020 22:35:31] Step  3885 | loss 0.30219898 | lr: 8.95e-04 | 0.029s per step\n",
      "[INFO][06/21/2020 22:35:34] Step  3990 | loss 0.28517096 | lr: 8.83e-04 | 0.029s per step\n",
      "[INFO][06/21/2020 22:35:37] Step  4095 | loss 0.29933181 | lr: 8.70e-04 | 0.030s per step\n",
      "[INFO][06/21/2020 22:35:40] Step  4200 | loss 0.28143905 | lr: 8.56e-04 | 0.032s per step\n",
      "[INFO][06/21/2020 22:35:41] Metrics at step 4208:\n",
      "[INFO][06/21/2020 22:35:41] loss: 0.27238926\n",
      "[INFO][06/21/2020 22:35:41] accuracy: 87.39%\n",
      "[INFO][06/21/2020 22:35:41] ====================Epoch 5====================\n",
      "[INFO][06/21/2020 22:35:44] Step  4305 | loss 0.27360888 | lr: 8.42e-04 | 0.032s per step\n",
      "[INFO][06/21/2020 22:35:47] Step  4410 | loss 0.26682927 | lr: 8.27e-04 | 0.029s per step\n",
      "[INFO][06/21/2020 22:35:50] Step  4515 | loss 0.26509944 | lr: 8.12e-04 | 0.028s per step\n",
      "[INFO][06/21/2020 22:35:53] Step  4620 | loss 0.25218606 | lr: 7.97e-04 | 0.029s per step\n",
      "[INFO][06/21/2020 22:35:56] Step  4725 | loss 0.24071175 | lr: 7.81e-04 | 0.028s per step\n",
      "[INFO][06/21/2020 22:35:56] Metrics at step 4734:\n",
      "[INFO][06/21/2020 22:35:56] loss: 0.27103681\n",
      "[INFO][06/21/2020 22:35:56] accuracy: 87.16%\n",
      "[INFO][06/21/2020 22:35:59] Step  4830 | loss 0.24687658 | lr: 7.64e-04 | 0.031s per step\n",
      "[INFO][06/21/2020 22:36:02] Step  4935 | loss 0.24954985 | lr: 7.47e-04 | 0.028s per step\n",
      "[INFO][06/21/2020 22:36:05] Step  5040 | loss 0.23950967 | lr: 7.30e-04 | 0.029s per step\n",
      "[INFO][06/21/2020 22:36:08] Step  5145 | loss 0.25865964 | lr: 7.13e-04 | 0.029s per step\n",
      "[INFO][06/21/2020 22:36:11] Step  5250 | loss 0.22932876 | lr: 6.95e-04 | 0.029s per step\n",
      "[INFO][06/21/2020 22:36:12] Metrics at step 5260:\n",
      "[INFO][06/21/2020 22:36:12] loss: 0.26922929\n",
      "[INFO][06/21/2020 22:36:12] accuracy: 86.01%\n",
      "[INFO][06/21/2020 22:36:12] ====================Epoch 6====================\n",
      "[INFO][06/21/2020 22:36:15] Step  5355 | loss 0.21557520 | lr: 6.77e-04 | 0.032s per step\n",
      "[INFO][06/21/2020 22:36:18] Step  5460 | loss 0.21373023 | lr: 6.58e-04 | 0.029s per step\n",
      "[INFO][06/21/2020 22:36:21] Step  5565 | loss 0.21493504 | lr: 6.39e-04 | 0.031s per step\n",
      "[INFO][06/21/2020 22:36:24] Step  5670 | loss 0.21639468 | lr: 6.20e-04 | 0.029s per step\n",
      "[INFO][06/21/2020 22:36:27] Step  5775 | loss 0.21062630 | lr: 6.01e-04 | 0.028s per step\n",
      "[INFO][06/21/2020 22:36:27] Metrics at step 5786:\n",
      "[INFO][06/21/2020 22:36:27] loss: 0.25133996\n",
      "[INFO][06/21/2020 22:36:27] accuracy: 87.39%\n",
      "[INFO][06/21/2020 22:36:30] Step  5880 | loss 0.20381869 | lr: 5.82e-04 | 0.032s per step\n",
      "[INFO][06/21/2020 22:36:33] Step  5985 | loss 0.19365682 | lr: 5.63e-04 | 0.029s per step\n",
      "[INFO][06/21/2020 22:36:36] Step  6090 | loss 0.19814206 | lr: 5.43e-04 | 0.030s per step\n",
      "[INFO][06/21/2020 22:36:39] Step  6195 | loss 0.20112630 | lr: 5.24e-04 | 0.029s per step\n",
      "[INFO][06/21/2020 22:36:42] Step  6300 | loss 0.20183170 | lr: 5.04e-04 | 0.028s per step\n",
      "[INFO][06/21/2020 22:36:43] Metrics at step 6312:\n",
      "[INFO][06/21/2020 22:36:43] loss: 0.23751140\n",
      "[INFO][06/21/2020 22:36:43] accuracy: 87.84%\n",
      "[INFO][06/21/2020 22:36:43] ====================Epoch 7====================\n",
      "[INFO][06/21/2020 22:36:46] Step  6405 | loss 0.17582208 | lr: 4.84e-04 | 0.031s per step\n",
      "[INFO][06/21/2020 22:36:49] Step  6510 | loss 0.17688661 | lr: 4.65e-04 | 0.028s per step\n",
      "[INFO][06/21/2020 22:36:52] Step  6615 | loss 0.18403187 | lr: 4.45e-04 | 0.028s per step\n",
      "[INFO][06/21/2020 22:36:55] Step  6720 | loss 0.17995352 | lr: 4.26e-04 | 0.028s per step\n",
      "[INFO][06/21/2020 22:36:58] Step  6825 | loss 0.18206759 | lr: 4.07e-04 | 0.028s per step\n",
      "[INFO][06/21/2020 22:36:58] Metrics at step 6838:\n",
      "[INFO][06/21/2020 22:36:58] loss: 0.23814484\n",
      "[INFO][06/21/2020 22:36:58] accuracy: 89.22%\n",
      "[INFO][06/21/2020 22:37:01] Step  6930 | loss 0.18766518 | lr: 3.87e-04 | 0.030s per step\n",
      "[INFO][06/21/2020 22:37:04] Step  7035 | loss 0.17397516 | lr: 3.68e-04 | 0.028s per step\n",
      "[INFO][06/21/2020 22:37:07] Step  7140 | loss 0.16388638 | lr: 3.50e-04 | 0.028s per step\n",
      "[INFO][06/21/2020 22:37:10] Step  7245 | loss 0.17219118 | lr: 3.31e-04 | 0.029s per step\n",
      "[INFO][06/21/2020 22:37:13] Step  7350 | loss 0.16307540 | lr: 3.13e-04 | 0.028s per step\n",
      "[INFO][06/21/2020 22:37:13] Metrics at step 7364:\n",
      "[INFO][06/21/2020 22:37:13] loss: 0.27545738\n",
      "[INFO][06/21/2020 22:37:13] accuracy: 85.78%\n",
      "[INFO][06/21/2020 22:37:13] ====================Epoch 8====================\n",
      "[INFO][06/21/2020 22:37:16] Step  7455 | loss 0.15651713 | lr: 2.95e-04 | 0.029s per step\n",
      "[INFO][06/21/2020 22:37:19] Step  7560 | loss 0.14768688 | lr: 2.77e-04 | 0.028s per step\n",
      "[INFO][06/21/2020 22:37:22] Step  7665 | loss 0.15145556 | lr: 2.60e-04 | 0.028s per step\n",
      "[INFO][06/21/2020 22:37:25] Step  7770 | loss 0.15617567 | lr: 2.43e-04 | 0.028s per step\n",
      "[INFO][06/21/2020 22:37:28] Step  7875 | loss 0.15452568 | lr: 2.26e-04 | 0.028s per step\n",
      "[INFO][06/21/2020 22:37:28] Metrics at step 7890:\n",
      "[INFO][06/21/2020 22:37:28] loss: 0.25122132\n",
      "[INFO][06/21/2020 22:37:28] accuracy: 88.07%\n",
      "[INFO][06/21/2020 22:37:31] Step  7980 | loss 0.15026230 | lr: 2.10e-04 | 0.029s per step\n",
      "[INFO][06/21/2020 22:37:34] Step  8085 | loss 0.14667628 | lr: 1.94e-04 | 0.028s per step\n",
      "[INFO][06/21/2020 22:37:37] Step  8190 | loss 0.15530832 | lr: 1.79e-04 | 0.028s per step\n",
      "[INFO][06/21/2020 22:37:40] Step  8295 | loss 0.14921747 | lr: 1.64e-04 | 0.028s per step\n",
      "[INFO][06/21/2020 22:37:43] Step  8400 | loss 0.15009627 | lr: 1.50e-04 | 0.029s per step\n",
      "[INFO][06/21/2020 22:37:43] Metrics at step 8416:\n",
      "[INFO][06/21/2020 22:37:43] loss: 0.23341283\n",
      "[INFO][06/21/2020 22:37:43] accuracy: 88.53%\n",
      "[INFO][06/21/2020 22:37:44] ====================Epoch 9====================\n",
      "[INFO][06/21/2020 22:37:46] Step  8505 | loss 0.13865079 | lr: 1.36e-04 | 0.031s per step\n",
      "[INFO][06/21/2020 22:37:49] Step  8610 | loss 0.13690595 | lr: 1.23e-04 | 0.028s per step\n",
      "[INFO][06/21/2020 22:37:52] Step  8715 | loss 0.14226641 | lr: 1.10e-04 | 0.028s per step\n",
      "[INFO][06/21/2020 22:37:55] Step  8820 | loss 0.14570794 | lr: 9.85e-05 | 0.029s per step\n",
      "[INFO][06/21/2020 22:37:58] Step  8925 | loss 0.14258785 | lr: 8.71e-05 | 0.028s per step\n",
      "[INFO][06/21/2020 22:37:58] Metrics at step 8942:\n",
      "[INFO][06/21/2020 22:37:58] loss: 0.23910898\n",
      "[INFO][06/21/2020 22:37:58] accuracy: 86.93%\n",
      "[INFO][06/21/2020 22:38:01] Step  9030 | loss 0.13790875 | lr: 7.64e-05 | 0.029s per step\n",
      "[INFO][06/21/2020 22:38:04] Step  9135 | loss 0.13565260 | lr: 6.63e-05 | 0.028s per step\n",
      "[INFO][06/21/2020 22:38:07] Step  9240 | loss 0.13005843 | lr: 5.69e-05 | 0.029s per step\n",
      "[INFO][06/21/2020 22:38:10] Step  9345 | loss 0.13103673 | lr: 4.82e-05 | 0.029s per step\n"
     ]
    },
    {
     "name": "stdout",
     "output_type": "stream",
     "text": [
      "Gradient overflow.  Skipping step, loss scaler 0 reducing loss scale to 131072.0\n"
     ]
    },
    {
     "name": "stderr",
     "output_type": "stream",
     "text": [
      "[INFO][06/21/2020 22:38:13] Step  9450 | loss 0.13385803 | lr: 4.01e-05 | 0.029s per step\n",
      "[INFO][06/21/2020 22:38:14] Metrics at step 9468:\n",
      "[INFO][06/21/2020 22:38:14] loss: 0.23111891\n",
      "[INFO][06/21/2020 22:38:14] accuracy: 88.07%\n",
      "[INFO][06/21/2020 22:38:14] ====================Epoch 10====================\n",
      "[INFO][06/21/2020 22:38:16] Step  9555 | loss 0.14210797 | lr: 3.28e-05 | 0.031s per step\n",
      "[INFO][06/21/2020 22:38:19] Step  9660 | loss 0.13052901 | lr: 2.62e-05 | 0.029s per step\n",
      "[INFO][06/21/2020 22:38:22] Step  9765 | loss 0.13239639 | lr: 2.03e-05 | 0.028s per step\n",
      "[INFO][06/21/2020 22:38:25] Step  9870 | loss 0.12321634 | lr: 1.51e-05 | 0.028s per step\n",
      "[INFO][06/21/2020 22:38:28] Step  9975 | loss 0.12520859 | lr: 1.07e-05 | 0.030s per step\n",
      "[INFO][06/21/2020 22:38:29] Metrics at step 9994:\n",
      "[INFO][06/21/2020 22:38:29] loss: 0.23559640\n",
      "[INFO][06/21/2020 22:38:29] accuracy: 87.61%\n",
      "[INFO][06/21/2020 22:38:32] Step 10080 | loss 0.12608127 | lr: 7.06e-06 | 0.030s per step\n",
      "[INFO][06/21/2020 22:38:35] Step 10185 | loss 0.12330649 | lr: 4.16e-06 | 0.029s per step\n",
      "[INFO][06/21/2020 22:38:38] Step 10290 | loss 0.12724777 | lr: 2.02e-06 | 0.029s per step\n",
      "[INFO][06/21/2020 22:38:41] Step 10395 | loss 0.12354033 | lr: 6.44e-07 | 0.029s per step\n",
      "[INFO][06/21/2020 22:38:44] Step 10500 | loss 0.12711601 | lr: 3.34e-08 | 0.029s per step\n",
      "[INFO][06/21/2020 22:38:44] Metrics at step 10520:\n",
      "[INFO][06/21/2020 22:38:44] loss: 0.23408489\n",
      "[INFO][06/21/2020 22:38:44] accuracy: 87.39%\n",
      "[INFO][06/21/2020 22:38:45] Training finished. Best step(s):\n",
      "[INFO][06/21/2020 22:38:45] loss: 0.23111891 @ step 9468\n",
      "[INFO][06/21/2020 22:38:45] accuracy: 89.22% @ step 6838\n"
     ]
    }
   ],
   "source": [
    "print(total_steps)\n",
    "\n",
    "bot.train(\n",
    "    total_steps=total_steps,\n",
    "    checkpoint_interval=len(train_loader) // 2\n",
    ")\n",
    "bot.load_model(checkpoints.best_performers[0][1])\n",
    "checkpoints.remove_checkpoints(keep=0)"
   ]
  },
  {
   "cell_type": "code",
   "execution_count": 27,
   "metadata": {},
   "outputs": [
    {
     "data": {
      "text/plain": [
       "{'loss': (0.23111891254372552, '0.23111891'),\n",
       " 'accuracy': (-0.8807339449541285, '88.07%')}"
      ]
     },
     "execution_count": 27,
     "metadata": {},
     "output_type": "execute_result"
    }
   ],
   "source": [
    "bot.eval(valid_loader)"
   ]
  },
  {
   "cell_type": "code",
   "execution_count": 28,
   "metadata": {},
   "outputs": [
    {
     "data": {
      "text/plain": [
       "{'loss': (0.26100756665435404, '0.26100757'),\n",
       " 'accuracy': (-0.8738532110091743, '87.39%')}"
      ]
     },
     "execution_count": 28,
     "metadata": {},
     "output_type": "execute_result"
    }
   ],
   "source": [
    "bot.eval(test_loader)"
   ]
  },
  {
   "cell_type": "code",
   "execution_count": 26,
   "metadata": {},
   "outputs": [],
   "source": [
    "# tokenizer.pad_token_id"
   ]
  }
 ],
 "metadata": {
  "kernelspec": {
   "display_name": "Python 3",
   "language": "python",
   "name": "python3"
  },
  "language_info": {
   "codemirror_mode": {
    "name": "ipython",
    "version": 3
   },
   "file_extension": ".py",
   "mimetype": "text/x-python",
   "name": "python",
   "nbconvert_exporter": "python",
   "pygments_lexer": "ipython3",
   "version": "3.8.3"
  }
 },
 "nbformat": 4,
 "nbformat_minor": 4
}
