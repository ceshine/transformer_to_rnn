{
 "cells": [
  {
   "cell_type": "code",
   "execution_count": null,
   "metadata": {},
   "outputs": [],
   "source": [
    "%cd .."
   ]
  },
  {
   "cell_type": "code",
   "execution_count": 2,
   "metadata": {},
   "outputs": [],
   "source": [
    "import dataclasses\n",
    "from pathlib import Path\n",
    "import warnings\n",
    "\n",
    "import nlp\n",
    "import torch\n",
    "import numpy as np\n",
    "import torch.nn.functional as F\n",
    "from transformers import BertForSequenceClassification\n",
    "from torch.optim.lr_scheduler import CosineAnnealingLR\n",
    "from sklearn.model_selection import train_test_split\n",
    "\n",
    "from pytorch_helper_bot import (\n",
    "    BaseBot, MovingAverageStatsTrackerCallback,  CheckpointCallback,\n",
    "    LearningRateSchedulerCallback, MultiStageScheduler, Top1Accuracy,\n",
    "    LinearLR, Callback\n",
    ")\n",
    "\n",
    "from nobita.models import get_sequence_model\n",
    "\n",
    "\n",
    "try:\n",
    "    from apex import amp\n",
    "    APEX_AVAILABLE = True\n",
    "except ModuleNotFoundError:\n",
    "    APEX_AVAILABLE = False\n",
    "# APEX_AVAILABLE = False"
   ]
  },
  {
   "cell_type": "code",
   "execution_count": 3,
   "metadata": {},
   "outputs": [],
   "source": [
    "CACHE_DIR = Path(\"cache/\")\n",
    "CACHE_DIR.mkdir(exist_ok=True)"
   ]
  },
  {
   "cell_type": "markdown",
   "metadata": {},
   "source": [
    "Reference:\n",
    "\n",
    "    * https://github.com/huggingface/nlp/blob/master/notebooks/Overview.ipynb"
   ]
  },
  {
   "cell_type": "code",
   "execution_count": 4,
   "metadata": {},
   "outputs": [],
   "source": [
    "class SST2Dataset(torch.utils.data.Dataset):\n",
    "    def __init__(self, entries_dict, temperature=1):\n",
    "        super().__init__()\n",
    "        self.entries_dict = entries_dict\n",
    "        self.temperature = temperature\n",
    "    \n",
    "    def __len__(self):\n",
    "        return len(self.entries_dict[\"label\"])\n",
    "    \n",
    "    def __getitem__(self, idx):\n",
    "        return (\n",
    "            self.entries_dict[\"input_ids\"][idx],\n",
    "            self.entries_dict[\"attention_mask\"][idx].sum(), #input_lengths\n",
    "            {\n",
    "                \"label\": self.entries_dict[\"label\"][idx], \n",
    "                \"logits\": self.entries_dict[\"logits\"][idx] / self.temperature\n",
    "            }\n",
    "        )"
   ]
  },
  {
   "cell_type": "code",
   "execution_count": 5,
   "metadata": {},
   "outputs": [],
   "source": [
    "train_dict, valid_dict, test_dict = torch.load(str(CACHE_DIR / \"distill-dicts.jbl\"))"
   ]
  },
  {
   "cell_type": "code",
   "execution_count": 6,
   "metadata": {},
   "outputs": [],
   "source": [
    "# Instantiate a PyTorch Dataloader around our dataset\n",
    "TEMPERATURE = 2\n",
    "train_loader = torch.utils.data.DataLoader(SST2Dataset(train_dict, temperature=TEMPERATURE), batch_size=64, shuffle=True)\n",
    "valid_loader = torch.utils.data.DataLoader(SST2Dataset(valid_dict, temperature=TEMPERATURE), batch_size=64, drop_last=False)\n",
    "test_loader = torch.utils.data.DataLoader(SST2Dataset(test_dict, temperature=TEMPERATURE), batch_size=64, drop_last=False)"
   ]
  },
  {
   "cell_type": "code",
   "execution_count": 7,
   "metadata": {},
   "outputs": [],
   "source": [
    "ALPHA = 0\n",
    "DISTILL_OBJECTIVE = torch.nn.MSELoss()\n",
    "\n",
    "def cross_entropy(logits, targets):\n",
    "    targets = F.softmax(targets, dim=-1)\n",
    "    return -(targets * F.log_softmax(logits, dim=-1)).sum(dim=1).mean()\n",
    "\n",
    "def distill_loss(logits, targets):\n",
    "#     distill_part = F.binary_cross_entropy_with_logits(\n",
    "#         logits[:, 1], targets[\"logits\"][:, 1]\n",
    "#     )\n",
    "    distill_part = cross_entropy(\n",
    "        logits, targets[\"logits\"]\n",
    "    )\n",
    "    classification_part = F.cross_entropy(\n",
    "        logits, targets[\"label\"]\n",
    "    )\n",
    "    return ALPHA * classification_part + (1-ALPHA) * distill_part"
   ]
  },
  {
   "cell_type": "code",
   "execution_count": 8,
   "metadata": {},
   "outputs": [],
   "source": [
    "bert_model = BertForSequenceClassification.from_pretrained(str(CACHE_DIR / \"sst2_bert_uncased\")).cpu()"
   ]
  },
  {
   "cell_type": "code",
   "execution_count": 9,
   "metadata": {},
   "outputs": [
    {
     "data": {
      "text/plain": [
       "torch.Size([30522, 768])"
      ]
     },
     "execution_count": 9,
     "metadata": {},
     "output_type": "execute_result"
    }
   ],
   "source": [
    "bert_model.bert.embeddings.word_embeddings.weight.shape"
   ]
  },
  {
   "cell_type": "code",
   "execution_count": 10,
   "metadata": {},
   "outputs": [],
   "source": [
    "# Note: apex does not support weight dropping\n",
    "model = get_sequence_model(\n",
    "    voc_size=bert_model.bert.embeddings.word_embeddings.weight.shape[0],\n",
    "    emb_size=bert_model.bert.embeddings.word_embeddings.weight.shape[1],\n",
    "    pad_idx = 0,\n",
    "    dropoute = 0,\n",
    "    rnn_hid = 768,\n",
    "    rnn_layers = 2,\n",
    "    bidir = True,\n",
    "    dropouth = 0.25,\n",
    "    dropouti = 0.25,\n",
    "    wdrop = 0,\n",
    "    unit_type = \"gru\",\n",
    "    fcn_layers = [512, 2],\n",
    "    fcn_dropouts = [0.25, 0.25],\n",
    "    use_attention = True\n",
    ")"
   ]
  },
  {
   "cell_type": "code",
   "execution_count": 11,
   "metadata": {},
   "outputs": [
    {
     "data": {
      "text/plain": [
       "SequenceModel(\n",
       "  (embeddings): BasicEmbeddings(\n",
       "    (encoder): Embedding(30522, 768, padding_idx=0)\n",
       "  )\n",
       "  (encoder): RNNStack(\n",
       "    (rnns): ModuleList(\n",
       "      (0): GRU(768, 384, bidirectional=True)\n",
       "      (1): GRU(768, 384, bidirectional=True)\n",
       "    )\n",
       "    (dropouti): LockedDropout()\n",
       "    (dropouths): ModuleList(\n",
       "      (0): LockedDropout()\n",
       "      (1): LockedDropout()\n",
       "    )\n",
       "  )\n",
       "  (fcn): AttentionFCN(\n",
       "    (attention): Attention(768, return attention=False)\n",
       "    (layers): ModuleList(\n",
       "      (0): LinearBlock(\n",
       "        (lin): Linear(in_features=768, out_features=512, bias=True)\n",
       "        (drop): Dropout(p=0.25, inplace=False)\n",
       "        (bn): BatchNorm1d(768, eps=1e-05, momentum=0.1, affine=True, track_running_stats=True)\n",
       "      )\n",
       "      (1): LinearBlock(\n",
       "        (lin): Linear(in_features=512, out_features=2, bias=True)\n",
       "        (drop): Dropout(p=0.25, inplace=False)\n",
       "        (bn): BatchNorm1d(512, eps=1e-05, momentum=0.1, affine=True, track_running_stats=True)\n",
       "      )\n",
       "    )\n",
       "  )\n",
       ")"
      ]
     },
     "execution_count": 11,
     "metadata": {},
     "output_type": "execute_result"
    }
   ],
   "source": [
    "model"
   ]
  },
  {
   "cell_type": "code",
   "execution_count": 12,
   "metadata": {},
   "outputs": [],
   "source": [
    "# Copy the embedding weights to the LSTM model\n",
    "try:\n",
    "    model.embeddings.encoder.emb.weight.data = bert_model.bert.embeddings.word_embeddings.weight.data\n",
    "except:\n",
    "    model.embeddings.encoder.weight.data = bert_model.bert.embeddings.word_embeddings.weight.data"
   ]
  },
  {
   "cell_type": "code",
   "execution_count": 13,
   "metadata": {},
   "outputs": [],
   "source": [
    "# Freeze the embedding layer\n",
    "for param in model.embeddings.encoder.parameters():\n",
    "    param.requires_grad = False"
   ]
  },
  {
   "cell_type": "code",
   "execution_count": 14,
   "metadata": {},
   "outputs": [],
   "source": [
    "model = model.cuda()"
   ]
  },
  {
   "cell_type": "code",
   "execution_count": 15,
   "metadata": {},
   "outputs": [],
   "source": [
    "# Use only leaf tensors\n",
    "parameters = [x for x in model.parameters() if x.is_leaf and x.requires_grad]"
   ]
  },
  {
   "cell_type": "code",
   "execution_count": 16,
   "metadata": {},
   "outputs": [],
   "source": [
    "del bert_model"
   ]
  },
  {
   "cell_type": "code",
   "execution_count": 17,
   "metadata": {},
   "outputs": [],
   "source": [
    "optimizer = torch.optim.Adam(parameters, lr=1e-3, betas=(0.8, 0.99))\n",
    "# optimizer = torch.optim.RMSprop(parameters, lr=0.01)"
   ]
  },
  {
   "cell_type": "code",
   "execution_count": 18,
   "metadata": {},
   "outputs": [
    {
     "name": "stdout",
     "output_type": "stream",
     "text": [
      "Selected optimization level O1:  Insert automatic casts around Pytorch functions and Tensor methods.\n",
      "\n",
      "Defaults for this optimization level are:\n",
      "enabled                : True\n",
      "opt_level              : O1\n",
      "cast_model_type        : None\n",
      "patch_torch_functions  : True\n",
      "keep_batchnorm_fp32    : None\n",
      "master_weights         : None\n",
      "loss_scale             : dynamic\n",
      "Processing user overrides (additional kwargs that are not None)...\n",
      "After processing overrides, optimization options are:\n",
      "enabled                : True\n",
      "opt_level              : O1\n",
      "cast_model_type        : None\n",
      "patch_torch_functions  : True\n",
      "keep_batchnorm_fp32    : None\n",
      "master_weights         : None\n",
      "loss_scale             : dynamic\n"
     ]
    }
   ],
   "source": [
    "if APEX_AVAILABLE:\n",
    "    model, optimizer = amp.initialize(\n",
    "        model, optimizer, opt_level=\"O1\"\n",
    "    )"
   ]
  },
  {
   "cell_type": "code",
   "execution_count": 19,
   "metadata": {},
   "outputs": [],
   "source": [
    "class TransposeCallback(Callback):\n",
    "    def on_batch_inputs(self, bot, input_tensors, targets):\n",
    "        input_tensors = [input_tensors[0].transpose(1, 0), input_tensors[1]]\n",
    "        return input_tensors, targets"
   ]
  },
  {
   "cell_type": "code",
   "execution_count": 20,
   "metadata": {},
   "outputs": [],
   "source": [
    "class DistillTop1Accuracy(Top1Accuracy):\n",
    "    def __call__(self, truth, pred):\n",
    "        truth = truth[\"label\"]\n",
    "        return super().__call__(truth, pred)"
   ]
  },
  {
   "cell_type": "code",
   "execution_count": 21,
   "metadata": {},
   "outputs": [
    {
     "name": "stderr",
     "output_type": "stream",
     "text": [
      "[INFO][06/22/2020 12:22:58] SEED: 9293\n",
      "[INFO][06/22/2020 12:22:58] # of parameters: 29,156,610\n",
      "[INFO][06/22/2020 12:22:58] # of trainable parameters: 5,715,714\n"
     ]
    }
   ],
   "source": [
    "total_steps = len(train_loader) * 10\n",
    "\n",
    "checkpoints = CheckpointCallback(\n",
    "    keep_n_checkpoints=1,\n",
    "    checkpoint_dir=CACHE_DIR / \"distill_model_cache/\",\n",
    "    monitor_metric=\"loss\"\n",
    ")\n",
    "lr_durations = [\n",
    "    int(total_steps*0.2),\n",
    "    int(np.ceil(total_steps*0.8))\n",
    "]\n",
    "break_points = [0] + list(np.cumsum(lr_durations))[:-1]\n",
    "callbacks = [\n",
    "    MovingAverageStatsTrackerCallback(\n",
    "        avg_window=len(train_loader) // 8,\n",
    "        log_interval=len(train_loader) // 10\n",
    "    ),\n",
    "    LearningRateSchedulerCallback(\n",
    "        MultiStageScheduler(\n",
    "            [\n",
    "                LinearLR(optimizer, 0.01, lr_durations[0]),\n",
    "                CosineAnnealingLR(optimizer, lr_durations[1])\n",
    "            ],\n",
    "            start_at_epochs=break_points\n",
    "        )\n",
    "    ),\n",
    "    checkpoints,\n",
    "    TransposeCallback()\n",
    "]\n",
    "    \n",
    "bot = BaseBot(\n",
    "    log_dir = CACHE_DIR / \"distill_logs\",\n",
    "    model=model, \n",
    "    train_loader=train_loader,\n",
    "    valid_loader=valid_loader, \n",
    "    clip_grad=10.,\n",
    "    optimizer=optimizer, echo=True,\n",
    "    criterion=distill_loss,\n",
    "    callbacks=callbacks,\n",
    "    pbar=False, use_tensorboard=False,\n",
    "    use_amp=APEX_AVAILABLE,\n",
    "    metrics=(DistillTop1Accuracy(),)\n",
    ")"
   ]
  },
  {
   "cell_type": "code",
   "execution_count": 22,
   "metadata": {},
   "outputs": [
    {
     "name": "stderr",
     "output_type": "stream",
     "text": [
      "[INFO][06/22/2020 12:22:58] Optimizer Adam (\n",
      "Parameter Group 0\n",
      "    amsgrad: False\n",
      "    betas: (0.8, 0.99)\n",
      "    eps: 1e-08\n",
      "    initial_lr: 0.001\n",
      "    lr: 0.001\n",
      "    weight_decay: 0\n",
      ")\n",
      "[INFO][06/22/2020 12:22:58] Batches per epoch: 1053\n",
      "[INFO][06/22/2020 12:22:58] ====================Epoch 1====================\n"
     ]
    },
    {
     "name": "stdout",
     "output_type": "stream",
     "text": [
      "10530\n"
     ]
    },
    {
     "name": "stderr",
     "output_type": "stream",
     "text": [
      "[INFO][06/22/2020 12:23:00] Step   105 | loss 1.03664687 | lr: 5.94e-05 | 0.022s per step\n",
      "[INFO][06/22/2020 12:23:02] Step   210 | loss 0.87239841 | lr: 1.09e-04 | 0.020s per step\n",
      "[INFO][06/22/2020 12:23:04] Step   315 | loss 0.77213957 | lr: 1.58e-04 | 0.020s per step\n",
      "[INFO][06/22/2020 12:23:06] Step   420 | loss 0.70218241 | lr: 2.08e-04 | 0.019s per step\n",
      "[INFO][06/22/2020 12:23:08] Step   525 | loss 0.63744639 | lr: 2.57e-04 | 0.019s per step\n",
      "[INFO][06/22/2020 12:23:08] Metrics at step 526:\n",
      "[INFO][06/22/2020 12:23:08] loss: 0.51258492\n",
      "[INFO][06/22/2020 12:23:08] accuracy: 79.59%\n",
      "[INFO][06/22/2020 12:23:11] Step   630 | loss 0.60566715 | lr: 3.06e-04 | 0.022s per step\n",
      "[INFO][06/22/2020 12:23:13] Step   735 | loss 0.57780791 | lr: 3.56e-04 | 0.019s per step\n",
      "[INFO][06/22/2020 12:23:15] Step   840 | loss 0.55246004 | lr: 4.05e-04 | 0.019s per step\n",
      "[INFO][06/22/2020 12:23:17] Step   945 | loss 0.52066027 | lr: 4.54e-04 | 0.019s per step\n",
      "[INFO][06/22/2020 12:23:19] Step  1050 | loss 0.49935605 | lr: 5.04e-04 | 0.019s per step\n",
      "[INFO][06/22/2020 12:23:19] Metrics at step 1052:\n",
      "[INFO][06/22/2020 12:23:19] loss: 0.50811659\n",
      "[INFO][06/22/2020 12:23:19] accuracy: 73.62%\n",
      "[INFO][06/22/2020 12:23:19] ====================Epoch 2====================\n",
      "[INFO][06/22/2020 12:23:21] Step  1155 | loss 0.48247815 | lr: 5.53e-04 | 0.021s per step\n",
      "[INFO][06/22/2020 12:23:23] Step  1260 | loss 0.47265667 | lr: 6.03e-04 | 0.019s per step\n",
      "[INFO][06/22/2020 12:23:25] Step  1365 | loss 0.45568707 | lr: 6.52e-04 | 0.020s per step\n",
      "[INFO][06/22/2020 12:23:27] Step  1470 | loss 0.44649919 | lr: 7.01e-04 | 0.019s per step\n",
      "[INFO][06/22/2020 12:23:29] Step  1575 | loss 0.42648902 | lr: 7.51e-04 | 0.019s per step\n",
      "[INFO][06/22/2020 12:23:29] Metrics at step 1578:\n",
      "[INFO][06/22/2020 12:23:29] loss: 0.43059794\n",
      "[INFO][06/22/2020 12:23:29] accuracy: 83.03%\n",
      "[INFO][06/22/2020 12:23:31] Step  1680 | loss 0.41226856 | lr: 8.00e-04 | 0.021s per step\n",
      "[INFO][06/22/2020 12:23:33] Step  1785 | loss 0.39568340 | lr: 8.50e-04 | 0.019s per step\n",
      "[INFO][06/22/2020 12:23:35] Step  1890 | loss 0.39647297 | lr: 8.99e-04 | 0.019s per step\n",
      "[INFO][06/22/2020 12:23:37] Step  1995 | loss 0.40427583 | lr: 9.48e-04 | 0.019s per step\n",
      "[INFO][06/22/2020 12:23:39] Step  2100 | loss 0.40413265 | lr: 9.98e-04 | 0.019s per step\n",
      "[INFO][06/22/2020 12:23:39] Metrics at step 2104:\n",
      "[INFO][06/22/2020 12:23:39] loss: 0.38252500\n",
      "[INFO][06/22/2020 12:23:39] accuracy: 84.63%\n",
      "[INFO][06/22/2020 12:23:40] ====================Epoch 3====================\n",
      "[INFO][06/22/2020 12:23:41] Step  2205 | loss 0.38945636 | lr: 1.00e-03 | 0.021s per step\n",
      "[INFO][06/22/2020 12:23:43] Step  2310 | loss 0.37957587 | lr: 1.00e-03 | 0.019s per step\n",
      "[INFO][06/22/2020 12:23:45] Step  2415 | loss 0.37919838 | lr: 9.98e-04 | 0.019s per step\n",
      "[INFO][06/22/2020 12:23:47] Step  2520 | loss 0.38450098 | lr: 9.95e-04 | 0.019s per step\n",
      "[INFO][06/22/2020 12:23:49] Step  2625 | loss 0.37405370 | lr: 9.92e-04 | 0.019s per step\n",
      "[INFO][06/22/2020 12:23:50] Metrics at step 2630:\n",
      "[INFO][06/22/2020 12:23:50] loss: 0.39586718\n",
      "[INFO][06/22/2020 12:23:50] accuracy: 85.09%\n",
      "[INFO][06/22/2020 12:23:52] Step  2730 | loss 0.37520866 | lr: 9.87e-04 | 0.020s per step\n",
      "[INFO][06/22/2020 12:23:54] Step  2835 | loss 0.37453742 | lr: 9.83e-04 | 0.019s per step\n",
      "[INFO][06/22/2020 12:23:56] Step  2940 | loss 0.36084729 | lr: 9.77e-04 | 0.019s per step\n",
      "[INFO][06/22/2020 12:23:58] Step  3045 | loss 0.36345152 | lr: 9.71e-04 | 0.019s per step\n",
      "[INFO][06/22/2020 12:24:00] Step  3150 | loss 0.36122217 | lr: 9.64e-04 | 0.019s per step\n",
      "[INFO][06/22/2020 12:24:00] Metrics at step 3156:\n",
      "[INFO][06/22/2020 12:24:00] loss: 0.37497213\n",
      "[INFO][06/22/2020 12:24:00] accuracy: 85.78%\n",
      "[INFO][06/22/2020 12:24:00] ====================Epoch 4====================\n",
      "[INFO][06/22/2020 12:24:02] Step  3255 | loss 0.34930013 | lr: 9.56e-04 | 0.021s per step\n",
      "[INFO][06/22/2020 12:24:04] Step  3360 | loss 0.34576086 | lr: 9.47e-04 | 0.019s per step\n",
      "[INFO][06/22/2020 12:24:06] Step  3465 | loss 0.34578141 | lr: 9.38e-04 | 0.020s per step\n",
      "[INFO][06/22/2020 12:24:08] Step  3570 | loss 0.33585410 | lr: 9.28e-04 | 0.021s per step\n",
      "[INFO][06/22/2020 12:24:10] Step  3675 | loss 0.33997767 | lr: 9.18e-04 | 0.020s per step\n",
      "[INFO][06/22/2020 12:24:10] Metrics at step 3682:\n",
      "[INFO][06/22/2020 12:24:10] loss: 0.38183392\n",
      "[INFO][06/22/2020 12:24:10] accuracy: 86.93%\n",
      "[INFO][06/22/2020 12:24:12] Step  3780 | loss 0.34221326 | lr: 9.07e-04 | 0.021s per step\n",
      "[INFO][06/22/2020 12:24:15] Step  3885 | loss 0.33193627 | lr: 8.95e-04 | 0.020s per step\n",
      "[INFO][06/22/2020 12:24:17] Step  3990 | loss 0.33320199 | lr: 8.83e-04 | 0.021s per step\n",
      "[INFO][06/22/2020 12:24:19] Step  4095 | loss 0.33763403 | lr: 8.70e-04 | 0.020s per step\n",
      "[INFO][06/22/2020 12:24:21] Step  4200 | loss 0.33400809 | lr: 8.56e-04 | 0.020s per step\n",
      "[INFO][06/22/2020 12:24:21] Metrics at step 4208:\n",
      "[INFO][06/22/2020 12:24:21] loss: 0.40587831\n",
      "[INFO][06/22/2020 12:24:21] accuracy: 86.01%\n",
      "[INFO][06/22/2020 12:24:21] ====================Epoch 5====================\n",
      "[INFO][06/22/2020 12:24:23] Step  4305 | loss 0.32350574 | lr: 8.42e-04 | 0.021s per step\n",
      "[INFO][06/22/2020 12:24:25] Step  4410 | loss 0.32366917 | lr: 8.27e-04 | 0.020s per step\n",
      "[INFO][06/22/2020 12:24:27] Step  4515 | loss 0.31516533 | lr: 8.12e-04 | 0.020s per step\n",
      "[INFO][06/22/2020 12:24:30] Step  4620 | loss 0.31640197 | lr: 7.97e-04 | 0.020s per step\n",
      "[INFO][06/22/2020 12:24:32] Step  4725 | loss 0.31695435 | lr: 7.81e-04 | 0.020s per step\n",
      "[INFO][06/22/2020 12:24:32] Metrics at step 4734:\n",
      "[INFO][06/22/2020 12:24:32] loss: 0.36949803\n",
      "[INFO][06/22/2020 12:24:32] accuracy: 86.01%\n",
      "[INFO][06/22/2020 12:24:34] Step  4830 | loss 0.31609207 | lr: 7.64e-04 | 0.023s per step\n",
      "[INFO][06/22/2020 12:24:36] Step  4935 | loss 0.30939256 | lr: 7.47e-04 | 0.020s per step\n",
      "[INFO][06/22/2020 12:24:38] Step  5040 | loss 0.30695672 | lr: 7.30e-04 | 0.020s per step\n",
      "[INFO][06/22/2020 12:24:40] Step  5145 | loss 0.30808976 | lr: 7.13e-04 | 0.020s per step\n",
      "[INFO][06/22/2020 12:24:43] Step  5250 | loss 0.30429294 | lr: 6.95e-04 | 0.020s per step\n",
      "[INFO][06/22/2020 12:24:43] Metrics at step 5260:\n",
      "[INFO][06/22/2020 12:24:43] loss: 0.37218092\n",
      "[INFO][06/22/2020 12:24:43] accuracy: 87.61%\n",
      "[INFO][06/22/2020 12:24:43] ====================Epoch 6====================\n",
      "[INFO][06/22/2020 12:24:45] Step  5355 | loss 0.29315495 | lr: 6.77e-04 | 0.021s per step\n",
      "[INFO][06/22/2020 12:24:47] Step  5460 | loss 0.29384300 | lr: 6.58e-04 | 0.020s per step\n",
      "[INFO][06/22/2020 12:24:49] Step  5565 | loss 0.29897254 | lr: 6.39e-04 | 0.020s per step\n",
      "[INFO][06/22/2020 12:24:51] Step  5670 | loss 0.29670692 | lr: 6.20e-04 | 0.020s per step\n",
      "[INFO][06/22/2020 12:24:53] Step  5775 | loss 0.30147202 | lr: 6.01e-04 | 0.020s per step\n",
      "[INFO][06/22/2020 12:24:54] Metrics at step 5786:\n",
      "[INFO][06/22/2020 12:24:54] loss: 0.36711983\n",
      "[INFO][06/22/2020 12:24:54] accuracy: 86.24%\n",
      "[INFO][06/22/2020 12:24:56] Step  5880 | loss 0.29751945 | lr: 5.82e-04 | 0.022s per step\n",
      "[INFO][06/22/2020 12:24:58] Step  5985 | loss 0.28953857 | lr: 5.63e-04 | 0.020s per step\n"
     ]
    },
    {
     "name": "stdout",
     "output_type": "stream",
     "text": [
      "Gradient overflow.  Skipping step, loss scaler 0 reducing loss scale to 262144.0\n"
     ]
    },
    {
     "name": "stderr",
     "output_type": "stream",
     "text": [
      "[INFO][06/22/2020 12:25:00] Step  6090 | loss 0.28975009 | lr: 5.43e-04 | 0.020s per step\n",
      "[INFO][06/22/2020 12:25:02] Step  6195 | loss 0.29608382 | lr: 5.24e-04 | 0.020s per step\n",
      "[INFO][06/22/2020 12:25:04] Step  6300 | loss 0.28900624 | lr: 5.04e-04 | 0.020s per step\n",
      "[INFO][06/22/2020 12:25:04] Metrics at step 6312:\n",
      "[INFO][06/22/2020 12:25:04] loss: 0.38556949\n",
      "[INFO][06/22/2020 12:25:04] accuracy: 86.01%\n",
      "[INFO][06/22/2020 12:25:05] ====================Epoch 7====================\n"
     ]
    },
    {
     "name": "stdout",
     "output_type": "stream",
     "text": [
      "Gradient overflow.  Skipping step, loss scaler 0 reducing loss scale to 131072.0\n"
     ]
    },
    {
     "name": "stderr",
     "output_type": "stream",
     "text": [
      "[INFO][06/22/2020 12:25:06] Step  6405 | loss 0.27658087 | lr: 4.84e-04 | 0.021s per step\n",
      "[INFO][06/22/2020 12:25:09] Step  6510 | loss 0.27708929 | lr: 4.65e-04 | 0.021s per step\n",
      "[INFO][06/22/2020 12:25:11] Step  6615 | loss 0.27623287 | lr: 4.45e-04 | 0.021s per step\n",
      "[INFO][06/22/2020 12:25:13] Step  6720 | loss 0.27701399 | lr: 4.26e-04 | 0.020s per step\n",
      "[INFO][06/22/2020 12:25:15] Step  6825 | loss 0.27551537 | lr: 4.07e-04 | 0.020s per step\n",
      "[INFO][06/22/2020 12:25:15] Metrics at step 6838:\n",
      "[INFO][06/22/2020 12:25:15] loss: 0.38232645\n",
      "[INFO][06/22/2020 12:25:15] accuracy: 86.47%\n",
      "[INFO][06/22/2020 12:25:17] Step  6930 | loss 0.28142329 | lr: 3.87e-04 | 0.021s per step\n",
      "[INFO][06/22/2020 12:25:19] Step  7035 | loss 0.28142423 | lr: 3.68e-04 | 0.020s per step\n",
      "[INFO][06/22/2020 12:25:21] Step  7140 | loss 0.28245478 | lr: 3.50e-04 | 0.020s per step\n",
      "[INFO][06/22/2020 12:25:24] Step  7245 | loss 0.28022827 | lr: 3.31e-04 | 0.020s per step\n",
      "[INFO][06/22/2020 12:25:26] Step  7350 | loss 0.28022748 | lr: 3.13e-04 | 0.021s per step\n",
      "[INFO][06/22/2020 12:25:26] Metrics at step 7364:\n",
      "[INFO][06/22/2020 12:25:26] loss: 0.36911676\n",
      "[INFO][06/22/2020 12:25:26] accuracy: 86.93%\n",
      "[INFO][06/22/2020 12:25:26] ====================Epoch 8====================\n",
      "[INFO][06/22/2020 12:25:28] Step  7455 | loss 0.27477248 | lr: 2.95e-04 | 0.021s per step\n",
      "[INFO][06/22/2020 12:25:30] Step  7560 | loss 0.27157674 | lr: 2.77e-04 | 0.020s per step\n",
      "[INFO][06/22/2020 12:25:32] Step  7665 | loss 0.26778120 | lr: 2.60e-04 | 0.020s per step\n",
      "[INFO][06/22/2020 12:25:34] Step  7770 | loss 0.26707739 | lr: 2.43e-04 | 0.020s per step\n",
      "[INFO][06/22/2020 12:25:36] Step  7875 | loss 0.26741112 | lr: 2.26e-04 | 0.020s per step\n",
      "[INFO][06/22/2020 12:25:37] Metrics at step 7890:\n",
      "[INFO][06/22/2020 12:25:37] loss: 0.37217124\n",
      "[INFO][06/22/2020 12:25:37] accuracy: 88.76%\n",
      "[INFO][06/22/2020 12:25:38] Step  7980 | loss 0.27037196 | lr: 2.10e-04 | 0.020s per step\n",
      "[INFO][06/22/2020 12:25:40] Step  8085 | loss 0.26372647 | lr: 1.94e-04 | 0.019s per step\n",
      "[INFO][06/22/2020 12:25:42] Step  8190 | loss 0.26357583 | lr: 1.79e-04 | 0.020s per step\n",
      "[INFO][06/22/2020 12:25:45] Step  8295 | loss 0.26493892 | lr: 1.64e-04 | 0.021s per step\n",
      "[INFO][06/22/2020 12:25:47] Step  8400 | loss 0.26393772 | lr: 1.50e-04 | 0.021s per step\n",
      "[INFO][06/22/2020 12:25:47] Metrics at step 8416:\n",
      "[INFO][06/22/2020 12:25:47] loss: 0.36119194\n",
      "[INFO][06/22/2020 12:25:47] accuracy: 88.53%\n",
      "[INFO][06/22/2020 12:25:48] ====================Epoch 9====================\n",
      "[INFO][06/22/2020 12:25:49] Step  8505 | loss 0.25822164 | lr: 1.36e-04 | 0.022s per step\n",
      "[INFO][06/22/2020 12:25:51] Step  8610 | loss 0.26260512 | lr: 1.23e-04 | 0.021s per step\n",
      "[INFO][06/22/2020 12:25:54] Step  8715 | loss 0.26229966 | lr: 1.10e-04 | 0.021s per step\n",
      "[INFO][06/22/2020 12:25:56] Step  8820 | loss 0.26233566 | lr: 9.85e-05 | 0.021s per step\n",
      "[INFO][06/22/2020 12:25:58] Step  8925 | loss 0.25480256 | lr: 8.71e-05 | 0.020s per step\n",
      "[INFO][06/22/2020 12:25:58] Metrics at step 8942:\n",
      "[INFO][06/22/2020 12:25:58] loss: 0.36275418\n",
      "[INFO][06/22/2020 12:25:58] accuracy: 88.76%\n",
      "[INFO][06/22/2020 12:26:00] Step  9030 | loss 0.26244007 | lr: 7.64e-05 | 0.021s per step\n",
      "[INFO][06/22/2020 12:26:02] Step  9135 | loss 0.26121079 | lr: 6.63e-05 | 0.020s per step\n",
      "[INFO][06/22/2020 12:26:04] Step  9240 | loss 0.26021108 | lr: 5.69e-05 | 0.020s per step\n",
      "[INFO][06/22/2020 12:26:06] Step  9345 | loss 0.25732282 | lr: 4.82e-05 | 0.019s per step\n",
      "[INFO][06/22/2020 12:26:08] Step  9450 | loss 0.25993343 | lr: 4.01e-05 | 0.019s per step\n",
      "[INFO][06/22/2020 12:26:09] Metrics at step 9468:\n",
      "[INFO][06/22/2020 12:26:09] loss: 0.36027073\n",
      "[INFO][06/22/2020 12:26:09] accuracy: 88.53%\n",
      "[INFO][06/22/2020 12:26:09] ====================Epoch 10====================\n",
      "[INFO][06/22/2020 12:26:10] Step  9555 | loss 0.26392412 | lr: 3.28e-05 | 0.021s per step\n",
      "[INFO][06/22/2020 12:26:12] Step  9660 | loss 0.26179007 | lr: 2.62e-05 | 0.019s per step\n",
      "[INFO][06/22/2020 12:26:15] Step  9765 | loss 0.26091696 | lr: 2.03e-05 | 0.019s per step\n",
      "[INFO][06/22/2020 12:26:17] Step  9870 | loss 0.26055535 | lr: 1.51e-05 | 0.019s per step\n",
      "[INFO][06/22/2020 12:26:19] Step  9975 | loss 0.25141854 | lr: 1.07e-05 | 0.019s per step\n",
      "[INFO][06/22/2020 12:26:19] Metrics at step 9994:\n",
      "[INFO][06/22/2020 12:26:19] loss: 0.36313053\n",
      "[INFO][06/22/2020 12:26:19] accuracy: 88.30%\n",
      "[INFO][06/22/2020 12:26:21] Step 10080 | loss 0.25111598 | lr: 7.06e-06 | 0.020s per step\n",
      "[INFO][06/22/2020 12:26:23] Step 10185 | loss 0.25558973 | lr: 4.16e-06 | 0.019s per step\n",
      "[INFO][06/22/2020 12:26:25] Step 10290 | loss 0.25936327 | lr: 2.02e-06 | 0.019s per step\n",
      "[INFO][06/22/2020 12:26:27] Step 10395 | loss 0.26312600 | lr: 6.44e-07 | 0.019s per step\n",
      "[INFO][06/22/2020 12:26:29] Step 10500 | loss 0.25856924 | lr: 3.34e-08 | 0.019s per step\n",
      "[INFO][06/22/2020 12:26:29] Metrics at step 10520:\n",
      "[INFO][06/22/2020 12:26:29] loss: 0.36127622\n",
      "[INFO][06/22/2020 12:26:29] accuracy: 88.53%\n",
      "[INFO][06/22/2020 12:26:29] Training finished. Best step(s):\n",
      "[INFO][06/22/2020 12:26:29] loss: 0.36027073 @ step 9468\n",
      "[INFO][06/22/2020 12:26:29] accuracy: 88.76% @ step 7890\n"
     ]
    },
    {
     "name": "stdout",
     "output_type": "stream",
     "text": [
      "Gradient overflow.  Skipping step, loss scaler 0 reducing loss scale to 262144.0\n"
     ]
    }
   ],
   "source": [
    "print(total_steps)\n",
    "\n",
    "bot.train(\n",
    "    total_steps=total_steps,\n",
    "    checkpoint_interval=len(train_loader) // 2\n",
    ")\n",
    "bot.load_model(checkpoints.best_performers[0][1])\n",
    "checkpoints.remove_checkpoints(keep=0)"
   ]
  },
  {
   "cell_type": "code",
   "execution_count": 23,
   "metadata": {},
   "outputs": [
    {
     "data": {
      "text/plain": [
       "{'loss': (0.36027613993084756, '0.36027614'),\n",
       " 'accuracy': (-0.8853211009174312, '88.53%')}"
      ]
     },
     "execution_count": 23,
     "metadata": {},
     "output_type": "execute_result"
    }
   ],
   "source": [
    "bot.eval(valid_loader)"
   ]
  },
  {
   "cell_type": "code",
   "execution_count": 24,
   "metadata": {},
   "outputs": [
    {
     "data": {
      "text/plain": [
       "{'loss': (0.3821879901470394, '0.38218799'),\n",
       " 'accuracy': (-0.8830275229357798, '88.30%')}"
      ]
     },
     "execution_count": 24,
     "metadata": {},
     "output_type": "execute_result"
    }
   ],
   "source": [
    "bot.eval(test_loader)"
   ]
  }
 ],
 "metadata": {
  "kernelspec": {
   "display_name": "Python 3",
   "language": "python",
   "name": "python3"
  },
  "language_info": {
   "codemirror_mode": {
    "name": "ipython",
    "version": 3
   },
   "file_extension": ".py",
   "mimetype": "text/x-python",
   "name": "python",
   "nbconvert_exporter": "python",
   "pygments_lexer": "ipython3",
   "version": "3.8.3"
  }
 },
 "nbformat": 4,
 "nbformat_minor": 4
}
