{
 "cells": [
  {
   "cell_type": "code",
   "execution_count": 1,
   "metadata": {},
   "outputs": [
    {
     "name": "stdout",
     "output_type": "stream",
     "text": [
      "/mnt/SSD_Data/active_projects/transformer_to_lstm\n"
     ]
    }
   ],
   "source": [
    "%cd .."
   ]
  },
  {
   "cell_type": "code",
   "execution_count": 2,
   "metadata": {},
   "outputs": [],
   "source": [
    "import dataclasses\n",
    "from pathlib import Path\n",
    "import warnings\n",
    "\n",
    "import nlp\n",
    "import torch\n",
    "import numpy as np\n",
    "import torch.nn.functional as F\n",
    "from transformers import BertForSequenceClassification\n",
    "from torch.optim.lr_scheduler import CosineAnnealingLR\n",
    "from sklearn.model_selection import train_test_split\n",
    "\n",
    "from pytorch_helper_bot import (\n",
    "    BaseBot, MovingAverageStatsTrackerCallback,  CheckpointCallback,\n",
    "    LearningRateSchedulerCallback, MultiStageScheduler, Top1Accuracy,\n",
    "    LinearLR, Callback\n",
    ")\n",
    "\n",
    "from nobita.models import get_sequence_model\n",
    "\n",
    "\n",
    "try:\n",
    "    from apex import amp\n",
    "    APEX_AVAILABLE = True\n",
    "except ModuleNotFoundError:\n",
    "    APEX_AVAILABLE = False\n",
    "# APEX_AVAILABLE = False"
   ]
  },
  {
   "cell_type": "code",
   "execution_count": 3,
   "metadata": {},
   "outputs": [],
   "source": [
    "CACHE_DIR = Path(\"cache/\")\n",
    "CACHE_DIR.mkdir(exist_ok=True)"
   ]
  },
  {
   "cell_type": "markdown",
   "metadata": {},
   "source": [
    "Reference:\n",
    "\n",
    "    * https://github.com/huggingface/nlp/blob/master/notebooks/Overview.ipynb"
   ]
  },
  {
   "cell_type": "code",
   "execution_count": 4,
   "metadata": {},
   "outputs": [],
   "source": [
    "class SST2Dataset(torch.utils.data.Dataset):\n",
    "    def __init__(self, entries_dict):\n",
    "        super().__init__()\n",
    "        self.entries_dict = entries_dict\n",
    "    \n",
    "    def __len__(self):\n",
    "        return len(self.entries_dict[\"label\"])\n",
    "    \n",
    "    def __getitem__(self, idx):\n",
    "        return (\n",
    "            self.entries_dict[\"input_ids\"][idx],\n",
    "            self.entries_dict[\"attention_mask\"][idx].sum(), #input_lengths\n",
    "            {\n",
    "                \"label\": self.entries_dict[\"label\"][idx], \n",
    "                \"logits\": self.entries_dict[\"logits\"][idx]\n",
    "            }\n",
    "        )"
   ]
  },
  {
   "cell_type": "code",
   "execution_count": 5,
   "metadata": {},
   "outputs": [],
   "source": [
    "train_dict, valid_dict, test_dict = torch.load(str(CACHE_DIR / \"distill-dicts.jbl\"))"
   ]
  },
  {
   "cell_type": "code",
   "execution_count": 6,
   "metadata": {},
   "outputs": [],
   "source": [
    "# Instantiate a PyTorch Dataloader around our dataset\n",
    "train_loader = torch.utils.data.DataLoader(SST2Dataset(train_dict), batch_size=64, shuffle=True)\n",
    "valid_loader = torch.utils.data.DataLoader(SST2Dataset(valid_dict), batch_size=64, drop_last=False)\n",
    "test_loader = torch.utils.data.DataLoader(SST2Dataset(test_dict), batch_size=64, drop_last=False)"
   ]
  },
  {
   "cell_type": "code",
   "execution_count": 7,
   "metadata": {},
   "outputs": [],
   "source": [
    "ALPHA = 0\n",
    "DISTILL_OBJECTIVE = torch.nn.MSELoss()\n",
    "\n",
    "def distill_loss(logits, targets):\n",
    "    distill_part = DISTILL_OBJECTIVE(\n",
    "        logits.reshape(-1), targets[\"logits\"].reshape(-1)\n",
    "    ) / 2\n",
    "    classification_part = F.cross_entropy(\n",
    "        logits, targets[\"label\"]\n",
    "    )\n",
    "    return ALPHA * classification_part + (1-ALPHA) * distill_part"
   ]
  },
  {
   "cell_type": "code",
   "execution_count": 8,
   "metadata": {},
   "outputs": [],
   "source": [
    "bert_model = BertForSequenceClassification.from_pretrained(str(CACHE_DIR / \"sst2_bert_uncased\")).cpu()"
   ]
  },
  {
   "cell_type": "code",
   "execution_count": 9,
   "metadata": {},
   "outputs": [
    {
     "data": {
      "text/plain": [
       "torch.Size([30522, 768])"
      ]
     },
     "execution_count": 9,
     "metadata": {},
     "output_type": "execute_result"
    }
   ],
   "source": [
    "bert_model.bert.embeddings.word_embeddings.weight.shape"
   ]
  },
  {
   "cell_type": "code",
   "execution_count": 10,
   "metadata": {},
   "outputs": [],
   "source": [
    "# Note: apex does not support weight dropping\n",
    "model = get_sequence_model(\n",
    "    voc_size=bert_model.bert.embeddings.word_embeddings.weight.shape[0],\n",
    "    emb_size=bert_model.bert.embeddings.word_embeddings.weight.shape[1],\n",
    "    pad_idx = 0,\n",
    "    dropoute = 0,\n",
    "    rnn_hid = 768,\n",
    "    rnn_layers = 3,\n",
    "    bidir = True,\n",
    "    dropouth = 0.25,\n",
    "    dropouti = 0.25,\n",
    "    wdrop = 0,\n",
    "    unit_type = \"lstm\",\n",
    "    fcn_layers = [512, 2],\n",
    "    fcn_dropouts = [0.25, 0.25],\n",
    "    use_attention = True\n",
    ")"
   ]
  },
  {
   "cell_type": "code",
   "execution_count": 11,
   "metadata": {},
   "outputs": [
    {
     "data": {
      "text/plain": [
       "SequenceModel(\n",
       "  (embeddings): BasicEmbeddings(\n",
       "    (encoder): Embedding(30522, 768, padding_idx=0)\n",
       "  )\n",
       "  (encoder): RNNStack(\n",
       "    (rnns): ModuleList(\n",
       "      (0): LSTM(768, 384, bidirectional=True)\n",
       "      (1): LSTM(768, 384, bidirectional=True)\n",
       "      (2): LSTM(768, 384, bidirectional=True)\n",
       "    )\n",
       "    (dropouti): LockedDropout()\n",
       "    (dropouths): ModuleList(\n",
       "      (0): LockedDropout()\n",
       "      (1): LockedDropout()\n",
       "      (2): LockedDropout()\n",
       "    )\n",
       "  )\n",
       "  (fcn): AttentionFCN(\n",
       "    (attention): Attention(768, return attention=False)\n",
       "    (layers): ModuleList(\n",
       "      (0): LinearBlock(\n",
       "        (lin): Linear(in_features=768, out_features=512, bias=True)\n",
       "        (drop): Dropout(p=0.25, inplace=False)\n",
       "        (bn): BatchNorm1d(768, eps=1e-05, momentum=0.1, affine=True, track_running_stats=True)\n",
       "      )\n",
       "      (1): LinearBlock(\n",
       "        (lin): Linear(in_features=512, out_features=2, bias=True)\n",
       "        (drop): Dropout(p=0.25, inplace=False)\n",
       "        (bn): BatchNorm1d(512, eps=1e-05, momentum=0.1, affine=True, track_running_stats=True)\n",
       "      )\n",
       "    )\n",
       "  )\n",
       ")"
      ]
     },
     "execution_count": 11,
     "metadata": {},
     "output_type": "execute_result"
    }
   ],
   "source": [
    "model"
   ]
  },
  {
   "cell_type": "code",
   "execution_count": 12,
   "metadata": {},
   "outputs": [],
   "source": [
    "# Copy the embedding weights to the LSTM model\n",
    "try:\n",
    "    model.embeddings.encoder.emb.weight.data = bert_model.bert.embeddings.word_embeddings.weight.data\n",
    "except:\n",
    "    model.embeddings.encoder.weight.data = bert_model.bert.embeddings.word_embeddings.weight.data"
   ]
  },
  {
   "cell_type": "code",
   "execution_count": 13,
   "metadata": {},
   "outputs": [],
   "source": [
    "# Freeze the embedding layer\n",
    "for param in model.embeddings.encoder.parameters():\n",
    "    param.requires_grad = False"
   ]
  },
  {
   "cell_type": "code",
   "execution_count": 14,
   "metadata": {},
   "outputs": [],
   "source": [
    "model = model.cuda()"
   ]
  },
  {
   "cell_type": "code",
   "execution_count": 15,
   "metadata": {},
   "outputs": [],
   "source": [
    "# Use only leaf tensors\n",
    "parameters = [x for x in model.parameters() if x.is_leaf and x.requires_grad]"
   ]
  },
  {
   "cell_type": "code",
   "execution_count": 16,
   "metadata": {},
   "outputs": [],
   "source": [
    "del bert_model"
   ]
  },
  {
   "cell_type": "code",
   "execution_count": 17,
   "metadata": {},
   "outputs": [],
   "source": [
    "optimizer = torch.optim.Adam(parameters, lr=1e-3, betas=(0.8, 0.99))\n",
    "# optimizer = torch.optim.RMSprop(parameters, lr=0.01)"
   ]
  },
  {
   "cell_type": "code",
   "execution_count": 18,
   "metadata": {},
   "outputs": [
    {
     "name": "stdout",
     "output_type": "stream",
     "text": [
      "Selected optimization level O1:  Insert automatic casts around Pytorch functions and Tensor methods.\n",
      "\n",
      "Defaults for this optimization level are:\n",
      "enabled                : True\n",
      "opt_level              : O1\n",
      "cast_model_type        : None\n",
      "patch_torch_functions  : True\n",
      "keep_batchnorm_fp32    : None\n",
      "master_weights         : None\n",
      "loss_scale             : dynamic\n",
      "Processing user overrides (additional kwargs that are not None)...\n",
      "After processing overrides, optimization options are:\n",
      "enabled                : True\n",
      "opt_level              : O1\n",
      "cast_model_type        : None\n",
      "patch_torch_functions  : True\n",
      "keep_batchnorm_fp32    : None\n",
      "master_weights         : None\n",
      "loss_scale             : dynamic\n"
     ]
    }
   ],
   "source": [
    "if APEX_AVAILABLE:\n",
    "    model, optimizer = amp.initialize(\n",
    "        model, optimizer, opt_level=\"O1\"\n",
    "    )"
   ]
  },
  {
   "cell_type": "code",
   "execution_count": 19,
   "metadata": {},
   "outputs": [],
   "source": [
    "class TransposeCallback(Callback):\n",
    "    def on_batch_inputs(self, bot, input_tensors, targets):\n",
    "        input_tensors = [input_tensors[0].transpose(1, 0), input_tensors[1]]\n",
    "        return input_tensors, targets"
   ]
  },
  {
   "cell_type": "code",
   "execution_count": 20,
   "metadata": {},
   "outputs": [],
   "source": [
    "class DistillTop1Accuracy(Top1Accuracy):\n",
    "    def __call__(self, truth, pred):\n",
    "        truth = truth[\"label\"]\n",
    "        return super().__call__(truth, pred)"
   ]
  },
  {
   "cell_type": "code",
   "execution_count": 21,
   "metadata": {},
   "outputs": [
    {
     "name": "stderr",
     "output_type": "stream",
     "text": [
      "[INFO][06/15/2020 21:17:52] SEED: 9293\n",
      "[INFO][06/15/2020 21:17:52] # of parameters: 34,474,242\n",
      "[INFO][06/15/2020 21:17:52] # of trainable parameters: 11,033,346\n"
     ]
    }
   ],
   "source": [
    "total_steps = len(train_loader) * 10\n",
    "\n",
    "checkpoints = CheckpointCallback(\n",
    "    keep_n_checkpoints=1,\n",
    "    checkpoint_dir=CACHE_DIR / \"distill_model_cache/\",\n",
    "    monitor_metric=\"loss\"\n",
    ")\n",
    "lr_durations = [\n",
    "    int(total_steps*0.2),\n",
    "    int(np.ceil(total_steps*0.8))\n",
    "]\n",
    "break_points = [0] + list(np.cumsum(lr_durations))[:-1]\n",
    "callbacks = [\n",
    "    MovingAverageStatsTrackerCallback(\n",
    "        avg_window=len(train_loader) // 8,\n",
    "        log_interval=len(train_loader) // 10\n",
    "    ),\n",
    "    LearningRateSchedulerCallback(\n",
    "        MultiStageScheduler(\n",
    "            [\n",
    "                LinearLR(optimizer, 0.01, lr_durations[0]),\n",
    "                CosineAnnealingLR(optimizer, lr_durations[1])\n",
    "            ],\n",
    "            start_at_epochs=break_points\n",
    "        )\n",
    "    ),\n",
    "    checkpoints,\n",
    "    TransposeCallback()\n",
    "]\n",
    "    \n",
    "bot = BaseBot(\n",
    "    log_dir = CACHE_DIR / \"distill_logs\",\n",
    "    model=model, \n",
    "    train_loader=train_loader,\n",
    "    valid_loader=valid_loader, \n",
    "    clip_grad=10.,\n",
    "    optimizer=optimizer, echo=True,\n",
    "    criterion=distill_loss,\n",
    "    callbacks=callbacks,\n",
    "    pbar=False, use_tensorboard=False,\n",
    "    use_amp=APEX_AVAILABLE,\n",
    "    metrics=(DistillTop1Accuracy(),)\n",
    ")"
   ]
  },
  {
   "cell_type": "code",
   "execution_count": 22,
   "metadata": {},
   "outputs": [
    {
     "name": "stderr",
     "output_type": "stream",
     "text": [
      "[INFO][06/15/2020 21:17:52] Optimizer Adam (\n",
      "Parameter Group 0\n",
      "    amsgrad: False\n",
      "    betas: (0.8, 0.99)\n",
      "    eps: 1e-08\n",
      "    initial_lr: 0.001\n",
      "    lr: 0.001\n",
      "    weight_decay: 0\n",
      ")\n",
      "[INFO][06/15/2020 21:17:52] Batches per epoch: 1053\n",
      "[INFO][06/15/2020 21:17:52] ====================Epoch 1====================\n"
     ]
    },
    {
     "name": "stdout",
     "output_type": "stream",
     "text": [
      "10530\n",
      "Gradient overflow.  Skipping step, loss scaler 0 reducing loss scale to 32768.0\n"
     ]
    },
    {
     "name": "stderr",
     "output_type": "stream",
     "text": [
      "/data/miniconda3/envs/rapids/lib/python3.7/site-packages/torch/optim/lr_scheduler.py:123: UserWarning: Detected call of `lr_scheduler.step()` before `optimizer.step()`. In PyTorch 1.1.0 and later, you should call them in the opposite order: `optimizer.step()` before `lr_scheduler.step()`.  Failure to do this will result in PyTorch skipping the first value of the learning rate schedule. See more details at https://pytorch.org/docs/stable/optim.html#how-to-adjust-learning-rate\n",
      "  \"https://pytorch.org/docs/stable/optim.html#how-to-adjust-learning-rate\", UserWarning)\n"
     ]
    },
    {
     "name": "stdout",
     "output_type": "stream",
     "text": [
      "Gradient overflow.  Skipping step, loss scaler 0 reducing loss scale to 16384.0\n"
     ]
    },
    {
     "name": "stderr",
     "output_type": "stream",
     "text": [
      "[INFO][06/15/2020 21:17:55] Step   105 | loss 6.16087710 | lr: 5.94e-05 | 0.029s per step\n",
      "[INFO][06/15/2020 21:17:58] Step   210 | loss 5.65576329 | lr: 1.09e-04 | 0.028s per step\n",
      "[INFO][06/15/2020 21:18:01] Step   315 | loss 4.55591074 | lr: 1.58e-04 | 0.028s per step\n",
      "[INFO][06/15/2020 21:18:04] Step   420 | loss 3.85056060 | lr: 2.08e-04 | 0.028s per step\n",
      "[INFO][06/15/2020 21:18:07] Step   525 | loss 3.42229741 | lr: 2.57e-04 | 0.028s per step\n",
      "[INFO][06/15/2020 21:18:07] Metrics at step 526:\n",
      "[INFO][06/15/2020 21:18:07] loss: 4.25938623\n",
      "[INFO][06/15/2020 21:18:07] accuracy: 64.45%\n",
      "[INFO][06/15/2020 21:18:10] Step   630 | loss 3.09515045 | lr: 3.06e-04 | 0.030s per step\n",
      "[INFO][06/15/2020 21:18:13] Step   735 | loss 2.82003185 | lr: 3.56e-04 | 0.027s per step\n",
      "[INFO][06/15/2020 21:18:16] Step   840 | loss 2.69006129 | lr: 4.05e-04 | 0.028s per step\n",
      "[INFO][06/15/2020 21:18:19] Step   945 | loss 2.63054623 | lr: 4.54e-04 | 0.028s per step\n",
      "[INFO][06/15/2020 21:18:22] Step  1050 | loss 2.47787498 | lr: 5.04e-04 | 0.028s per step\n",
      "[INFO][06/15/2020 21:18:22] Metrics at step 1052:\n",
      "[INFO][06/15/2020 21:18:22] loss: 2.23677534\n",
      "[INFO][06/15/2020 21:18:22] accuracy: 75.69%\n",
      "[INFO][06/15/2020 21:18:22] ====================Epoch 2====================\n",
      "[INFO][06/15/2020 21:18:25] Step  1155 | loss 2.44849263 | lr: 5.53e-04 | 0.032s per step\n"
     ]
    },
    {
     "name": "stdout",
     "output_type": "stream",
     "text": [
      "Gradient overflow.  Skipping step, loss scaler 0 reducing loss scale to 8192.0\n"
     ]
    },
    {
     "name": "stderr",
     "output_type": "stream",
     "text": [
      "[INFO][06/15/2020 21:18:28] Step  1260 | loss 2.48394494 | lr: 6.03e-04 | 0.028s per step\n",
      "[INFO][06/15/2020 21:18:31] Step  1365 | loss 2.35958329 | lr: 6.52e-04 | 0.028s per step\n",
      "[INFO][06/15/2020 21:18:34] Step  1470 | loss 2.63045133 | lr: 7.01e-04 | 0.028s per step\n",
      "[INFO][06/15/2020 21:18:37] Step  1575 | loss 2.25816733 | lr: 7.51e-04 | 0.029s per step\n",
      "[INFO][06/15/2020 21:18:37] Metrics at step 1578:\n",
      "[INFO][06/15/2020 21:18:37] loss: 1.88999063\n",
      "[INFO][06/15/2020 21:18:37] accuracy: 79.59%\n",
      "[INFO][06/15/2020 21:18:40] Step  1680 | loss 2.20779258 | lr: 8.00e-04 | 0.031s per step\n",
      "[INFO][06/15/2020 21:18:43] Step  1785 | loss 2.05215853 | lr: 8.50e-04 | 0.027s per step\n",
      "[INFO][06/15/2020 21:18:46] Step  1890 | loss 1.88951645 | lr: 8.99e-04 | 0.027s per step\n",
      "[INFO][06/15/2020 21:18:49] Step  1995 | loss 1.81384740 | lr: 9.48e-04 | 0.027s per step\n",
      "[INFO][06/15/2020 21:18:52] Step  2100 | loss 1.72657277 | lr: 9.98e-04 | 0.028s per step\n",
      "[INFO][06/15/2020 21:18:52] Metrics at step 2104:\n",
      "[INFO][06/15/2020 21:18:52] loss: 1.43642908\n",
      "[INFO][06/15/2020 21:18:52] accuracy: 84.40%\n",
      "[INFO][06/15/2020 21:18:52] ====================Epoch 3====================\n",
      "[INFO][06/15/2020 21:18:55] Step  2205 | loss 1.66691010 | lr: 1.00e-03 | 0.032s per step\n",
      "[INFO][06/15/2020 21:18:58] Step  2310 | loss 1.67486310 | lr: 1.00e-03 | 0.029s per step\n",
      "[INFO][06/15/2020 21:19:01] Step  2415 | loss 1.58131249 | lr: 9.98e-04 | 0.028s per step\n",
      "[INFO][06/15/2020 21:19:04] Step  2520 | loss 1.53997038 | lr: 9.95e-04 | 0.029s per step\n",
      "[INFO][06/15/2020 21:19:07] Step  2625 | loss 1.45392052 | lr: 9.92e-04 | 0.028s per step\n",
      "[INFO][06/15/2020 21:19:07] Metrics at step 2630:\n",
      "[INFO][06/15/2020 21:19:07] loss: 1.21535695\n",
      "[INFO][06/15/2020 21:19:07] accuracy: 84.63%\n",
      "[INFO][06/15/2020 21:19:10] Step  2730 | loss 1.48080481 | lr: 9.87e-04 | 0.031s per step\n"
     ]
    },
    {
     "name": "stdout",
     "output_type": "stream",
     "text": [
      "Gradient overflow.  Skipping step, loss scaler 0 reducing loss scale to 4096.0\n"
     ]
    },
    {
     "name": "stderr",
     "output_type": "stream",
     "text": [
      "[INFO][06/15/2020 21:19:13] Step  2835 | loss 1.52416247 | lr: 9.83e-04 | 0.029s per step\n",
      "[INFO][06/15/2020 21:19:16] Step  2940 | loss 1.45761719 | lr: 9.77e-04 | 0.029s per step\n",
      "[INFO][06/15/2020 21:19:19] Step  3045 | loss 1.35230513 | lr: 9.71e-04 | 0.028s per step\n",
      "[INFO][06/15/2020 21:19:22] Step  3150 | loss 1.33052107 | lr: 9.64e-04 | 0.028s per step\n",
      "[INFO][06/15/2020 21:19:22] Metrics at step 3156:\n",
      "[INFO][06/15/2020 21:19:22] loss: 1.65857734\n",
      "[INFO][06/15/2020 21:19:22] accuracy: 83.26%\n",
      "[INFO][06/15/2020 21:19:22] ====================Epoch 4====================\n",
      "[INFO][06/15/2020 21:19:25] Step  3255 | loss 1.25061045 | lr: 9.56e-04 | 0.029s per step\n",
      "[INFO][06/15/2020 21:19:28] Step  3360 | loss 1.22404257 | lr: 9.47e-04 | 0.030s per step\n",
      "[INFO][06/15/2020 21:19:31] Step  3465 | loss 1.23557551 | lr: 9.38e-04 | 0.029s per step\n",
      "[INFO][06/15/2020 21:19:34] Step  3570 | loss 1.19937187 | lr: 9.28e-04 | 0.029s per step\n",
      "[INFO][06/15/2020 21:19:37] Step  3675 | loss 1.19142340 | lr: 9.18e-04 | 0.028s per step\n",
      "[INFO][06/15/2020 21:19:38] Metrics at step 3682:\n",
      "[INFO][06/15/2020 21:19:38] loss: 1.25625541\n",
      "[INFO][06/15/2020 21:19:38] accuracy: 86.24%\n",
      "[INFO][06/15/2020 21:19:40] Step  3780 | loss 1.23433263 | lr: 9.07e-04 | 0.028s per step\n",
      "[INFO][06/15/2020 21:19:43] Step  3885 | loss 1.19242026 | lr: 8.95e-04 | 0.028s per step\n",
      "[INFO][06/15/2020 21:19:46] Step  3990 | loss 1.13395612 | lr: 8.83e-04 | 0.028s per step\n",
      "[INFO][06/15/2020 21:19:49] Step  4095 | loss 1.23181146 | lr: 8.70e-04 | 0.028s per step\n",
      "[INFO][06/15/2020 21:19:52] Step  4200 | loss 1.13847499 | lr: 8.56e-04 | 0.028s per step\n",
      "[INFO][06/15/2020 21:19:52] Metrics at step 4208:\n",
      "[INFO][06/15/2020 21:19:52] loss: 1.10359242\n",
      "[INFO][06/15/2020 21:19:52] accuracy: 85.55%\n",
      "[INFO][06/15/2020 21:19:53] ====================Epoch 5====================\n",
      "[INFO][06/15/2020 21:19:55] Step  4305 | loss 1.10443160 | lr: 8.42e-04 | 0.030s per step\n",
      "[INFO][06/15/2020 21:19:58] Step  4410 | loss 1.05090612 | lr: 8.27e-04 | 0.028s per step\n",
      "[INFO][06/15/2020 21:20:01] Step  4515 | loss 1.04069507 | lr: 8.12e-04 | 0.028s per step\n",
      "[INFO][06/15/2020 21:20:04] Step  4620 | loss 0.98410415 | lr: 7.97e-04 | 0.028s per step\n",
      "[INFO][06/15/2020 21:20:07] Step  4725 | loss 0.95635203 | lr: 7.81e-04 | 0.028s per step\n",
      "[INFO][06/15/2020 21:20:07] Metrics at step 4734:\n",
      "[INFO][06/15/2020 21:20:07] loss: 1.11988473\n",
      "[INFO][06/15/2020 21:20:07] accuracy: 86.01%\n",
      "[INFO][06/15/2020 21:20:10] Step  4830 | loss 0.96859393 | lr: 7.64e-04 | 0.028s per step\n",
      "[INFO][06/15/2020 21:20:13] Step  4935 | loss 0.94748909 | lr: 7.47e-04 | 0.029s per step\n",
      "[INFO][06/15/2020 21:20:16] Step  5040 | loss 0.92901982 | lr: 7.30e-04 | 0.029s per step\n",
      "[INFO][06/15/2020 21:20:19] Step  5145 | loss 1.00333296 | lr: 7.13e-04 | 0.028s per step\n",
      "[INFO][06/15/2020 21:20:22] Step  5250 | loss 0.90320083 | lr: 6.95e-04 | 0.028s per step\n",
      "[INFO][06/15/2020 21:20:22] Metrics at step 5260:\n",
      "[INFO][06/15/2020 21:20:22] loss: 1.13209264\n",
      "[INFO][06/15/2020 21:20:22] accuracy: 86.70%\n",
      "[INFO][06/15/2020 21:20:22] ====================Epoch 6====================\n",
      "[INFO][06/15/2020 21:20:25] Step  5355 | loss 0.84105045 | lr: 6.77e-04 | 0.029s per step\n",
      "[INFO][06/15/2020 21:20:28] Step  5460 | loss 0.84644062 | lr: 6.58e-04 | 0.028s per step\n",
      "[INFO][06/15/2020 21:20:31] Step  5565 | loss 0.83861199 | lr: 6.39e-04 | 0.030s per step\n",
      "[INFO][06/15/2020 21:20:34] Step  5670 | loss 0.82025842 | lr: 6.20e-04 | 0.028s per step\n",
      "[INFO][06/15/2020 21:20:37] Step  5775 | loss 0.82000173 | lr: 6.01e-04 | 0.028s per step\n",
      "[INFO][06/15/2020 21:20:37] Metrics at step 5786:\n",
      "[INFO][06/15/2020 21:20:37] loss: 1.11286396\n",
      "[INFO][06/15/2020 21:20:37] accuracy: 87.61%\n",
      "[INFO][06/15/2020 21:20:40] Step  5880 | loss 0.79985106 | lr: 5.82e-04 | 0.029s per step\n",
      "[INFO][06/15/2020 21:20:43] Step  5985 | loss 0.77094280 | lr: 5.63e-04 | 0.028s per step\n",
      "[INFO][06/15/2020 21:20:46] Step  6090 | loss 0.78020405 | lr: 5.43e-04 | 0.028s per step\n",
      "[INFO][06/15/2020 21:20:48] Step  6195 | loss 0.78244655 | lr: 5.24e-04 | 0.028s per step\n",
      "[INFO][06/15/2020 21:20:52] Step  6300 | loss 0.80822345 | lr: 5.04e-04 | 0.030s per step\n",
      "[INFO][06/15/2020 21:20:52] Metrics at step 6312:\n",
      "[INFO][06/15/2020 21:20:52] loss: 1.02506756\n",
      "[INFO][06/15/2020 21:20:52] accuracy: 88.07%\n",
      "[INFO][06/15/2020 21:20:52] ====================Epoch 7====================\n",
      "[INFO][06/15/2020 21:20:55] Step  6405 | loss 0.69862538 | lr: 4.84e-04 | 0.032s per step\n",
      "[INFO][06/15/2020 21:20:58] Step  6510 | loss 0.69431811 | lr: 4.65e-04 | 0.029s per step\n",
      "[INFO][06/15/2020 21:21:01] Step  6615 | loss 0.72656877 | lr: 4.45e-04 | 0.028s per step\n",
      "[INFO][06/15/2020 21:21:04] Step  6720 | loss 0.71489061 | lr: 4.26e-04 | 0.028s per step\n",
      "[INFO][06/15/2020 21:21:07] Step  6825 | loss 0.73364097 | lr: 4.07e-04 | 0.028s per step\n",
      "[INFO][06/15/2020 21:21:07] Metrics at step 6838:\n",
      "[INFO][06/15/2020 21:21:07] loss: 1.10194855\n",
      "[INFO][06/15/2020 21:21:07] accuracy: 86.70%\n",
      "[INFO][06/15/2020 21:21:10] Step  6930 | loss 0.72388282 | lr: 3.87e-04 | 0.029s per step\n",
      "[INFO][06/15/2020 21:21:13] Step  7035 | loss 0.68835531 | lr: 3.68e-04 | 0.028s per step\n",
      "[INFO][06/15/2020 21:21:16] Step  7140 | loss 0.66505817 | lr: 3.50e-04 | 0.028s per step\n",
      "[INFO][06/15/2020 21:21:19] Step  7245 | loss 0.66520094 | lr: 3.31e-04 | 0.028s per step\n",
      "[INFO][06/15/2020 21:21:22] Step  7350 | loss 0.65593697 | lr: 3.13e-04 | 0.028s per step\n",
      "[INFO][06/15/2020 21:21:22] Metrics at step 7364:\n",
      "[INFO][06/15/2020 21:21:22] loss: 1.01504227\n",
      "[INFO][06/15/2020 21:21:22] accuracy: 87.39%\n",
      "[INFO][06/15/2020 21:21:23] ====================Epoch 8====================\n",
      "[INFO][06/15/2020 21:21:25] Step  7455 | loss 0.63938377 | lr: 2.95e-04 | 0.030s per step\n",
      "[INFO][06/15/2020 21:21:28] Step  7560 | loss 0.57978523 | lr: 2.77e-04 | 0.028s per step\n",
      "[INFO][06/15/2020 21:21:31] Step  7665 | loss 0.60294741 | lr: 2.60e-04 | 0.028s per step\n",
      "[INFO][06/15/2020 21:21:34] Step  7770 | loss 0.61876136 | lr: 2.43e-04 | 0.028s per step\n",
      "[INFO][06/15/2020 21:21:37] Step  7875 | loss 0.60540265 | lr: 2.26e-04 | 0.028s per step\n",
      "[INFO][06/15/2020 21:21:37] Metrics at step 7890:\n",
      "[INFO][06/15/2020 21:21:37] loss: 1.04125462\n",
      "[INFO][06/15/2020 21:21:37] accuracy: 86.93%\n",
      "[INFO][06/15/2020 21:21:40] Step  7980 | loss 0.61141783 | lr: 2.10e-04 | 0.029s per step\n",
      "[INFO][06/15/2020 21:21:43] Step  8085 | loss 0.58528330 | lr: 1.94e-04 | 0.028s per step\n",
      "[INFO][06/15/2020 21:21:46] Step  8190 | loss 0.59729760 | lr: 1.79e-04 | 0.028s per step\n",
      "[INFO][06/15/2020 21:21:49] Step  8295 | loss 0.60122064 | lr: 1.64e-04 | 0.028s per step\n",
      "[INFO][06/15/2020 21:21:52] Step  8400 | loss 0.60428997 | lr: 1.50e-04 | 0.028s per step\n",
      "[INFO][06/15/2020 21:21:52] Metrics at step 8416:\n",
      "[INFO][06/15/2020 21:21:52] loss: 1.04631441\n",
      "[INFO][06/15/2020 21:21:52] accuracy: 87.39%\n",
      "[INFO][06/15/2020 21:21:52] ====================Epoch 9====================\n",
      "[INFO][06/15/2020 21:21:55] Step  8505 | loss 0.54401866 | lr: 1.36e-04 | 0.029s per step\n",
      "[INFO][06/15/2020 21:21:58] Step  8610 | loss 0.55072286 | lr: 1.23e-04 | 0.028s per step\n",
      "[INFO][06/15/2020 21:22:01] Step  8715 | loss 0.56220066 | lr: 1.10e-04 | 0.028s per step\n",
      "[INFO][06/15/2020 21:22:04] Step  8820 | loss 0.57582844 | lr: 9.85e-05 | 0.028s per step\n",
      "[INFO][06/15/2020 21:22:06] Step  8925 | loss 0.56547746 | lr: 8.71e-05 | 0.028s per step\n",
      "[INFO][06/15/2020 21:22:07] Metrics at step 8942:\n",
      "[INFO][06/15/2020 21:22:07] loss: 1.01630963\n",
      "[INFO][06/15/2020 21:22:07] accuracy: 86.47%\n",
      "[INFO][06/15/2020 21:22:09] Step  9030 | loss 0.56004543 | lr: 7.64e-05 | 0.029s per step\n",
      "[INFO][06/15/2020 21:22:13] Step  9135 | loss 0.55064310 | lr: 6.63e-05 | 0.030s per step\n",
      "[INFO][06/15/2020 21:22:16] Step  9240 | loss 0.52647480 | lr: 5.69e-05 | 0.031s per step\n",
      "[INFO][06/15/2020 21:22:19] Step  9345 | loss 0.53710110 | lr: 4.82e-05 | 0.030s per step\n",
      "[INFO][06/15/2020 21:22:22] Step  9450 | loss 0.54295610 | lr: 4.01e-05 | 0.029s per step\n",
      "[INFO][06/15/2020 21:22:23] Metrics at step 9468:\n",
      "[INFO][06/15/2020 21:22:23] loss: 1.00326099\n",
      "[INFO][06/15/2020 21:22:23] accuracy: 86.70%\n",
      "[INFO][06/15/2020 21:22:23] ====================Epoch 10====================\n",
      "[INFO][06/15/2020 21:22:26] Step  9555 | loss 0.56956041 | lr: 3.28e-05 | 0.032s per step\n",
      "[INFO][06/15/2020 21:22:29] Step  9660 | loss 0.52236709 | lr: 2.62e-05 | 0.029s per step\n",
      "[INFO][06/15/2020 21:22:31] Step  9765 | loss 0.54067191 | lr: 2.03e-05 | 0.028s per step\n",
      "[INFO][06/15/2020 21:22:34] Step  9870 | loss 0.48855774 | lr: 1.51e-05 | 0.028s per step\n",
      "[INFO][06/15/2020 21:22:37] Step  9975 | loss 0.50755106 | lr: 1.07e-05 | 0.028s per step\n",
      "[INFO][06/15/2020 21:22:38] Metrics at step 9994:\n",
      "[INFO][06/15/2020 21:22:38] loss: 1.00330315\n",
      "[INFO][06/15/2020 21:22:38] accuracy: 87.39%\n",
      "[INFO][06/15/2020 21:22:40] Step 10080 | loss 0.51172433 | lr: 7.06e-06 | 0.029s per step\n",
      "[INFO][06/15/2020 21:22:44] Step 10185 | loss 0.50862773 | lr: 4.16e-06 | 0.030s per step\n",
      "[INFO][06/15/2020 21:22:47] Step 10290 | loss 0.51816754 | lr: 2.02e-06 | 0.028s per step\n",
      "[INFO][06/15/2020 21:22:50] Step 10395 | loss 0.50292636 | lr: 6.44e-07 | 0.029s per step\n",
      "[INFO][06/15/2020 21:22:53] Step 10500 | loss 0.50985204 | lr: 3.34e-08 | 0.029s per step\n",
      "[INFO][06/15/2020 21:22:53] Metrics at step 10520:\n",
      "[INFO][06/15/2020 21:22:53] loss: 0.99462838\n",
      "[INFO][06/15/2020 21:22:53] accuracy: 87.16%\n",
      "[INFO][06/15/2020 21:22:54] Training finished. Best step(s):\n",
      "[INFO][06/15/2020 21:22:54] loss: 0.99462838 @ step 10520\n",
      "[INFO][06/15/2020 21:22:54] accuracy: 88.07% @ step 6312\n"
     ]
    }
   ],
   "source": [
    "print(total_steps)\n",
    "\n",
    "bot.train(\n",
    "    total_steps=total_steps,\n",
    "    checkpoint_interval=len(train_loader) // 2\n",
    ")\n",
    "bot.load_model(checkpoints.best_performers[0][1])\n",
    "checkpoints.remove_checkpoints(keep=0)"
   ]
  },
  {
   "cell_type": "code",
   "execution_count": 23,
   "metadata": {},
   "outputs": [],
   "source": [
    "# TARGET_DIR = CACHE_DIR / \"sst2_bert_uncased\"\n",
    "# TARGET_DIR.mkdir(exist_ok=True)\n",
    "# bot.model.save_pretrained(TARGET_DIR)"
   ]
  },
  {
   "cell_type": "code",
   "execution_count": 24,
   "metadata": {},
   "outputs": [
    {
     "data": {
      "text/plain": [
       "{'loss': (0.9946283785575026, '0.99462838'),\n",
       " 'accuracy': (-0.8715596330275229, '87.16%')}"
      ]
     },
     "execution_count": 24,
     "metadata": {},
     "output_type": "execute_result"
    }
   ],
   "source": [
    "bot.eval(valid_loader)"
   ]
  },
  {
   "cell_type": "code",
   "execution_count": 25,
   "metadata": {},
   "outputs": [
    {
     "data": {
      "text/plain": [
       "{'loss': (1.053325770098135, '1.05332577'),\n",
       " 'accuracy': (-0.8623853211009175, '86.24%')}"
      ]
     },
     "execution_count": 25,
     "metadata": {},
     "output_type": "execute_result"
    }
   ],
   "source": [
    "bot.eval(test_loader)"
   ]
  },
  {
   "cell_type": "code",
   "execution_count": 26,
   "metadata": {},
   "outputs": [],
   "source": [
    "# tokenizer.pad_token_id"
   ]
  }
 ],
 "metadata": {
  "kernelspec": {
   "display_name": "Python 3.7.6 64-bit ('rapids': conda)",
   "language": "python",
   "name": "python37664bitrapidsconda05ea436670824d2ebed703c8c53b011e"
  },
  "language_info": {
   "codemirror_mode": {
    "name": "ipython",
    "version": 3
   },
   "file_extension": ".py",
   "mimetype": "text/x-python",
   "name": "python",
   "nbconvert_exporter": "python",
   "pygments_lexer": "ipython3",
   "version": "3.7.6"
  }
 },
 "nbformat": 4,
 "nbformat_minor": 4
}
