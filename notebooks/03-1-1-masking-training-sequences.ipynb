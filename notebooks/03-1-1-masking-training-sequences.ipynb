{
 "cells": [
  {
   "cell_type": "markdown",
   "metadata": {},
   "source": [
    "(Using Julia to do text pre-processing)"
   ]
  },
  {
   "cell_type": "code",
   "execution_count": 18,
   "metadata": {},
   "outputs": [
    {
     "name": "stderr",
     "output_type": "stream",
     "text": [
      "\u001b[32m\u001b[1m Activating\u001b[22m\u001b[39m environment at `/mnt/SSD_Data/active_projects/transformer_to_lstm/notebooks/Project.toml`\n"
     ]
    }
   ],
   "source": [
    "using Pkg\n",
    "pkg\"activate .\""
   ]
  },
  {
   "cell_type": "code",
   "execution_count": 19,
   "metadata": {},
   "outputs": [
    {
     "name": "stderr",
     "output_type": "stream",
     "text": [
      "\u001b[32m\u001b[1m  Resolving\u001b[22m\u001b[39m package versions...\n",
      "\u001b[32m\u001b[1m   Updating\u001b[22m\u001b[39m `/mnt/SSD_Data/active_projects/transformer_to_lstm/notebooks/Project.toml`\n",
      "\u001b[90m [no changes]\u001b[39m\n",
      "\u001b[32m\u001b[1m   Updating\u001b[22m\u001b[39m `/mnt/SSD_Data/active_projects/transformer_to_lstm/notebooks/Manifest.toml`\n",
      "\u001b[90m [no changes]\u001b[39m\n",
      "\u001b[32m\u001b[1m  Resolving\u001b[22m\u001b[39m package versions...\n",
      "\u001b[32m\u001b[1m   Updating\u001b[22m\u001b[39m `/mnt/SSD_Data/active_projects/transformer_to_lstm/notebooks/Project.toml`\n",
      "\u001b[90m [no changes]\u001b[39m\n",
      "\u001b[32m\u001b[1m   Updating\u001b[22m\u001b[39m `/mnt/SSD_Data/active_projects/transformer_to_lstm/notebooks/Manifest.toml`\n",
      "\u001b[90m [no changes]\u001b[39m\n"
     ]
    }
   ],
   "source": [
    "pkg\"add PyCall\" # to run Python code from Julia\n",
    "pkg\"add StatsBase\" # to pick masking tokens"
   ]
  },
  {
   "cell_type": "code",
   "execution_count": 20,
   "metadata": {},
   "outputs": [],
   "source": [
    "using PyCall\n",
    "py\"\"\"\n",
    "import nlp\n",
    "import numpy as np\n",
    "from transformers import BertTokenizer\n",
    "\n",
    "def extract_rows():\n",
    "    dataset = nlp.load_dataset('glue', \"sst2\")\n",
    "    tokenizer = BertTokenizer.from_pretrained('bert-base-uncased')\n",
    "    results = []\n",
    "    for sent, label in zip(dataset['train']['sentence'], dataset['train']['label']):\n",
    "        results.append((tokenizer.tokenize(sent), label))\n",
    "    return results\n",
    "\"\"\""
   ]
  },
  {
   "cell_type": "code",
   "execution_count": 21,
   "metadata": {},
   "outputs": [
    {
     "name": "stdout",
     "output_type": "stream",
     "text": [
      " 13.812554 seconds (4.24 M allocations: 145.097 MiB, 0.91% gc time)\n"
     ]
    }
   ],
   "source": [
    "@time rows = py\"extract_rows\"();"
   ]
  },
  {
   "cell_type": "code",
   "execution_count": 22,
   "metadata": {},
   "outputs": [
    {
     "name": "stdout",
     "output_type": "stream",
     "text": [
      "(rows[1])[1] = [\"hide\", \"new\", \"secret\", \"##ions\", \"from\", \"the\", \"parental\", \"units\"]\n",
      "startswith.((rows[1])[1], \"##\") = Bool[0, 0, 0, 1, 0, 0, 0, 0]\n"
     ]
    },
    {
     "data": {
      "text/plain": [
       "8-element BitArray{1}:\n",
       " 0\n",
       " 0\n",
       " 0\n",
       " 1\n",
       " 0\n",
       " 0\n",
       " 0\n",
       " 0"
      ]
     },
     "execution_count": 22,
     "metadata": {},
     "output_type": "execute_result"
    }
   ],
   "source": [
    "@show rows[1][1]\n",
    "@show startswith.(rows[1][1], \"##\")"
   ]
  },
  {
   "cell_type": "code",
   "execution_count": 23,
   "metadata": {},
   "outputs": [
    {
     "data": {
      "text/plain": [
       "8-element BitArray{1}:\n",
       " 1\n",
       " 1\n",
       " 1\n",
       " 0\n",
       " 1\n",
       " 1\n",
       " 1\n",
       " 1"
      ]
     },
     "execution_count": 23,
     "metadata": {},
     "output_type": "execute_result"
    }
   ],
   "source": [
    "sentences = [x[1] for x in rows]\n",
    "function is_first_piece(arr::Array{String,1})\n",
    "    return .!startswith.(arr, \"##\")\n",
    "end\n",
    "is_first_piece(sentences[1])"
   ]
  },
  {
   "cell_type": "code",
   "execution_count": 24,
   "metadata": {},
   "outputs": [
    {
     "name": "stdout",
     "output_type": "stream",
     "text": [
      "  0.029666 seconds (202.56 k allocations: 11.958 MiB)\n"
     ]
    },
    {
     "data": {
      "text/plain": [
       "67349-element Array{BitArray{1},1}:\n",
       " [1, 1, 1, 0, 1, 1, 1, 1]\n",
       " [1, 1, 1, 1, 1, 1, 0, 1, 0]\n",
       " [1, 1, 1, 1, 1, 1, 0, 1, 1, 1, 1, 1, 1]\n",
       " [1, 1, 1, 1, 1, 1, 1, 1]\n",
       " [1, 1, 1, 1, 1, 1, 1, 1, 1, 1, 0, 1, 0, 0, 1, 1, 1, 1, 0, 1]\n",
       " [1, 1, 1, 1, 1, 1, 1, 1, 1, 1, 1]\n",
       " [1, 1, 1, 1, 1, 1, 1, 1, 0, 1  …  1, 1, 1, 1, 1, 1, 1, 1, 0, 1]\n",
       " [1, 1, 0, 0]\n",
       " [1, 1, 1, 1, 1, 1, 1, 1, 1, 1, 1]\n",
       " [1, 1, 1, 1, 1, 1, 1, 1, 1, 1, 1, 1, 1, 1]\n",
       " [1, 1, 1, 1]\n",
       " [1, 1, 1, 0, 0, 1, 1, 1, 1, 1  …  1, 1, 1, 1, 1, 1, 1, 1, 1, 1]\n",
       " [1, 1, 1, 1, 1, 1, 1, 1]\n",
       " ⋮\n",
       " [1, 1, 1, 0, 1, 1, 0, 0]\n",
       " [1, 1]\n",
       " [1, 1, 1, 1, 1, 1, 1, 1, 1, 1]\n",
       " [1, 1, 1, 0]\n",
       " [1, 1, 1, 1, 1, 1, 1, 1, 1, 1]\n",
       " [1, 1, 1, 1, 1, 1, 1, 1, 1, 1, 1, 1, 1, 1, 1, 1, 1]\n",
       " [1, 1, 1, 1]\n",
       " [1, 1, 1]\n",
       " [1, 1, 1, 1, 1]\n",
       " [1, 1, 1, 1, 1, 1, 1, 1, 1, 1, 1, 1, 1]\n",
       " [1, 1, 1]\n",
       " [1, 1, 1, 0, 1, 1, 1, 1, 1, 1, 1, 1, 1, 1, 1, 1, 1, 1, 1]"
      ]
     },
     "execution_count": 24,
     "metadata": {},
     "output_type": "execute_result"
    }
   ],
   "source": [
    "@time first_piece_masks = is_first_piece.(sentences)"
   ]
  },
  {
   "cell_type": "code",
   "execution_count": 58,
   "metadata": {},
   "outputs": [
    {
     "data": {
      "text/plain": [
       "sample_mask_position (generic function with 2 methods)"
      ]
     },
     "execution_count": 58,
     "metadata": {},
     "output_type": "execute_result"
    }
   ],
   "source": [
    "using StatsBase\n",
    "function sample_mask_position(first_piece_mask, n=1)\n",
    "    if sum(first_piece_mask) <= n\n",
    "        return []\n",
    "    end\n",
    "    return sample(1:length(first_piece_mask), Weights(first_piece_mask), n, replace=false)\n",
    "end"
   ]
  },
  {
   "cell_type": "code",
   "execution_count": 26,
   "metadata": {},
   "outputs": [
    {
     "data": {
      "text/plain": [
       "67349-element Array{Array{Int64,1},1}:\n",
       " [8]\n",
       " [1]\n",
       " [12]\n",
       " [2]\n",
       " [7]\n",
       " [4]\n",
       " [16]\n",
       " [2]\n",
       " [5]\n",
       " [9]\n",
       " [4]\n",
       " [19]\n",
       " [2]\n",
       " ⋮\n",
       " [3]\n",
       " [2]\n",
       " [2]\n",
       " [2]\n",
       " [10]\n",
       " [13]\n",
       " [2]\n",
       " [1]\n",
       " [5]\n",
       " [12]\n",
       " [2]\n",
       " [1]"
      ]
     },
     "execution_count": 26,
     "metadata": {},
     "output_type": "execute_result"
    }
   ],
   "source": [
    "masking_points = sample_mask_position.(first_piece_masks)"
   ]
  },
  {
   "cell_type": "code",
   "execution_count": 59,
   "metadata": {},
   "outputs": [
    {
     "name": "stdout",
     "output_type": "stream",
     "text": [
      "  0.519033 seconds (1.55 M allocations: 95.367 MiB, 4.44% gc time)\n"
     ]
    }
   ],
   "source": [
    "@time begin\n",
    "    buffer = Array{Tuple{Array{String,1},Int64},1}[rows]\n",
    "    for round in 1:2\n",
    "        augmented_rows = deepcopy(rows)\n",
    "        masking_points = sample_mask_position.(first_piece_masks, round)\n",
    "        for idx in 1:length(masking_points)\n",
    "            for pos in masking_points[idx]\n",
    "                @assert first_piece_masks[idx][pos] == 1\n",
    "                augmented_rows[idx][1][pos] = \"[MASK]\"\n",
    "                while pos + 1 <= length(first_piece_masks[idx]) && first_piece_masks[idx][pos + 1] == 0 \n",
    "                    pos += 1\n",
    "                    augmented_rows[idx][1][pos] = \"[MASK]\"\n",
    "                end\n",
    "            end\n",
    "        end\n",
    "        push!(buffer, augmented_rows)\n",
    "    end\n",
    "end"
   ]
  },
  {
   "cell_type": "code",
   "execution_count": 60,
   "metadata": {},
   "outputs": [
    {
     "data": {
      "text/plain": [
       "3-element Array{Tuple{Array{String,1},Int64},1}:\n",
       " ([\"hide\", \"new\", \"secret\", \"##ions\", \"from\", \"the\", \"parental\", \"units\"], 0)\n",
       " ([\"contains\", \"no\", \"wit\", \",\", \"only\", \"labor\", \"##ed\", \"gag\", \"##s\"], 0)\n",
       " ([\"that\", \"loves\", \"its\", \"characters\", \"and\", \"communicate\", \"##s\", \"something\", \"rather\", \"beautiful\", \"about\", \"human\", \"nature\"], 1)"
      ]
     },
     "execution_count": 60,
     "metadata": {},
     "output_type": "execute_result"
    }
   ],
   "source": [
    "buffer[1][1:3]"
   ]
  },
  {
   "cell_type": "code",
   "execution_count": 61,
   "metadata": {},
   "outputs": [
    {
     "data": {
      "text/plain": [
       "3-element Array{Tuple{Array{String,1},Int64},1}:\n",
       " ([\"hide\", \"new\", \"secret\", \"##ions\", \"from\", \"the\", \"[MASK]\", \"units\"], 0)\n",
       " ([\"contains\", \"no\", \"wit\", \",\", \"[MASK]\", \"labor\", \"##ed\", \"gag\", \"##s\"], 0)\n",
       " ([\"that\", \"loves\", \"[MASK]\", \"characters\", \"and\", \"communicate\", \"##s\", \"something\", \"rather\", \"beautiful\", \"about\", \"human\", \"nature\"], 1)"
      ]
     },
     "execution_count": 61,
     "metadata": {},
     "output_type": "execute_result"
    }
   ],
   "source": [
    "buffer[2][1:3]"
   ]
  },
  {
   "cell_type": "code",
   "execution_count": 62,
   "metadata": {},
   "outputs": [
    {
     "data": {
      "text/plain": [
       "3-element Array{Tuple{Array{String,1},Int64},1}:\n",
       " ([\"hide\", \"[MASK]\", \"[MASK]\", \"[MASK]\", \"from\", \"the\", \"parental\", \"units\"], 0)\n",
       " ([\"contains\", \"[MASK]\", \"wit\", \",\", \"only\", \"labor\", \"##ed\", \"[MASK]\", \"[MASK]\"], 0)\n",
       " ([\"that\", \"loves\", \"its\", \"characters\", \"and\", \"[MASK]\", \"[MASK]\", \"[MASK]\", \"rather\", \"beautiful\", \"about\", \"human\", \"nature\"], 1)"
      ]
     },
     "execution_count": 62,
     "metadata": {},
     "output_type": "execute_result"
    }
   ],
   "source": [
    "buffer[3][1:3]"
   ]
  },
  {
   "cell_type": "code",
   "execution_count": 63,
   "metadata": {},
   "outputs": [],
   "source": [
    "all_rows = vcat(buffer...);"
   ]
  },
  {
   "cell_type": "code",
   "execution_count": 64,
   "metadata": {},
   "outputs": [],
   "source": [
    "py\"\"\"\n",
    "import numpy as np\n",
    "\n",
    "def export(obj):\n",
    "    with open(\"../cache/from_julia.npz\", \"wb\") as f:\n",
    "        np.save(f, obj)\n",
    "\"\"\""
   ]
  },
  {
   "cell_type": "code",
   "execution_count": 65,
   "metadata": {},
   "outputs": [],
   "source": [
    "py\"export\"(all_rows)"
   ]
  },
  {
   "cell_type": "code",
   "execution_count": null,
   "metadata": {},
   "outputs": [],
   "source": []
  }
 ],
 "metadata": {
  "kernelspec": {
   "display_name": "Julia 1.4.1",
   "language": "julia",
   "name": "julia-1.4"
  },
  "language_info": {
   "file_extension": ".jl",
   "mimetype": "application/julia",
   "name": "julia",
   "version": "1.4.1"
  }
 },
 "nbformat": 4,
 "nbformat_minor": 4
}
