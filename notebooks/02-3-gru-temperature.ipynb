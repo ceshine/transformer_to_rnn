{
 "cells": [
  {
   "cell_type": "code",
   "execution_count": 1,
   "metadata": {},
   "outputs": [
    {
     "name": "stdout",
     "output_type": "stream",
     "text": [
      "/mnt/SSD_Data/active_projects/transformer_to_lstm\n"
     ]
    }
   ],
   "source": [
    "%cd .."
   ]
  },
  {
   "cell_type": "code",
   "execution_count": 2,
   "metadata": {},
   "outputs": [],
   "source": [
    "import dataclasses\n",
    "from pathlib import Path\n",
    "import warnings\n",
    "\n",
    "import nlp\n",
    "import torch\n",
    "import numpy as np\n",
    "import torch.nn.functional as F\n",
    "from transformers import BertForSequenceClassification\n",
    "from torch.optim.lr_scheduler import CosineAnnealingLR\n",
    "from sklearn.model_selection import train_test_split\n",
    "\n",
    "from pytorch_helper_bot import (\n",
    "    BaseBot, MovingAverageStatsTrackerCallback,  CheckpointCallback,\n",
    "    LearningRateSchedulerCallback, MultiStageScheduler, Top1Accuracy,\n",
    "    LinearLR, Callback\n",
    ")\n",
    "\n",
    "from nobita.models import get_sequence_model\n",
    "\n",
    "\n",
    "try:\n",
    "    from apex import amp\n",
    "    APEX_AVAILABLE = True\n",
    "except ModuleNotFoundError:\n",
    "    APEX_AVAILABLE = False\n",
    "# APEX_AVAILABLE = False"
   ]
  },
  {
   "cell_type": "code",
   "execution_count": 3,
   "metadata": {},
   "outputs": [],
   "source": [
    "CACHE_DIR = Path(\"cache/\")\n",
    "CACHE_DIR.mkdir(exist_ok=True)"
   ]
  },
  {
   "cell_type": "markdown",
   "metadata": {},
   "source": [
    "Reference:\n",
    "\n",
    "    * https://github.com/huggingface/nlp/blob/master/notebooks/Overview.ipynb"
   ]
  },
  {
   "cell_type": "code",
   "execution_count": 4,
   "metadata": {},
   "outputs": [],
   "source": [
    "class SST2Dataset(torch.utils.data.Dataset):\n",
    "    def __init__(self, entries_dict, temperature=1):\n",
    "        super().__init__()\n",
    "        self.entries_dict = entries_dict\n",
    "        self.temperature = temperature\n",
    "    \n",
    "    def __len__(self):\n",
    "        return len(self.entries_dict[\"label\"])\n",
    "    \n",
    "    def __getitem__(self, idx):\n",
    "        return (\n",
    "            self.entries_dict[\"input_ids\"][idx],\n",
    "            self.entries_dict[\"attention_mask\"][idx].sum(), #input_lengths\n",
    "            {\n",
    "                \"label\": self.entries_dict[\"label\"][idx], \n",
    "                \"logits\": self.entries_dict[\"logits\"][idx] / self.temperature\n",
    "            }\n",
    "        )"
   ]
  },
  {
   "cell_type": "code",
   "execution_count": 5,
   "metadata": {},
   "outputs": [],
   "source": [
    "train_dict, valid_dict, test_dict = torch.load(str(CACHE_DIR / \"distill-dicts.jbl\"))"
   ]
  },
  {
   "cell_type": "code",
   "execution_count": 6,
   "metadata": {},
   "outputs": [],
   "source": [
    "# Instantiate a PyTorch Dataloader around our dataset\n",
    "train_loader = torch.utils.data.DataLoader(SST2Dataset(train_dict, temperature=2), batch_size=64, shuffle=True)\n",
    "valid_loader = torch.utils.data.DataLoader(SST2Dataset(valid_dict, temperature=2), batch_size=64, drop_last=False)\n",
    "test_loader = torch.utils.data.DataLoader(SST2Dataset(test_dict, temperature=2), batch_size=64, drop_last=False)"
   ]
  },
  {
   "cell_type": "code",
   "execution_count": 7,
   "metadata": {},
   "outputs": [],
   "source": [
    "ALPHA = 0\n",
    "DISTILL_OBJECTIVE = torch.nn.MSELoss()\n",
    "\n",
    "def distill_loss(logits, targets):\n",
    "    distill_part = DISTILL_OBJECTIVE(\n",
    "        logits.reshape(-1), targets[\"logits\"].reshape(-1)\n",
    "    ) / 2\n",
    "    classification_part = F.cross_entropy(\n",
    "        logits, targets[\"label\"]\n",
    "    )\n",
    "    return ALPHA * classification_part + (1-ALPHA) * distill_part"
   ]
  },
  {
   "cell_type": "code",
   "execution_count": 8,
   "metadata": {},
   "outputs": [],
   "source": [
    "bert_model = BertForSequenceClassification.from_pretrained(str(CACHE_DIR / \"sst2_bert_uncased\")).cpu()"
   ]
  },
  {
   "cell_type": "code",
   "execution_count": 9,
   "metadata": {},
   "outputs": [
    {
     "data": {
      "text/plain": [
       "torch.Size([30522, 768])"
      ]
     },
     "execution_count": 9,
     "metadata": {},
     "output_type": "execute_result"
    }
   ],
   "source": [
    "bert_model.bert.embeddings.word_embeddings.weight.shape"
   ]
  },
  {
   "cell_type": "code",
   "execution_count": 10,
   "metadata": {},
   "outputs": [],
   "source": [
    "# Note: apex does not support weight dropping\n",
    "model = get_sequence_model(\n",
    "    voc_size=bert_model.bert.embeddings.word_embeddings.weight.shape[0],\n",
    "    emb_size=bert_model.bert.embeddings.word_embeddings.weight.shape[1],\n",
    "    pad_idx = 0,\n",
    "    dropoute = 0,\n",
    "    rnn_hid = 768,\n",
    "    rnn_layers = 2,\n",
    "    bidir = True,\n",
    "    dropouth = 0.25,\n",
    "    dropouti = 0.25,\n",
    "    wdrop = 0,\n",
    "    unit_type = \"gru\",\n",
    "    fcn_layers = [512, 2],\n",
    "    fcn_dropouts = [0.25, 0.25],\n",
    "    use_attention = True\n",
    ")"
   ]
  },
  {
   "cell_type": "code",
   "execution_count": 11,
   "metadata": {},
   "outputs": [
    {
     "data": {
      "text/plain": [
       "SequenceModel(\n",
       "  (embeddings): BasicEmbeddings(\n",
       "    (encoder): Embedding(30522, 768, padding_idx=0)\n",
       "  )\n",
       "  (encoder): RNNStack(\n",
       "    (rnns): ModuleList(\n",
       "      (0): GRU(768, 384, bidirectional=True)\n",
       "      (1): GRU(768, 384, bidirectional=True)\n",
       "    )\n",
       "    (dropouti): LockedDropout()\n",
       "    (dropouths): ModuleList(\n",
       "      (0): LockedDropout()\n",
       "      (1): LockedDropout()\n",
       "    )\n",
       "  )\n",
       "  (fcn): AttentionFCN(\n",
       "    (attention): Attention(768, return attention=False)\n",
       "    (layers): ModuleList(\n",
       "      (0): LinearBlock(\n",
       "        (lin): Linear(in_features=768, out_features=512, bias=True)\n",
       "        (drop): Dropout(p=0.25, inplace=False)\n",
       "        (bn): BatchNorm1d(768, eps=1e-05, momentum=0.1, affine=True, track_running_stats=True)\n",
       "      )\n",
       "      (1): LinearBlock(\n",
       "        (lin): Linear(in_features=512, out_features=2, bias=True)\n",
       "        (drop): Dropout(p=0.25, inplace=False)\n",
       "        (bn): BatchNorm1d(512, eps=1e-05, momentum=0.1, affine=True, track_running_stats=True)\n",
       "      )\n",
       "    )\n",
       "  )\n",
       ")"
      ]
     },
     "execution_count": 11,
     "metadata": {},
     "output_type": "execute_result"
    }
   ],
   "source": [
    "model"
   ]
  },
  {
   "cell_type": "code",
   "execution_count": 12,
   "metadata": {},
   "outputs": [],
   "source": [
    "# Copy the embedding weights to the LSTM model\n",
    "try:\n",
    "    model.embeddings.encoder.emb.weight.data = bert_model.bert.embeddings.word_embeddings.weight.data\n",
    "except:\n",
    "    model.embeddings.encoder.weight.data = bert_model.bert.embeddings.word_embeddings.weight.data"
   ]
  },
  {
   "cell_type": "code",
   "execution_count": 13,
   "metadata": {},
   "outputs": [],
   "source": [
    "# Freeze the embedding layer\n",
    "for param in model.embeddings.encoder.parameters():\n",
    "    param.requires_grad = False"
   ]
  },
  {
   "cell_type": "code",
   "execution_count": 14,
   "metadata": {},
   "outputs": [],
   "source": [
    "model = model.cuda()"
   ]
  },
  {
   "cell_type": "code",
   "execution_count": 15,
   "metadata": {},
   "outputs": [],
   "source": [
    "# Use only leaf tensors\n",
    "parameters = [x for x in model.parameters() if x.is_leaf and x.requires_grad]"
   ]
  },
  {
   "cell_type": "code",
   "execution_count": 16,
   "metadata": {},
   "outputs": [],
   "source": [
    "del bert_model"
   ]
  },
  {
   "cell_type": "code",
   "execution_count": 17,
   "metadata": {},
   "outputs": [],
   "source": [
    "optimizer = torch.optim.Adam(parameters, lr=1e-3, betas=(0.8, 0.99))\n",
    "# optimizer = torch.optim.RMSprop(parameters, lr=0.01)"
   ]
  },
  {
   "cell_type": "code",
   "execution_count": 18,
   "metadata": {},
   "outputs": [
    {
     "name": "stdout",
     "output_type": "stream",
     "text": [
      "Selected optimization level O1:  Insert automatic casts around Pytorch functions and Tensor methods.\n",
      "\n",
      "Defaults for this optimization level are:\n",
      "enabled                : True\n",
      "opt_level              : O1\n",
      "cast_model_type        : None\n",
      "patch_torch_functions  : True\n",
      "keep_batchnorm_fp32    : None\n",
      "master_weights         : None\n",
      "loss_scale             : dynamic\n",
      "Processing user overrides (additional kwargs that are not None)...\n",
      "After processing overrides, optimization options are:\n",
      "enabled                : True\n",
      "opt_level              : O1\n",
      "cast_model_type        : None\n",
      "patch_torch_functions  : True\n",
      "keep_batchnorm_fp32    : None\n",
      "master_weights         : None\n",
      "loss_scale             : dynamic\n"
     ]
    }
   ],
   "source": [
    "if APEX_AVAILABLE:\n",
    "    model, optimizer = amp.initialize(\n",
    "        model, optimizer, opt_level=\"O1\"\n",
    "    )"
   ]
  },
  {
   "cell_type": "code",
   "execution_count": 19,
   "metadata": {},
   "outputs": [],
   "source": [
    "class TransposeCallback(Callback):\n",
    "    def on_batch_inputs(self, bot, input_tensors, targets):\n",
    "        input_tensors = [input_tensors[0].transpose(1, 0), input_tensors[1]]\n",
    "        return input_tensors, targets"
   ]
  },
  {
   "cell_type": "code",
   "execution_count": 20,
   "metadata": {},
   "outputs": [],
   "source": [
    "class DistillTop1Accuracy(Top1Accuracy):\n",
    "    def __call__(self, truth, pred):\n",
    "        truth = truth[\"label\"]\n",
    "        return super().__call__(truth, pred)"
   ]
  },
  {
   "cell_type": "code",
   "execution_count": 21,
   "metadata": {},
   "outputs": [
    {
     "name": "stderr",
     "output_type": "stream",
     "text": [
      "[INFO][06/22/2020 12:06:25] SEED: 9293\n",
      "[INFO][06/22/2020 12:06:25] # of parameters: 29,156,610\n",
      "[INFO][06/22/2020 12:06:25] # of trainable parameters: 5,715,714\n"
     ]
    }
   ],
   "source": [
    "total_steps = len(train_loader) * 10\n",
    "\n",
    "checkpoints = CheckpointCallback(\n",
    "    keep_n_checkpoints=1,\n",
    "    checkpoint_dir=CACHE_DIR / \"distill_model_cache/\",\n",
    "    monitor_metric=\"loss\"\n",
    ")\n",
    "lr_durations = [\n",
    "    int(total_steps*0.2),\n",
    "    int(np.ceil(total_steps*0.8))\n",
    "]\n",
    "break_points = [0] + list(np.cumsum(lr_durations))[:-1]\n",
    "callbacks = [\n",
    "    MovingAverageStatsTrackerCallback(\n",
    "        avg_window=len(train_loader) // 8,\n",
    "        log_interval=len(train_loader) // 10\n",
    "    ),\n",
    "    LearningRateSchedulerCallback(\n",
    "        MultiStageScheduler(\n",
    "            [\n",
    "                LinearLR(optimizer, 0.01, lr_durations[0]),\n",
    "                CosineAnnealingLR(optimizer, lr_durations[1])\n",
    "            ],\n",
    "            start_at_epochs=break_points\n",
    "        )\n",
    "    ),\n",
    "    checkpoints,\n",
    "    TransposeCallback()\n",
    "]\n",
    "    \n",
    "bot = BaseBot(\n",
    "    log_dir = CACHE_DIR / \"distill_logs\",\n",
    "    model=model, \n",
    "    train_loader=train_loader,\n",
    "    valid_loader=valid_loader, \n",
    "    clip_grad=10.,\n",
    "    optimizer=optimizer, echo=True,\n",
    "    criterion=distill_loss,\n",
    "    callbacks=callbacks,\n",
    "    pbar=False, use_tensorboard=False,\n",
    "    use_amp=APEX_AVAILABLE,\n",
    "    metrics=(DistillTop1Accuracy(),)\n",
    ")"
   ]
  },
  {
   "cell_type": "code",
   "execution_count": 22,
   "metadata": {},
   "outputs": [
    {
     "name": "stderr",
     "output_type": "stream",
     "text": [
      "[INFO][06/22/2020 12:06:25] Optimizer Adam (\n",
      "Parameter Group 0\n",
      "    amsgrad: False\n",
      "    betas: (0.8, 0.99)\n",
      "    eps: 1e-08\n",
      "    initial_lr: 0.001\n",
      "    lr: 0.001\n",
      "    weight_decay: 0\n",
      ")\n",
      "[INFO][06/22/2020 12:06:25] Batches per epoch: 1053\n",
      "[INFO][06/22/2020 12:06:25] ====================Epoch 1====================\n"
     ]
    },
    {
     "name": "stdout",
     "output_type": "stream",
     "text": [
      "10530\n",
      "Gradient overflow.  Skipping step, loss scaler 0 reducing loss scale to 32768.0\n"
     ]
    },
    {
     "name": "stderr",
     "output_type": "stream",
     "text": [
      "/data/miniconda3/envs/rapids/lib/python3.8/site-packages/torch/optim/lr_scheduler.py:118: UserWarning: Detected call of `lr_scheduler.step()` before `optimizer.step()`. In PyTorch 1.1.0 and later, you should call them in the opposite order: `optimizer.step()` before `lr_scheduler.step()`.  Failure to do this will result in PyTorch skipping the first value of the learning rate schedule. See more details at https://pytorch.org/docs/stable/optim.html#how-to-adjust-learning-rate\n",
      "  warnings.warn(\"Detected call of `lr_scheduler.step()` before `optimizer.step()`. \"\n",
      "[INFO][06/22/2020 12:06:27] Step   105 | loss 2.20860067 | lr: 5.94e-05 | 0.020s per step\n",
      "[INFO][06/22/2020 12:06:29] Step   210 | loss 1.79867351 | lr: 1.09e-04 | 0.021s per step\n",
      "[INFO][06/22/2020 12:06:31] Step   315 | loss 1.49973700 | lr: 1.58e-04 | 0.021s per step\n",
      "[INFO][06/22/2020 12:06:34] Step   420 | loss 1.31956733 | lr: 2.08e-04 | 0.020s per step\n",
      "[INFO][06/22/2020 12:06:36] Step   525 | loss 1.13896182 | lr: 2.57e-04 | 0.020s per step\n",
      "[INFO][06/22/2020 12:06:36] Metrics at step 526:\n",
      "[INFO][06/22/2020 12:06:36] loss: 0.61648625\n",
      "[INFO][06/22/2020 12:06:36] accuracy: 74.31%\n",
      "[INFO][06/22/2020 12:06:38] Step   630 | loss 1.01736178 | lr: 3.06e-04 | 0.022s per step\n",
      "[INFO][06/22/2020 12:06:40] Step   735 | loss 0.93798083 | lr: 3.56e-04 | 0.020s per step\n",
      "[INFO][06/22/2020 12:06:42] Step   840 | loss 0.87520344 | lr: 4.05e-04 | 0.019s per step\n",
      "[INFO][06/22/2020 12:06:44] Step   945 | loss 0.79762916 | lr: 4.54e-04 | 0.020s per step\n",
      "[INFO][06/22/2020 12:06:46] Step  1050 | loss 0.75413963 | lr: 5.04e-04 | 0.020s per step\n",
      "[INFO][06/22/2020 12:06:46] Metrics at step 1052:\n",
      "[INFO][06/22/2020 12:06:46] loss: 0.64696872\n",
      "[INFO][06/22/2020 12:06:46] accuracy: 77.75%\n",
      "[INFO][06/22/2020 12:06:46] ====================Epoch 2====================\n",
      "[INFO][06/22/2020 12:06:48] Step  1155 | loss 0.70408688 | lr: 5.53e-04 | 0.020s per step\n",
      "[INFO][06/22/2020 12:06:50] Step  1260 | loss 0.66799024 | lr: 6.03e-04 | 0.020s per step\n",
      "[INFO][06/22/2020 12:06:53] Step  1365 | loss 0.59618876 | lr: 6.52e-04 | 0.020s per step\n",
      "[INFO][06/22/2020 12:06:55] Step  1470 | loss 0.55732380 | lr: 7.01e-04 | 0.020s per step\n",
      "[INFO][06/22/2020 12:06:57] Step  1575 | loss 0.50040391 | lr: 7.51e-04 | 0.020s per step\n",
      "[INFO][06/22/2020 12:06:57] Metrics at step 1578:\n",
      "[INFO][06/22/2020 12:06:57] loss: 0.36374283\n",
      "[INFO][06/22/2020 12:06:57] accuracy: 84.86%\n",
      "[INFO][06/22/2020 12:06:59] Step  1680 | loss 0.47323383 | lr: 8.00e-04 | 0.022s per step\n",
      "[INFO][06/22/2020 12:07:01] Step  1785 | loss 0.43218756 | lr: 8.50e-04 | 0.020s per step\n",
      "[INFO][06/22/2020 12:07:03] Step  1890 | loss 0.43319750 | lr: 8.99e-04 | 0.020s per step\n",
      "[INFO][06/22/2020 12:07:05] Step  1995 | loss 0.43244400 | lr: 9.48e-04 | 0.020s per step\n",
      "[INFO][06/22/2020 12:07:07] Step  2100 | loss 0.42765377 | lr: 9.98e-04 | 0.020s per step\n",
      "[INFO][06/22/2020 12:07:07] Metrics at step 2104:\n",
      "[INFO][06/22/2020 12:07:07] loss: 0.39698108\n",
      "[INFO][06/22/2020 12:07:07] accuracy: 80.28%\n",
      "[INFO][06/22/2020 12:07:07] ====================Epoch 3====================\n",
      "[INFO][06/22/2020 12:07:09] Step  2205 | loss 0.39374315 | lr: 1.00e-03 | 0.021s per step\n",
      "[INFO][06/22/2020 12:07:11] Step  2310 | loss 0.38988070 | lr: 1.00e-03 | 0.020s per step\n",
      "[INFO][06/22/2020 12:07:14] Step  2415 | loss 0.37549100 | lr: 9.98e-04 | 0.020s per step\n",
      "[INFO][06/22/2020 12:07:16] Step  2520 | loss 0.37251883 | lr: 9.95e-04 | 0.020s per step\n",
      "[INFO][06/22/2020 12:07:18] Step  2625 | loss 0.35358727 | lr: 9.92e-04 | 0.020s per step\n",
      "[INFO][06/22/2020 12:07:18] Metrics at step 2630:\n",
      "[INFO][06/22/2020 12:07:18] loss: 0.35064459\n",
      "[INFO][06/22/2020 12:07:18] accuracy: 83.49%\n",
      "[INFO][06/22/2020 12:07:20] Step  2730 | loss 0.35383979 | lr: 9.87e-04 | 0.022s per step\n",
      "[INFO][06/22/2020 12:07:22] Step  2835 | loss 0.36020698 | lr: 9.83e-04 | 0.020s per step\n",
      "[INFO][06/22/2020 12:07:24] Step  2940 | loss 0.33069180 | lr: 9.77e-04 | 0.020s per step\n",
      "[INFO][06/22/2020 12:07:26] Step  3045 | loss 0.32878100 | lr: 9.71e-04 | 0.020s per step\n",
      "[INFO][06/22/2020 12:07:28] Step  3150 | loss 0.31837281 | lr: 9.64e-04 | 0.020s per step\n",
      "[INFO][06/22/2020 12:07:29] Metrics at step 3156:\n",
      "[INFO][06/22/2020 12:07:29] loss: 0.28992281\n",
      "[INFO][06/22/2020 12:07:29] accuracy: 83.94%\n",
      "[INFO][06/22/2020 12:07:29] ====================Epoch 4====================\n",
      "[INFO][06/22/2020 12:07:31] Step  3255 | loss 0.30308706 | lr: 9.56e-04 | 0.022s per step\n",
      "[INFO][06/22/2020 12:07:33] Step  3360 | loss 0.30859817 | lr: 9.47e-04 | 0.020s per step\n",
      "[INFO][06/22/2020 12:07:35] Step  3465 | loss 0.30104074 | lr: 9.38e-04 | 0.020s per step\n",
      "[INFO][06/22/2020 12:07:37] Step  3570 | loss 0.27572712 | lr: 9.28e-04 | 0.020s per step\n",
      "[INFO][06/22/2020 12:07:39] Step  3675 | loss 0.27665830 | lr: 9.18e-04 | 0.020s per step\n",
      "[INFO][06/22/2020 12:07:39] Metrics at step 3682:\n",
      "[INFO][06/22/2020 12:07:39] loss: 0.35318073\n",
      "[INFO][06/22/2020 12:07:39] accuracy: 83.03%\n",
      "[INFO][06/22/2020 12:07:41] Step  3780 | loss 0.28615117 | lr: 9.07e-04 | 0.020s per step\n",
      "[INFO][06/22/2020 12:07:43] Step  3885 | loss 0.26403856 | lr: 8.95e-04 | 0.020s per step\n",
      "[INFO][06/22/2020 12:07:45] Step  3990 | loss 0.25992525 | lr: 8.83e-04 | 0.020s per step\n",
      "[INFO][06/22/2020 12:07:48] Step  4095 | loss 0.27458576 | lr: 8.70e-04 | 0.020s per step\n",
      "[INFO][06/22/2020 12:07:50] Step  4200 | loss 0.26290442 | lr: 8.56e-04 | 0.020s per step\n",
      "[INFO][06/22/2020 12:07:50] Metrics at step 4208:\n",
      "[INFO][06/22/2020 12:07:50] loss: 0.30516278\n",
      "[INFO][06/22/2020 12:07:50] accuracy: 86.70%\n",
      "[INFO][06/22/2020 12:07:50] ====================Epoch 5====================\n",
      "[INFO][06/22/2020 12:07:52] Step  4305 | loss 0.23742080 | lr: 8.42e-04 | 0.020s per step\n",
      "[INFO][06/22/2020 12:07:54] Step  4410 | loss 0.24116459 | lr: 8.27e-04 | 0.020s per step\n",
      "[INFO][06/22/2020 12:07:56] Step  4515 | loss 0.22758018 | lr: 8.12e-04 | 0.021s per step\n",
      "[INFO][06/22/2020 12:07:58] Step  4620 | loss 0.23709889 | lr: 7.97e-04 | 0.020s per step\n",
      "[INFO][06/22/2020 12:08:00] Step  4725 | loss 0.23792408 | lr: 7.81e-04 | 0.020s per step\n",
      "[INFO][06/22/2020 12:08:00] Metrics at step 4734:\n",
      "[INFO][06/22/2020 12:08:00] loss: 0.27811511\n",
      "[INFO][06/22/2020 12:08:00] accuracy: 85.09%\n",
      "[INFO][06/22/2020 12:08:03] Step  4830 | loss 0.23260652 | lr: 7.64e-04 | 0.022s per step\n",
      "[INFO][06/22/2020 12:08:05] Step  4935 | loss 0.21756901 | lr: 7.47e-04 | 0.020s per step\n",
      "[INFO][06/22/2020 12:08:07] Step  5040 | loss 0.21479017 | lr: 7.30e-04 | 0.020s per step\n",
      "[INFO][06/22/2020 12:08:09] Step  5145 | loss 0.21531040 | lr: 7.13e-04 | 0.020s per step\n",
      "[INFO][06/22/2020 12:08:11] Step  5250 | loss 0.21552480 | lr: 6.95e-04 | 0.020s per step\n",
      "[INFO][06/22/2020 12:08:11] Metrics at step 5260:\n",
      "[INFO][06/22/2020 12:08:11] loss: 0.26206319\n",
      "[INFO][06/22/2020 12:08:11] accuracy: 86.47%\n",
      "[INFO][06/22/2020 12:08:12] ====================Epoch 6====================\n",
      "[INFO][06/22/2020 12:08:13] Step  5355 | loss 0.18848724 | lr: 6.77e-04 | 0.023s per step\n",
      "[INFO][06/22/2020 12:08:15] Step  5460 | loss 0.18832798 | lr: 6.58e-04 | 0.020s per step\n",
      "[INFO][06/22/2020 12:08:18] Step  5565 | loss 0.19547103 | lr: 6.39e-04 | 0.020s per step\n",
      "[INFO][06/22/2020 12:08:20] Step  5670 | loss 0.18449315 | lr: 6.20e-04 | 0.020s per step\n",
      "[INFO][06/22/2020 12:08:22] Step  5775 | loss 0.20176386 | lr: 6.01e-04 | 0.020s per step\n",
      "[INFO][06/22/2020 12:08:22] Metrics at step 5786:\n",
      "[INFO][06/22/2020 12:08:22] loss: 0.23991936\n",
      "[INFO][06/22/2020 12:08:22] accuracy: 87.39%\n",
      "[INFO][06/22/2020 12:08:24] Step  5880 | loss 0.19629045 | lr: 5.82e-04 | 0.022s per step\n",
      "[INFO][06/22/2020 12:08:26] Step  5985 | loss 0.18072401 | lr: 5.63e-04 | 0.020s per step\n"
     ]
    },
    {
     "name": "stdout",
     "output_type": "stream",
     "text": [
      "Gradient overflow.  Skipping step, loss scaler 0 reducing loss scale to 131072.0\n"
     ]
    },
    {
     "name": "stderr",
     "output_type": "stream",
     "text": [
      "[INFO][06/22/2020 12:08:28] Step  6090 | loss 0.18225115 | lr: 5.43e-04 | 0.020s per step\n",
      "[INFO][06/22/2020 12:08:30] Step  6195 | loss 0.19053491 | lr: 5.24e-04 | 0.020s per step\n",
      "[INFO][06/22/2020 12:08:32] Step  6300 | loss 0.17415084 | lr: 5.04e-04 | 0.020s per step\n",
      "[INFO][06/22/2020 12:08:33] Metrics at step 6312:\n",
      "[INFO][06/22/2020 12:08:33] loss: 0.26298777\n",
      "[INFO][06/22/2020 12:08:33] accuracy: 86.47%\n",
      "[INFO][06/22/2020 12:08:33] ====================Epoch 7====================\n",
      "[INFO][06/22/2020 12:08:35] Step  6405 | loss 0.16486020 | lr: 4.84e-04 | 0.020s per step\n",
      "[INFO][06/22/2020 12:08:37] Step  6510 | loss 0.15534503 | lr: 4.65e-04 | 0.020s per step\n",
      "[INFO][06/22/2020 12:08:39] Step  6615 | loss 0.15708883 | lr: 4.45e-04 | 0.020s per step\n",
      "[INFO][06/22/2020 12:08:41] Step  6720 | loss 0.15843344 | lr: 4.26e-04 | 0.020s per step\n",
      "[INFO][06/22/2020 12:08:43] Step  6825 | loss 0.15083641 | lr: 4.07e-04 | 0.020s per step\n",
      "[INFO][06/22/2020 12:08:43] Metrics at step 6838:\n",
      "[INFO][06/22/2020 12:08:43] loss: 0.25085262\n",
      "[INFO][06/22/2020 12:08:43] accuracy: 86.24%\n",
      "[INFO][06/22/2020 12:08:45] Step  6930 | loss 0.16657961 | lr: 3.87e-04 | 0.022s per step\n",
      "[INFO][06/22/2020 12:08:47] Step  7035 | loss 0.16267612 | lr: 3.68e-04 | 0.020s per step\n",
      "[INFO][06/22/2020 12:08:49] Step  7140 | loss 0.16578580 | lr: 3.50e-04 | 0.020s per step\n",
      "[INFO][06/22/2020 12:08:51] Step  7245 | loss 0.15921911 | lr: 3.31e-04 | 0.020s per step\n",
      "[INFO][06/22/2020 12:08:53] Step  7350 | loss 0.15803445 | lr: 3.13e-04 | 0.020s per step\n",
      "[INFO][06/22/2020 12:08:54] Metrics at step 7364:\n",
      "[INFO][06/22/2020 12:08:54] loss: 0.23470440\n",
      "[INFO][06/22/2020 12:08:54] accuracy: 86.93%\n",
      "[INFO][06/22/2020 12:08:54] ====================Epoch 8====================\n",
      "[INFO][06/22/2020 12:08:56] Step  7455 | loss 0.15326209 | lr: 2.95e-04 | 0.023s per step\n",
      "[INFO][06/22/2020 12:08:58] Step  7560 | loss 0.14684260 | lr: 2.77e-04 | 0.019s per step\n",
      "[INFO][06/22/2020 12:09:00] Step  7665 | loss 0.13402382 | lr: 2.60e-04 | 0.020s per step\n",
      "[INFO][06/22/2020 12:09:02] Step  7770 | loss 0.13535676 | lr: 2.43e-04 | 0.019s per step\n",
      "[INFO][06/22/2020 12:09:04] Step  7875 | loss 0.14108198 | lr: 2.26e-04 | 0.019s per step\n",
      "[INFO][06/22/2020 12:09:04] Metrics at step 7890:\n",
      "[INFO][06/22/2020 12:09:04] loss: 0.22329378\n",
      "[INFO][06/22/2020 12:09:04] accuracy: 88.07%\n",
      "[INFO][06/22/2020 12:09:06] Step  7980 | loss 0.14295180 | lr: 2.10e-04 | 0.021s per step\n"
     ]
    },
    {
     "name": "stdout",
     "output_type": "stream",
     "text": [
      "Gradient overflow.  Skipping step, loss scaler 0 reducing loss scale to 131072.0\n"
     ]
    },
    {
     "name": "stderr",
     "output_type": "stream",
     "text": [
      "[INFO][06/22/2020 12:09:08] Step  8085 | loss 0.13317439 | lr: 1.94e-04 | 0.020s per step\n",
      "[INFO][06/22/2020 12:09:10] Step  8190 | loss 0.12667853 | lr: 1.79e-04 | 0.019s per step\n",
      "[INFO][06/22/2020 12:09:12] Step  8295 | loss 0.13330269 | lr: 1.64e-04 | 0.021s per step\n",
      "[INFO][06/22/2020 12:09:15] Step  8400 | loss 0.13123935 | lr: 1.50e-04 | 0.021s per step\n",
      "[INFO][06/22/2020 12:09:15] Metrics at step 8416:\n",
      "[INFO][06/22/2020 12:09:15] loss: 0.22670727\n",
      "[INFO][06/22/2020 12:09:15] accuracy: 87.39%\n",
      "[INFO][06/22/2020 12:09:15] ====================Epoch 9====================\n",
      "[INFO][06/22/2020 12:09:17] Step  8505 | loss 0.12312286 | lr: 1.36e-04 | 0.021s per step\n",
      "[INFO][06/22/2020 12:09:19] Step  8610 | loss 0.12718660 | lr: 1.23e-04 | 0.021s per step\n",
      "[INFO][06/22/2020 12:09:21] Step  8715 | loss 0.12717923 | lr: 1.10e-04 | 0.020s per step\n",
      "[INFO][06/22/2020 12:09:23] Step  8820 | loss 0.12930477 | lr: 9.85e-05 | 0.021s per step\n",
      "[INFO][06/22/2020 12:09:25] Step  8925 | loss 0.11505071 | lr: 8.71e-05 | 0.020s per step\n",
      "[INFO][06/22/2020 12:09:26] Metrics at step 8942:\n",
      "[INFO][06/22/2020 12:09:26] loss: 0.21492652\n",
      "[INFO][06/22/2020 12:09:26] accuracy: 87.61%\n",
      "[INFO][06/22/2020 12:09:28] Step  9030 | loss 0.12534308 | lr: 7.64e-05 | 0.022s per step\n",
      "[INFO][06/22/2020 12:09:30] Step  9135 | loss 0.12601732 | lr: 6.63e-05 | 0.020s per step\n",
      "[INFO][06/22/2020 12:09:32] Step  9240 | loss 0.12527925 | lr: 5.69e-05 | 0.019s per step\n",
      "[INFO][06/22/2020 12:09:34] Step  9345 | loss 0.11895793 | lr: 4.82e-05 | 0.019s per step\n",
      "[INFO][06/22/2020 12:09:36] Step  9450 | loss 0.12232010 | lr: 4.01e-05 | 0.019s per step\n",
      "[INFO][06/22/2020 12:09:36] Metrics at step 9468:\n",
      "[INFO][06/22/2020 12:09:36] loss: 0.21499195\n",
      "[INFO][06/22/2020 12:09:36] accuracy: 87.61%\n",
      "[INFO][06/22/2020 12:09:36] ====================Epoch 10====================\n",
      "[INFO][06/22/2020 12:09:38] Step  9555 | loss 0.12803541 | lr: 3.28e-05 | 0.019s per step\n",
      "[INFO][06/22/2020 12:09:40] Step  9660 | loss 0.12364550 | lr: 2.62e-05 | 0.019s per step\n",
      "[INFO][06/22/2020 12:09:42] Step  9765 | loss 0.12146237 | lr: 2.03e-05 | 0.019s per step\n",
      "[INFO][06/22/2020 12:09:44] Step  9870 | loss 0.12286914 | lr: 1.51e-05 | 0.021s per step\n",
      "[INFO][06/22/2020 12:09:46] Step  9975 | loss 0.11287173 | lr: 1.07e-05 | 0.020s per step\n",
      "[INFO][06/22/2020 12:09:47] Metrics at step 9994:\n",
      "[INFO][06/22/2020 12:09:47] loss: 0.21886736\n",
      "[INFO][06/22/2020 12:09:47] accuracy: 88.30%\n"
     ]
    },
    {
     "name": "stdout",
     "output_type": "stream",
     "text": [
      "Gradient overflow.  Skipping step, loss scaler 0 reducing loss scale to 131072.0\n"
     ]
    },
    {
     "name": "stderr",
     "output_type": "stream",
     "text": [
      "[INFO][06/22/2020 12:09:48] Step 10080 | loss 0.11396317 | lr: 7.06e-06 | 0.021s per step\n",
      "[INFO][06/22/2020 12:09:50] Step 10185 | loss 0.12268065 | lr: 4.16e-06 | 0.021s per step\n",
      "[INFO][06/22/2020 12:09:53] Step 10290 | loss 0.12412960 | lr: 2.02e-06 | 0.020s per step\n",
      "[INFO][06/22/2020 12:09:55] Step 10395 | loss 0.12769569 | lr: 6.44e-07 | 0.021s per step\n",
      "[INFO][06/22/2020 12:09:57] Step 10500 | loss 0.12242712 | lr: 3.34e-08 | 0.022s per step\n",
      "[INFO][06/22/2020 12:09:58] Metrics at step 10520:\n",
      "[INFO][06/22/2020 12:09:58] loss: 0.21504987\n",
      "[INFO][06/22/2020 12:09:58] accuracy: 87.84%\n",
      "[INFO][06/22/2020 12:09:58] Training finished. Best step(s):\n",
      "[INFO][06/22/2020 12:09:58] loss: 0.21492652 @ step 8942\n",
      "[INFO][06/22/2020 12:09:58] accuracy: 88.30% @ step 9994\n"
     ]
    }
   ],
   "source": [
    "print(total_steps)\n",
    "\n",
    "bot.train(\n",
    "    total_steps=total_steps,\n",
    "    checkpoint_interval=len(train_loader) // 2\n",
    ")\n",
    "bot.load_model(checkpoints.best_performers[0][1])\n",
    "checkpoints.remove_checkpoints(keep=0)"
   ]
  },
  {
   "cell_type": "code",
   "execution_count": 23,
   "metadata": {},
   "outputs": [
    {
     "data": {
      "text/plain": [
       "{'loss': (0.21491475416979658, '0.21491475'),\n",
       " 'accuracy': (-0.8761467889908257, '87.61%')}"
      ]
     },
     "execution_count": 23,
     "metadata": {},
     "output_type": "execute_result"
    }
   ],
   "source": [
    "bot.eval(valid_loader)"
   ]
  },
  {
   "cell_type": "code",
   "execution_count": 24,
   "metadata": {},
   "outputs": [
    {
     "data": {
      "text/plain": [
       "{'loss': (0.24142721247508986, '0.24142721'),\n",
       " 'accuracy': (-0.8784403669724771, '87.84%')}"
      ]
     },
     "execution_count": 24,
     "metadata": {},
     "output_type": "execute_result"
    }
   ],
   "source": [
    "bot.eval(test_loader)"
   ]
  },
  {
   "cell_type": "code",
   "execution_count": 25,
   "metadata": {},
   "outputs": [],
   "source": [
    "# tokenizer.pad_token_id"
   ]
  }
 ],
 "metadata": {
  "kernelspec": {
   "display_name": "Python 3",
   "language": "python",
   "name": "python3"
  },
  "language_info": {
   "codemirror_mode": {
    "name": "ipython",
    "version": 3
   },
   "file_extension": ".py",
   "mimetype": "text/x-python",
   "name": "python",
   "nbconvert_exporter": "python",
   "pygments_lexer": "ipython3",
   "version": "3.8.3"
  }
 },
 "nbformat": 4,
 "nbformat_minor": 4
}
