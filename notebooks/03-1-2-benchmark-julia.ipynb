{
 "cells": [
  {
   "cell_type": "code",
   "execution_count": 1,
   "metadata": {},
   "outputs": [
    {
     "name": "stderr",
     "output_type": "stream",
     "text": [
      "\u001b[32m\u001b[1m Activating\u001b[22m\u001b[39m environment at `/mnt/SSD_Data/active_projects/transformer_to_lstm/notebooks/Project.toml`\n"
     ]
    }
   ],
   "source": [
    "using Pkg\n",
    "pkg\"activate .\""
   ]
  },
  {
   "cell_type": "code",
   "execution_count": 2,
   "metadata": {},
   "outputs": [
    {
     "name": "stderr",
     "output_type": "stream",
     "text": [
      "\u001b[32m\u001b[1m   Updating\u001b[22m\u001b[39m registry at `~/.julia/registries/General`\n"
     ]
    },
    {
     "name": "stdout",
     "output_type": "stream",
     "text": [
      "\u001b[?25l\u001b[2K"
     ]
    },
    {
     "name": "stderr",
     "output_type": "stream",
     "text": [
      "\u001b[32m\u001b[1m   Updating\u001b[22m\u001b[39m git-repo `https://github.com/JuliaRegistries/General.git`\n"
     ]
    },
    {
     "name": "stdout",
     "output_type": "stream",
     "text": [
      "\u001b[?25h"
     ]
    },
    {
     "name": "stderr",
     "output_type": "stream",
     "text": [
      "\u001b[32m\u001b[1m  Resolving\u001b[22m\u001b[39m package versions...\n",
      "\u001b[32m\u001b[1m   Updating\u001b[22m\u001b[39m `/mnt/SSD_Data/active_projects/transformer_to_lstm/notebooks/Project.toml`\n",
      "\u001b[90m [no changes]\u001b[39m\n",
      "\u001b[32m\u001b[1m   Updating\u001b[22m\u001b[39m `/mnt/SSD_Data/active_projects/transformer_to_lstm/notebooks/Manifest.toml`\n",
      "\u001b[90m [no changes]\u001b[39m\n",
      "\u001b[32m\u001b[1m  Resolving\u001b[22m\u001b[39m package versions...\n",
      "\u001b[32m\u001b[1m   Updating\u001b[22m\u001b[39m `/mnt/SSD_Data/active_projects/transformer_to_lstm/notebooks/Project.toml`\n",
      "\u001b[90m [no changes]\u001b[39m\n",
      "\u001b[32m\u001b[1m   Updating\u001b[22m\u001b[39m `/mnt/SSD_Data/active_projects/transformer_to_lstm/notebooks/Manifest.toml`\n",
      "\u001b[90m [no changes]\u001b[39m\n"
     ]
    }
   ],
   "source": [
    "pkg\"add PyCall\" # to run Python code from Julia\n",
    "pkg\"add BenchmarkTools\" # to run benchmarks"
   ]
  },
  {
   "cell_type": "markdown",
   "metadata": {},
   "source": [
    "## Getting Toeknized Examples from Python"
   ]
  },
  {
   "cell_type": "code",
   "execution_count": 3,
   "metadata": {},
   "outputs": [],
   "source": [
    "using PyCall\n",
    "py\"\"\"\n",
    "import nlp\n",
    "import numpy as np\n",
    "from transformers import BertTokenizer\n",
    "\n",
    "def extract_sentences():\n",
    "    dataset = nlp.load_dataset('glue', \"sst2\")\n",
    "    tokenizer = BertTokenizer.from_pretrained('bert-base-uncased')\n",
    "    results = []\n",
    "    for sent in dataset['train']['sentence']:\n",
    "        results.append(tokenizer.tokenize(sent))\n",
    "    return results\n",
    "\"\"\""
   ]
  },
  {
   "cell_type": "code",
   "execution_count": 4,
   "metadata": {},
   "outputs": [
    {
     "name": "stdout",
     "output_type": "stream",
     "text": [
      " 14.568810 seconds (3.77 M allocations: 140.210 MiB, 0.79% gc time)\n"
     ]
    }
   ],
   "source": [
    "@time sentences = py\"extract_sentences\"();"
   ]
  },
  {
   "cell_type": "code",
   "execution_count": 5,
   "metadata": {},
   "outputs": [
    {
     "data": {
      "text/plain": [
       "269396-element Array{Array{String,1},1}:\n",
       " [\"hide\", \"new\", \"secret\", \"##ions\", \"from\", \"the\", \"parental\", \"units\"]\n",
       " [\"contains\", \"no\", \"wit\", \",\", \"only\", \"labor\", \"##ed\", \"gag\", \"##s\"]\n",
       " [\"that\", \"loves\", \"its\", \"characters\", \"and\", \"communicate\", \"##s\", \"something\", \"rather\", \"beautiful\", \"about\", \"human\", \"nature\"]\n",
       " [\"remains\", \"utterly\", \"satisfied\", \"to\", \"remain\", \"the\", \"same\", \"throughout\"]\n",
       " [\"on\", \"the\", \"worst\", \"revenge\", \"-\", \"of\", \"-\", \"the\", \"-\", \"ne\", \"##rds\", \"cl\", \"##iche\", \"##s\", \"the\", \"filmmakers\", \"could\", \"dr\", \"##edge\", \"up\"]\n",
       " [\"that\", \"'\", \"s\", \"far\", \"too\", \"tragic\", \"to\", \"merit\", \"such\", \"superficial\", \"treatment\"]\n",
       " [\"demonstrates\", \"that\", \"the\", \"director\", \"of\", \"such\", \"hollywood\", \"blockbuster\", \"##s\", \"as\"  …  \"small\", \",\", \"personal\", \"film\", \"with\", \"an\", \"emotional\", \"wall\", \"##op\", \".\"]\n",
       " [\"of\", \"sa\", \"##uc\", \"##y\"]\n",
       " [\"a\", \"depressed\", \"fifteen\", \"-\", \"year\", \"-\", \"old\", \"'\", \"s\", \"suicidal\", \"poetry\"]\n",
       " [\"are\", \"more\", \"deeply\", \"thought\", \"through\", \"than\", \"in\", \"most\", \"`\", \"right\", \"-\", \"thinking\", \"'\", \"films\"]\n",
       " [\"goes\", \"to\", \"absurd\", \"lengths\"]\n",
       " [\"for\", \"those\", \"movie\", \"##go\", \"##ers\", \"who\", \"complain\", \"that\", \"`\", \"they\"  …  \"n\", \"'\", \"t\", \"make\", \"movies\", \"like\", \"they\", \"used\", \"to\", \"anymore\"]\n",
       " [\"the\", \"part\", \"where\", \"nothing\", \"'\", \"s\", \"happening\", \",\"]\n",
       " ⋮\n",
       " [\"'\", \"s\", \"stuff\", \"##y\", \"and\", \"pre\", \"##ten\", \"##tious\"]\n",
       " [\"polished\", \",\"]\n",
       " [\"works\", \"more\", \"often\", \"than\", \"it\", \"does\", \"n\", \"'\", \"t\", \".\"]\n",
       " [\"at\", \"least\", \"pass\", \"##ably\"]\n",
       " [\"i\", \"also\", \"believe\", \"that\", \"resident\", \"evil\", \"is\", \"not\", \"it\", \".\"]\n",
       " [\"seem\", \"to\", \"be\", \"in\", \"a\", \"contest\", \"to\", \"see\", \"who\", \"can\", \"out\", \"-\", \"bad\", \"-\", \"act\", \"the\", \"other\"]\n",
       " [\"showing\", \"off\", \"his\", \"doctorate\"]\n",
       " [\"a\", \"delightful\", \"comedy\"]\n",
       " [\"anguish\", \",\", \"anger\", \"and\", \"frustration\"]\n",
       " [\"at\", \"achieving\", \"the\", \"modest\", \",\", \"crowd\", \"-\", \"pleasing\", \"goals\", \"it\", \"sets\", \"for\", \"itself\"]\n",
       " [\"a\", \"patient\", \"viewer\"]\n",
       " [\"this\", \"new\", \"jang\", \"##le\", \"of\", \"noise\", \",\", \"mayhem\", \"and\", \"stupidity\", \"must\", \"be\", \"a\", \"serious\", \"contender\", \"for\", \"the\", \"title\", \".\"]"
      ]
     },
     "execution_count": 5,
     "metadata": {},
     "output_type": "execute_result"
    }
   ],
   "source": [
    "sentences = vcat(sentences, deepcopy(sentences), deepcopy(sentences), deepcopy(sentences)) # x4 sizes"
   ]
  },
  {
   "cell_type": "markdown",
   "metadata": {},
   "source": [
    "## Add Special Tokens"
   ]
  },
  {
   "cell_type": "code",
   "execution_count": 6,
   "metadata": {},
   "outputs": [
    {
     "data": {
      "text/plain": [
       "add_special_tokens! (generic function with 1 method)"
      ]
     },
     "execution_count": 6,
     "metadata": {},
     "output_type": "execute_result"
    }
   ],
   "source": [
    "function add_special_tokens!(sentence)\n",
    "    pushfirst!(sentence, \"[CLS]\")\n",
    "    push!(sentence, \"[SEP]\")\n",
    "end"
   ]
  },
  {
   "cell_type": "code",
   "execution_count": 7,
   "metadata": {},
   "outputs": [
    {
     "data": {
      "text/plain": [
       "BenchmarkTools.Trial: \n",
       "  memory estimate:  53.50 MiB\n",
       "  allocs estimate:  269398\n",
       "  --------------\n",
       "  minimum time:     17.617 ms (0.00% GC)\n",
       "  median time:      24.211 ms (0.00% GC)\n",
       "  mean time:        43.134 ms (48.77% GC)\n",
       "  maximum time:     142.761 ms (84.46% GC)\n",
       "  --------------\n",
       "  samples:          11\n",
       "  evals/sample:     1"
      ]
     },
     "execution_count": 7,
     "metadata": {},
     "output_type": "execute_result"
    }
   ],
   "source": [
    "using BenchmarkTools\n",
    "@benchmark results = add_special_tokens!.(tmp) setup=(tmp=deepcopy(sentences))"
   ]
  },
  {
   "cell_type": "markdown",
   "metadata": {},
   "source": [
    "## Mark First Pieces"
   ]
  },
  {
   "cell_type": "code",
   "execution_count": 8,
   "metadata": {},
   "outputs": [
    {
     "data": {
      "text/plain": [
       "is_first_piece (generic function with 1 method)"
      ]
     },
     "execution_count": 8,
     "metadata": {},
     "output_type": "execute_result"
    }
   ],
   "source": [
    "function is_first_piece(arr::Array{String,1})\n",
    "    return .!startswith.(arr, \"##\")\n",
    "end"
   ]
  },
  {
   "cell_type": "code",
   "execution_count": 9,
   "metadata": {},
   "outputs": [
    {
     "data": {
      "text/plain": [
       "BenchmarkTools.Trial: \n",
       "  memory estimate:  34.94 MiB\n",
       "  allocs estimate:  538796\n",
       "  --------------\n",
       "  minimum time:     31.381 ms (0.00% GC)\n",
       "  median time:      31.952 ms (0.00% GC)\n",
       "  mean time:        39.708 ms (11.95% GC)\n",
       "  maximum time:     67.098 ms (40.11% GC)\n",
       "  --------------\n",
       "  samples:          11\n",
       "  evals/sample:     1"
      ]
     },
     "execution_count": 9,
     "metadata": {},
     "output_type": "execute_result"
    }
   ],
   "source": [
    "@benchmark results = is_first_piece.(tmp) setup=(tmp=deepcopy(sentences)) # doesn't really need to deepcopy, but just to be safe"
   ]
  },
  {
   "cell_type": "code",
   "execution_count": 10,
   "metadata": {},
   "outputs": [
    {
     "data": {
      "text/plain": [
       "269396-element Array{BitArray{1},1}:\n",
       " [1, 1, 1, 0, 1, 1, 1, 1]\n",
       " [1, 1, 1, 1, 1, 1, 0, 1, 0]\n",
       " [1, 1, 1, 1, 1, 1, 0, 1, 1, 1, 1, 1, 1]\n",
       " [1, 1, 1, 1, 1, 1, 1, 1]\n",
       " [1, 1, 1, 1, 1, 1, 1, 1, 1, 1, 0, 1, 0, 0, 1, 1, 1, 1, 0, 1]\n",
       " [1, 1, 1, 1, 1, 1, 1, 1, 1, 1, 1]\n",
       " [1, 1, 1, 1, 1, 1, 1, 1, 0, 1  …  1, 1, 1, 1, 1, 1, 1, 1, 0, 1]\n",
       " [1, 1, 0, 0]\n",
       " [1, 1, 1, 1, 1, 1, 1, 1, 1, 1, 1]\n",
       " [1, 1, 1, 1, 1, 1, 1, 1, 1, 1, 1, 1, 1, 1]\n",
       " [1, 1, 1, 1]\n",
       " [1, 1, 1, 0, 0, 1, 1, 1, 1, 1  …  1, 1, 1, 1, 1, 1, 1, 1, 1, 1]\n",
       " [1, 1, 1, 1, 1, 1, 1, 1]\n",
       " ⋮\n",
       " [1, 1, 1, 0, 1, 1, 0, 0]\n",
       " [1, 1]\n",
       " [1, 1, 1, 1, 1, 1, 1, 1, 1, 1]\n",
       " [1, 1, 1, 0]\n",
       " [1, 1, 1, 1, 1, 1, 1, 1, 1, 1]\n",
       " [1, 1, 1, 1, 1, 1, 1, 1, 1, 1, 1, 1, 1, 1, 1, 1, 1]\n",
       " [1, 1, 1, 1]\n",
       " [1, 1, 1]\n",
       " [1, 1, 1, 1, 1]\n",
       " [1, 1, 1, 1, 1, 1, 1, 1, 1, 1, 1, 1, 1]\n",
       " [1, 1, 1]\n",
       " [1, 1, 1, 0, 1, 1, 1, 1, 1, 1, 1, 1, 1, 1, 1, 1, 1, 1, 1]"
      ]
     },
     "execution_count": 10,
     "metadata": {},
     "output_type": "execute_result"
    }
   ],
   "source": [
    "results = is_first_piece.(sentences)"
   ]
  },
  {
   "cell_type": "markdown",
   "metadata": {},
   "source": [
    "### Multi-thread"
   ]
  },
  {
   "cell_type": "code",
   "execution_count": 11,
   "metadata": {},
   "outputs": [
    {
     "data": {
      "text/plain": [
       "1"
      ]
     },
     "execution_count": 11,
     "metadata": {},
     "output_type": "execute_result"
    }
   ],
   "source": [
    "Threads.nthreads()"
   ]
  },
  {
   "cell_type": "code",
   "execution_count": 12,
   "metadata": {},
   "outputs": [
    {
     "data": {
      "text/plain": [
       "BenchmarkTools.Trial: \n",
       "  memory estimate:  89.64 MiB\n",
       "  allocs estimate:  1346484\n",
       "  --------------\n",
       "  minimum time:     63.998 ms (11.63% GC)\n",
       "  median time:      68.953 ms (15.24% GC)\n",
       "  mean time:        70.306 ms (16.99% GC)\n",
       "  maximum time:     79.396 ms (24.27% GC)\n",
       "  --------------\n",
       "  samples:          72\n",
       "  evals/sample:     1"
      ]
     },
     "execution_count": 12,
     "metadata": {},
     "output_type": "execute_result"
    }
   ],
   "source": [
    "@benchmark begin\n",
    "    results = [Bool[] for _ in 1:length(sentences)]\n",
    "    Threads.@threads for i in 1:length(sentences)\n",
    "       results[i] = is_first_piece(sentences[i])\n",
    "    end\n",
    "end"
   ]
  },
  {
   "cell_type": "code",
   "execution_count": 13,
   "metadata": {},
   "outputs": [
    {
     "data": {
      "text/plain": [
       "8-element Array{Bool,1}:\n",
       " 1\n",
       " 1\n",
       " 1\n",
       " 0\n",
       " 1\n",
       " 1\n",
       " 1\n",
       " 1"
      ]
     },
     "execution_count": 13,
     "metadata": {},
     "output_type": "execute_result"
    }
   ],
   "source": [
    "# results = [BitArray(undef, length(sentences[i])) for i in 1:length(sentences)]\n",
    "first_piece_masks = [Bool[] for _ in 1:length(sentences)]\n",
    "Threads.@threads for i in 1:length(sentences)\n",
    "   first_piece_masks[i] = is_first_piece(sentences[i])\n",
    "end\n",
    "first_piece_masks[1]"
   ]
  },
  {
   "cell_type": "markdown",
   "metadata": {},
   "source": [
    "## Sampling"
   ]
  },
  {
   "cell_type": "code",
   "execution_count": 14,
   "metadata": {},
   "outputs": [
    {
     "data": {
      "text/plain": [
       "sample_mask_position (generic function with 2 methods)"
      ]
     },
     "execution_count": 14,
     "metadata": {},
     "output_type": "execute_result"
    }
   ],
   "source": [
    "using StatsBase\n",
    "function sample_mask_position(first_piece_mask, n=1)\n",
    "    if sum(first_piece_mask) <= n\n",
    "        return Int64[]\n",
    "    end\n",
    "    return sample(1:length(first_piece_mask), Weights(first_piece_mask), n, replace=false)\n",
    "end"
   ]
  },
  {
   "cell_type": "code",
   "execution_count": 15,
   "metadata": {},
   "outputs": [
    {
     "data": {
      "text/plain": [
       "BenchmarkTools.Trial: \n",
       "  memory estimate:  57.52 MiB\n",
       "  allocs estimate:  777905\n",
       "  --------------\n",
       "  minimum time:     61.041 ms (0.00% GC)\n",
       "  median time:      75.644 ms (14.70% GC)\n",
       "  mean time:        72.452 ms (11.12% GC)\n",
       "  maximum time:     93.966 ms (24.14% GC)\n",
       "  --------------\n",
       "  samples:          69\n",
       "  evals/sample:     1"
      ]
     },
     "execution_count": 15,
     "metadata": {},
     "output_type": "execute_result"
    }
   ],
   "source": [
    "@benchmark sample_mask_position.(first_piece_masks)"
   ]
  },
  {
   "cell_type": "code",
   "execution_count": 16,
   "metadata": {},
   "outputs": [
    {
     "name": "stdout",
     "output_type": "stream",
     "text": [
      "  0.072058 seconds (788.24 k allocations: 57.962 MiB)\n"
     ]
    },
    {
     "data": {
      "text/plain": [
       "269396-element Array{Array{Int64,1},1}:\n",
       " [5]\n",
       " [1]\n",
       " [13]\n",
       " [8]\n",
       " [8]\n",
       " [6]\n",
       " [11]\n",
       " [1]\n",
       " [1]\n",
       " [8]\n",
       " [4]\n",
       " [20]\n",
       " [2]\n",
       " ⋮\n",
       " [3]\n",
       " [1]\n",
       " [2]\n",
       " [3]\n",
       " [8]\n",
       " [6]\n",
       " [4]\n",
       " [1]\n",
       " [4]\n",
       " [8]\n",
       " [2]\n",
       " [19]"
      ]
     },
     "execution_count": 16,
     "metadata": {},
     "output_type": "execute_result"
    }
   ],
   "source": [
    "@time masking_points = sample_mask_position.(first_piece_masks)"
   ]
  },
  {
   "cell_type": "markdown",
   "metadata": {},
   "source": [
    "## Masking"
   ]
  },
  {
   "cell_type": "code",
   "execution_count": 17,
   "metadata": {},
   "outputs": [
    {
     "data": {
      "text/plain": [
       "269396-element Array{Array{String,1},1}:\n",
       " [\"hide\", \"new\", \"secret\", \"##ions\", \"from\", \"the\", \"parental\", \"units\"]\n",
       " [\"contains\", \"no\", \"wit\", \",\", \"only\", \"labor\", \"##ed\", \"gag\", \"##s\"]\n",
       " [\"that\", \"loves\", \"its\", \"characters\", \"and\", \"communicate\", \"##s\", \"something\", \"rather\", \"beautiful\", \"about\", \"human\", \"nature\"]\n",
       " [\"remains\", \"utterly\", \"satisfied\", \"to\", \"remain\", \"the\", \"same\", \"throughout\"]\n",
       " [\"on\", \"the\", \"worst\", \"revenge\", \"-\", \"of\", \"-\", \"the\", \"-\", \"ne\", \"##rds\", \"cl\", \"##iche\", \"##s\", \"the\", \"filmmakers\", \"could\", \"dr\", \"##edge\", \"up\"]\n",
       " [\"that\", \"'\", \"s\", \"far\", \"too\", \"tragic\", \"to\", \"merit\", \"such\", \"superficial\", \"treatment\"]\n",
       " [\"demonstrates\", \"that\", \"the\", \"director\", \"of\", \"such\", \"hollywood\", \"blockbuster\", \"##s\", \"as\"  …  \"small\", \",\", \"personal\", \"film\", \"with\", \"an\", \"emotional\", \"wall\", \"##op\", \".\"]\n",
       " [\"of\", \"sa\", \"##uc\", \"##y\"]\n",
       " [\"a\", \"depressed\", \"fifteen\", \"-\", \"year\", \"-\", \"old\", \"'\", \"s\", \"suicidal\", \"poetry\"]\n",
       " [\"are\", \"more\", \"deeply\", \"thought\", \"through\", \"than\", \"in\", \"most\", \"`\", \"right\", \"-\", \"thinking\", \"'\", \"films\"]\n",
       " [\"goes\", \"to\", \"absurd\", \"lengths\"]\n",
       " [\"for\", \"those\", \"movie\", \"##go\", \"##ers\", \"who\", \"complain\", \"that\", \"`\", \"they\"  …  \"n\", \"'\", \"t\", \"make\", \"movies\", \"like\", \"they\", \"used\", \"to\", \"anymore\"]\n",
       " [\"the\", \"part\", \"where\", \"nothing\", \"'\", \"s\", \"happening\", \",\"]\n",
       " ⋮\n",
       " [\"'\", \"s\", \"stuff\", \"##y\", \"and\", \"pre\", \"##ten\", \"##tious\"]\n",
       " [\"polished\", \",\"]\n",
       " [\"works\", \"more\", \"often\", \"than\", \"it\", \"does\", \"n\", \"'\", \"t\", \".\"]\n",
       " [\"at\", \"least\", \"pass\", \"##ably\"]\n",
       " [\"i\", \"also\", \"believe\", \"that\", \"resident\", \"evil\", \"is\", \"not\", \"it\", \".\"]\n",
       " [\"seem\", \"to\", \"be\", \"in\", \"a\", \"contest\", \"to\", \"see\", \"who\", \"can\", \"out\", \"-\", \"bad\", \"-\", \"act\", \"the\", \"other\"]\n",
       " [\"showing\", \"off\", \"his\", \"doctorate\"]\n",
       " [\"a\", \"delightful\", \"comedy\"]\n",
       " [\"anguish\", \",\", \"anger\", \"and\", \"frustration\"]\n",
       " [\"at\", \"achieving\", \"the\", \"modest\", \",\", \"crowd\", \"-\", \"pleasing\", \"goals\", \"it\", \"sets\", \"for\", \"itself\"]\n",
       " [\"a\", \"patient\", \"viewer\"]\n",
       " [\"this\", \"new\", \"jang\", \"##le\", \"of\", \"noise\", \",\", \"mayhem\", \"and\", \"stupidity\", \"must\", \"be\", \"a\", \"serious\", \"contender\", \"for\", \"the\", \"title\", \".\"]"
      ]
     },
     "execution_count": 17,
     "metadata": {},
     "output_type": "execute_result"
    }
   ],
   "source": [
    "sentences"
   ]
  },
  {
   "cell_type": "code",
   "execution_count": 18,
   "metadata": {},
   "outputs": [
    {
     "data": {
      "text/plain": [
       "1-element Array{Int64,1}:\n",
       " 5"
      ]
     },
     "execution_count": 18,
     "metadata": {},
     "output_type": "execute_result"
    }
   ],
   "source": [
    "masking_points[1]"
   ]
  },
  {
   "cell_type": "code",
   "execution_count": 19,
   "metadata": {},
   "outputs": [
    {
     "data": {
      "text/plain": [
       "\"the\""
      ]
     },
     "execution_count": 19,
     "metadata": {},
     "output_type": "execute_result"
    }
   ],
   "source": [
    "sentences[1][6]"
   ]
  },
  {
   "cell_type": "code",
   "execution_count": 20,
   "metadata": {},
   "outputs": [
    {
     "data": {
      "text/plain": [
       "masking (generic function with 1 method)"
      ]
     },
     "execution_count": 20,
     "metadata": {},
     "output_type": "execute_result"
    }
   ],
   "source": [
    "function masking(rows::Vector{Vector{String}}, first_piece_masks::Vector{Vector{Bool}}, masking_points::Vector{Vector{Int64}})\n",
    "    augmented_rows = deepcopy(rows)\n",
    "    for idx in 1:length(masking_points)\n",
    "        for pos in masking_points[idx]\n",
    "            # @assert first_piece_masks[idx][pos] == 1\n",
    "            augmented_rows[idx][pos] = \"[MASK]\"\n",
    "            while pos + 1 <= length(first_piece_masks[idx]) && first_piece_masks[idx][pos + 1] == 0 \n",
    "                pos += 1\n",
    "                augmented_rows[idx][pos] = \"[MASK]\"\n",
    "            end\n",
    "        end\n",
    "    end    \n",
    "    return augmented_rows\n",
    "end"
   ]
  },
  {
   "cell_type": "code",
   "execution_count": 21,
   "metadata": {},
   "outputs": [
    {
     "data": {
      "text/plain": [
       "BenchmarkTools.Trial: \n",
       "  memory estimate:  60.78 MiB\n",
       "  allocs estimate:  280986\n",
       "  --------------\n",
       "  minimum time:     404.801 ms (0.00% GC)\n",
       "  median time:      417.494 ms (1.17% GC)\n",
       "  mean time:        419.381 ms (2.12% GC)\n",
       "  maximum time:     436.365 ms (6.30% GC)\n",
       "  --------------\n",
       "  samples:          12\n",
       "  evals/sample:     1"
      ]
     },
     "execution_count": 21,
     "metadata": {},
     "output_type": "execute_result"
    }
   ],
   "source": [
    "@benchmark deepcopy(sentences)"
   ]
  },
  {
   "cell_type": "code",
   "execution_count": 22,
   "metadata": {},
   "outputs": [
    {
     "data": {
      "text/plain": [
       "BenchmarkTools.Trial: \n",
       "  memory estimate:  60.78 MiB\n",
       "  allocs estimate:  280986\n",
       "  --------------\n",
       "  minimum time:     411.296 ms (0.00% GC)\n",
       "  median time:      427.221 ms (1.14% GC)\n",
       "  mean time:        426.564 ms (2.17% GC)\n",
       "  maximum time:     451.092 ms (6.58% GC)\n",
       "  --------------\n",
       "  samples:          12\n",
       "  evals/sample:     1"
      ]
     },
     "execution_count": 22,
     "metadata": {},
     "output_type": "execute_result"
    }
   ],
   "source": [
    "@benchmark masking(sentences, first_piece_masks, masking_points)"
   ]
  },
  {
   "cell_type": "code",
   "execution_count": 23,
   "metadata": {},
   "outputs": [
    {
     "data": {
      "text/plain": [
       "masking_wo_copy (generic function with 1 method)"
      ]
     },
     "execution_count": 23,
     "metadata": {},
     "output_type": "execute_result"
    }
   ],
   "source": [
    "function masking_wo_copy(rows::Vector{Vector{String}}, first_piece_masks::Vector{Vector{Bool}}, masking_points::Vector{Vector{Int64}})\n",
    "    for idx in 1:length(masking_points)\n",
    "        for pos in masking_points[idx]\n",
    "            # @assert first_piece_masks[idx][pos] == 1\n",
    "            rows[idx][pos] = \"[MASK]\"\n",
    "            while pos + 1 <= length(first_piece_masks[idx]) && first_piece_masks[idx][pos + 1] == 0 \n",
    "                pos += 1\n",
    "                rows[idx][pos] = \"[MASK]\"\n",
    "            end\n",
    "        end\n",
    "    end    \n",
    "    return rows\n",
    "end"
   ]
  },
  {
   "cell_type": "code",
   "execution_count": 24,
   "metadata": {},
   "outputs": [
    {
     "data": {
      "text/plain": [
       "BenchmarkTools.Trial: \n",
       "  memory estimate:  0 bytes\n",
       "  allocs estimate:  0\n",
       "  --------------\n",
       "  minimum time:     9.040 ms (0.00% GC)\n",
       "  median time:      9.216 ms (0.00% GC)\n",
       "  mean time:        9.230 ms (0.00% GC)\n",
       "  maximum time:     9.436 ms (0.00% GC)\n",
       "  --------------\n",
       "  samples:          12\n",
       "  evals/sample:     1"
      ]
     },
     "execution_count": 24,
     "metadata": {},
     "output_type": "execute_result"
    }
   ],
   "source": [
    "@benchmark masking_wo_copy(rows, first_piece_masks, masking_points) setup=(rows=deepcopy(sentences))"
   ]
  },
  {
   "cell_type": "code",
   "execution_count": 25,
   "metadata": {},
   "outputs": [
    {
     "data": {
      "text/plain": [
       "269396-element Array{Array{String,1},1}:\n",
       " [\"hide\", \"new\", \"secret\", \"##ions\", \"[MASK]\", \"the\", \"parental\", \"units\"]\n",
       " [\"[MASK]\", \"no\", \"wit\", \",\", \"only\", \"labor\", \"##ed\", \"gag\", \"##s\"]\n",
       " [\"that\", \"loves\", \"its\", \"characters\", \"and\", \"communicate\", \"##s\", \"something\", \"rather\", \"beautiful\", \"about\", \"human\", \"[MASK]\"]\n",
       " [\"remains\", \"utterly\", \"satisfied\", \"to\", \"remain\", \"the\", \"same\", \"[MASK]\"]\n",
       " [\"on\", \"the\", \"worst\", \"revenge\", \"-\", \"of\", \"-\", \"[MASK]\", \"-\", \"ne\", \"##rds\", \"cl\", \"##iche\", \"##s\", \"the\", \"filmmakers\", \"could\", \"dr\", \"##edge\", \"up\"]\n",
       " [\"that\", \"'\", \"s\", \"far\", \"too\", \"[MASK]\", \"to\", \"merit\", \"such\", \"superficial\", \"treatment\"]\n",
       " [\"demonstrates\", \"that\", \"the\", \"director\", \"of\", \"such\", \"hollywood\", \"blockbuster\", \"##s\", \"as\"  …  \"small\", \",\", \"personal\", \"film\", \"with\", \"an\", \"emotional\", \"wall\", \"##op\", \".\"]\n",
       " [\"[MASK]\", \"sa\", \"##uc\", \"##y\"]\n",
       " [\"[MASK]\", \"depressed\", \"fifteen\", \"-\", \"year\", \"-\", \"old\", \"'\", \"s\", \"suicidal\", \"poetry\"]\n",
       " [\"are\", \"more\", \"deeply\", \"thought\", \"through\", \"than\", \"in\", \"[MASK]\", \"`\", \"right\", \"-\", \"thinking\", \"'\", \"films\"]\n",
       " [\"goes\", \"to\", \"absurd\", \"[MASK]\"]\n",
       " [\"for\", \"those\", \"movie\", \"##go\", \"##ers\", \"who\", \"complain\", \"that\", \"`\", \"they\"  …  \"n\", \"'\", \"t\", \"make\", \"movies\", \"like\", \"they\", \"used\", \"[MASK]\", \"anymore\"]\n",
       " [\"the\", \"[MASK]\", \"where\", \"nothing\", \"'\", \"s\", \"happening\", \",\"]\n",
       " ⋮\n",
       " [\"'\", \"s\", \"[MASK]\", \"[MASK]\", \"and\", \"pre\", \"##ten\", \"##tious\"]\n",
       " [\"[MASK]\", \",\"]\n",
       " [\"works\", \"[MASK]\", \"often\", \"than\", \"it\", \"does\", \"n\", \"'\", \"t\", \".\"]\n",
       " [\"at\", \"least\", \"[MASK]\", \"[MASK]\"]\n",
       " [\"i\", \"also\", \"believe\", \"that\", \"resident\", \"evil\", \"is\", \"[MASK]\", \"it\", \".\"]\n",
       " [\"seem\", \"to\", \"be\", \"in\", \"a\", \"[MASK]\", \"to\", \"see\", \"who\", \"can\", \"out\", \"-\", \"bad\", \"-\", \"act\", \"the\", \"other\"]\n",
       " [\"showing\", \"off\", \"his\", \"[MASK]\"]\n",
       " [\"[MASK]\", \"delightful\", \"comedy\"]\n",
       " [\"anguish\", \",\", \"anger\", \"[MASK]\", \"frustration\"]\n",
       " [\"at\", \"achieving\", \"the\", \"modest\", \",\", \"crowd\", \"-\", \"[MASK]\", \"goals\", \"it\", \"sets\", \"for\", \"itself\"]\n",
       " [\"a\", \"[MASK]\", \"viewer\"]\n",
       " [\"this\", \"new\", \"jang\", \"##le\", \"of\", \"noise\", \",\", \"mayhem\", \"and\", \"stupidity\", \"must\", \"be\", \"a\", \"serious\", \"contender\", \"for\", \"the\", \"title\", \"[MASK]\"]"
      ]
     },
     "execution_count": 25,
     "metadata": {},
     "output_type": "execute_result"
    }
   ],
   "source": [
    "masking(sentences, first_piece_masks, masking_points)"
   ]
  }
 ],
 "metadata": {
  "kernelspec": {
   "display_name": "Julia 1.4.1",
   "language": "julia",
   "name": "julia-1.4"
  },
  "language_info": {
   "file_extension": ".jl",
   "mimetype": "application/julia",
   "name": "julia",
   "version": "1.4.1"
  }
 },
 "nbformat": 4,
 "nbformat_minor": 4
}
