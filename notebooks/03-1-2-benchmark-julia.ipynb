{
 "cells": [
  {
   "cell_type": "code",
   "execution_count": 1,
   "metadata": {},
   "outputs": [
    {
     "name": "stderr",
     "output_type": "stream",
     "text": [
      "\u001b[32m\u001b[1m Activating\u001b[22m\u001b[39m environment at `/mnt/SSD_Data/active_projects/transformer_to_lstm/notebooks/Project.toml`\n"
     ]
    }
   ],
   "source": [
    "using Pkg\n",
    "pkg\"activate .\""
   ]
  },
  {
   "cell_type": "code",
   "execution_count": 2,
   "metadata": {},
   "outputs": [
    {
     "name": "stderr",
     "output_type": "stream",
     "text": [
      "\u001b[32m\u001b[1m   Updating\u001b[22m\u001b[39m registry at `~/.julia/registries/General`\n"
     ]
    },
    {
     "name": "stdout",
     "output_type": "stream",
     "text": [
      "\u001b[?25l\u001b[2K"
     ]
    },
    {
     "name": "stderr",
     "output_type": "stream",
     "text": [
      "\u001b[32m\u001b[1m   Updating\u001b[22m\u001b[39m git-repo `https://github.com/JuliaRegistries/General.git`\n"
     ]
    },
    {
     "name": "stdout",
     "output_type": "stream",
     "text": [
      "\u001b[?25h"
     ]
    },
    {
     "name": "stderr",
     "output_type": "stream",
     "text": [
      "\u001b[32m\u001b[1m  Resolving\u001b[22m\u001b[39m package versions...\n",
      "\u001b[32m\u001b[1m   Updating\u001b[22m\u001b[39m `/mnt/SSD_Data/active_projects/transformer_to_lstm/notebooks/Project.toml`\n",
      "\u001b[90m [no changes]\u001b[39m\n",
      "\u001b[32m\u001b[1m   Updating\u001b[22m\u001b[39m `/mnt/SSD_Data/active_projects/transformer_to_lstm/notebooks/Manifest.toml`\n",
      "\u001b[90m [no changes]\u001b[39m\n",
      "\u001b[32m\u001b[1m  Resolving\u001b[22m\u001b[39m package versions...\n",
      "\u001b[32m\u001b[1m   Updating\u001b[22m\u001b[39m `/mnt/SSD_Data/active_projects/transformer_to_lstm/notebooks/Project.toml`\n",
      "\u001b[90m [no changes]\u001b[39m\n",
      "\u001b[32m\u001b[1m   Updating\u001b[22m\u001b[39m `/mnt/SSD_Data/active_projects/transformer_to_lstm/notebooks/Manifest.toml`\n",
      "\u001b[90m [no changes]\u001b[39m\n"
     ]
    }
   ],
   "source": [
    "pkg\"add PyCall\" # to run Python code from Julia\n",
    "pkg\"add BenchmarkTools\" # to run benchmarks"
   ]
  },
  {
   "cell_type": "markdown",
   "metadata": {},
   "source": [
    "## Getting Toeknized Examples from Python"
   ]
  },
  {
   "cell_type": "code",
   "execution_count": 3,
   "metadata": {},
   "outputs": [],
   "source": [
    "using PyCall\n",
    "py\"\"\"\n",
    "import nlp\n",
    "import numpy as np\n",
    "from transformers import BertTokenizer\n",
    "\n",
    "def extract_sentences():\n",
    "    dataset = nlp.load_dataset('glue', \"sst2\")\n",
    "    tokenizer = BertTokenizer.from_pretrained('bert-base-uncased')\n",
    "    results = []\n",
    "    for sent in dataset['train']['sentence']:\n",
    "        results.append(tokenizer.tokenize(sent))\n",
    "    return results\n",
    "\"\"\""
   ]
  },
  {
   "cell_type": "code",
   "execution_count": 4,
   "metadata": {},
   "outputs": [
    {
     "name": "stdout",
     "output_type": "stream",
     "text": [
      " 13.991118 seconds (3.77 M allocations: 140.210 MiB, 0.72% gc time)\n"
     ]
    }
   ],
   "source": [
    "@time sentences = py\"extract_sentences\"();"
   ]
  },
  {
   "cell_type": "code",
   "execution_count": 5,
   "metadata": {},
   "outputs": [
    {
     "data": {
      "text/plain": [
       "269396-element Array{Array{String,1},1}:\n",
       " [\"hide\", \"new\", \"secret\", \"##ions\", \"from\", \"the\", \"parental\", \"units\"]\n",
       " [\"contains\", \"no\", \"wit\", \",\", \"only\", \"labor\", \"##ed\", \"gag\", \"##s\"]\n",
       " [\"that\", \"loves\", \"its\", \"characters\", \"and\", \"communicate\", \"##s\", \"something\", \"rather\", \"beautiful\", \"about\", \"human\", \"nature\"]\n",
       " [\"remains\", \"utterly\", \"satisfied\", \"to\", \"remain\", \"the\", \"same\", \"throughout\"]\n",
       " [\"on\", \"the\", \"worst\", \"revenge\", \"-\", \"of\", \"-\", \"the\", \"-\", \"ne\", \"##rds\", \"cl\", \"##iche\", \"##s\", \"the\", \"filmmakers\", \"could\", \"dr\", \"##edge\", \"up\"]\n",
       " [\"that\", \"'\", \"s\", \"far\", \"too\", \"tragic\", \"to\", \"merit\", \"such\", \"superficial\", \"treatment\"]\n",
       " [\"demonstrates\", \"that\", \"the\", \"director\", \"of\", \"such\", \"hollywood\", \"blockbuster\", \"##s\", \"as\"  …  \"small\", \",\", \"personal\", \"film\", \"with\", \"an\", \"emotional\", \"wall\", \"##op\", \".\"]\n",
       " [\"of\", \"sa\", \"##uc\", \"##y\"]\n",
       " [\"a\", \"depressed\", \"fifteen\", \"-\", \"year\", \"-\", \"old\", \"'\", \"s\", \"suicidal\", \"poetry\"]\n",
       " [\"are\", \"more\", \"deeply\", \"thought\", \"through\", \"than\", \"in\", \"most\", \"`\", \"right\", \"-\", \"thinking\", \"'\", \"films\"]\n",
       " [\"goes\", \"to\", \"absurd\", \"lengths\"]\n",
       " [\"for\", \"those\", \"movie\", \"##go\", \"##ers\", \"who\", \"complain\", \"that\", \"`\", \"they\"  …  \"n\", \"'\", \"t\", \"make\", \"movies\", \"like\", \"they\", \"used\", \"to\", \"anymore\"]\n",
       " [\"the\", \"part\", \"where\", \"nothing\", \"'\", \"s\", \"happening\", \",\"]\n",
       " ⋮\n",
       " [\"'\", \"s\", \"stuff\", \"##y\", \"and\", \"pre\", \"##ten\", \"##tious\"]\n",
       " [\"polished\", \",\"]\n",
       " [\"works\", \"more\", \"often\", \"than\", \"it\", \"does\", \"n\", \"'\", \"t\", \".\"]\n",
       " [\"at\", \"least\", \"pass\", \"##ably\"]\n",
       " [\"i\", \"also\", \"believe\", \"that\", \"resident\", \"evil\", \"is\", \"not\", \"it\", \".\"]\n",
       " [\"seem\", \"to\", \"be\", \"in\", \"a\", \"contest\", \"to\", \"see\", \"who\", \"can\", \"out\", \"-\", \"bad\", \"-\", \"act\", \"the\", \"other\"]\n",
       " [\"showing\", \"off\", \"his\", \"doctorate\"]\n",
       " [\"a\", \"delightful\", \"comedy\"]\n",
       " [\"anguish\", \",\", \"anger\", \"and\", \"frustration\"]\n",
       " [\"at\", \"achieving\", \"the\", \"modest\", \",\", \"crowd\", \"-\", \"pleasing\", \"goals\", \"it\", \"sets\", \"for\", \"itself\"]\n",
       " [\"a\", \"patient\", \"viewer\"]\n",
       " [\"this\", \"new\", \"jang\", \"##le\", \"of\", \"noise\", \",\", \"mayhem\", \"and\", \"stupidity\", \"must\", \"be\", \"a\", \"serious\", \"contender\", \"for\", \"the\", \"title\", \".\"]"
      ]
     },
     "execution_count": 5,
     "metadata": {},
     "output_type": "execute_result"
    }
   ],
   "source": [
    "sentences = vcat(sentences, deepcopy(sentences), deepcopy(sentences), deepcopy(sentences)) # x4 sizes"
   ]
  },
  {
   "cell_type": "markdown",
   "metadata": {},
   "source": [
    "## Add Special Tokens"
   ]
  },
  {
   "cell_type": "code",
   "execution_count": 6,
   "metadata": {},
   "outputs": [
    {
     "data": {
      "text/plain": [
       "add_special_tokens! (generic function with 1 method)"
      ]
     },
     "execution_count": 6,
     "metadata": {},
     "output_type": "execute_result"
    }
   ],
   "source": [
    "function add_special_tokens!(sentence)\n",
    "    pushfirst!(sentence, \"[CLS]\")\n",
    "    push!(sentence, \"[SEP]\")\n",
    "end"
   ]
  },
  {
   "cell_type": "code",
   "execution_count": 7,
   "metadata": {},
   "outputs": [
    {
     "data": {
      "text/plain": [
       "BenchmarkTools.Trial: \n",
       "  memory estimate:  53.50 MiB\n",
       "  allocs estimate:  269398\n",
       "  --------------\n",
       "  minimum time:     17.453 ms (0.00% GC)\n",
       "  median time:      24.665 ms (0.00% GC)\n",
       "  mean time:        40.665 ms (46.40% GC)\n",
       "  maximum time:     140.432 ms (85.04% GC)\n",
       "  --------------\n",
       "  samples:          11\n",
       "  evals/sample:     1"
      ]
     },
     "execution_count": 7,
     "metadata": {},
     "output_type": "execute_result"
    }
   ],
   "source": [
    "using BenchmarkTools\n",
    "@benchmark results = add_special_tokens!.(tmp) setup=(tmp=deepcopy(sentences))"
   ]
  },
  {
   "cell_type": "markdown",
   "metadata": {},
   "source": [
    "## Mark First Pieces"
   ]
  },
  {
   "cell_type": "code",
   "execution_count": 8,
   "metadata": {},
   "outputs": [
    {
     "data": {
      "text/plain": [
       "is_first_piece (generic function with 1 method)"
      ]
     },
     "execution_count": 8,
     "metadata": {},
     "output_type": "execute_result"
    }
   ],
   "source": [
    "function is_first_piece(arr::Array{String,1})\n",
    "    return .!startswith.(arr, \"##\")\n",
    "end"
   ]
  },
  {
   "cell_type": "code",
   "execution_count": 9,
   "metadata": {},
   "outputs": [
    {
     "data": {
      "text/plain": [
       "BenchmarkTools.Trial: \n",
       "  memory estimate:  34.94 MiB\n",
       "  allocs estimate:  538796\n",
       "  --------------\n",
       "  minimum time:     38.018 ms (0.00% GC)\n",
       "  median time:      42.560 ms (0.00% GC)\n",
       "  mean time:        47.731 ms (11.38% GC)\n",
       "  maximum time:     75.288 ms (38.02% GC)\n",
       "  --------------\n",
       "  samples:          10\n",
       "  evals/sample:     1"
      ]
     },
     "execution_count": 9,
     "metadata": {},
     "output_type": "execute_result"
    }
   ],
   "source": [
    "@benchmark results = is_first_piece.(tmp) setup=(tmp=deepcopy(sentences)) # doesn't really need to deepcopy, but just to be safe"
   ]
  },
  {
   "cell_type": "code",
   "execution_count": 10,
   "metadata": {},
   "outputs": [
    {
     "data": {
      "text/plain": [
       "269396-element Array{BitArray{1},1}:\n",
       " [1, 1, 1, 0, 1, 1, 1, 1]\n",
       " [1, 1, 1, 1, 1, 1, 0, 1, 0]\n",
       " [1, 1, 1, 1, 1, 1, 0, 1, 1, 1, 1, 1, 1]\n",
       " [1, 1, 1, 1, 1, 1, 1, 1]\n",
       " [1, 1, 1, 1, 1, 1, 1, 1, 1, 1, 0, 1, 0, 0, 1, 1, 1, 1, 0, 1]\n",
       " [1, 1, 1, 1, 1, 1, 1, 1, 1, 1, 1]\n",
       " [1, 1, 1, 1, 1, 1, 1, 1, 0, 1  …  1, 1, 1, 1, 1, 1, 1, 1, 0, 1]\n",
       " [1, 1, 0, 0]\n",
       " [1, 1, 1, 1, 1, 1, 1, 1, 1, 1, 1]\n",
       " [1, 1, 1, 1, 1, 1, 1, 1, 1, 1, 1, 1, 1, 1]\n",
       " [1, 1, 1, 1]\n",
       " [1, 1, 1, 0, 0, 1, 1, 1, 1, 1  …  1, 1, 1, 1, 1, 1, 1, 1, 1, 1]\n",
       " [1, 1, 1, 1, 1, 1, 1, 1]\n",
       " ⋮\n",
       " [1, 1, 1, 0, 1, 1, 0, 0]\n",
       " [1, 1]\n",
       " [1, 1, 1, 1, 1, 1, 1, 1, 1, 1]\n",
       " [1, 1, 1, 0]\n",
       " [1, 1, 1, 1, 1, 1, 1, 1, 1, 1]\n",
       " [1, 1, 1, 1, 1, 1, 1, 1, 1, 1, 1, 1, 1, 1, 1, 1, 1]\n",
       " [1, 1, 1, 1]\n",
       " [1, 1, 1]\n",
       " [1, 1, 1, 1, 1]\n",
       " [1, 1, 1, 1, 1, 1, 1, 1, 1, 1, 1, 1, 1]\n",
       " [1, 1, 1]\n",
       " [1, 1, 1, 0, 1, 1, 1, 1, 1, 1, 1, 1, 1, 1, 1, 1, 1, 1, 1]"
      ]
     },
     "execution_count": 10,
     "metadata": {},
     "output_type": "execute_result"
    }
   ],
   "source": [
    "results = is_first_piece.(sentences)"
   ]
  },
  {
   "cell_type": "markdown",
   "metadata": {},
   "source": [
    "### Multi-thread\n",
    "\n",
    "Remember to set the environment variable `JULIA_NUM_THREADS` to the number of physical CPU cores you have, e.g., `JULIA_NUM_THREADS=4`."
   ]
  },
  {
   "cell_type": "code",
   "execution_count": 11,
   "metadata": {},
   "outputs": [
    {
     "data": {
      "text/plain": [
       "4"
      ]
     },
     "execution_count": 11,
     "metadata": {},
     "output_type": "execute_result"
    }
   ],
   "source": [
    "Threads.nthreads()"
   ]
  },
  {
   "cell_type": "code",
   "execution_count": 12,
   "metadata": {},
   "outputs": [
    {
     "data": {
      "text/plain": [
       "BenchmarkTools.Trial: \n",
       "  memory estimate:  89.64 MiB\n",
       "  allocs estimate:  1346499\n",
       "  --------------\n",
       "  minimum time:     23.574 ms (0.00% GC)\n",
       "  median time:      31.006 ms (0.00% GC)\n",
       "  mean time:        39.748 ms (31.85% GC)\n",
       "  maximum time:     67.788 ms (53.85% GC)\n",
       "  --------------\n",
       "  samples:          126\n",
       "  evals/sample:     1"
      ]
     },
     "execution_count": 12,
     "metadata": {},
     "output_type": "execute_result"
    }
   ],
   "source": [
    "@benchmark begin\n",
    "    results = [Bool[] for _ in 1:length(sentences)]\n",
    "    Threads.@threads for i in 1:length(sentences)\n",
    "       results[i] = is_first_piece(sentences[i])\n",
    "    end\n",
    "end"
   ]
  },
  {
   "cell_type": "code",
   "execution_count": 13,
   "metadata": {},
   "outputs": [
    {
     "data": {
      "text/plain": [
       "8-element Array{Bool,1}:\n",
       " 1\n",
       " 1\n",
       " 1\n",
       " 0\n",
       " 1\n",
       " 1\n",
       " 1\n",
       " 1"
      ]
     },
     "execution_count": 13,
     "metadata": {},
     "output_type": "execute_result"
    }
   ],
   "source": [
    "# results = [BitArray(undef, length(sentences[i])) for i in 1:length(sentences)]\n",
    "first_piece_masks = [Bool[] for _ in 1:length(sentences)]\n",
    "Threads.@threads for i in 1:length(sentences)\n",
    "   first_piece_masks[i] = is_first_piece(sentences[i])\n",
    "end\n",
    "first_piece_masks[1]"
   ]
  },
  {
   "cell_type": "markdown",
   "metadata": {},
   "source": [
    "## Sampling"
   ]
  },
  {
   "cell_type": "code",
   "execution_count": 14,
   "metadata": {},
   "outputs": [
    {
     "data": {
      "text/plain": [
       "sample_mask_position (generic function with 2 methods)"
      ]
     },
     "execution_count": 14,
     "metadata": {},
     "output_type": "execute_result"
    }
   ],
   "source": [
    "using StatsBase\n",
    "function sample_mask_position(first_piece_mask, n=1)\n",
    "    if sum(first_piece_mask) <= n\n",
    "        return Int64[]\n",
    "    end\n",
    "    return sample(1:length(first_piece_mask), Weights(first_piece_mask), n, replace=false)\n",
    "end"
   ]
  },
  {
   "cell_type": "code",
   "execution_count": 15,
   "metadata": {},
   "outputs": [
    {
     "data": {
      "text/plain": [
       "BenchmarkTools.Trial: \n",
       "  memory estimate:  57.52 MiB\n",
       "  allocs estimate:  777905\n",
       "  --------------\n",
       "  minimum time:     60.029 ms (0.00% GC)\n",
       "  median time:      71.588 ms (12.66% GC)\n",
       "  mean time:        69.559 ms (9.71% GC)\n",
       "  maximum time:     88.289 ms (21.28% GC)\n",
       "  --------------\n",
       "  samples:          72\n",
       "  evals/sample:     1"
      ]
     },
     "execution_count": 15,
     "metadata": {},
     "output_type": "execute_result"
    }
   ],
   "source": [
    "@benchmark sample_mask_position.(first_piece_masks)"
   ]
  },
  {
   "cell_type": "code",
   "execution_count": 16,
   "metadata": {},
   "outputs": [
    {
     "name": "stdout",
     "output_type": "stream",
     "text": [
      "  0.087545 seconds (788.24 k allocations: 57.962 MiB, 14.62% gc time)\n"
     ]
    },
    {
     "data": {
      "text/plain": [
       "269396-element Array{Array{Int64,1},1}:\n",
       " [6]\n",
       " [6]\n",
       " [4]\n",
       " [2]\n",
       " [3]\n",
       " [7]\n",
       " [24]\n",
       " [2]\n",
       " [7]\n",
       " [4]\n",
       " [4]\n",
       " [15]\n",
       " [7]\n",
       " ⋮\n",
       " [6]\n",
       " [1]\n",
       " [2]\n",
       " [2]\n",
       " [4]\n",
       " [9]\n",
       " [2]\n",
       " [2]\n",
       " [2]\n",
       " [11]\n",
       " [3]\n",
       " [13]"
      ]
     },
     "execution_count": 16,
     "metadata": {},
     "output_type": "execute_result"
    }
   ],
   "source": [
    "@time masking_points = sample_mask_position.(first_piece_masks)"
   ]
  },
  {
   "cell_type": "markdown",
   "metadata": {},
   "source": [
    "## Masking"
   ]
  },
  {
   "cell_type": "code",
   "execution_count": 17,
   "metadata": {},
   "outputs": [
    {
     "data": {
      "text/plain": [
       "269396-element Array{Array{String,1},1}:\n",
       " [\"hide\", \"new\", \"secret\", \"##ions\", \"from\", \"the\", \"parental\", \"units\"]\n",
       " [\"contains\", \"no\", \"wit\", \",\", \"only\", \"labor\", \"##ed\", \"gag\", \"##s\"]\n",
       " [\"that\", \"loves\", \"its\", \"characters\", \"and\", \"communicate\", \"##s\", \"something\", \"rather\", \"beautiful\", \"about\", \"human\", \"nature\"]\n",
       " [\"remains\", \"utterly\", \"satisfied\", \"to\", \"remain\", \"the\", \"same\", \"throughout\"]\n",
       " [\"on\", \"the\", \"worst\", \"revenge\", \"-\", \"of\", \"-\", \"the\", \"-\", \"ne\", \"##rds\", \"cl\", \"##iche\", \"##s\", \"the\", \"filmmakers\", \"could\", \"dr\", \"##edge\", \"up\"]\n",
       " [\"that\", \"'\", \"s\", \"far\", \"too\", \"tragic\", \"to\", \"merit\", \"such\", \"superficial\", \"treatment\"]\n",
       " [\"demonstrates\", \"that\", \"the\", \"director\", \"of\", \"such\", \"hollywood\", \"blockbuster\", \"##s\", \"as\"  …  \"small\", \",\", \"personal\", \"film\", \"with\", \"an\", \"emotional\", \"wall\", \"##op\", \".\"]\n",
       " [\"of\", \"sa\", \"##uc\", \"##y\"]\n",
       " [\"a\", \"depressed\", \"fifteen\", \"-\", \"year\", \"-\", \"old\", \"'\", \"s\", \"suicidal\", \"poetry\"]\n",
       " [\"are\", \"more\", \"deeply\", \"thought\", \"through\", \"than\", \"in\", \"most\", \"`\", \"right\", \"-\", \"thinking\", \"'\", \"films\"]\n",
       " [\"goes\", \"to\", \"absurd\", \"lengths\"]\n",
       " [\"for\", \"those\", \"movie\", \"##go\", \"##ers\", \"who\", \"complain\", \"that\", \"`\", \"they\"  …  \"n\", \"'\", \"t\", \"make\", \"movies\", \"like\", \"they\", \"used\", \"to\", \"anymore\"]\n",
       " [\"the\", \"part\", \"where\", \"nothing\", \"'\", \"s\", \"happening\", \",\"]\n",
       " ⋮\n",
       " [\"'\", \"s\", \"stuff\", \"##y\", \"and\", \"pre\", \"##ten\", \"##tious\"]\n",
       " [\"polished\", \",\"]\n",
       " [\"works\", \"more\", \"often\", \"than\", \"it\", \"does\", \"n\", \"'\", \"t\", \".\"]\n",
       " [\"at\", \"least\", \"pass\", \"##ably\"]\n",
       " [\"i\", \"also\", \"believe\", \"that\", \"resident\", \"evil\", \"is\", \"not\", \"it\", \".\"]\n",
       " [\"seem\", \"to\", \"be\", \"in\", \"a\", \"contest\", \"to\", \"see\", \"who\", \"can\", \"out\", \"-\", \"bad\", \"-\", \"act\", \"the\", \"other\"]\n",
       " [\"showing\", \"off\", \"his\", \"doctorate\"]\n",
       " [\"a\", \"delightful\", \"comedy\"]\n",
       " [\"anguish\", \",\", \"anger\", \"and\", \"frustration\"]\n",
       " [\"at\", \"achieving\", \"the\", \"modest\", \",\", \"crowd\", \"-\", \"pleasing\", \"goals\", \"it\", \"sets\", \"for\", \"itself\"]\n",
       " [\"a\", \"patient\", \"viewer\"]\n",
       " [\"this\", \"new\", \"jang\", \"##le\", \"of\", \"noise\", \",\", \"mayhem\", \"and\", \"stupidity\", \"must\", \"be\", \"a\", \"serious\", \"contender\", \"for\", \"the\", \"title\", \".\"]"
      ]
     },
     "execution_count": 17,
     "metadata": {},
     "output_type": "execute_result"
    }
   ],
   "source": [
    "sentences"
   ]
  },
  {
   "cell_type": "code",
   "execution_count": 18,
   "metadata": {},
   "outputs": [
    {
     "data": {
      "text/plain": [
       "1-element Array{Int64,1}:\n",
       " 6"
      ]
     },
     "execution_count": 18,
     "metadata": {},
     "output_type": "execute_result"
    }
   ],
   "source": [
    "masking_points[1]"
   ]
  },
  {
   "cell_type": "code",
   "execution_count": 19,
   "metadata": {},
   "outputs": [
    {
     "data": {
      "text/plain": [
       "\"the\""
      ]
     },
     "execution_count": 19,
     "metadata": {},
     "output_type": "execute_result"
    }
   ],
   "source": [
    "sentences[1][6]"
   ]
  },
  {
   "cell_type": "code",
   "execution_count": 20,
   "metadata": {},
   "outputs": [
    {
     "data": {
      "text/plain": [
       "masking (generic function with 1 method)"
      ]
     },
     "execution_count": 20,
     "metadata": {},
     "output_type": "execute_result"
    }
   ],
   "source": [
    "function masking(rows::Vector{Vector{String}}, first_piece_masks::Vector{Vector{Bool}}, masking_points::Vector{Vector{Int64}})\n",
    "    augmented_rows = deepcopy(rows)\n",
    "    for idx in 1:length(masking_points)\n",
    "        for pos in masking_points[idx]\n",
    "            # @assert first_piece_masks[idx][pos] == 1\n",
    "            augmented_rows[idx][pos] = \"[MASK]\"\n",
    "            while pos + 1 <= length(first_piece_masks[idx]) && first_piece_masks[idx][pos + 1] == 0 \n",
    "                pos += 1\n",
    "                augmented_rows[idx][pos] = \"[MASK]\"\n",
    "            end\n",
    "        end\n",
    "    end    \n",
    "    return augmented_rows\n",
    "end"
   ]
  },
  {
   "cell_type": "code",
   "execution_count": 21,
   "metadata": {},
   "outputs": [
    {
     "data": {
      "text/plain": [
       "BenchmarkTools.Trial: \n",
       "  memory estimate:  60.78 MiB\n",
       "  allocs estimate:  280986\n",
       "  --------------\n",
       "  minimum time:     407.024 ms (0.00% GC)\n",
       "  median time:      418.605 ms (1.43% GC)\n",
       "  mean time:        421.605 ms (2.63% GC)\n",
       "  maximum time:     445.708 ms (7.95% GC)\n",
       "  --------------\n",
       "  samples:          12\n",
       "  evals/sample:     1"
      ]
     },
     "execution_count": 21,
     "metadata": {},
     "output_type": "execute_result"
    }
   ],
   "source": [
    "@benchmark deepcopy(sentences)"
   ]
  },
  {
   "cell_type": "code",
   "execution_count": 22,
   "metadata": {},
   "outputs": [
    {
     "data": {
      "text/plain": [
       "BenchmarkTools.Trial: \n",
       "  memory estimate:  60.78 MiB\n",
       "  allocs estimate:  280986\n",
       "  --------------\n",
       "  minimum time:     411.065 ms (0.00% GC)\n",
       "  median time:      423.288 ms (1.39% GC)\n",
       "  mean time:        426.405 ms (2.58% GC)\n",
       "  maximum time:     465.249 ms (8.15% GC)\n",
       "  --------------\n",
       "  samples:          12\n",
       "  evals/sample:     1"
      ]
     },
     "execution_count": 22,
     "metadata": {},
     "output_type": "execute_result"
    }
   ],
   "source": [
    "@benchmark masking(sentences, first_piece_masks, masking_points)"
   ]
  },
  {
   "cell_type": "code",
   "execution_count": 23,
   "metadata": {},
   "outputs": [
    {
     "data": {
      "text/plain": [
       "masking_wo_copy (generic function with 1 method)"
      ]
     },
     "execution_count": 23,
     "metadata": {},
     "output_type": "execute_result"
    }
   ],
   "source": [
    "function masking_wo_copy(rows::Vector{Vector{String}}, first_piece_masks::Vector{Vector{Bool}}, masking_points::Vector{Vector{Int64}})\n",
    "    for idx in 1:length(masking_points)\n",
    "        for pos in masking_points[idx]\n",
    "            # @assert first_piece_masks[idx][pos] == 1\n",
    "            rows[idx][pos] = \"[MASK]\"\n",
    "            while pos + 1 <= length(first_piece_masks[idx]) && first_piece_masks[idx][pos + 1] == 0 \n",
    "                pos += 1\n",
    "                rows[idx][pos] = \"[MASK]\"\n",
    "            end\n",
    "        end\n",
    "    end    \n",
    "    return rows\n",
    "end"
   ]
  },
  {
   "cell_type": "code",
   "execution_count": 24,
   "metadata": {},
   "outputs": [
    {
     "data": {
      "text/plain": [
       "BenchmarkTools.Trial: \n",
       "  memory estimate:  0 bytes\n",
       "  allocs estimate:  0\n",
       "  --------------\n",
       "  minimum time:     9.629 ms (0.00% GC)\n",
       "  median time:      9.746 ms (0.00% GC)\n",
       "  mean time:        9.754 ms (0.00% GC)\n",
       "  maximum time:     9.912 ms (0.00% GC)\n",
       "  --------------\n",
       "  samples:          12\n",
       "  evals/sample:     1"
      ]
     },
     "execution_count": 24,
     "metadata": {},
     "output_type": "execute_result"
    }
   ],
   "source": [
    "@benchmark masking_wo_copy(rows, first_piece_masks, masking_points) setup=(rows=deepcopy(sentences))"
   ]
  },
  {
   "cell_type": "code",
   "execution_count": 25,
   "metadata": {},
   "outputs": [
    {
     "data": {
      "text/plain": [
       "269396-element Array{Array{String,1},1}:\n",
       " [\"hide\", \"new\", \"secret\", \"##ions\", \"from\", \"[MASK]\", \"parental\", \"units\"]\n",
       " [\"contains\", \"no\", \"wit\", \",\", \"only\", \"[MASK]\", \"[MASK]\", \"gag\", \"##s\"]\n",
       " [\"that\", \"loves\", \"its\", \"[MASK]\", \"and\", \"communicate\", \"##s\", \"something\", \"rather\", \"beautiful\", \"about\", \"human\", \"nature\"]\n",
       " [\"remains\", \"[MASK]\", \"satisfied\", \"to\", \"remain\", \"the\", \"same\", \"throughout\"]\n",
       " [\"on\", \"the\", \"[MASK]\", \"revenge\", \"-\", \"of\", \"-\", \"the\", \"-\", \"ne\", \"##rds\", \"cl\", \"##iche\", \"##s\", \"the\", \"filmmakers\", \"could\", \"dr\", \"##edge\", \"up\"]\n",
       " [\"that\", \"'\", \"s\", \"far\", \"too\", \"tragic\", \"[MASK]\", \"merit\", \"such\", \"superficial\", \"treatment\"]\n",
       " [\"demonstrates\", \"that\", \"the\", \"director\", \"of\", \"such\", \"hollywood\", \"blockbuster\", \"##s\", \"as\"  …  \"small\", \",\", \"personal\", \"film\", \"with\", \"an\", \"[MASK]\", \"wall\", \"##op\", \".\"]\n",
       " [\"of\", \"[MASK]\", \"[MASK]\", \"[MASK]\"]\n",
       " [\"a\", \"depressed\", \"fifteen\", \"-\", \"year\", \"-\", \"[MASK]\", \"'\", \"s\", \"suicidal\", \"poetry\"]\n",
       " [\"are\", \"more\", \"deeply\", \"[MASK]\", \"through\", \"than\", \"in\", \"most\", \"`\", \"right\", \"-\", \"thinking\", \"'\", \"films\"]\n",
       " [\"goes\", \"to\", \"absurd\", \"[MASK]\"]\n",
       " [\"for\", \"those\", \"movie\", \"##go\", \"##ers\", \"who\", \"complain\", \"that\", \"`\", \"they\"  …  \"n\", \"'\", \"t\", \"[MASK]\", \"movies\", \"like\", \"they\", \"used\", \"to\", \"anymore\"]\n",
       " [\"the\", \"part\", \"where\", \"nothing\", \"'\", \"s\", \"[MASK]\", \",\"]\n",
       " ⋮\n",
       " [\"'\", \"s\", \"stuff\", \"##y\", \"and\", \"[MASK]\", \"[MASK]\", \"[MASK]\"]\n",
       " [\"[MASK]\", \",\"]\n",
       " [\"works\", \"[MASK]\", \"often\", \"than\", \"it\", \"does\", \"n\", \"'\", \"t\", \".\"]\n",
       " [\"at\", \"[MASK]\", \"pass\", \"##ably\"]\n",
       " [\"i\", \"also\", \"believe\", \"[MASK]\", \"resident\", \"evil\", \"is\", \"not\", \"it\", \".\"]\n",
       " [\"seem\", \"to\", \"be\", \"in\", \"a\", \"contest\", \"to\", \"see\", \"[MASK]\", \"can\", \"out\", \"-\", \"bad\", \"-\", \"act\", \"the\", \"other\"]\n",
       " [\"showing\", \"[MASK]\", \"his\", \"doctorate\"]\n",
       " [\"a\", \"[MASK]\", \"comedy\"]\n",
       " [\"anguish\", \"[MASK]\", \"anger\", \"and\", \"frustration\"]\n",
       " [\"at\", \"achieving\", \"the\", \"modest\", \",\", \"crowd\", \"-\", \"pleasing\", \"goals\", \"it\", \"[MASK]\", \"for\", \"itself\"]\n",
       " [\"a\", \"patient\", \"[MASK]\"]\n",
       " [\"this\", \"new\", \"jang\", \"##le\", \"of\", \"noise\", \",\", \"mayhem\", \"and\", \"stupidity\", \"must\", \"be\", \"[MASK]\", \"serious\", \"contender\", \"for\", \"the\", \"title\", \".\"]"
      ]
     },
     "execution_count": 25,
     "metadata": {},
     "output_type": "execute_result"
    }
   ],
   "source": [
    "masking(sentences, first_piece_masks, masking_points)"
   ]
  }
 ],
 "metadata": {
  "kernelspec": {
   "display_name": "Julia 1.4.1",
   "language": "julia",
   "name": "julia-1.4"
  },
  "language_info": {
   "file_extension": ".jl",
   "mimetype": "application/julia",
   "name": "julia",
   "version": "1.4.1"
  }
 },
 "nbformat": 4,
 "nbformat_minor": 4
}
