{
 "cells": [
  {
   "cell_type": "code",
   "execution_count": 1,
   "metadata": {},
   "outputs": [
    {
     "name": "stderr",
     "output_type": "stream",
     "text": [
      "\u001b[32m\u001b[1m Activating\u001b[22m\u001b[39m environment at `/mnt/SSD_Data/active_projects/transformer_to_lstm/notebooks/Project.toml`\n"
     ]
    }
   ],
   "source": [
    "using Pkg\n",
    "pkg\"activate .\""
   ]
  },
  {
   "cell_type": "code",
   "execution_count": 2,
   "metadata": {},
   "outputs": [
    {
     "name": "stderr",
     "output_type": "stream",
     "text": [
      "\u001b[32m\u001b[1m   Updating\u001b[22m\u001b[39m registry at `~/.julia/registries/General`\n"
     ]
    },
    {
     "name": "stdout",
     "output_type": "stream",
     "text": [
      "\u001b[?25l\u001b[2K"
     ]
    },
    {
     "name": "stderr",
     "output_type": "stream",
     "text": [
      "\u001b[32m\u001b[1m   Updating\u001b[22m\u001b[39m git-repo `https://github.com/JuliaRegistries/General.git`\n"
     ]
    },
    {
     "name": "stdout",
     "output_type": "stream",
     "text": [
      "\u001b[?25h"
     ]
    },
    {
     "name": "stderr",
     "output_type": "stream",
     "text": [
      "\u001b[32m\u001b[1m  Resolving\u001b[22m\u001b[39m package versions...\n",
      "\u001b[32m\u001b[1m   Updating\u001b[22m\u001b[39m `/mnt/SSD_Data/active_projects/transformer_to_lstm/notebooks/Project.toml`\n",
      "\u001b[90m [no changes]\u001b[39m\n",
      "\u001b[32m\u001b[1m   Updating\u001b[22m\u001b[39m `/mnt/SSD_Data/active_projects/transformer_to_lstm/notebooks/Manifest.toml`\n",
      "\u001b[90m [no changes]\u001b[39m\n",
      "\u001b[32m\u001b[1m  Resolving\u001b[22m\u001b[39m package versions...\n",
      "\u001b[32m\u001b[1m   Updating\u001b[22m\u001b[39m `/mnt/SSD_Data/active_projects/transformer_to_lstm/notebooks/Project.toml`\n",
      "\u001b[90m [no changes]\u001b[39m\n",
      "\u001b[32m\u001b[1m   Updating\u001b[22m\u001b[39m `/mnt/SSD_Data/active_projects/transformer_to_lstm/notebooks/Manifest.toml`\n",
      "\u001b[90m [no changes]\u001b[39m\n"
     ]
    }
   ],
   "source": [
    "pkg\"add PyCall\" # to run Python code from Julia\n",
    "pkg\"add BenchmarkTools\" # to run benchmarks"
   ]
  },
  {
   "cell_type": "code",
   "execution_count": 3,
   "metadata": {},
   "outputs": [],
   "source": [
    "using PyCall\n",
    "py\"\"\"\n",
    "import nlp\n",
    "import numpy as np\n",
    "from transformers import BertTokenizer\n",
    "\n",
    "def extract_sentences():\n",
    "    dataset = nlp.load_dataset('glue', \"sst2\")\n",
    "    tokenizer = BertTokenizer.from_pretrained('bert-base-uncased')\n",
    "    results = []\n",
    "    for sent in dataset['train']['sentence']:\n",
    "        results.append(tokenizer.tokenize(sent))\n",
    "    return results\n",
    "\"\"\""
   ]
  },
  {
   "cell_type": "code",
   "execution_count": 4,
   "metadata": {},
   "outputs": [
    {
     "name": "stdout",
     "output_type": "stream",
     "text": [
      " 15.095235 seconds (3.77 M allocations: 140.210 MiB, 1.29% gc time)\n"
     ]
    }
   ],
   "source": [
    "@time sentences = py\"extract_sentences\"();"
   ]
  },
  {
   "cell_type": "code",
   "execution_count": 5,
   "metadata": {},
   "outputs": [
    {
     "data": {
      "text/plain": [
       "269396-element Array{Array{String,1},1}:\n",
       " [\"hide\", \"new\", \"secret\", \"##ions\", \"from\", \"the\", \"parental\", \"units\"]\n",
       " [\"contains\", \"no\", \"wit\", \",\", \"only\", \"labor\", \"##ed\", \"gag\", \"##s\"]\n",
       " [\"that\", \"loves\", \"its\", \"characters\", \"and\", \"communicate\", \"##s\", \"something\", \"rather\", \"beautiful\", \"about\", \"human\", \"nature\"]\n",
       " [\"remains\", \"utterly\", \"satisfied\", \"to\", \"remain\", \"the\", \"same\", \"throughout\"]\n",
       " [\"on\", \"the\", \"worst\", \"revenge\", \"-\", \"of\", \"-\", \"the\", \"-\", \"ne\", \"##rds\", \"cl\", \"##iche\", \"##s\", \"the\", \"filmmakers\", \"could\", \"dr\", \"##edge\", \"up\"]\n",
       " [\"that\", \"'\", \"s\", \"far\", \"too\", \"tragic\", \"to\", \"merit\", \"such\", \"superficial\", \"treatment\"]\n",
       " [\"demonstrates\", \"that\", \"the\", \"director\", \"of\", \"such\", \"hollywood\", \"blockbuster\", \"##s\", \"as\"  …  \"small\", \",\", \"personal\", \"film\", \"with\", \"an\", \"emotional\", \"wall\", \"##op\", \".\"]\n",
       " [\"of\", \"sa\", \"##uc\", \"##y\"]\n",
       " [\"a\", \"depressed\", \"fifteen\", \"-\", \"year\", \"-\", \"old\", \"'\", \"s\", \"suicidal\", \"poetry\"]\n",
       " [\"are\", \"more\", \"deeply\", \"thought\", \"through\", \"than\", \"in\", \"most\", \"`\", \"right\", \"-\", \"thinking\", \"'\", \"films\"]\n",
       " [\"goes\", \"to\", \"absurd\", \"lengths\"]\n",
       " [\"for\", \"those\", \"movie\", \"##go\", \"##ers\", \"who\", \"complain\", \"that\", \"`\", \"they\"  …  \"n\", \"'\", \"t\", \"make\", \"movies\", \"like\", \"they\", \"used\", \"to\", \"anymore\"]\n",
       " [\"the\", \"part\", \"where\", \"nothing\", \"'\", \"s\", \"happening\", \",\"]\n",
       " ⋮\n",
       " [\"'\", \"s\", \"stuff\", \"##y\", \"and\", \"pre\", \"##ten\", \"##tious\"]\n",
       " [\"polished\", \",\"]\n",
       " [\"works\", \"more\", \"often\", \"than\", \"it\", \"does\", \"n\", \"'\", \"t\", \".\"]\n",
       " [\"at\", \"least\", \"pass\", \"##ably\"]\n",
       " [\"i\", \"also\", \"believe\", \"that\", \"resident\", \"evil\", \"is\", \"not\", \"it\", \".\"]\n",
       " [\"seem\", \"to\", \"be\", \"in\", \"a\", \"contest\", \"to\", \"see\", \"who\", \"can\", \"out\", \"-\", \"bad\", \"-\", \"act\", \"the\", \"other\"]\n",
       " [\"showing\", \"off\", \"his\", \"doctorate\"]\n",
       " [\"a\", \"delightful\", \"comedy\"]\n",
       " [\"anguish\", \",\", \"anger\", \"and\", \"frustration\"]\n",
       " [\"at\", \"achieving\", \"the\", \"modest\", \",\", \"crowd\", \"-\", \"pleasing\", \"goals\", \"it\", \"sets\", \"for\", \"itself\"]\n",
       " [\"a\", \"patient\", \"viewer\"]\n",
       " [\"this\", \"new\", \"jang\", \"##le\", \"of\", \"noise\", \",\", \"mayhem\", \"and\", \"stupidity\", \"must\", \"be\", \"a\", \"serious\", \"contender\", \"for\", \"the\", \"title\", \".\"]"
      ]
     },
     "execution_count": 5,
     "metadata": {},
     "output_type": "execute_result"
    }
   ],
   "source": [
    "sentences = vcat(sentences, sentences, sentences, sentences) # x4 sizes"
   ]
  },
  {
   "cell_type": "code",
   "execution_count": 6,
   "metadata": {},
   "outputs": [
    {
     "data": {
      "text/plain": [
       "add_special_tokens! (generic function with 1 method)"
      ]
     },
     "execution_count": 6,
     "metadata": {},
     "output_type": "execute_result"
    }
   ],
   "source": [
    "function add_special_tokens!(sentence)\n",
    "    pushfirst!(sentence, \"[CLS]\")\n",
    "    push!(sentence, \"[SEP]\")\n",
    "end"
   ]
  },
  {
   "cell_type": "code",
   "execution_count": 7,
   "metadata": {},
   "outputs": [
    {
     "data": {
      "text/plain": [
       "BenchmarkTools.Trial: \n",
       "  memory estimate:  20.33 MiB\n",
       "  allocs estimate:  105978\n",
       "  --------------\n",
       "  minimum time:     9.757 ms (0.00% GC)\n",
       "  median time:      16.849 ms (0.00% GC)\n",
       "  mean time:        19.532 ms (38.26% GC)\n",
       "  maximum time:     109.767 ms (85.54% GC)\n",
       "  --------------\n",
       "  samples:          32\n",
       "  evals/sample:     1"
      ]
     },
     "execution_count": 7,
     "metadata": {},
     "output_type": "execute_result"
    }
   ],
   "source": [
    "using BenchmarkTools\n",
    "@benchmark results = add_special_tokens!.(tmp) setup=(tmp=deepcopy(sentences))"
   ]
  },
  {
   "cell_type": "code",
   "execution_count": 8,
   "metadata": {},
   "outputs": [
    {
     "data": {
      "text/plain": [
       "is_first_piece (generic function with 1 method)"
      ]
     },
     "execution_count": 8,
     "metadata": {},
     "output_type": "execute_result"
    }
   ],
   "source": [
    "function is_first_piece(arr::Array{String,1})\n",
    "    return .!startswith.(arr, \"##\")\n",
    "end"
   ]
  },
  {
   "cell_type": "code",
   "execution_count": 9,
   "metadata": {},
   "outputs": [
    {
     "data": {
      "text/plain": [
       "BenchmarkTools.Trial: \n",
       "  memory estimate:  34.94 MiB\n",
       "  allocs estimate:  538796\n",
       "  --------------\n",
       "  minimum time:     32.263 ms (0.00% GC)\n",
       "  median time:      35.878 ms (0.00% GC)\n",
       "  mean time:        45.798 ms (21.29% GC)\n",
       "  maximum time:     134.499 ms (69.26% GC)\n",
       "  --------------\n",
       "  samples:          31\n",
       "  evals/sample:     1"
      ]
     },
     "execution_count": 9,
     "metadata": {},
     "output_type": "execute_result"
    }
   ],
   "source": [
    "@benchmark results = is_first_piece.(tmp) setup=(tmp=deepcopy(sentences)) # doesn't really need to deepcopy, but just to be safe"
   ]
  },
  {
   "cell_type": "code",
   "execution_count": 10,
   "metadata": {},
   "outputs": [
    {
     "data": {
      "text/plain": [
       "269396-element Array{BitArray{1},1}:\n",
       " [1, 1, 1, 0, 1, 1, 1, 1]\n",
       " [1, 1, 1, 1, 1, 1, 0, 1, 0]\n",
       " [1, 1, 1, 1, 1, 1, 0, 1, 1, 1, 1, 1, 1]\n",
       " [1, 1, 1, 1, 1, 1, 1, 1]\n",
       " [1, 1, 1, 1, 1, 1, 1, 1, 1, 1, 0, 1, 0, 0, 1, 1, 1, 1, 0, 1]\n",
       " [1, 1, 1, 1, 1, 1, 1, 1, 1, 1, 1]\n",
       " [1, 1, 1, 1, 1, 1, 1, 1, 0, 1  …  1, 1, 1, 1, 1, 1, 1, 1, 0, 1]\n",
       " [1, 1, 0, 0]\n",
       " [1, 1, 1, 1, 1, 1, 1, 1, 1, 1, 1]\n",
       " [1, 1, 1, 1, 1, 1, 1, 1, 1, 1, 1, 1, 1, 1]\n",
       " [1, 1, 1, 1]\n",
       " [1, 1, 1, 0, 0, 1, 1, 1, 1, 1  …  1, 1, 1, 1, 1, 1, 1, 1, 1, 1]\n",
       " [1, 1, 1, 1, 1, 1, 1, 1]\n",
       " ⋮\n",
       " [1, 1, 1, 0, 1, 1, 0, 0]\n",
       " [1, 1]\n",
       " [1, 1, 1, 1, 1, 1, 1, 1, 1, 1]\n",
       " [1, 1, 1, 0]\n",
       " [1, 1, 1, 1, 1, 1, 1, 1, 1, 1]\n",
       " [1, 1, 1, 1, 1, 1, 1, 1, 1, 1, 1, 1, 1, 1, 1, 1, 1]\n",
       " [1, 1, 1, 1]\n",
       " [1, 1, 1]\n",
       " [1, 1, 1, 1, 1]\n",
       " [1, 1, 1, 1, 1, 1, 1, 1, 1, 1, 1, 1, 1]\n",
       " [1, 1, 1]\n",
       " [1, 1, 1, 0, 1, 1, 1, 1, 1, 1, 1, 1, 1, 1, 1, 1, 1, 1, 1]"
      ]
     },
     "execution_count": 10,
     "metadata": {},
     "output_type": "execute_result"
    }
   ],
   "source": [
    "results = is_first_piece.(sentences)"
   ]
  },
  {
   "cell_type": "code",
   "execution_count": 11,
   "metadata": {},
   "outputs": [
    {
     "data": {
      "text/plain": [
       "4"
      ]
     },
     "execution_count": 11,
     "metadata": {},
     "output_type": "execute_result"
    }
   ],
   "source": [
    "Threads.nthreads()"
   ]
  },
  {
   "cell_type": "code",
   "execution_count": 12,
   "metadata": {},
   "outputs": [
    {
     "data": {
      "text/plain": [
       "BenchmarkTools.Trial: \n",
       "  memory estimate:  89.64 MiB\n",
       "  allocs estimate:  1346499\n",
       "  --------------\n",
       "  minimum time:     20.399 ms (0.00% GC)\n",
       "  median time:      43.885 ms (43.87% GC)\n",
       "  mean time:        37.039 ms (35.70% GC)\n",
       "  maximum time:     64.366 ms (44.26% GC)\n",
       "  --------------\n",
       "  samples:          135\n",
       "  evals/sample:     1"
      ]
     },
     "execution_count": 12,
     "metadata": {},
     "output_type": "execute_result"
    }
   ],
   "source": [
    "@benchmark begin\n",
    "    results = [Bool[] for _ in 1:length(sentences)]\n",
    "    Threads.@threads for i in 1:length(sentences)\n",
    "       results[i] = is_first_piece(sentences[i])\n",
    "    end\n",
    "end"
   ]
  },
  {
   "cell_type": "code",
   "execution_count": 13,
   "metadata": {},
   "outputs": [
    {
     "data": {
      "text/plain": [
       "8-element Array{Bool,1}:\n",
       " 1\n",
       " 1\n",
       " 1\n",
       " 0\n",
       " 1\n",
       " 1\n",
       " 1\n",
       " 1"
      ]
     },
     "execution_count": 13,
     "metadata": {},
     "output_type": "execute_result"
    }
   ],
   "source": [
    "# results = [BitArray(undef, length(sentences[i])) for i in 1:length(sentences)]\n",
    "results = [Bool[] for _ in 1:length(sentences)]\n",
    "Threads.@threads for i in 1:length(sentences)\n",
    "   results[i] = is_first_piece(sentences[i])\n",
    "end\n",
    "results[1]"
   ]
  },
  {
   "cell_type": "code",
   "execution_count": null,
   "metadata": {},
   "outputs": [],
   "source": []
  }
 ],
 "metadata": {
  "kernelspec": {
   "display_name": "Julia 1.4.1",
   "language": "julia",
   "name": "julia-1.4"
  },
  "language_info": {
   "file_extension": ".jl",
   "mimetype": "application/julia",
   "name": "julia",
   "version": "1.4.1"
  }
 },
 "nbformat": 4,
 "nbformat_minor": 4
}
