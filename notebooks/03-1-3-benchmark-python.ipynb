{
 "cells": [
  {
   "cell_type": "markdown",
   "metadata": {},
   "source": [
    "## Tokenize Examples"
   ]
  },
  {
   "cell_type": "code",
   "execution_count": 1,
   "metadata": {},
   "outputs": [],
   "source": [
    "import nlp\n",
    "import numpy as np\n",
    "from transformers import BertTokenizer\n",
    "\n",
    "def extract_sentences():\n",
    "    dataset = nlp.load_dataset('glue', \"sst2\")\n",
    "    tokenizer = BertTokenizer.from_pretrained('bert-base-uncased')\n",
    "    results = []\n",
    "    for sent in dataset['train']['sentence']:\n",
    "        results.append(tokenizer.tokenize(sent))\n",
    "    return results"
   ]
  },
  {
   "cell_type": "code",
   "execution_count": 2,
   "metadata": {},
   "outputs": [],
   "source": [
    "sentences = extract_sentences()"
   ]
  },
  {
   "cell_type": "code",
   "execution_count": 3,
   "metadata": {},
   "outputs": [
    {
     "data": {
      "text/plain": [
       "269396"
      ]
     },
     "execution_count": 3,
     "metadata": {},
     "output_type": "execute_result"
    }
   ],
   "source": [
    "sentences = sentences * 4\n",
    "len(sentences)"
   ]
  },
  {
   "cell_type": "markdown",
   "metadata": {},
   "source": [
    "## Adding Special Tokens"
   ]
  },
  {
   "cell_type": "code",
   "execution_count": 4,
   "metadata": {},
   "outputs": [],
   "source": [
    "from copy import deepcopy"
   ]
  },
  {
   "cell_type": "code",
   "execution_count": 5,
   "metadata": {},
   "outputs": [],
   "source": [
    "def add_special_tokens(sentence):\n",
    "    sentence.insert(0, \"[CLS]\")\n",
    "    sentence.append(\"[SEP]\")"
   ]
  },
  {
   "cell_type": "code",
   "execution_count": 6,
   "metadata": {},
   "outputs": [
    {
     "name": "stdout",
     "output_type": "stream",
     "text": [
      "325 ms ± 5.75 ms per loop (mean ± std. dev. of 7 runs, 1 loop each)\n"
     ]
    }
   ],
   "source": [
    "%%timeit\n",
    "tmp = deepcopy(sentences)"
   ]
  },
  {
   "cell_type": "code",
   "execution_count": 7,
   "metadata": {},
   "outputs": [
    {
     "name": "stdout",
     "output_type": "stream",
     "text": [
      "372 ms ± 9.85 ms per loop (mean ± std. dev. of 7 runs, 1 loop each)\n"
     ]
    }
   ],
   "source": [
    "%%timeit\n",
    "tmp = deepcopy(sentences)\n",
    "for sentence in tmp:\n",
    "    add_special_tokens(sentence)"
   ]
  },
  {
   "cell_type": "code",
   "execution_count": 8,
   "metadata": {},
   "outputs": [],
   "source": [
    "tmp = deepcopy(sentences)"
   ]
  },
  {
   "cell_type": "code",
   "execution_count": 9,
   "metadata": {},
   "outputs": [
    {
     "name": "stdout",
     "output_type": "stream",
     "text": [
      "CPU times: user 38.9 ms, sys: 3.96 ms, total: 42.8 ms\n",
      "Wall time: 42.3 ms\n"
     ]
    }
   ],
   "source": [
    "%%time\n",
    "for sentence in tmp:\n",
    "    add_special_tokens(sentence)"
   ]
  },
  {
   "cell_type": "markdown",
   "metadata": {},
   "source": [
    "## Mark First Pieces"
   ]
  },
  {
   "cell_type": "code",
   "execution_count": 10,
   "metadata": {},
   "outputs": [],
   "source": [
    "def is_first_piece(tokens):\n",
    "    return [not token.startswith(\"##\") for token in tokens]"
   ]
  },
  {
   "cell_type": "code",
   "execution_count": 11,
   "metadata": {},
   "outputs": [
    {
     "data": {
      "text/plain": [
       "[True, True, False]"
      ]
     },
     "execution_count": 11,
     "metadata": {},
     "output_type": "execute_result"
    }
   ],
   "source": [
    "is_first_piece([\"1\", \"w\", \"##e\"])"
   ]
  },
  {
   "cell_type": "code",
   "execution_count": 12,
   "metadata": {},
   "outputs": [
    {
     "name": "stdout",
     "output_type": "stream",
     "text": [
      "CPU times: user 475 ms, sys: 3.95 ms, total: 479 ms\n",
      "Wall time: 477 ms\n"
     ]
    }
   ],
   "source": [
    "%%time\n",
    "tmp = deepcopy(sentences)"
   ]
  },
  {
   "cell_type": "code",
   "execution_count": 13,
   "metadata": {},
   "outputs": [
    {
     "name": "stdout",
     "output_type": "stream",
     "text": [
      "326 ms ± 10.8 ms per loop (mean ± std. dev. of 7 runs, 1 loop each)\n"
     ]
    }
   ],
   "source": [
    "%%timeit\n",
    "results = [is_first_piece(sent) for sent in tmp]"
   ]
  },
  {
   "cell_type": "code",
   "execution_count": 14,
   "metadata": {},
   "outputs": [
    {
     "data": {
      "text/plain": [
       "[True, True, True, False, True, True, True, True]"
      ]
     },
     "execution_count": 14,
     "metadata": {},
     "output_type": "execute_result"
    }
   ],
   "source": [
    "first_piece_masks = [is_first_piece(sent) for sent in tmp]\n",
    "first_piece_masks[0]"
   ]
  },
  {
   "cell_type": "markdown",
   "metadata": {},
   "source": [
    "## Sampling"
   ]
  },
  {
   "cell_type": "code",
   "execution_count": 15,
   "metadata": {},
   "outputs": [],
   "source": [
    "def sample(first_piece_masks, n=1):\n",
    "    results = []\n",
    "    for mask in first_piece_masks:\n",
    "        if sum(mask) <= n:\n",
    "            results.append([])\n",
    "            continue\n",
    "        probabilities = np.asarray(mask) / float(sum(mask))\n",
    "        results.append(np.random.choice(np.arange(len(mask)), size=n, p=probabilities))\n",
    "    return results"
   ]
  },
  {
   "cell_type": "code",
   "execution_count": 16,
   "metadata": {},
   "outputs": [
    {
     "name": "stdout",
     "output_type": "stream",
     "text": [
      "8.2 s ± 30.5 ms per loop (mean ± std. dev. of 7 runs, 1 loop each)\n"
     ]
    }
   ],
   "source": [
    "%%timeit\n",
    "sample(first_piece_masks)"
   ]
  },
  {
   "cell_type": "code",
   "execution_count": 17,
   "metadata": {},
   "outputs": [
    {
     "name": "stdout",
     "output_type": "stream",
     "text": [
      "CPU times: user 8.24 s, sys: 36 ms, total: 8.28 s\n",
      "Wall time: 8.27 s\n"
     ]
    },
    {
     "data": {
      "text/plain": [
       "[array([7]),\n",
       " array([3]),\n",
       " array([2]),\n",
       " array([4]),\n",
       " array([6]),\n",
       " array([7]),\n",
       " array([0]),\n",
       " array([1]),\n",
       " array([1]),\n",
       " array([13])]"
      ]
     },
     "execution_count": 17,
     "metadata": {},
     "output_type": "execute_result"
    }
   ],
   "source": [
    "%%time\n",
    "masking_points =  sample(first_piece_masks)\n",
    "masking_points[:10]"
   ]
  },
  {
   "cell_type": "markdown",
   "metadata": {},
   "source": [
    "## Masking"
   ]
  },
  {
   "cell_type": "code",
   "execution_count": 18,
   "metadata": {},
   "outputs": [],
   "source": [
    "def masking(rows, first_piece_masks, masking_points):\n",
    "    augmented_rows = deepcopy(rows)\n",
    "    for idx in range(len(masking_points)):\n",
    "        assert len(first_piece_masks[idx]) == len(rows[idx])\n",
    "        for pos in masking_points[idx]:\n",
    "            assert pos <= len(first_piece_masks[idx]), f\"{pos}, {len(first_piece_masks[idx])}\"\n",
    "            augmented_rows[idx][pos] = \"[MASK]\"\n",
    "            while pos +1 < len(first_piece_masks[idx]) and first_piece_masks[idx][pos + 1] == 0:\n",
    "                pos += 1\n",
    "                augmented_rows[idx][pos] = \"[MASK]\"\n",
    "    return augmented_rows        "
   ]
  },
  {
   "cell_type": "code",
   "execution_count": 19,
   "metadata": {},
   "outputs": [
    {
     "name": "stdout",
     "output_type": "stream",
     "text": [
      "725 ms ± 4.04 ms per loop (mean ± std. dev. of 7 runs, 1 loop each)\n"
     ]
    }
   ],
   "source": [
    "%%timeit\n",
    "masking(sentences, first_piece_masks, masking_points)"
   ]
  },
  {
   "cell_type": "code",
   "execution_count": 20,
   "metadata": {},
   "outputs": [
    {
     "name": "stdout",
     "output_type": "stream",
     "text": [
      "328 ms ± 2.89 ms per loop (mean ± std. dev. of 7 runs, 1 loop each)\n"
     ]
    }
   ],
   "source": [
    "%%timeit\n",
    "augmented_rows = deepcopy(sentences)"
   ]
  },
  {
   "cell_type": "code",
   "execution_count": 21,
   "metadata": {},
   "outputs": [
    {
     "name": "stdout",
     "output_type": "stream",
     "text": [
      "CPU times: user 724 ms, sys: 4 ms, total: 728 ms\n",
      "Wall time: 727 ms\n"
     ]
    },
    {
     "data": {
      "text/plain": [
       "[['hide', 'new', 'secret', '##ions', '[MASK]', 'the', '[MASK]', '[MASK]'],\n",
       " ['contains',\n",
       "  '[MASK]',\n",
       "  'wit',\n",
       "  '[MASK]',\n",
       "  '[MASK]',\n",
       "  '[MASK]',\n",
       "  '[MASK]',\n",
       "  'gag',\n",
       "  '##s'],\n",
       " ['that',\n",
       "  'loves',\n",
       "  '[MASK]',\n",
       "  'characters',\n",
       "  'and',\n",
       "  'communicate',\n",
       "  '##s',\n",
       "  'something',\n",
       "  'rather',\n",
       "  'beautiful',\n",
       "  '[MASK]',\n",
       "  'human',\n",
       "  '[MASK]'],\n",
       " ['remains',\n",
       "  'utterly',\n",
       "  'satisfied',\n",
       "  'to',\n",
       "  '[MASK]',\n",
       "  '[MASK]',\n",
       "  '[MASK]',\n",
       "  'throughout'],\n",
       " ['on',\n",
       "  '[MASK]',\n",
       "  'worst',\n",
       "  'revenge',\n",
       "  '-',\n",
       "  'of',\n",
       "  '[MASK]',\n",
       "  'the',\n",
       "  '-',\n",
       "  'ne',\n",
       "  '##rds',\n",
       "  '[MASK]',\n",
       "  '[MASK]',\n",
       "  '[MASK]',\n",
       "  'the',\n",
       "  'filmmakers',\n",
       "  'could',\n",
       "  '[MASK]',\n",
       "  '[MASK]',\n",
       "  'up'],\n",
       " ['that',\n",
       "  \"'\",\n",
       "  '[MASK]',\n",
       "  'far',\n",
       "  '[MASK]',\n",
       "  'tragic',\n",
       "  'to',\n",
       "  '[MASK]',\n",
       "  'such',\n",
       "  '[MASK]',\n",
       "  'treatment'],\n",
       " ['[MASK]',\n",
       "  'that',\n",
       "  'the',\n",
       "  'director',\n",
       "  'of',\n",
       "  'such',\n",
       "  'hollywood',\n",
       "  '[MASK]',\n",
       "  '[MASK]',\n",
       "  'as',\n",
       "  'patriot',\n",
       "  'games',\n",
       "  'can',\n",
       "  '[MASK]',\n",
       "  'turn',\n",
       "  'out',\n",
       "  'a',\n",
       "  'small',\n",
       "  ',',\n",
       "  'personal',\n",
       "  'film',\n",
       "  'with',\n",
       "  'an',\n",
       "  'emotional',\n",
       "  'wall',\n",
       "  '##op',\n",
       "  '.'],\n",
       " ['[MASK]', '[MASK]', '[MASK]', '[MASK]'],\n",
       " ['a',\n",
       "  '[MASK]',\n",
       "  'fifteen',\n",
       "  '-',\n",
       "  'year',\n",
       "  '[MASK]',\n",
       "  '[MASK]',\n",
       "  '[MASK]',\n",
       "  's',\n",
       "  'suicidal',\n",
       "  'poetry'],\n",
       " ['are',\n",
       "  'more',\n",
       "  'deeply',\n",
       "  'thought',\n",
       "  'through',\n",
       "  'than',\n",
       "  'in',\n",
       "  '[MASK]',\n",
       "  '`',\n",
       "  '[MASK]',\n",
       "  '-',\n",
       "  '[MASK]',\n",
       "  \"'\",\n",
       "  '[MASK]']]"
      ]
     },
     "execution_count": 21,
     "metadata": {},
     "output_type": "execute_result"
    }
   ],
   "source": [
    "%%time \n",
    "augmented_sentences = masking(sentences, first_piece_masks, masking_points)\n",
    "augmented_sentences[:10]"
   ]
  },
  {
   "cell_type": "code",
   "execution_count": null,
   "metadata": {},
   "outputs": [],
   "source": []
  }
 ],
 "metadata": {
  "kernelspec": {
   "display_name": "Python 3",
   "language": "python",
   "name": "python3"
  },
  "language_info": {
   "codemirror_mode": {
    "name": "ipython",
    "version": 3
   },
   "file_extension": ".py",
   "mimetype": "text/x-python",
   "name": "python",
   "nbconvert_exporter": "python",
   "pygments_lexer": "ipython3",
   "version": "3.8.3"
  }
 },
 "nbformat": 4,
 "nbformat_minor": 4
}
