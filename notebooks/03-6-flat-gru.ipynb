{
 "cells": [
  {
   "cell_type": "code",
   "execution_count": null,
   "metadata": {},
   "outputs": [],
   "source": [
    "%cd .."
   ]
  },
  {
   "cell_type": "code",
   "execution_count": 2,
   "metadata": {},
   "outputs": [],
   "source": [
    "import os\n",
    "\n",
    "os.environ['SEED'] = \"42\"\n",
    "\n",
    "import dataclasses\n",
    "from pathlib import Path\n",
    "import warnings\n",
    "\n",
    "import nlp\n",
    "import torch\n",
    "import numpy as np\n",
    "import torch.nn.functional as F\n",
    "from transformers import BertForSequenceClassification\n",
    "from torch.optim.lr_scheduler import CosineAnnealingLR\n",
    "from sklearn.model_selection import train_test_split\n",
    "\n",
    "from pytorch_helper_bot import (\n",
    "    BaseBot, MovingAverageStatsTrackerCallback,  CheckpointCallback,\n",
    "    LearningRateSchedulerCallback, MultiStageScheduler, Top1Accuracy,\n",
    "    LinearLR, Callback\n",
    ")\n",
    "\n",
    "from nobita.models import get_sequence_model\n",
    "\n",
    "\n",
    "try:\n",
    "    from apex import amp\n",
    "    APEX_AVAILABLE = True\n",
    "except ModuleNotFoundError:\n",
    "    APEX_AVAILABLE = False\n"
   ]
  },
  {
   "cell_type": "code",
   "execution_count": 3,
   "metadata": {},
   "outputs": [],
   "source": [
    "CACHE_DIR = Path(\"cache/\")\n",
    "CACHE_DIR.mkdir(exist_ok=True)"
   ]
  },
  {
   "cell_type": "markdown",
   "metadata": {},
   "source": [
    "Reference:\n",
    "\n",
    "    * https://github.com/huggingface/nlp/blob/master/notebooks/Overview.ipynb"
   ]
  },
  {
   "cell_type": "code",
   "execution_count": 4,
   "metadata": {},
   "outputs": [],
   "source": [
    "class SST2Dataset(torch.utils.data.Dataset):\n",
    "    def __init__(self, entries_dict, temperature=1):\n",
    "        super().__init__()\n",
    "        self.entries_dict = entries_dict\n",
    "        self.temperature = temperature\n",
    "    \n",
    "    def __len__(self):\n",
    "        return len(self.entries_dict[\"label\"])\n",
    "    \n",
    "    def __getitem__(self, idx):\n",
    "        return (\n",
    "            self.entries_dict[\"input_ids\"][idx],\n",
    "            self.entries_dict[\"attention_mask\"][idx].sum(), #input_lengths\n",
    "            {\n",
    "                \"label\": self.entries_dict[\"label\"][idx], \n",
    "                \"logits\": self.entries_dict[\"logits\"][idx] / self.temperature\n",
    "            }\n",
    "        )"
   ]
  },
  {
   "cell_type": "code",
   "execution_count": 5,
   "metadata": {},
   "outputs": [],
   "source": [
    "train_dict, valid_dict, test_dict = torch.load(str(CACHE_DIR / \"distill-dicts-augmented.jbl\"))"
   ]
  },
  {
   "cell_type": "code",
   "execution_count": 6,
   "metadata": {},
   "outputs": [],
   "source": [
    "# Instantiate a PyTorch Dataloader around our dataset\n",
    "TEMPERATURE = 2.\n",
    "train_loader = torch.utils.data.DataLoader(SST2Dataset(train_dict, temperature=TEMPERATURE), batch_size=64, shuffle=True)\n",
    "valid_loader = torch.utils.data.DataLoader(SST2Dataset(valid_dict, temperature=TEMPERATURE), batch_size=64, drop_last=False)\n",
    "test_loader = torch.utils.data.DataLoader(SST2Dataset(test_dict, temperature=1.), batch_size=64, drop_last=False)"
   ]
  },
  {
   "cell_type": "code",
   "execution_count": 7,
   "metadata": {},
   "outputs": [],
   "source": [
    "ALPHA = 0\n",
    "DISTILL_OBJECTIVE = torch.nn.MSELoss()\n",
    "\n",
    "def cross_entropy(logits, targets):\n",
    "    targets = F.softmax(targets, dim=-1)\n",
    "    return -(targets * F.log_softmax(logits, dim=-1)).sum(dim=1).mean()\n",
    "\n",
    "def distill_loss(logits, targets):\n",
    "#     distill_part = F.binary_cross_entropy_with_logits(\n",
    "#         logits[:, 1], targets[\"logits\"][:, 1]\n",
    "#     )\n",
    "    distill_part = cross_entropy(\n",
    "        logits, targets[\"logits\"]\n",
    "    )\n",
    "    classification_part = F.cross_entropy(\n",
    "        logits, targets[\"label\"]\n",
    "    )\n",
    "    return ALPHA * classification_part + (1-ALPHA) * distill_part"
   ]
  },
  {
   "cell_type": "code",
   "execution_count": 8,
   "metadata": {},
   "outputs": [],
   "source": [
    "bert_model = BertForSequenceClassification.from_pretrained(str(CACHE_DIR / \"sst2_bert_uncased\")).cpu()"
   ]
  },
  {
   "cell_type": "code",
   "execution_count": 9,
   "metadata": {},
   "outputs": [
    {
     "data": {
      "text/plain": [
       "torch.Size([30522, 768])"
      ]
     },
     "execution_count": 9,
     "metadata": {},
     "output_type": "execute_result"
    }
   ],
   "source": [
    "bert_model.bert.embeddings.word_embeddings.weight.shape"
   ]
  },
  {
   "cell_type": "code",
   "execution_count": 10,
   "metadata": {},
   "outputs": [],
   "source": [
    "# Note: apex does not support weight dropping\n",
    "model = get_sequence_model(\n",
    "    voc_size=bert_model.bert.embeddings.word_embeddings.weight.shape[0],\n",
    "    emb_size=bert_model.bert.embeddings.word_embeddings.weight.shape[1],\n",
    "    pad_idx = 0,\n",
    "    dropoute = 0,\n",
    "    rnn_hid = 768,\n",
    "    rnn_layers = 2,\n",
    "    bidir = True,\n",
    "    dropouth = 0.25,\n",
    "    dropouti = 0.25,\n",
    "    wdrop = 0,\n",
    "    unit_type = \"gru\",\n",
    "    fcn_layers = [512, 2],\n",
    "    fcn_dropouts = [0.25, 0.25],\n",
    "    use_attention = True\n",
    ")"
   ]
  },
  {
   "cell_type": "code",
   "execution_count": 11,
   "metadata": {},
   "outputs": [
    {
     "data": {
      "text/plain": [
       "SequenceModel(\n",
       "  (embeddings): BasicEmbeddings(\n",
       "    (encoder): Embedding(30522, 768, padding_idx=0)\n",
       "  )\n",
       "  (encoder): RNNStack(\n",
       "    (rnns): ModuleList(\n",
       "      (0): GRU(768, 384, bidirectional=True)\n",
       "      (1): GRU(768, 384, bidirectional=True)\n",
       "    )\n",
       "    (dropouti): LockedDropout()\n",
       "    (dropouths): ModuleList(\n",
       "      (0): LockedDropout()\n",
       "      (1): LockedDropout()\n",
       "    )\n",
       "  )\n",
       "  (fcn): AttentionFCN(\n",
       "    (attention): Attention(768, return attention=False)\n",
       "    (layers): ModuleList(\n",
       "      (0): LinearBlock(\n",
       "        (lin): Linear(in_features=768, out_features=512, bias=True)\n",
       "        (drop): Dropout(p=0.25, inplace=False)\n",
       "        (bn): BatchNorm1d(768, eps=1e-05, momentum=0.1, affine=True, track_running_stats=True)\n",
       "      )\n",
       "      (1): LinearBlock(\n",
       "        (lin): Linear(in_features=512, out_features=2, bias=True)\n",
       "        (drop): Dropout(p=0.25, inplace=False)\n",
       "        (bn): BatchNorm1d(512, eps=1e-05, momentum=0.1, affine=True, track_running_stats=True)\n",
       "      )\n",
       "    )\n",
       "  )\n",
       ")"
      ]
     },
     "execution_count": 11,
     "metadata": {},
     "output_type": "execute_result"
    }
   ],
   "source": [
    "model"
   ]
  },
  {
   "cell_type": "code",
   "execution_count": 12,
   "metadata": {},
   "outputs": [],
   "source": [
    "# Copy the embedding weights to the LSTM model\n",
    "try:\n",
    "    model.embeddings.encoder.emb.weight.data = bert_model.bert.embeddings.word_embeddings.weight.data\n",
    "except:\n",
    "    model.embeddings.encoder.weight.data = bert_model.bert.embeddings.word_embeddings.weight.data"
   ]
  },
  {
   "cell_type": "code",
   "execution_count": 13,
   "metadata": {},
   "outputs": [],
   "source": [
    "# Freeze the embedding layer\n",
    "for param in model.embeddings.encoder.parameters():\n",
    "    param.requires_grad = False"
   ]
  },
  {
   "cell_type": "code",
   "execution_count": 14,
   "metadata": {},
   "outputs": [],
   "source": [
    "model = model.cuda()"
   ]
  },
  {
   "cell_type": "code",
   "execution_count": 15,
   "metadata": {},
   "outputs": [],
   "source": [
    "# Use only leaf tensors\n",
    "parameters = [x for x in model.parameters() if x.is_leaf and x.requires_grad]"
   ]
  },
  {
   "cell_type": "code",
   "execution_count": 16,
   "metadata": {},
   "outputs": [],
   "source": [
    "del bert_model"
   ]
  },
  {
   "cell_type": "code",
   "execution_count": 17,
   "metadata": {},
   "outputs": [],
   "source": [
    "optimizer = torch.optim.Adam(parameters, lr=1e-3, betas=(0.8, 0.99))\n",
    "# optimizer = torch.optim.RMSprop(parameters, lr=0.01)"
   ]
  },
  {
   "cell_type": "code",
   "execution_count": 18,
   "metadata": {},
   "outputs": [
    {
     "name": "stdout",
     "output_type": "stream",
     "text": [
      "Selected optimization level O1:  Insert automatic casts around Pytorch functions and Tensor methods.\n",
      "\n",
      "Defaults for this optimization level are:\n",
      "enabled                : True\n",
      "opt_level              : O1\n",
      "cast_model_type        : None\n",
      "patch_torch_functions  : True\n",
      "keep_batchnorm_fp32    : None\n",
      "master_weights         : None\n",
      "loss_scale             : dynamic\n",
      "Processing user overrides (additional kwargs that are not None)...\n",
      "After processing overrides, optimization options are:\n",
      "enabled                : True\n",
      "opt_level              : O1\n",
      "cast_model_type        : None\n",
      "patch_torch_functions  : True\n",
      "keep_batchnorm_fp32    : None\n",
      "master_weights         : None\n",
      "loss_scale             : dynamic\n"
     ]
    }
   ],
   "source": [
    "if APEX_AVAILABLE:\n",
    "    model, optimizer = amp.initialize(\n",
    "        model, optimizer, opt_level=\"O1\"\n",
    "    )"
   ]
  },
  {
   "cell_type": "code",
   "execution_count": 19,
   "metadata": {},
   "outputs": [],
   "source": [
    "class TransposeCallback(Callback):\n",
    "    def on_batch_inputs(self, bot, input_tensors, targets):\n",
    "        input_tensors = [input_tensors[0].transpose(1, 0), input_tensors[1]]\n",
    "        return input_tensors, targets"
   ]
  },
  {
   "cell_type": "code",
   "execution_count": 20,
   "metadata": {},
   "outputs": [],
   "source": [
    "class DistillTop1Accuracy(Top1Accuracy):\n",
    "    def __call__(self, truth, pred):\n",
    "        truth = truth[\"label\"]\n",
    "        return super().__call__(truth, pred)"
   ]
  },
  {
   "cell_type": "code",
   "execution_count": 21,
   "metadata": {},
   "outputs": [
    {
     "name": "stderr",
     "output_type": "stream",
     "text": [
      "[INFO][06/22/2020 17:38:45] SEED: 42\n",
      "[INFO][06/22/2020 17:38:45] # of parameters: 29,156,610\n",
      "[INFO][06/22/2020 17:38:45] # of trainable parameters: 5,715,714\n"
     ]
    }
   ],
   "source": [
    "total_steps = len(train_loader) * 5\n",
    "\n",
    "checkpoints = CheckpointCallback(\n",
    "    keep_n_checkpoints=1,\n",
    "    checkpoint_dir=CACHE_DIR / \"distill_model_cache/\",\n",
    "    monitor_metric=\"loss\"\n",
    ")\n",
    "lr_durations = [\n",
    "    int(total_steps*0.2),\n",
    "    int(np.ceil(total_steps*0.8))\n",
    "]\n",
    "break_points = [0] + list(np.cumsum(lr_durations))[:-1]\n",
    "callbacks = [\n",
    "    MovingAverageStatsTrackerCallback(\n",
    "        avg_window=len(train_loader) // 8,\n",
    "        log_interval=len(train_loader) // 10\n",
    "    ),\n",
    "    LearningRateSchedulerCallback(\n",
    "        MultiStageScheduler(\n",
    "            [\n",
    "                LinearLR(optimizer, 0.01, lr_durations[0]),\n",
    "                CosineAnnealingLR(optimizer, lr_durations[1])\n",
    "            ],\n",
    "            start_at_epochs=break_points\n",
    "        )\n",
    "    ),\n",
    "    checkpoints,\n",
    "    TransposeCallback()\n",
    "]\n",
    "    \n",
    "bot = BaseBot(\n",
    "    log_dir = CACHE_DIR / \"distill_logs\",\n",
    "    model=model, \n",
    "    train_loader=train_loader,\n",
    "    valid_loader=valid_loader, \n",
    "    clip_grad=10.,\n",
    "    optimizer=optimizer, echo=True,\n",
    "    criterion=distill_loss,\n",
    "    callbacks=callbacks,\n",
    "    pbar=False, use_tensorboard=False,\n",
    "    use_amp=APEX_AVAILABLE,\n",
    "    metrics=(DistillTop1Accuracy(),)\n",
    ")"
   ]
  },
  {
   "cell_type": "code",
   "execution_count": 22,
   "metadata": {},
   "outputs": [
    {
     "name": "stderr",
     "output_type": "stream",
     "text": [
      "[INFO][06/22/2020 17:38:45] Optimizer Adam (\n",
      "Parameter Group 0\n",
      "    amsgrad: False\n",
      "    betas: (0.8, 0.99)\n",
      "    eps: 1e-08\n",
      "    initial_lr: 0.001\n",
      "    lr: 0.001\n",
      "    weight_decay: 0\n",
      ")\n",
      "[INFO][06/22/2020 17:38:45] Batches per epoch: 3157\n",
      "[INFO][06/22/2020 17:38:45] ====================Epoch 1====================\n"
     ]
    },
    {
     "name": "stdout",
     "output_type": "stream",
     "text": [
      "15785\n"
     ]
    },
    {
     "name": "stderr",
     "output_type": "stream",
     "text": [
      "[INFO][06/22/2020 17:38:52] Step   315 | loss 0.90497637 | lr: 1.09e-04 | 0.021s per step\n",
      "[INFO][06/22/2020 17:38:58] Step   630 | loss 0.70167393 | lr: 2.08e-04 | 0.019s per step\n",
      "[INFO][06/22/2020 17:39:04] Step   945 | loss 0.60207349 | lr: 3.06e-04 | 0.019s per step\n",
      "[INFO][06/22/2020 17:39:10] Step  1260 | loss 0.54594113 | lr: 4.05e-04 | 0.019s per step\n",
      "[INFO][06/22/2020 17:39:16] Step  1575 | loss 0.50735221 | lr: 5.04e-04 | 0.019s per step\n",
      "[INFO][06/22/2020 17:39:16] Metrics at step 1578:\n",
      "[INFO][06/22/2020 17:39:16] loss: 0.47315171\n",
      "[INFO][06/22/2020 17:39:16] accuracy: 80.96%\n",
      "[INFO][06/22/2020 17:39:22] Step  1890 | loss 0.47063435 | lr: 6.03e-04 | 0.020s per step\n",
      "[INFO][06/22/2020 17:39:28] Step  2205 | loss 0.44136320 | lr: 7.02e-04 | 0.019s per step\n",
      "[INFO][06/22/2020 17:39:34] Step  2520 | loss 0.43186608 | lr: 8.00e-04 | 0.019s per step\n",
      "[INFO][06/22/2020 17:39:40] Step  2835 | loss 0.42349426 | lr: 8.99e-04 | 0.019s per step\n",
      "[INFO][06/22/2020 17:39:46] Step  3150 | loss 0.41426189 | lr: 9.98e-04 | 0.019s per step\n",
      "[INFO][06/22/2020 17:39:46] Metrics at step 3156:\n",
      "[INFO][06/22/2020 17:39:46] loss: 0.44121825\n",
      "[INFO][06/22/2020 17:39:46] accuracy: 81.65%\n",
      "[INFO][06/22/2020 17:39:46] ====================Epoch 2====================\n",
      "[INFO][06/22/2020 17:39:52] Step  3465 | loss 0.40770345 | lr: 9.99e-04 | 0.020s per step\n",
      "[INFO][06/22/2020 17:39:58] Step  3780 | loss 0.40118027 | lr: 9.95e-04 | 0.019s per step\n",
      "[INFO][06/22/2020 17:40:04] Step  4095 | loss 0.39376799 | lr: 9.87e-04 | 0.019s per step\n",
      "[INFO][06/22/2020 17:40:10] Step  4410 | loss 0.38862783 | lr: 9.77e-04 | 0.019s per step\n",
      "[INFO][06/22/2020 17:40:16] Step  4725 | loss 0.38393895 | lr: 9.63e-04 | 0.019s per step\n",
      "[INFO][06/22/2020 17:40:16] Metrics at step 4734:\n",
      "[INFO][06/22/2020 17:40:16] loss: 0.38340641\n",
      "[INFO][06/22/2020 17:40:16] accuracy: 84.86%\n",
      "[INFO][06/22/2020 17:40:22] Step  5040 | loss 0.37913069 | lr: 9.47e-04 | 0.020s per step\n",
      "[INFO][06/22/2020 17:40:28] Step  5355 | loss 0.37347344 | lr: 9.28e-04 | 0.019s per step\n",
      "[INFO][06/22/2020 17:40:34] Step  5670 | loss 0.36870303 | lr: 9.06e-04 | 0.019s per step\n",
      "[INFO][06/22/2020 17:40:40] Step  5985 | loss 0.36336754 | lr: 8.82e-04 | 0.019s per step\n",
      "[INFO][06/22/2020 17:40:46] Step  6300 | loss 0.36118586 | lr: 8.55e-04 | 0.019s per step\n",
      "[INFO][06/22/2020 17:40:47] Metrics at step 6312:\n",
      "[INFO][06/22/2020 17:40:47] loss: 0.37761061\n",
      "[INFO][06/22/2020 17:40:47] accuracy: 86.70%\n",
      "[INFO][06/22/2020 17:40:47] ====================Epoch 3====================\n",
      "[INFO][06/22/2020 17:40:52] Step  6615 | loss 0.35544746 | lr: 8.27e-04 | 0.020s per step\n"
     ]
    },
    {
     "name": "stdout",
     "output_type": "stream",
     "text": [
      "Gradient overflow.  Skipping step, loss scaler 0 reducing loss scale to 262144.0\n"
     ]
    },
    {
     "name": "stderr",
     "output_type": "stream",
     "text": [
      "[INFO][06/22/2020 17:40:58] Step  6930 | loss 0.34986204 | lr: 7.96e-04 | 0.019s per step\n",
      "[INFO][06/22/2020 17:41:04] Step  7245 | loss 0.34427714 | lr: 7.64e-04 | 0.019s per step\n",
      "[INFO][06/22/2020 17:41:10] Step  7560 | loss 0.34157666 | lr: 7.29e-04 | 0.019s per step\n",
      "[INFO][06/22/2020 17:41:16] Step  7875 | loss 0.34239671 | lr: 6.94e-04 | 0.019s per step\n",
      "[INFO][06/22/2020 17:41:17] Metrics at step 7890:\n",
      "[INFO][06/22/2020 17:41:17] loss: 0.37721515\n",
      "[INFO][06/22/2020 17:41:17] accuracy: 88.30%\n",
      "[INFO][06/22/2020 17:41:23] Step  8190 | loss 0.34349061 | lr: 6.57e-04 | 0.020s per step\n",
      "[INFO][06/22/2020 17:41:29] Step  8505 | loss 0.33809089 | lr: 6.20e-04 | 0.019s per step\n",
      "[INFO][06/22/2020 17:41:35] Step  8820 | loss 0.33803396 | lr: 5.81e-04 | 0.019s per step\n",
      "[INFO][06/22/2020 17:41:41] Step  9135 | loss 0.33576415 | lr: 5.42e-04 | 0.019s per step\n"
     ]
    },
    {
     "name": "stdout",
     "output_type": "stream",
     "text": [
      "Gradient overflow.  Skipping step, loss scaler 0 reducing loss scale to 262144.0\n"
     ]
    },
    {
     "name": "stderr",
     "output_type": "stream",
     "text": [
      "[INFO][06/22/2020 17:41:46] Step  9450 | loss 0.32987089 | lr: 5.03e-04 | 0.019s per step\n",
      "[INFO][06/22/2020 17:41:47] Metrics at step 9468:\n",
      "[INFO][06/22/2020 17:41:47] loss: 0.36626294\n",
      "[INFO][06/22/2020 17:41:47] accuracy: 88.76%\n",
      "[INFO][06/22/2020 17:41:47] ====================Epoch 4====================\n",
      "[INFO][06/22/2020 17:41:53] Step  9765 | loss 0.32613052 | lr: 4.64e-04 | 0.020s per step\n",
      "[INFO][06/22/2020 17:41:59] Step 10080 | loss 0.32443664 | lr: 4.25e-04 | 0.019s per step\n",
      "[INFO][06/22/2020 17:42:05] Step 10395 | loss 0.32083841 | lr: 3.86e-04 | 0.019s per step\n",
      "[INFO][06/22/2020 17:42:11] Step 10710 | loss 0.32213914 | lr: 3.49e-04 | 0.019s per step\n",
      "[INFO][06/22/2020 17:42:17] Step 11025 | loss 0.32125724 | lr: 3.12e-04 | 0.019s per step\n",
      "[INFO][06/22/2020 17:42:17] Metrics at step 11046:\n",
      "[INFO][06/22/2020 17:42:17] loss: 0.36650688\n",
      "[INFO][06/22/2020 17:42:17] accuracy: 87.84%\n",
      "[INFO][06/22/2020 17:42:23] Step 11340 | loss 0.32072177 | lr: 2.76e-04 | 0.019s per step\n",
      "[INFO][06/22/2020 17:42:29] Step 11655 | loss 0.31864733 | lr: 2.42e-04 | 0.019s per step\n",
      "[INFO][06/22/2020 17:42:35] Step 11970 | loss 0.31704160 | lr: 2.09e-04 | 0.019s per step\n",
      "[INFO][06/22/2020 17:42:41] Step 12285 | loss 0.31540645 | lr: 1.78e-04 | 0.019s per step\n",
      "[INFO][06/22/2020 17:42:47] Step 12600 | loss 0.31472225 | lr: 1.49e-04 | 0.019s per step\n",
      "[INFO][06/22/2020 17:42:47] Metrics at step 12624:\n",
      "[INFO][06/22/2020 17:42:47] loss: 0.35020860\n",
      "[INFO][06/22/2020 17:42:47] accuracy: 88.30%\n",
      "[INFO][06/22/2020 17:42:47] ====================Epoch 5====================\n",
      "[INFO][06/22/2020 17:42:53] Step 12915 | loss 0.31329015 | lr: 1.22e-04 | 0.020s per step\n",
      "[INFO][06/22/2020 17:42:59] Step 13230 | loss 0.31148695 | lr: 9.78e-05 | 0.019s per step\n"
     ]
    },
    {
     "name": "stdout",
     "output_type": "stream",
     "text": [
      "Gradient overflow.  Skipping step, loss scaler 0 reducing loss scale to 524288.0\n"
     ]
    },
    {
     "name": "stderr",
     "output_type": "stream",
     "text": [
      "[INFO][06/22/2020 17:43:05] Step 13545 | loss 0.30846991 | lr: 7.58e-05 | 0.019s per step\n",
      "[INFO][06/22/2020 17:43:11] Step 13860 | loss 0.30989205 | lr: 5.63e-05 | 0.019s per step\n",
      "[INFO][06/22/2020 17:43:17] Step 14175 | loss 0.30981290 | lr: 3.96e-05 | 0.019s per step\n",
      "[INFO][06/22/2020 17:43:17] Metrics at step 14202:\n",
      "[INFO][06/22/2020 17:43:17] loss: 0.35285248\n",
      "[INFO][06/22/2020 17:43:17] accuracy: 88.30%\n",
      "[INFO][06/22/2020 17:43:23] Step 14490 | loss 0.31023143 | lr: 2.58e-05 | 0.019s per step\n",
      "[INFO][06/22/2020 17:43:29] Step 14805 | loss 0.30981392 | lr: 1.48e-05 | 0.019s per step\n",
      "[INFO][06/22/2020 17:43:35] Step 15120 | loss 0.31230602 | lr: 6.85e-06 | 0.019s per step\n"
     ]
    },
    {
     "name": "stdout",
     "output_type": "stream",
     "text": [
      "Gradient overflow.  Skipping step, loss scaler 0 reducing loss scale to 524288.0\n"
     ]
    },
    {
     "name": "stderr",
     "output_type": "stream",
     "text": [
      "[INFO][06/22/2020 17:43:41] Step 15435 | loss 0.31075922 | lr: 1.91e-06 | 0.019s per step\n",
      "[INFO][06/22/2020 17:43:47] Step 15750 | loss 0.30959355 | lr: 2.01e-08 | 0.019s per step\n",
      "[INFO][06/22/2020 17:43:47] Metrics at step 15780:\n",
      "[INFO][06/22/2020 17:43:47] loss: 0.35488558\n",
      "[INFO][06/22/2020 17:43:47] accuracy: 88.76%\n",
      "[INFO][06/22/2020 17:43:47] Training finished. Best step(s):\n",
      "[INFO][06/22/2020 17:43:47] loss: 0.35020860 @ step 12624\n",
      "[INFO][06/22/2020 17:43:47] accuracy: 88.76% @ step 9468\n"
     ]
    }
   ],
   "source": [
    "print(total_steps)\n",
    "\n",
    "bot.train(\n",
    "    total_steps=total_steps,\n",
    "    checkpoint_interval=len(train_loader) // 2\n",
    ")\n",
    "bot.load_model(checkpoints.best_performers[0][1])\n",
    "checkpoints.remove_checkpoints(keep=0)"
   ]
  },
  {
   "cell_type": "code",
   "execution_count": 23,
   "metadata": {},
   "outputs": [
    {
     "data": {
      "text/plain": [
       "{'loss': (0.35020703350732085, '0.35020703'),\n",
       " 'accuracy': (-0.8830275229357798, '88.30%')}"
      ]
     },
     "execution_count": 23,
     "metadata": {},
     "output_type": "execute_result"
    }
   ],
   "source": [
    "bot.eval(valid_loader)"
   ]
  },
  {
   "cell_type": "code",
   "execution_count": 24,
   "metadata": {},
   "outputs": [
    {
     "data": {
      "text/plain": [
       "{'loss': (0.28759598021113547, '0.28759598'),\n",
       " 'accuracy': (-0.8692660550458715, '86.93%')}"
      ]
     },
     "execution_count": 24,
     "metadata": {},
     "output_type": "execute_result"
    }
   ],
   "source": [
    "bot.eval(test_loader)"
   ]
  },
  {
   "cell_type": "code",
   "execution_count": null,
   "metadata": {},
   "outputs": [],
   "source": []
  }
 ],
 "metadata": {
  "kernelspec": {
   "display_name": "Python 3",
   "language": "python",
   "name": "python3"
  },
  "language_info": {
   "codemirror_mode": {
    "name": "ipython",
    "version": 3
   },
   "file_extension": ".py",
   "mimetype": "text/x-python",
   "name": "python",
   "nbconvert_exporter": "python",
   "pygments_lexer": "ipython3",
   "version": "3.8.3"
  }
 },
 "nbformat": 4,
 "nbformat_minor": 4
}
